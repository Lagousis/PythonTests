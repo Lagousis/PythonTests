{
 "cells": [
  {
   "cell_type": "markdown",
   "metadata": {},
   "source": [
    "Code from here\n",
    "\n",
    "https://towardsdatascience.com/linear-programming-and-discrete-optimization-with-python-using-pulp-449f3c5f6e99"
   ]
  },
  {
   "cell_type": "code",
   "execution_count": 10,
   "metadata": {},
   "outputs": [],
   "source": [
    "import pandas as pd\n",
    "\n",
    "# Read the first few rows dataset in a Pandas DataFrame\n",
    "# Read only the nutrition info not the bounds/constraints\n",
    "df = pd.read_excel(\"data/diet - medium.xls\",nrows=17)\n",
    "\n",
    "# Create a list of the food items\n",
    "food_items = list(df['Foods'])\n",
    "\n",
    "# Create a dictinary of costs for all food items\n",
    "costs = dict(zip(food_items,df['Price/Serving']))\n",
    "\n",
    "# Create a dictionary of calories for all food items\n",
    "calories = dict(zip(food_items,df['Calories']))\n",
    "\n",
    "# Create a dictionary of total fat for all food items\n",
    "fat = dict(zip(food_items,df['Total_Fat (g)']))\n",
    "\n",
    "# Create a dictionary of carbohydrates for all food items\n",
    "carbs = dict(zip(food_items,df['Carbohydrates (g)']))\n",
    "\n",
    "cholesterol = dict(zip(food_items,df['Cholesterol (mg)']))\n",
    "\n",
    "fat = dict(zip(food_items,df['Total_Fat (g)']))\n",
    "\n",
    "sodium = dict(zip(food_items,df['Sodium (mg)']))\n",
    "\n",
    "carbs = dict(zip(food_items,df['Carbohydrates (g)']))\n",
    "\n",
    "fiber = dict(zip(food_items,df['Dietary_Fiber (g)']))\n",
    "\n",
    "protein = dict(zip(food_items,df['Protein (g)']))\n",
    "\n",
    "vit_A = dict(zip(food_items,df['Vit_A (IU)']))\n",
    "\n",
    "vit_C = dict(zip(food_items,df['Vit_C (IU)']))\n",
    "\n",
    "calcium = dict(zip(food_items,df['Calcium (mg)']))\n",
    "\n",
    "iron = dict(zip(food_items,df['Iron (mg)']))"
   ]
  },
  {
   "cell_type": "code",
   "execution_count": 11,
   "metadata": {},
   "outputs": [
    {
     "data": {
      "text/plain": [
       "{'Frozen Broccoli': 73.8,\n",
       " 'Frozen Corn': 72.2,\n",
       " 'Raw Lettuce Iceberg': 2.6,\n",
       " ' Baked Potatoes': 171.5,\n",
       " 'Tofu': 88.2,\n",
       " 'Roasted Chicken': 277.4,\n",
       " 'Spaghetti W/ Sauce': 358.2,\n",
       " 'Raw Apple': 81.4,\n",
       " 'Banana': 104.9,\n",
       " 'Wheat Bread': 65.0,\n",
       " 'White Bread': 65.0,\n",
       " 'Oatmeal Cookies': 81.0,\n",
       " 'Apple Pie': 67.2,\n",
       " 'Scrambled Eggs': 99.6,\n",
       " 'Turkey Bologna': 56.4,\n",
       " 'Beef Frankfurter': 141.8,\n",
       " 'Chocolate Chip Cookies': 78.1}"
      ]
     },
     "execution_count": 11,
     "metadata": {},
     "output_type": "execute_result"
    }
   ],
   "source": [
    "calories"
   ]
  },
  {
   "cell_type": "code",
   "execution_count": 52,
   "metadata": {},
   "outputs": [],
   "source": [
    "import pulp"
   ]
  },
  {
   "cell_type": "code",
   "execution_count": 53,
   "metadata": {},
   "outputs": [],
   "source": [
    "prob = LpProblem(\"Simple Diet Problem\",LpMinimize)\n",
    "\n",
    "food_vars = LpVariable.dicts(\"Food\",food_items,lowBound=0,cat='Continuous')\n",
    "prob += lpSum([costs[i]*food_vars[i] for i in food_items])\n",
    "\n",
    "# Fat\n",
    "prob += lpSum([fat[f] * food_vars[f] for f in food_items]) >= 20.0, \"FatMinimum\"\n",
    "prob += lpSum([fat[f] * food_vars[f] for f in food_items]) <= 50.0, \"FatMaximum\"\n",
    "\n",
    "# Carbs\n",
    "prob += lpSum([carbs[f] * food_vars[f] for f in food_items]) >= 130.0, \"CarbsMinimum\"\n",
    "prob += lpSum([carbs[f] * food_vars[f] for f in food_items]) <= 200.0, \"CarbsMaximum\"\n",
    "\n",
    "# Fiber\n",
    "prob += lpSum([fiber[f] * food_vars[f] for f in food_items]) >= 60.0, \"FiberMinimum\"\n",
    "prob += lpSum([fiber[f] * food_vars[f] for f in food_items]) <= 125.0, \"FiberMaximum\"\n",
    "\n",
    "# Protein\n",
    "prob += lpSum([protein[f] * food_vars[f] for f in food_items]) >= 100.0, \"ProteinMinimum\"\n",
    "prob += lpSum([protein[f] * food_vars[f] for f in food_items]) <= 150.0, \"ProteinMaximum\"\n",
    "\n",
    "prob += lpSum([cholesterol[f] * food_vars[f] for f in food_items]) >= 30.0, \"CholesterolMinimum\" \n",
    "prob += lpSum([cholesterol[f] * food_vars[f] for f in food_items]) <= 240.0, \"CholesterolMaximum\"\n",
    "\n",
    "prob += lpSum([sodium[f] * food_vars[f] for f in food_items]) >= 500.0, \"SodiumMinimum\" \n",
    "prob += lpSum([sodium[f] * food_vars[f] for f in food_items]) <= 2000.0, \"SodiumMaximum\"\n",
    "\n",
    "#prob += lpSum([vit_A[f] * food_vars[f] for f in food_items]) >= 1000.0, \"VitaminAMinimum\" \n",
    "#prob += lpSum([vit_A[f] * food_vars[f] for f in food_items]) <= 10000.0, \"VitaminAMaximum\"\n",
    "\n",
    "prob += lpSum([vit_C[f] * food_vars[f] for f in food_items]) >= 400.0, \"VitaminCMinimum\" \n",
    "prob += lpSum([vit_C[f] * food_vars[f] for f in food_items]) <= 5000.0, \"VitaminCMaximum\"\n",
    "\n",
    "prob += lpSum([calcium[f] * food_vars[f] for f in food_items]) >= 300.0, \"CalciumMinimum\" \n",
    "prob += lpSum([calcium[f] * food_vars[f] for f in food_items]) <= 1500.0, \"CalciumMaximum\"\n",
    "\n",
    "prob += lpSum([iron[f] * food_vars[f] for f in food_items]) >= 10.0, \"IronMinimum\" \n",
    "prob += lpSum([iron[f] * food_vars[f] for f in food_items]) <= 40.0, \"IronMaximum\"\n"
   ]
  },
  {
   "cell_type": "code",
   "execution_count": 54,
   "metadata": {},
   "outputs": [
    {
     "data": {
      "text/plain": [
       "1"
      ]
     },
     "execution_count": 54,
     "metadata": {},
     "output_type": "execute_result"
    }
   ],
   "source": [
    "# The problem is solved using PuLP's choice of Solver\n",
    "prob.solve()"
   ]
  },
  {
   "cell_type": "code",
   "execution_count": 55,
   "metadata": {},
   "outputs": [
    {
     "name": "stdout",
     "output_type": "stream",
     "text": [
      "Status: Optimal\n"
     ]
    }
   ],
   "source": [
    "# The status of the solution is printed to the screen\n",
    "print(\"Status:\", LpStatus[prob.status])"
   ]
  },
  {
   "cell_type": "code",
   "execution_count": 56,
   "metadata": {},
   "outputs": [
    {
     "name": "stdout",
     "output_type": "stream",
     "text": [
      "Therefore, the optimal (least cost) balanced diet consists of\n",
      "--------------------------------------------------------------------------------------------------------------\n",
      "Food_Chocolate_Chip_Cookies = 0.17486441\n",
      "Food_Frozen_Broccoli = 5.9589493\n",
      "Food_Roasted_Chicken = 0.88699481\n",
      "Food_Scrambled_Eggs = 0.58658885\n",
      "Food__Baked_Potatoes = 2.921541\n"
     ]
    }
   ],
   "source": [
    "print(\"Therefore, the optimal (least cost) balanced diet consists of\\n\"+\"-\"*110)\n",
    "for v in prob.variables():\n",
    "    if v.varValue>0:\n",
    "        print(v.name, \"=\", v.varValue)"
   ]
  },
  {
   "cell_type": "code",
   "execution_count": 57,
   "metadata": {},
   "outputs": [
    {
     "name": "stdout",
     "output_type": "stream",
     "text": [
      "The total cost of this balanced diet is: $5.83\n"
     ]
    }
   ],
   "source": [
    "print(\"The total cost of this balanced diet is: ${}\".format(round(value(prob.objective),2)))"
   ]
  },
  {
   "cell_type": "code",
   "execution_count": null,
   "metadata": {},
   "outputs": [],
   "source": []
  }
 ],
 "metadata": {
  "kernelspec": {
   "display_name": "Python 3",
   "language": "python",
   "name": "python3"
  },
  "language_info": {
   "codemirror_mode": {
    "name": "ipython",
    "version": 3
   },
   "file_extension": ".py",
   "mimetype": "text/x-python",
   "name": "python",
   "nbconvert_exporter": "python",
   "pygments_lexer": "ipython3",
   "version": "3.7.3"
  }
 },
 "nbformat": 4,
 "nbformat_minor": 2
}
