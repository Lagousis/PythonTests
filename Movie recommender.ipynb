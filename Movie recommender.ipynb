{
 "cells": [
  {
   "cell_type": "code",
   "execution_count": null,
   "metadata": {},
   "outputs": [],
   "source": [
    "# Code from here \n",
    "# https://github.com/DOsinga/deep_learning_cookbook/blob/master/04.1%20Collect%20movie%20data%20from%20Wikipedia.ipynb"
   ]
  },
  {
   "cell_type": "markdown",
   "metadata": {},
   "source": [
    "# Some of the steps needed to download the movies"
   ]
  },
  {
   "cell_type": "code",
   "execution_count": 1,
   "metadata": {},
   "outputs": [],
   "source": [
    "import xml.sax\n",
    "import subprocess\n",
    "import os"
   ]
  },
  {
   "cell_type": "code",
   "execution_count": 2,
   "metadata": {},
   "outputs": [],
   "source": [
    "class WikiXmlHandler(xml.sax.handler.ContentHandler):\n",
    "    def __init__(self):\n",
    "        xml.sax.handler.ContentHandler.__init__(self)\n",
    "        self._buffer = None\n",
    "        self._values = {}\n",
    "        self._movies = []\n",
    "        self._curent_tag = None\n",
    "\n",
    "    def characters(self, content):\n",
    "        if self._curent_tag:\n",
    "            self._buffer.append(content)\n",
    "\n",
    "    def startElement(self, name, attrs):\n",
    "        if name in ('title', 'text'):\n",
    "            self._curent_tag = name\n",
    "            self._buffer = []\n",
    "\n",
    "    def endElement(self, name):\n",
    "        if name == self._curent_tag:\n",
    "            self._values[name] = ' '.join(self._buffer)\n",
    "\n",
    "        if name == 'page':\n",
    "            movie = process_article(**self._values)\n",
    "            if movie:\n",
    "                self._movies.append(movie)"
   ]
  },
  {
   "cell_type": "code",
   "execution_count": 3,
   "metadata": {},
   "outputs": [],
   "source": [
    "path = 'data/wp_movies_10k.ndjson'"
   ]
  },
  {
   "cell_type": "code",
   "execution_count": 4,
   "metadata": {},
   "outputs": [],
   "source": [
    "parser = xml.sax.make_parser()\n",
    "handler = WikiXmlHandler()\n",
    "parser.setContentHandler(handler)\n",
    "for line in subprocess.Popen(['bzcat'], stdin=open(path), stdout=subprocess.PIPE).stdout:\n",
    "    try:\n",
    "        parser.feed(line)\n",
    "    except StopIteration:\n",
    "        break"
   ]
  },
  {
   "cell_type": "code",
   "execution_count": 5,
   "metadata": {},
   "outputs": [],
   "source": [
    "#with open('data/wp_movies_10k.ndjson', 'wt') as fout:\n",
    "#    for movie in handler._movies:\n",
    "#         fout.write(json.dumps(movie) + '\\n')"
   ]
  },
  {
   "cell_type": "markdown",
   "metadata": {},
   "source": [
    "# Process movies"
   ]
  },
  {
   "cell_type": "code",
   "execution_count": 1,
   "metadata": {},
   "outputs": [],
   "source": [
    "import json\n",
    "from collections import Counter\n",
    "import random\n",
    "import numpy as np"
   ]
  },
  {
   "cell_type": "code",
   "execution_count": 2,
   "metadata": {},
   "outputs": [],
   "source": [
    "with open('data/wp_movies_10k.ndjson') as fin:\n",
    "    movies = [json.loads(l) for l in fin]"
   ]
  },
  {
   "cell_type": "code",
   "execution_count": 3,
   "metadata": {},
   "outputs": [
    {
     "name": "stdout",
     "output_type": "stream",
     "text": [
      "10000\n"
     ]
    }
   ],
   "source": [
    "print(len(movies))"
   ]
  },
  {
   "cell_type": "code",
   "execution_count": 4,
   "metadata": {},
   "outputs": [
    {
     "name": "stdout",
     "output_type": "stream",
     "text": [
      "['Deadpool (film)', {'image': 'Deadpool poster.jpg', 'name': 'Deadpool', 'cinematography': 'Ken Seng', 'Software Used': 'Adobe Premier Pro', 'alt': \"Official poster shows the titular hero Deadpool standing in front of the viewers, with hugging his hands, and donning his traditional black and red suit and mask, and the film's name, credits and billing below him.\", 'distributor': '20th Century Fox', 'caption': 'Theatrical release poster', 'gross': '$783.1 million', 'country': 'United States', 'director': 'Tim Miller', 'runtime': '108 minutes', 'editing': 'Julian Clarke', 'language': 'English', 'music': 'Tom Holkenborg', 'budget': '$58 million'}, ['Tim Miller (director)', 'Simon Kinberg', 'Ryan Reynolds', 'Lauren Shuler Donner', 'Rhett Reese', 'Paul Wernick', 'Deadpool', 'Fabian Nicieza', 'Rob Liefeld', 'Morena Baccarin', 'Ed Skrein', 'T.J. Miller', 'Gina Carano', 'Leslie Uggams', 'Brianna Hildebrand', 'Stefan Kapičić', 'Junkie XL', 'Julian Clarke', 'Marvel Entertainment', 'Kinberg Genre', 'Lauren Shuler Donner', 'TSG Entertainment', '20th Century Fox', 'Le Grand Rex', 'Variety (magazine)', 'Box Office Mojo', 'superhero film', 'Tim Miller (director)', 'Rhett Reese', 'Paul Wernick', 'Marvel Comics', 'Deadpool', 'X-Men (film series)', 'Ryan Reynolds', 'Morena Baccarin', 'Ed Skrein', 'T.J. Miller', 'Gina Carano', 'Leslie Uggams', 'Brianna Hildebrand', 'Stefan Kapičić', 'antihero', 'New Line Cinema', '20th Century Fox', 'X-Men Origins: Wolverine', 'principal photography', 'Vancouver', 'IMAX', 'Digital Light Processing', 'D-Box Technologies', 'List of accolades received by Deadpool (film)', 'Golden Globe Award', 'Golden Globe Award for Best Motion Picture – Musical or Comedy', 'Golden Globe Award for Best Actor – Motion Picture Musical or Comedy', 'Producers Guild of America Award', \"Critics' Choice Movie Awards\", \"Critics' Choice Movie Award for Best Comedy\", \"Critics' Choice Movie Award for Best Actor in a Comedy\", '2016 in film', '#Sequels', 'nonlinear narrative', 'Deadpool', 'special forces', 'Copycat (Marvel Comics)', 'Liver cancer', 'Lung cancer', 'Prostate cancer', 'Brain tumor', 'Ajax (comics)#Deadpool character', 'Angel Dust (comics)', 'healing factor', 'rebar', 'Weasel (Marvel Comics)', 'Blind Al', 'Colossus (comics)', 'Negasonic Teenage Warhead', 'X-Men', 'helicarrier', 'post-credits scene', 'Cable (comics)', 'File:Cast of Deadpool.jpg', 'San Diego Comic-Con', 'Ryan Reynolds', 'Deadpool', 'cancer', 'X-Men Origins: Wolverine', 'fourth wall', 'Morena Baccarin', 'Copycat (Marvel Comics)', 'damsel in distress', 'Ed Skrein', 'Ajax (comics)#Deadpool character', 'Weapon X', 'YouTube', 'Tim Miller (director)', 'T.J. Miller', 'Weasel (Marvel Comics)', 'Simon Kinberg', 'USA Today', 'Gina Carano', 'Angel Dust (comics)', 'Leslie Uggams', 'Blind Al', 'Indiewire', 'Brianna Hildebrand', 'Negasonic Teenage Warhead', 'X-Men', 'Marvel Studios', 'Kevin Feige', 'Ego the Living Planet', 'Guardians of the Galaxy Vol. 2', 'Stefan Kapičić', 'Colossus (comics)', 'Daniel Cudmore', 'X2 (film)', 'X-Men: The Last Stand', 'X-Men: Days of Future Past', 'Andre Tricoteux', 'Karan Soni', 'Jed Rees', 'Agent Smith', 'Stan Lee', 'Rob Liefeld', 'Isaac C. Singleton Jr.', 'Bob, Agent of Hydra', 'Hydra (comics)', 'Nathan Fillion', 'Twitter', 'Simon Kinberg', 'Artisan Entertainment', 'Marvel Entertainment', 'Deadpool', 'New Line Cinema', 'David S. Goyer', 'Ryan Reynolds', 'Shar Pei', 'Cable & Deadpool', 'Turnaround (filmmaking)', 'X-Men Origins: Wolverine', 'Lauren Shuler Donner', 'Reboot (fiction)', 'fourth wall', 'Rhett Reese', 'Paul Wernick', 'Robert Rodriguez', 'Tim Miller (director)', 'Adam Berg (director)', 'Blur Studio', 'James Cameron', 'David Fincher', 'development hell', 'Garrison Kane', 'Cannonball (comics)', 'Computer-generated imagery', 'Hillbilly', 'Wyre (comics)', 'Angel Dust (comics)', 'Cable (comics)', 'List of directorial debuts', 'Colossus (comics)', 'Simon Kinberg', 'The Hollywood Reporter', 'T. J. Miller', 'Ed Skrein', 'Gina Carano', 'Angel Dust (comics)', 'Morena Baccarin', 'Taylor Schilling', 'Crystal Reed', 'Rebecca Rittenhouse', 'Sarah Greene (actress)', 'Jessica De Gouw', 'Weasel (Marvel Comics)', 'Copycat (Marvel Comics)', 'Brianna Hildebrand', 'Negasonic Teenage Warhead', 'Ajax (comics)#Deadpool character', 'Leslie Uggams', 'Blind Al', 'Jed Rees', 'Stefan Kapičić', 'Colossus (comics)', 'Daniel Cudmore', 'Twitter', 'File:Deadpool, Georgia Viaduct, Vancouver, April 6 2015 - 3.jpg', 'Rolling Stone', 'Principal photography', 'Vancouver', 'stunt coordinator', 'CBC News', 'David Cronenberg', 'Eastern Promises', 'Yahoo! Movies', 'Digital Domain', 'Weta Digital', 'Rodeo FX', 'Luma Pictures', 'Image Engine', 'Adobe Systems', 'matte paintings', 'helicarrier', 'Detroit', 'Chicago', 'File:Colossus - mocap.jpg', 'Colossus (comics)', 'Computer-generated imagery', 'Digital Domain', 'Cold-formed steel', 'Hot working', 'Taxicab', 'Junkie XL', 'ARP 2600', 'Synclavier', 'Oberheim Electronics#Oberheim polyphonic synthesizers', 'io9', 'YouTube personality', 'Deadpool (video game)', 'Milan Records', 'Grand Rex', 'IMAX', 'Digital Light Processing', 'D-Box Technologies', 'The Hollywood Reporter', 'Uzbekistan', 'Central Board of Film Certification', 'The Hollywood Reporter', 'Hong Kong', 'Singapore', 'standing ovation', 'The Hollywood Reporter', 'Meta-joke', 'Business Insider', 'viral marketing', 'Christmas', \"Valentine's Day\", 'io9', 'emoji', 'YouTube', 'Screen Junkies', 'The Guardian', 'Blu-ray', '2016 in film', 'The Matrix Reloaded', 'Forbes', 'Variety (magazine)', 'X-Men: Days of Future Past', 'Deadline.com', 'James Cameron', 'George Lucas', 'Star Wars: Episode III – Revenge of the Sith', 'The Dark Knight Rises', 'The Hollywood Reporter', 'IMAX', '3D film', 'Los Angeles Times', 'Yahoo!', 'Variety (magazine)', 'Forbes (magazine)', \"Presidents' Day (United States)\", 'Zoolander 2', 'How to Be Single', 'The Hollywood Reporter', 'Deadline.com', 'Variety (magazine)', 'Guardians of the Galaxy (film)', 'Captain America: The Winter Soldier', 'The Hollywood Reporter', 'Deadline.com', 'R-rated', 'The Hangover Part II', 'Fifty Shades of Grey (film)', 'The Hollywood Reporter', 'Deadline.com', 'word of mouth', 'Star Wars: Episode III – Revenge of the Sith', 'Forbes', 'Century Theatres', 'Deadline.com', 'The Hollywood Reporter', 'The Avengers (2012 film)', 'The Hunger Games (film)', 'Forbes (magazine)', 'Furious 7', 'Alice in Wonderland (2010 film)', 'Wanted (2008 film)', 'Watchmen (film)', 'The Vow (2012 film)', 'X-Men (film)', 'X-Men: First Class', 'The Wolverine (film)', 'X-Men Origins: Wolverine', 'Deadline.com', 'Second weekend in box office performance', 'Avengers: Age of Ultron', 'X-Men: The Last Stand', '300 (film)', 'Forbes', 'The Passion of the Christ', 'Forbes', 'Zootopia', 'London Has Fallen', 'Non-Hispanic whites', 'Hispanic', 'African-American', 'Asian Americans', 'Guardians of the Galaxy (film)', 'Captain America: Civil War', 'Avengers: Age of Ultron', 'Batman v Superman: Dawn of Justice', 'Suicide Squad (film)', 'The Hollywood Reporter', 'Spectre (2015)', 'United Kingdom and Ireland', 'Chinese New Year', 'Hong Kong', 'Singapore', 'The Mermaid (2016 film)', 'Deadline.com', 'Ip Man 3', 'Zootopia', 'Iron Man 3', 'Star Wars: The Force Awakens', 'Rotten Tomatoes', 'Rotten Tomatoes', 'Metacritic', 'CinemaScore', 'Peter Travers', 'Rolling Stone', 'Rolling Stone', 'TheWrap', 'Alonso Duralde', 'Guardians of the Galaxy (film)', 'Christy Lemire', 'Richard Roeper', 'Chicago Sun-Times', 'Kenneth Turan', 'Los Angeles Times', 'Los Angeles Times', 'The Hollywood Reporter', 'Deadline.com', 'Spider-Man', 'Superhero Hype', '/Film', 'Domino (comics)', 'TheWrap', 'Mashable', 'David Leitch (filmmaker)', 'Rupert Sanders', 'Drew Goddard', 'Mashable', 'X-Force', 'Hugh Jackman', 'Twitter', 'Variety (magazine)', 'The Hollywood Reporter', 'British Board of Film Classification', 'Los Angeles Times', 'Variety (magazine)', 'MTV News', 'Empire (film magazine)', 'The Hollywood Reporter', 'Variety (magazine)', 'The Daily Dot', 'Bleeding Cool', 'The Hollywood Reporter', 'TheWrap', 'The Hollywood Reporter', 'Variety (magazine)', 'Entertainment Weekly', 'Deadline.com', 'MTV News', 'Deadline.com', 'Business Insider', 'The Hollywood Reporter', 'Twitter', 'Empire (magazine)', 'fxguide', 'Category:20th Century Fox films', 'Category:2010s action films', 'Category:2010s comedy films', 'Category:2010s superhero films', 'Category:2016 films', 'Category:American action comedy films', 'Category:American black comedy films', 'Category:American films', 'Category:Deadpool', 'Category:Directorial debut films', 'Category:English-language films', 'Category:Film scores by Junkie XL', 'Category:Film spin-offs', 'Category:Films about cancer', 'Category:Films about revenge', 'Category:Films directed by Tim Miller', 'Category:Films set in New York', 'Category:Films shot in Vancouver', 'Category:Films with live action and animation', 'Category:Human experimentation in fiction', 'Category:IMAX films', 'Category:Metafictional works', 'Category:Nonlinear narrative films', 'Category:Performance capture in film', 'Category:Self-reflexive films', 'Category:Superhero comedy films', 'Category:Vigilante films', 'Category:X-Men films'], '84%', '6.9/10']\n"
     ]
    }
   ],
   "source": [
    "print(movies[0])"
   ]
  },
  {
   "cell_type": "code",
   "execution_count": 5,
   "metadata": {},
   "outputs": [
    {
     "name": "stdout",
     "output_type": "stream",
     "text": [
      "Title: Deadpool (film)\n"
     ]
    }
   ],
   "source": [
    "print('Title:',movies[0][0])"
   ]
  },
  {
   "cell_type": "code",
   "execution_count": 6,
   "metadata": {},
   "outputs": [
    {
     "name": "stdout",
     "output_type": "stream",
     "text": [
      "Links: ['Tim Miller (director)', 'Simon Kinberg', 'Ryan Reynolds', 'Lauren Shuler Donner', 'Rhett Reese', 'Paul Wernick', 'Deadpool', 'Fabian Nicieza', 'Rob Liefeld', 'Morena Baccarin', 'Ed Skrein', 'T.J. Miller', 'Gina Carano', 'Leslie Uggams', 'Brianna Hildebrand', 'Stefan Kapičić', 'Junkie XL', 'Julian Clarke', 'Marvel Entertainment', 'Kinberg Genre', 'Lauren Shuler Donner', 'TSG Entertainment', '20th Century Fox', 'Le Grand Rex', 'Variety (magazine)', 'Box Office Mojo', 'superhero film', 'Tim Miller (director)', 'Rhett Reese', 'Paul Wernick', 'Marvel Comics', 'Deadpool', 'X-Men (film series)', 'Ryan Reynolds', 'Morena Baccarin', 'Ed Skrein', 'T.J. Miller', 'Gina Carano', 'Leslie Uggams', 'Brianna Hildebrand', 'Stefan Kapičić', 'antihero', 'New Line Cinema', '20th Century Fox', 'X-Men Origins: Wolverine', 'principal photography', 'Vancouver', 'IMAX', 'Digital Light Processing', 'D-Box Technologies', 'List of accolades received by Deadpool (film)', 'Golden Globe Award', 'Golden Globe Award for Best Motion Picture – Musical or Comedy', 'Golden Globe Award for Best Actor – Motion Picture Musical or Comedy', 'Producers Guild of America Award', \"Critics' Choice Movie Awards\", \"Critics' Choice Movie Award for Best Comedy\", \"Critics' Choice Movie Award for Best Actor in a Comedy\", '2016 in film', '#Sequels', 'nonlinear narrative', 'Deadpool', 'special forces', 'Copycat (Marvel Comics)', 'Liver cancer', 'Lung cancer', 'Prostate cancer', 'Brain tumor', 'Ajax (comics)#Deadpool character', 'Angel Dust (comics)', 'healing factor', 'rebar', 'Weasel (Marvel Comics)', 'Blind Al', 'Colossus (comics)', 'Negasonic Teenage Warhead', 'X-Men', 'helicarrier', 'post-credits scene', 'Cable (comics)', 'File:Cast of Deadpool.jpg', 'San Diego Comic-Con', 'Ryan Reynolds', 'Deadpool', 'cancer', 'X-Men Origins: Wolverine', 'fourth wall', 'Morena Baccarin', 'Copycat (Marvel Comics)', 'damsel in distress', 'Ed Skrein', 'Ajax (comics)#Deadpool character', 'Weapon X', 'YouTube', 'Tim Miller (director)', 'T.J. Miller', 'Weasel (Marvel Comics)', 'Simon Kinberg', 'USA Today', 'Gina Carano', 'Angel Dust (comics)', 'Leslie Uggams', 'Blind Al', 'Indiewire', 'Brianna Hildebrand', 'Negasonic Teenage Warhead', 'X-Men', 'Marvel Studios', 'Kevin Feige', 'Ego the Living Planet', 'Guardians of the Galaxy Vol. 2', 'Stefan Kapičić', 'Colossus (comics)', 'Daniel Cudmore', 'X2 (film)', 'X-Men: The Last Stand', 'X-Men: Days of Future Past', 'Andre Tricoteux', 'Karan Soni', 'Jed Rees', 'Agent Smith', 'Stan Lee', 'Rob Liefeld', 'Isaac C. Singleton Jr.', 'Bob, Agent of Hydra', 'Hydra (comics)', 'Nathan Fillion', 'Twitter', 'Simon Kinberg', 'Artisan Entertainment', 'Marvel Entertainment', 'Deadpool', 'New Line Cinema', 'David S. Goyer', 'Ryan Reynolds', 'Shar Pei', 'Cable & Deadpool', 'Turnaround (filmmaking)', 'X-Men Origins: Wolverine', 'Lauren Shuler Donner', 'Reboot (fiction)', 'fourth wall', 'Rhett Reese', 'Paul Wernick', 'Robert Rodriguez', 'Tim Miller (director)', 'Adam Berg (director)', 'Blur Studio', 'James Cameron', 'David Fincher', 'development hell', 'Garrison Kane', 'Cannonball (comics)', 'Computer-generated imagery', 'Hillbilly', 'Wyre (comics)', 'Angel Dust (comics)', 'Cable (comics)', 'List of directorial debuts', 'Colossus (comics)', 'Simon Kinberg', 'The Hollywood Reporter', 'T. J. Miller', 'Ed Skrein', 'Gina Carano', 'Angel Dust (comics)', 'Morena Baccarin', 'Taylor Schilling', 'Crystal Reed', 'Rebecca Rittenhouse', 'Sarah Greene (actress)', 'Jessica De Gouw', 'Weasel (Marvel Comics)', 'Copycat (Marvel Comics)', 'Brianna Hildebrand', 'Negasonic Teenage Warhead', 'Ajax (comics)#Deadpool character', 'Leslie Uggams', 'Blind Al', 'Jed Rees', 'Stefan Kapičić', 'Colossus (comics)', 'Daniel Cudmore', 'Twitter', 'File:Deadpool, Georgia Viaduct, Vancouver, April 6 2015 - 3.jpg', 'Rolling Stone', 'Principal photography', 'Vancouver', 'stunt coordinator', 'CBC News', 'David Cronenberg', 'Eastern Promises', 'Yahoo! Movies', 'Digital Domain', 'Weta Digital', 'Rodeo FX', 'Luma Pictures', 'Image Engine', 'Adobe Systems', 'matte paintings', 'helicarrier', 'Detroit', 'Chicago', 'File:Colossus - mocap.jpg', 'Colossus (comics)', 'Computer-generated imagery', 'Digital Domain', 'Cold-formed steel', 'Hot working', 'Taxicab', 'Junkie XL', 'ARP 2600', 'Synclavier', 'Oberheim Electronics#Oberheim polyphonic synthesizers', 'io9', 'YouTube personality', 'Deadpool (video game)', 'Milan Records', 'Grand Rex', 'IMAX', 'Digital Light Processing', 'D-Box Technologies', 'The Hollywood Reporter', 'Uzbekistan', 'Central Board of Film Certification', 'The Hollywood Reporter', 'Hong Kong', 'Singapore', 'standing ovation', 'The Hollywood Reporter', 'Meta-joke', 'Business Insider', 'viral marketing', 'Christmas', \"Valentine's Day\", 'io9', 'emoji', 'YouTube', 'Screen Junkies', 'The Guardian', 'Blu-ray', '2016 in film', 'The Matrix Reloaded', 'Forbes', 'Variety (magazine)', 'X-Men: Days of Future Past', 'Deadline.com', 'James Cameron', 'George Lucas', 'Star Wars: Episode III – Revenge of the Sith', 'The Dark Knight Rises', 'The Hollywood Reporter', 'IMAX', '3D film', 'Los Angeles Times', 'Yahoo!', 'Variety (magazine)', 'Forbes (magazine)', \"Presidents' Day (United States)\", 'Zoolander 2', 'How to Be Single', 'The Hollywood Reporter', 'Deadline.com', 'Variety (magazine)', 'Guardians of the Galaxy (film)', 'Captain America: The Winter Soldier', 'The Hollywood Reporter', 'Deadline.com', 'R-rated', 'The Hangover Part II', 'Fifty Shades of Grey (film)', 'The Hollywood Reporter', 'Deadline.com', 'word of mouth', 'Star Wars: Episode III – Revenge of the Sith', 'Forbes', 'Century Theatres', 'Deadline.com', 'The Hollywood Reporter', 'The Avengers (2012 film)', 'The Hunger Games (film)', 'Forbes (magazine)', 'Furious 7', 'Alice in Wonderland (2010 film)', 'Wanted (2008 film)', 'Watchmen (film)', 'The Vow (2012 film)', 'X-Men (film)', 'X-Men: First Class', 'The Wolverine (film)', 'X-Men Origins: Wolverine', 'Deadline.com', 'Second weekend in box office performance', 'Avengers: Age of Ultron', 'X-Men: The Last Stand', '300 (film)', 'Forbes', 'The Passion of the Christ', 'Forbes', 'Zootopia', 'London Has Fallen', 'Non-Hispanic whites', 'Hispanic', 'African-American', 'Asian Americans', 'Guardians of the Galaxy (film)', 'Captain America: Civil War', 'Avengers: Age of Ultron', 'Batman v Superman: Dawn of Justice', 'Suicide Squad (film)', 'The Hollywood Reporter', 'Spectre (2015)', 'United Kingdom and Ireland', 'Chinese New Year', 'Hong Kong', 'Singapore', 'The Mermaid (2016 film)', 'Deadline.com', 'Ip Man 3', 'Zootopia', 'Iron Man 3', 'Star Wars: The Force Awakens', 'Rotten Tomatoes', 'Rotten Tomatoes', 'Metacritic', 'CinemaScore', 'Peter Travers', 'Rolling Stone', 'Rolling Stone', 'TheWrap', 'Alonso Duralde', 'Guardians of the Galaxy (film)', 'Christy Lemire', 'Richard Roeper', 'Chicago Sun-Times', 'Kenneth Turan', 'Los Angeles Times', 'Los Angeles Times', 'The Hollywood Reporter', 'Deadline.com', 'Spider-Man', 'Superhero Hype', '/Film', 'Domino (comics)', 'TheWrap', 'Mashable', 'David Leitch (filmmaker)', 'Rupert Sanders', 'Drew Goddard', 'Mashable', 'X-Force', 'Hugh Jackman', 'Twitter', 'Variety (magazine)', 'The Hollywood Reporter', 'British Board of Film Classification', 'Los Angeles Times', 'Variety (magazine)', 'MTV News', 'Empire (film magazine)', 'The Hollywood Reporter', 'Variety (magazine)', 'The Daily Dot', 'Bleeding Cool', 'The Hollywood Reporter', 'TheWrap', 'The Hollywood Reporter', 'Variety (magazine)', 'Entertainment Weekly', 'Deadline.com', 'MTV News', 'Deadline.com', 'Business Insider', 'The Hollywood Reporter', 'Twitter', 'Empire (magazine)', 'fxguide', 'Category:20th Century Fox films', 'Category:2010s action films', 'Category:2010s comedy films', 'Category:2010s superhero films', 'Category:2016 films', 'Category:American action comedy films', 'Category:American black comedy films', 'Category:American films', 'Category:Deadpool', 'Category:Directorial debut films', 'Category:English-language films', 'Category:Film scores by Junkie XL', 'Category:Film spin-offs', 'Category:Films about cancer', 'Category:Films about revenge', 'Category:Films directed by Tim Miller', 'Category:Films set in New York', 'Category:Films shot in Vancouver', 'Category:Films with live action and animation', 'Category:Human experimentation in fiction', 'Category:IMAX films', 'Category:Metafictional works', 'Category:Nonlinear narrative films', 'Category:Performance capture in film', 'Category:Self-reflexive films', 'Category:Superhero comedy films', 'Category:Vigilante films', 'Category:X-Men films']\n"
     ]
    }
   ],
   "source": [
    "print('Links:',movies[0][2])"
   ]
  },
  {
   "cell_type": "code",
   "execution_count": 7,
   "metadata": {},
   "outputs": [
    {
     "data": {
      "text/plain": [
       "[('Rotten Tomatoes', 9393),\n",
       " ('Category:English-language films', 5882),\n",
       " ('Category:American films', 5867),\n",
       " ('Variety (magazine)', 5450),\n",
       " ('Metacritic', 5112),\n",
       " ('Box Office Mojo', 4186),\n",
       " ('The New York Times', 3818),\n",
       " ('The Hollywood Reporter', 3553),\n",
       " ('Roger Ebert', 2707),\n",
       " ('Los Angeles Times', 2454)]"
      ]
     },
     "execution_count": 7,
     "metadata": {},
     "output_type": "execute_result"
    }
   ],
   "source": [
    "link_counts = Counter()\n",
    "for movie in movies:\n",
    "    link_counts.update(movie[2])\n",
    "link_counts.most_common(10)"
   ]
  },
  {
   "cell_type": "code",
   "execution_count": 8,
   "metadata": {},
   "outputs": [
    {
     "name": "stdout",
     "output_type": "stream",
     "text": [
      "Number of links from other movies to Deadpool (film): 20\n"
     ]
    }
   ],
   "source": [
    "print(f'Number of links from other movies to {movies[0][0]}: {link_counts[movies[0][0]]}')"
   ]
  },
  {
   "cell_type": "code",
   "execution_count": 9,
   "metadata": {},
   "outputs": [
    {
     "name": "stdout",
     "output_type": "stream",
     "text": [
      "Number of links for Rotten Tomatoes 9393\n"
     ]
    }
   ],
   "source": [
    "print('Number of links for Rotten Tomatoes',link_counts['Rotten Tomatoes'])"
   ]
  },
  {
   "cell_type": "code",
   "execution_count": 10,
   "metadata": {},
   "outputs": [
    {
     "data": {
      "text/plain": [
       "['Tim Miller (director)',\n",
       " 'Simon Kinberg',\n",
       " 'Ryan Reynolds',\n",
       " 'Lauren Shuler Donner',\n",
       " 'Rhett Reese',\n",
       " 'Paul Wernick',\n",
       " 'Deadpool',\n",
       " 'Morena Baccarin',\n",
       " 'Ed Skrein',\n",
       " 'T.J. Miller']"
      ]
     },
     "execution_count": 10,
     "metadata": {},
     "output_type": "execute_result"
    }
   ],
   "source": [
    "# Keep links that exist at least 3 times\n",
    "top_links = [link for link, c in link_counts.items() if c >= 3]\n",
    "top_links[:10]"
   ]
  },
  {
   "cell_type": "code",
   "execution_count": 11,
   "metadata": {},
   "outputs": [
    {
     "name": "stdout",
     "output_type": "stream",
     "text": [
      "All links are 218029, we keep the 66913 with at least 3 occurences\n"
     ]
    }
   ],
   "source": [
    "print(f'All links are {len(link_counts.items())}, we keep the {len(top_links)} with at least 3 occurences')"
   ]
  },
  {
   "cell_type": "code",
   "execution_count": 12,
   "metadata": {},
   "outputs": [
    {
     "name": "stdout",
     "output_type": "stream",
     "text": [
      "Index for Tim Miller (director) is 0\n",
      "Index for Gina Carano is 10\n"
     ]
    }
   ],
   "source": [
    "link_to_idx = {link: idx for idx, link in enumerate(top_links)}\n",
    "print(f'Index for {top_links[0]} is {link_to_idx[top_links[0]]}')\n",
    "print(f'Index for {top_links[10]} is {link_to_idx[top_links[10]]}')\n",
    "#link_to_idx gets a link and returns its index in list top_links"
   ]
  },
  {
   "cell_type": "code",
   "execution_count": 13,
   "metadata": {},
   "outputs": [
    {
     "name": "stdout",
     "output_type": "stream",
     "text": [
      "Index for Deadpool (film) is 0\n"
     ]
    }
   ],
   "source": [
    "movie_to_idx = {movie[0]: idx for idx, movie in enumerate(movies)}\n",
    "print(f'Index for {movies[0][0]} is {movie_to_idx[movies[0][0]]}')\n",
    "#movie_to_idx gets a movie and returns its index in list movies"
   ]
  },
  {
   "cell_type": "code",
   "execution_count": 14,
   "metadata": {},
   "outputs": [],
   "source": [
    "pairs = []\n",
    "for movie in movies:\n",
    "    pairs.extend((link_to_idx[link], movie_to_idx[movie[0]]) for link in movie[2] if link in link_to_idx)\n",
    "pairs_set = set(pairs)"
   ]
  },
  {
   "cell_type": "code",
   "execution_count": 15,
   "metadata": {},
   "outputs": [
    {
     "name": "stdout",
     "output_type": "stream",
     "text": [
      "Deadpool (film)\n",
      "[(0, 0), (1, 0), (2, 0), (3, 0), (4, 0), (5, 0), (6, 0), (7, 0), (8, 0), (9, 0), (10, 0), (11, 0), (12, 0), (13, 0), (14, 0), (15, 0), (16, 0), (17, 0), (3, 0), (18, 0), (19, 0), (20, 0), (21, 0), (22, 0), (23, 0), (0, 0), (4, 0), (5, 0), (24, 0), (6, 0), (25, 0), (2, 0), (7, 0), (8, 0), (9, 0), (10, 0), (11, 0), (12, 0), (13, 0), (26, 0), (27, 0), (19, 0), (28, 0), (29, 0), (30, 0), (31, 0), (32, 0), (33, 0), (34, 0), (35, 0), (36, 0), (37, 0), (38, 0), (39, 0), (40, 0), (41, 0), (6, 0), (42, 0), (43, 0), (44, 0), (45, 0), (46, 0), (47, 0), (48, 0), (49, 0), (50, 0), (51, 0), (52, 0), (53, 0), (54, 0), (55, 0), (2, 0), (6, 0), (56, 0), (28, 0), (57, 0), (7, 0), (43, 0), (58, 0), (8, 0), (45, 0), (59, 0), (0, 0), (9, 0), (49, 0), (1, 0), (60, 0), (10, 0), (46, 0), (11, 0), (50, 0), (61, 0), (12, 0), (52, 0), (53, 0), (62, 0), (63, 0), (64, 0), (65, 0), (13, 0), (51, 0), (66, 0), (67, 0), (68, 0), (69, 0), (70, 0), (71, 0), (72, 0), (73, 0), (74, 0), (75, 0), (76, 0), (1, 0), (77, 0), (16, 0), (6, 0), (27, 0), (78, 0), (2, 0), (79, 0), (28, 0), (3, 0), (80, 0), (57, 0), (4, 0), (5, 0), (81, 0), (0, 0), (82, 0), (83, 0), (84, 0), (85, 0), (86, 0), (46, 0), (87, 0), (51, 0), (1, 0), (88, 0), (89, 0), (8, 0), (10, 0), (46, 0), (7, 0), (90, 0), (91, 0), (92, 0), (93, 0), (49, 0), (43, 0), (12, 0), (52, 0), (45, 0), (11, 0), (50, 0), (71, 0), (13, 0), (51, 0), (66, 0), (76, 0), (94, 0), (95, 0), (30, 0), (96, 0), (97, 0), (98, 0), (99, 0), (100, 0), (101, 0), (102, 0), (103, 0), (104, 0), (105, 0), (106, 0), (107, 0), (108, 0), (51, 0), (86, 0), (101, 0), (109, 0), (14, 0), (110, 0), (111, 0), (112, 0), (31, 0), (32, 0), (88, 0), (113, 0), (114, 0), (88, 0), (115, 0), (116, 0), (117, 0), (88, 0), (118, 0), (119, 0), (120, 0), (121, 0), (111, 0), (59, 0), (122, 0), (123, 0), (40, 0), (124, 0), (125, 0), (21, 0), (69, 0), (126, 0), (83, 0), (127, 0), (128, 0), (129, 0), (88, 0), (31, 0), (130, 0), (131, 0), (132, 0), (21, 0), (133, 0), (134, 0), (135, 0), (136, 0), (88, 0), (126, 0), (21, 0), (137, 0), (138, 0), (88, 0), (126, 0), (139, 0), (140, 0), (141, 0), (88, 0), (126, 0), (142, 0), (128, 0), (125, 0), (126, 0), (88, 0), (143, 0), (144, 0), (133, 0), (145, 0), (146, 0), (147, 0), (148, 0), (149, 0), (150, 0), (151, 0), (152, 0), (28, 0), (126, 0), (153, 0), (154, 0), (68, 0), (155, 0), (125, 0), (156, 0), (125, 0), (157, 0), (158, 0), (159, 0), (160, 0), (161, 0), (137, 0), (162, 0), (154, 0), (163, 0), (164, 0), (88, 0), (165, 0), (115, 0), (116, 0), (166, 0), (126, 0), (167, 0), (157, 0), (168, 0), (169, 0), (170, 0), (170, 0), (171, 0), (172, 0), (173, 0), (94, 0), (94, 0), (174, 0), (175, 0), (137, 0), (176, 0), (177, 0), (178, 0), (179, 0), (131, 0), (131, 0), (88, 0), (126, 0), (180, 0), (181, 0), (182, 0), (174, 0), (183, 0), (184, 0), (185, 0), (186, 0), (183, 0), (187, 0), (76, 0), (21, 0), (88, 0), (188, 0), (131, 0), (21, 0), (189, 0), (190, 0), (88, 0), (21, 0), (191, 0), (192, 0), (88, 0), (174, 0), (88, 0), (21, 0), (193, 0), (126, 0), (189, 0), (126, 0), (118, 0), (88, 0), (76, 0), (194, 0), (195, 0), (196, 0), (197, 0), (198, 0), (199, 0), (200, 0), (201, 0), (202, 0), (203, 0), (204, 0), (205, 0), (206, 0), (207, 0), (208, 0), (209, 0), (210, 0), (211, 0), (212, 0), (213, 0), (214, 0), (215, 0), (216, 0), (217, 0), (218, 0), (219, 0), (220, 0)]\n",
      "The Revenant (2015 film)\n",
      "[(221, 1), (222, 1), (223, 1), (224, 1), (225, 1), (226, 1), (227, 1), (228, 1), (229, 1), (230, 1), (231, 1), (232, 1), (233, 1), (234, 1), (19, 1), (235, 1), (188, 1), (174, 1), (22, 1), (236, 1), (237, 1), (238, 1), (239, 1), (240, 1), (118, 1), (241, 1), (221, 1), (226, 1), (227, 1), (242, 1), (228, 1), (229, 1), (230, 1), (231, 1), (243, 1), (95, 1), (235, 1), (244, 1), (245, 1), (246, 1), (247, 1), (248, 1), (249, 1), (233, 1), (250, 1), (251, 1), (252, 1), (253, 1), (254, 1), (255, 1), (256, 1), (242, 1), (257, 1), (258, 1), (259, 1), (260, 1), (261, 1), (228, 1), (242, 1), (229, 1), (230, 1), (257, 1), (231, 1), (262, 1), (263, 1), (264, 1), (265, 1), (266, 1), (243, 1), (227, 1), (267, 1), (268, 1), (226, 1), (223, 1), (238, 1), (269, 1), (270, 1), (271, 1), (236, 1), (19, 1), (228, 1), (272, 1), (221, 1), (273, 1), (274, 1), (275, 1), (276, 1), (277, 1), (278, 1), (229, 1), (279, 1), (280, 1), (95, 1), (164, 1), (281, 1), (282, 1), (283, 1), (284, 1), (285, 1), (286, 1), (287, 1), (288, 1), (224, 1), (289, 1), (290, 1), (291, 1), (292, 1), (232, 1), (293, 1), (294, 1), (295, 1), (296, 1), (297, 1), (298, 1), (299, 1), (300, 1), (112, 1), (301, 1), (302, 1), (249, 1), (59, 1), (303, 1), (304, 1), (305, 1), (306, 1), (307, 1), (308, 1), (304, 1), (309, 1), (122, 1), (122, 1), (310, 1), (311, 1), (244, 1), (312, 1), (249, 1), (313, 1), (314, 1), (315, 1), (249, 1), (131, 1), (316, 1), (123, 1), (317, 1), (318, 1), (319, 1), (320, 1), (126, 1), (244, 1), (321, 1), (312, 1), (322, 1), (125, 1), (245, 1), (125, 1), (169, 1), (323, 1), (324, 1), (193, 1), (325, 1), (122, 1), (122, 1), (122, 1), (125, 1), (125, 1), (157, 1), (170, 1), (171, 1), (326, 1), (172, 1), (229, 1), (173, 1), (94, 1), (21, 1), (327, 1), (328, 1), (233, 1), (329, 1), (330, 1), (331, 1), (233, 1), (332, 1), (333, 1), (334, 1), (171, 1), (170, 1), (170, 1), (61, 1), (228, 1), (251, 1), (249, 1), (249, 1), (233, 1), (252, 1), (251, 1), (335, 1), (336, 1), (337, 1), (338, 1), (339, 1), (340, 1), (341, 1), (253, 1), (342, 1), (301, 1), (337, 1), (250, 1), (251, 1), (343, 1), (344, 1), (345, 1), (346, 1), (347, 1), (348, 1), (256, 1), (349, 1), (350, 1), (255, 1), (351, 1), (352, 1), (229, 1), (353, 1), (354, 1), (355, 1), (356, 1), (254, 1), (357, 1), (358, 1), (359, 1), (360, 1), (361, 1), (362, 1), (363, 1), (364, 1), (88, 1), (365, 1), (366, 1), (367, 1), (368, 1), (369, 1), (370, 1), (182, 1), (371, 1), (126, 1), (365, 1), (372, 1), (373, 1), (203, 1), (205, 1), (374, 1), (375, 1), (376, 1), (377, 1), (378, 1), (379, 1), (380, 1), (381, 1), (382, 1), (383, 1), (209, 1), (384, 1), (385, 1), (386, 1), (387, 1), (388, 1), (389, 1), (390, 1), (391, 1), (392, 1), (393, 1), (394, 1), (213, 1), (395, 1), (396, 1), (397, 1), (398, 1), (196, 1), (399, 1), (400, 1), (401, 1), (402, 1), (403, 1)]\n",
      "Suicide Squad (film)\n",
      "[(404, 2), (405, 2), (406, 2), (407, 2), (408, 2), (409, 2), (410, 2), (411, 2), (412, 2), (413, 2), (414, 2), (415, 2), (416, 2), (417, 2), (418, 2), (419, 2), (420, 2), (421, 2), (237, 2), (422, 2), (423, 2), (424, 2), (131, 2), (23, 2), (425, 2), (26, 2), (426, 2), (427, 2), (404, 2), (428, 2), (407, 2), (408, 2), (409, 2), (410, 2), (411, 2), (412, 2), (413, 2), (414, 2), (415, 2), (416, 2), (417, 2), (429, 2), (430, 2), (431, 2), (423, 2), (95, 2), (432, 2), (433, 2), (108, 2), (434, 2), (321, 2), (435, 2), (130, 2), (40, 2), (301, 2), (436, 2), (437, 2), (438, 2), (429, 2), (426, 2), (439, 2), (440, 2), (441, 2), (442, 2), (443, 2), (444, 2), (445, 2), (446, 2), (447, 2), (448, 2), (449, 2), (450, 2), (451, 2), (452, 2), (407, 2), (440, 2), (408, 2), (448, 2), (453, 2), (430, 2), (454, 2), (455, 2), (456, 2), (457, 2), (194, 2), (409, 2), (442, 2), (441, 2), (406, 2), (410, 2), (458, 2), (459, 2), (229, 2), (411, 2), (429, 2), (451, 2), (412, 2), (404, 2), (413, 2), (312, 2), (414, 2), (445, 2), (417, 2), (447, 2), (460, 2), (194, 2), (415, 2), (416, 2), (461, 2), (462, 2), (463, 2), (464, 2), (446, 2), (465, 2), (466, 2), (163, 2), (450, 2), (467, 2), (468, 2), (469, 2), (470, 2), (60, 2), (88, 2), (471, 2), (472, 2), (473, 2), (474, 2), (404, 2), (475, 2), (404, 2), (21, 2), (88, 2), (190, 2), (476, 2), (190, 2), (88, 2), (477, 2), (229, 2), (409, 2), (407, 2), (478, 2), (174, 2), (408, 2), (448, 2), (174, 2), (412, 2), (447, 2), (411, 2), (479, 2), (480, 2), (429, 2), (481, 2), (481, 2), (482, 2), (483, 2), (484, 2), (485, 2), (410, 2), (413, 2), (486, 2), (416, 2), (414, 2), (445, 2), (460, 2), (464, 2), (415, 2), (471, 2), (465, 2), (450, 2), (163, 2), (487, 2), (488, 2), (108, 2), (434, 2), (489, 2), (420, 2), (21, 2), (88, 2), (301, 2), (418, 2), (462, 2), (490, 2), (491, 2), (492, 2), (493, 2), (494, 2), (495, 2), (496, 2), (497, 2), (498, 2), (452, 2), (424, 2), (182, 2), (125, 2), (499, 2), (163, 2), (125, 2), (88, 2), (88, 2), (125, 2), (137, 2), (500, 2), (88, 2), (126, 2), (22, 2), (88, 2), (22, 2), (501, 2), (125, 2), (502, 2), (88, 2), (125, 2), (129, 2), (126, 2), (137, 2), (407, 2), (503, 2), (144, 2), (125, 2), (504, 2), (22, 2), (22, 2), (125, 2), (160, 2), (126, 2), (125, 2), (126, 2), (125, 2), (125, 2), (153, 2), (505, 2), (125, 2), (88, 2), (506, 2), (88, 2), (88, 2), (500, 2), (157, 2), (507, 2), (508, 2), (509, 2), (125, 2), (125, 2), (126, 2), (510, 2), (88, 2), (125, 2), (126, 2), (125, 2), (125, 2), (511, 2), (126, 2), (21, 2), (126, 2), (407, 2), (126, 2), (126, 2), (126, 2), (512, 2), (126, 2), (513, 2), (21, 2), (122, 2), (512, 2), (514, 2), (125, 2), (126, 2), (21, 2), (21, 2), (126, 2), (125, 2), (88, 2), (170, 2), (326, 2), (170, 2), (515, 2), (171, 2), (516, 2), (171, 2), (517, 2), (172, 2), (94, 2), (173, 2), (425, 2), (94, 2), (518, 2), (518, 2), (519, 2), (520, 2), (519, 2), (193, 2), (408, 2), (193, 2), (367, 2), (163, 2), (367, 2), (521, 2), (60, 2), (408, 2), (409, 2), (448, 2), (442, 2), (522, 2), (88, 2), (367, 2), (174, 2), (442, 2), (523, 2), (440, 2), (407, 2), (188, 2), (365, 2), (174, 2), (21, 2), (21, 2), (521, 2), (200, 2), (524, 2), (199, 2), (201, 2), (525, 2), (526, 2), (527, 2), (528, 2), (529, 2), (530, 2), (205, 2), (219, 2), (531, 2), (532, 2), (533, 2), (534, 2), (535, 2), (536, 2), (537, 2), (538, 2), (539, 2), (540, 2), (541, 2), (542, 2), (543, 2), (544, 2), (545, 2)]\n",
      "Spectre (2015 film)\n",
      "[(546, 3), (547, 3), (548, 3), (549, 3), (550, 3), (550, 3), (551, 3), (552, 3), (553, 3), (554, 3), (555, 3), (556, 3), (557, 3), (558, 3), (559, 3), (560, 3), (561, 3), (562, 3), (563, 3), (564, 3), (565, 3), (566, 3), (567, 3), (568, 3), (188, 3), (569, 3), (570, 3), (566, 3), (554, 3), (571, 3), (555, 3), (572, 3), (546, 3), (573, 3), (549, 3), (550, 3), (551, 3), (567, 3), (568, 3), (574, 3), (575, 3), (572, 3), (576, 3), (575, 3), (576, 3), (577, 3), (555, 3), (572, 3), (578, 3), (579, 3), (580, 3), (556, 3), (559, 3), (560, 3), (561, 3), (581, 3), (31, 3), (582, 3), (583, 3), (584, 3), (585, 3), (578, 3), (586, 3), (587, 3), (588, 3), (589, 3), (575, 3), (580, 3), (590, 3), (577, 3), (591, 3), (573, 3), (592, 3), (572, 3), (593, 3), (594, 3), (595, 3), (596, 3), (555, 3), (554, 3), (571, 3), (546, 3), (555, 3), (572, 3), (556, 3), (557, 3), (579, 3), (558, 3), (580, 3), (559, 3), (597, 3), (560, 3), (561, 3), (562, 3), (578, 3), (598, 3), (594, 3), (599, 3), (600, 3), (190, 3), (601, 3), (575, 3), (553, 3), (602, 3), (603, 3), (122, 3), (604, 3), (605, 3), (606, 3), (607, 3), (608, 3), (609, 3), (576, 3), (610, 3), (611, 3), (566, 3), (612, 3), (566, 3), (613, 3), (546, 3), (190, 3), (614, 3), (615, 3), (616, 3), (617, 3), (564, 3), (618, 3), (521, 3), (619, 3), (620, 3), (621, 3), (549, 3), (122, 3), (622, 3), (61, 3), (566, 3), (550, 3), (550, 3), (591, 3), (623, 3), (170, 3), (551, 3), (328, 3), (577, 3), (591, 3), (194, 3), (553, 3), (555, 3), (624, 3), (625, 3), (626, 3), (194, 3), (561, 3), (627, 3), (628, 3), (629, 3), (554, 3), (562, 3), (558, 3), (557, 3), (573, 3), (598, 3), (349, 3), (630, 3), (559, 3), (631, 3), (556, 3), (21, 3), (561, 3), (627, 3), (600, 3), (577, 3), (591, 3), (632, 3), (633, 3), (634, 3), (593, 3), (586, 3), (589, 3), (635, 3), (636, 3), (593, 3), (637, 3), (599, 3), (638, 3), (639, 3), (640, 3), (641, 3), (642, 3), (643, 3), (644, 3), (639, 3), (638, 3), (645, 3), (646, 3), (586, 3), (587, 3), (88, 3), (647, 3), (596, 3), (648, 3), (595, 3), (649, 3), (650, 3), (592, 3), (651, 3), (652, 3), (653, 3), (654, 3), (95, 3), (122, 3), (573, 3), (655, 3), (563, 3), (656, 3), (609, 3), (657, 3), (583, 3), (582, 3), (566, 3), (658, 3), (659, 3), (660, 3), (661, 3), (662, 3), (122, 3), (630, 3), (663, 3), (76, 3), (664, 3), (122, 3), (584, 3), (122, 3), (126, 3), (647, 3), (665, 3), (662, 3), (666, 3), (667, 3), (668, 3), (585, 3), (339, 3), (669, 3), (670, 3), (639, 3), (670, 3), (645, 3), (638, 3), (671, 3), (573, 3), (672, 3), (673, 3), (674, 3), (675, 3), (676, 3), (677, 3), (678, 3), (679, 3), (122, 3), (88, 3), (680, 3), (88, 3), (31, 3), (126, 3), (570, 3), (22, 3), (681, 3), (22, 3), (126, 3), (126, 3), (126, 3), (21, 3), (682, 3), (683, 3), (126, 3), (126, 3), (684, 3), (88, 3), (126, 3), (685, 3), (88, 3), (126, 3), (126, 3), (686, 3), (126, 3), (126, 3), (687, 3), (88, 3), (126, 3), (125, 3), (125, 3), (22, 3), (688, 3), (126, 3), (126, 3), (122, 3), (170, 3), (170, 3), (171, 3), (172, 3), (689, 3), (122, 3), (349, 3), (690, 3), (349, 3), (691, 3), (367, 3), (692, 3), (692, 3), (693, 3), (179, 3), (131, 3), (179, 3), (131, 3), (694, 3), (499, 3), (499, 3), (125, 3), (125, 3), (193, 3), (695, 3), (696, 3), (695, 3), (696, 3), (697, 3), (697, 3), (669, 3), (669, 3), (698, 3), (173, 3), (699, 3), (700, 3), (701, 3), (702, 3), (178, 3), (177, 3), (703, 3), (704, 3), (21, 3), (123, 3), (249, 3), (584, 3), (582, 3), (583, 3), (339, 3), (585, 3), (705, 3), (706, 3), (707, 3), (554, 3), (708, 3), (709, 3), (617, 3), (360, 3), (710, 3), (710, 3), (711, 3), (564, 3), (712, 3), (563, 3), (713, 3), (714, 3), (653, 3), (715, 3), (716, 3), (565, 3), (717, 3), (718, 3), (719, 3), (720, 3), (721, 3), (722, 3), (723, 3), (724, 3), (725, 3), (726, 3), (727, 3), (728, 3), (729, 3), (730, 3), (731, 3), (556, 3), (587, 3), (732, 3), (373, 3), (524, 3), (733, 3), (203, 3), (734, 3), (735, 3), (736, 3), (737, 3), (738, 3), (739, 3), (740, 3), (205, 3), (741, 3), (209, 3), (742, 3), (743, 3), (744, 3), (745, 3), (746, 3), (747, 3), (748, 3), (749, 3), (750, 3), (751, 3), (752, 3), (753, 3), (754, 3), (755, 3), (756, 3), (757, 3), (758, 3), (759, 3), (760, 3), (761, 3), (213, 3), (762, 3), (763, 3), (764, 3), (765, 3), (766, 3)]\n",
      "Rebel Without a Cause\n",
      "[(767, 4), (768, 4), (767, 4), (769, 4), (770, 4), (771, 4), (772, 4), (773, 4), (774, 4), (504, 4), (775, 4), (776, 4), (777, 4), (778, 4), (767, 4), (779, 4), (780, 4), (781, 4), (769, 4), (771, 4), (770, 4), (504, 4), (769, 4), (251, 4), (782, 4), (783, 4), (784, 4), (312, 4), (769, 4), (771, 4), (770, 4), (785, 4), (786, 4), (787, 4), (788, 4), (789, 4), (790, 4), (791, 4), (792, 4), (793, 4), (794, 4), (795, 4), (796, 4), (441, 4), (769, 4), (770, 4), (771, 4), (786, 4), (787, 4), (790, 4), (789, 4), (797, 4), (788, 4), (794, 4), (795, 4), (796, 4), (798, 4), (799, 4), (800, 4), (801, 4), (802, 4), (316, 4), (803, 4), (804, 4), (805, 4), (774, 4), (806, 4), (807, 4), (808, 4), (770, 4), (771, 4), (795, 4), (800, 4), (790, 4), (170, 4), (809, 4), (784, 4), (343, 4), (810, 4), (811, 4), (767, 4), (345, 4), (812, 4), (813, 4), (814, 4), (815, 4), (194, 4), (816, 4), (816, 4), (817, 4), (818, 4), (819, 4), (820, 4), (821, 4), (330, 4), (822, 4), (823, 4), (824, 4), (825, 4), (826, 4), (827, 4), (828, 4), (829, 4), (830, 4), (831, 4), (832, 4), (833, 4), (834, 4), (835, 4), (836, 4), (837, 4), (81, 4), (838, 4), (839, 4), (840, 4), (841, 4), (782, 4), (842, 4), (843, 4), (844, 4), (845, 4), (846, 4), (847, 4), (848, 4), (849, 4), (850, 4), (851, 4), (852, 4), (853, 4), (854, 4), (855, 4), (856, 4), (518, 4), (767, 4), (857, 4), (858, 4), (859, 4), (860, 4), (203, 4), (861, 4), (862, 4), (205, 4), (863, 4), (864, 4), (865, 4), (866, 4), (867, 4), (868, 4), (541, 4)]\n",
      "Warcraft (film)\n",
      "[(869, 5), (870, 5), (405, 5), (871, 5), (872, 5), (873, 5), (874, 5), (875, 5), (876, 5), (877, 5), (878, 5), (879, 5), (880, 5), (881, 5), (882, 5), (883, 5), (884, 5), (885, 5), (886, 5), (874, 5), (422, 5), (887, 5), (888, 5), (20, 5), (188, 5), (889, 5), (890, 5), (869, 5), (871, 5), (872, 5), (873, 5), (891, 5), (875, 5), (876, 5), (877, 5), (878, 5), (879, 5), (880, 5), (881, 5), (882, 5), (367, 5), (886, 5), (874, 5), (874, 5), (892, 5), (888, 5), (21, 5), (88, 5), (893, 5), (875, 5), (876, 5), (877, 5), (878, 5), (879, 5), (880, 5), (881, 5), (894, 5), (882, 5), (895, 5), (896, 5), (897, 5), (898, 5), (899, 5), (900, 5), (901, 5), (88, 5), (872, 5), (874, 5), (873, 5), (902, 5), (903, 5), (869, 5), (904, 5), (905, 5), (452, 5), (906, 5), (875, 5), (907, 5), (908, 5), (877, 5), (876, 5), (878, 5), (879, 5), (881, 5), (882, 5), (894, 5), (30, 5), (182, 5), (909, 5), (362, 5), (910, 5), (883, 5), (883, 5), (169, 5), (20, 5), (892, 5), (911, 5), (889, 5), (435, 5), (912, 5), (913, 5), (914, 5), (123, 5), (915, 5), (316, 5), (88, 5), (88, 5), (88, 5), (916, 5), (125, 5), (125, 5), (917, 5), (125, 5), (918, 5), (919, 5), (88, 5), (21, 5), (21, 5), (920, 5), (21, 5), (88, 5), (153, 5), (22, 5), (126, 5), (126, 5), (125, 5), (921, 5), (509, 5), (126, 5), (920, 5), (918, 5), (508, 5), (126, 5), (21, 5), (126, 5), (125, 5), (126, 5), (126, 5), (500, 5), (141, 5), (145, 5), (88, 5), (122, 5), (507, 5), (922, 5), (126, 5), (88, 5), (154, 5), (21, 5), (162, 5), (126, 5), (125, 5), (21, 5), (166, 5), (21, 5), (154, 5), (126, 5), (21, 5), (126, 5), (126, 5), (126, 5), (170, 5), (170, 5), (171, 5), (172, 5), (21, 5), (21, 5), (923, 5), (924, 5), (925, 5), (926, 5), (926, 5), (927, 5), (928, 5), (929, 5), (930, 5), (873, 5), (374, 5), (931, 5), (932, 5), (200, 5), (933, 5), (934, 5), (935, 5), (936, 5), (526, 5), (203, 5), (542, 5), (937, 5), (938, 5), (939, 5), (940, 5), (941, 5), (213, 5), (942, 5), (216, 5), (943, 5), (211, 5)]\n",
      "The Martian (film)\n",
      "[(944, 6), (1, 6), (945, 6), (946, 6), (186, 6), (947, 6), (948, 6), (949, 6), (950, 6), (951, 6), (952, 6), (953, 6), (954, 6), (955, 6), (956, 6), (957, 6), (958, 6), (959, 6), (960, 6), (961, 6), (962, 6), (17, 6), (18, 6), (19, 6), (963, 6), (188, 6), (964, 6), (88, 6), (965, 6), (944, 6), (948, 6), (947, 6), (949, 6), (966, 6), (428, 6), (950, 6), (951, 6), (952, 6), (953, 6), (954, 6), (955, 6), (956, 6), (957, 6), (967, 6), (958, 6), (1, 6), (19, 6), (968, 6), (186, 6), (969, 6), (970, 6), (971, 6), (972, 6), (963, 6), (130, 6), (973, 6), (974, 6), (88, 6), (34, 6), (301, 6), (337, 6), (975, 6), (976, 6), (35, 6), (251, 6), (256, 6), (255, 6), (977, 6), (949, 6), (978, 6), (950, 6), (979, 6), (980, 6), (981, 6), (982, 6), (952, 6), (983, 6), (951, 6), (958, 6), (955, 6), (984, 6), (985, 6), (967, 6), (986, 6), (949, 6), (950, 6), (949, 6), (950, 6), (987, 6), (951, 6), (952, 6), (955, 6), (953, 6), (988, 6), (954, 6), (956, 6), (957, 6), (958, 6), (21, 6), (189, 6), (982, 6), (967, 6), (989, 6), (984, 6), (990, 6), (991, 6), (992, 6), (131, 6), (948, 6), (993, 6), (994, 6), (995, 6), (944, 6), (944, 6), (1, 6), (945, 6), (946, 6), (186, 6), (948, 6), (960, 6), (996, 6), (997, 6), (961, 6), (959, 6), (186, 6), (947, 6), (19, 6), (968, 6), (1, 6), (21, 6), (174, 6), (998, 6), (949, 6), (999, 6), (367, 6), (21, 6), (21, 6), (194, 6), (21, 6), (971, 6), (972, 6), (969, 6), (1000, 6), (21, 6), (1001, 6), (1002, 6), (971, 6), (1003, 6), (972, 6), (1004, 6), (647, 6), (1005, 6), (88, 6), (1006, 6), (1007, 6), (1008, 6), (981, 6), (1009, 6), (946, 6), (998, 6), (1010, 6), (131, 6), (1011, 6), (1012, 6), (996, 6), (1007, 6), (1007, 6), (998, 6), (193, 6), (131, 6), (977, 6), (981, 6), (499, 6), (131, 6), (981, 6), (1013, 6), (981, 6), (1013, 6), (981, 6), (1014, 6), (1014, 6), (959, 6), (1015, 6), (1016, 6), (1017, 6), (88, 6), (1018, 6), (1019, 6), (1020, 6), (1021, 6), (1022, 6), (1023, 6), (1024, 6), (1025, 6), (905, 6), (1026, 6), (1027, 6), (1028, 6), (1029, 6), (1030, 6), (1031, 6), (1032, 6), (19, 6), (119, 6), (193, 6), (1007, 6), (1007, 6), (125, 6), (125, 6), (1033, 6), (1034, 6), (88, 6), (981, 6), (1035, 6), (191, 6), (977, 6), (1036, 6), (1037, 6), (1038, 6), (1035, 6), (122, 6), (1039, 6), (125, 6), (688, 6), (88, 6), (499, 6), (1040, 6), (1041, 6), (1042, 6), (1043, 6), (1044, 6), (963, 6), (963, 6), (1045, 6), (193, 6), (1046, 6), (1047, 6), (1048, 6), (193, 6), (1046, 6), (1049, 6), (1050, 6), (88, 6), (1051, 6), (1052, 6), (688, 6), (1051, 6), (88, 6), (1053, 6), (1054, 6), (21, 6), (126, 6), (501, 6), (22, 6), (21, 6), (681, 6), (126, 6), (126, 6), (88, 6), (88, 6), (21, 6), (194, 6), (88, 6), (21, 6), (1055, 6), (126, 6), (125, 6), (21, 6), (1056, 6), (1057, 6), (126, 6), (1058, 6), (153, 6), (126, 6), (1059, 6), (126, 6), (126, 6), (1060, 6), (1061, 6), (126, 6), (126, 6), (1062, 6), (21, 6), (1063, 6), (126, 6), (684, 6), (1064, 6), (126, 6), (1065, 6), (126, 6), (126, 6), (126, 6), (88, 6), (126, 6), (126, 6), (126, 6), (88, 6), (1066, 6), (88, 6), (1067, 6), (1054, 6), (170, 6), (1068, 6), (170, 6), (170, 6), (171, 6), (171, 6), (172, 6), (21, 6), (1001, 6), (21, 6), (122, 6), (122, 6), (1069, 6), (1070, 6), (1069, 6), (694, 6), (499, 6), (499, 6), (329, 6), (329, 6), (1071, 6), (1072, 6), (1071, 6), (1073, 6), (1074, 6), (1075, 6), (695, 6), (696, 6), (1076, 6), (1077, 6), (1078, 6), (1079, 6), (889, 6), (1079, 6), (694, 6), (499, 6), (1080, 6), (1081, 6), (1082, 6), (1083, 6), (1084, 6), (1070, 6), (1069, 6), (1085, 6), (923, 6), (173, 6), (94, 6), (365, 6), (88, 6), (630, 6), (520, 6), (519, 6), (179, 6), (131, 6), (1086, 6), (1087, 6), (1088, 6), (1077, 6), (813, 6), (33, 6), (34, 6), (35, 6), (341, 6), (352, 6), (1089, 6), (1090, 6), (255, 6), (1091, 6), (1092, 6), (1093, 6), (337, 6), (251, 6), (975, 6), (1094, 6), (1095, 6), (1096, 6), (1097, 6), (1098, 6), (1099, 6), (1100, 6), (1101, 6), (1102, 6), (361, 6), (1103, 6), (714, 6), (710, 6), (710, 6), (170, 6), (171, 6), (170, 6), (362, 6), (630, 6), (1104, 6), (1010, 6), (700, 6), (1105, 6), (1010, 6), (1106, 6), (125, 6), (499, 6), (1107, 6), (1108, 6), (1069, 6), (1109, 6), (1110, 6), (1111, 6), (364, 6), (981, 6), (981, 6), (1112, 6), (373, 6), (1113, 6), (1114, 6), (203, 6), (933, 6), (527, 6), (205, 6), (1115, 6), (213, 6), (1116, 6), (1117, 6), (396, 6), (399, 6), (1118, 6), (1119, 6), (1120, 6), (1121, 6), (1122, 6), (1123, 6), (1124, 6), (1125, 6), (1126, 6), (1127, 6), (1128, 6), (749, 6), (1129, 6), (1130, 6), (1131, 6), (1132, 6), (1133, 6), (1134, 6), (1135, 6), (196, 6), (1136, 6), (1137, 6)]\n",
      "List of Marvel Cinematic Universe films\n",
      "[(1138, 7), (1139, 7), (63, 7), (1140, 7), (1141, 7), (1142, 7), (1143, 7), (1144, 7), (24, 7), (1145, 7), (62, 7), (568, 7), (680, 7), (888, 7), (1146, 7), (1147, 7), (1148, 7), (23, 7), (24, 7), (62, 7), (1149, 7), (63, 7), (1140, 7), (1143, 7), (1142, 7), (1144, 7), (1150, 7), (428, 7), (1151, 7), (1152, 7), (1153, 7), (268, 7), (1154, 7), (1141, 7), (680, 7), (1155, 7), (1156, 7), (1157, 7), (888, 7), (1146, 7), (1158, 7), (143, 7), (168, 7), (1159, 7), (138, 7), (137, 7), (154, 7), (1065, 7), (162, 7), (1160, 7), (65, 7), (1161, 7), (1162, 7), (1163, 7), (1164, 7), (1147, 7), (1141, 7), (1165, 7), (1166, 7), (1167, 7), (21, 7), (193, 7), (1140, 7), (63, 7), (1142, 7), (1168, 7), (1169, 7), (1170, 7), (193, 7), (1143, 7), (1155, 7), (126, 7), (1171, 7), (21, 7), (1156, 7), (1172, 7), (21, 7), (1173, 7), (1174, 7), (1175, 7), (24, 7), (1157, 7), (1176, 7), (88, 7), (1177, 7), (88, 7), (143, 7), (1178, 7), (21, 7), (1179, 7), (1165, 7), (1167, 7), (1180, 7), (1151, 7), (95, 7), (1181, 7), (1182, 7), (1183, 7), (1184, 7), (1185, 7), (1186, 7), (1187, 7), (54, 7), (268, 7), (1188, 7), (1189, 7), (289, 7), (1190, 7), (1191, 7), (1192, 7), (1193, 7), (1194, 7), (1168, 7), (1195, 7), (1170, 7), (1196, 7), (432, 7), (321, 7), (1197, 7), (1198, 7), (1199, 7), (1200, 7), (1201, 7), (1202, 7), (1171, 7), (1203, 7), (1204, 7), (1205, 7), (1154, 7), (1206, 7), (1207, 7), (1208, 7), (1209, 7), (1210, 7), (1211, 7), (1212, 7), (1213, 7), (1214, 7), (1215, 7), (1216, 7), (1217, 7), (1218, 7), (1219, 7), (1220, 7), (1147, 7), (1221, 7), (1172, 7), (1153, 7), (1222, 7), (1173, 7), (1174, 7), (1175, 7), (1223, 7), (1224, 7), (1225, 7), (1226, 7), (1227, 7), (1228, 7), (1178, 7), (1229, 7), (1230, 7), (1231, 7), (1232, 7), (1201, 7), (1233, 7), (1234, 7), (1176, 7), (1235, 7), (1152, 7), (1236, 7), (1237, 7), (1238, 7), (1239, 7), (878, 7), (1240, 7), (1241, 7), (1178, 7), (1242, 7), (1243, 7), (1244, 7), (1245, 7), (1140, 7), (1246, 7), (1247, 7), (1248, 7), (168, 7), (1249, 7), (1250, 7), (1251, 7), (126, 7), (1159, 7), (1252, 7), (126, 7), (1253, 7), (138, 7), (1254, 7), (21, 7), (189, 7), (137, 7), (1255, 7), (24, 7), (1256, 7), (21, 7), (154, 7), (21, 7), (1065, 7), (1257, 7), (24, 7), (1258, 7), (1259, 7), (1260, 7), (1261, 7), (1262, 7), (1263, 7), (1264, 7), (1249, 7), (1251, 7), (1265, 7), (1266, 7), (1267, 7), (1268, 7), (1269, 7), (1270, 7), (315, 7), (312, 7), (20, 7), (1271, 7), (1107, 7), (1272, 7), (1252, 7), (452, 7), (1273, 7), (1274, 7), (1275, 7), (1276, 7), (1277, 7), (1278, 7), (1279, 7), (137, 7), (1280, 7), (1281, 7), (1282, 7), (1254, 7), (956, 7), (1283, 7), (1284, 7), (1285, 7), (1286, 7), (1287, 7), (1288, 7), (1289, 7), (1290, 7), (1291, 7), (1292, 7), (154, 7), (1293, 7), (1294, 7), (1295, 7), (1296, 7), (1297, 7), (1298, 7), (1299, 7), (1300, 7), (1279, 7), (1301, 7), (1302, 7), (593, 7), (1303, 7), (1304, 7), (1163, 7), (1305, 7), (1306, 7), (1307, 7), (1289, 7), (1291, 7), (1308, 7), (1309, 7), (1310, 7), (1311, 7), (1312, 7), (1162, 7), (1313, 7), (1314, 7), (1315, 7), (1316, 7), (1317, 7), (1257, 7), (1258, 7), (1259, 7), (1260, 7), (1261, 7), (1315, 7), (1318, 7), (1319, 7), (1320, 7), (1321, 7), (1322, 7), (1323, 7), (1324, 7), (162, 7), (162, 7), (1160, 7), (1325, 7), (88, 7), (1326, 7), (1327, 7), (1146, 7), (1328, 7), (1329, 7), (180, 7), (1330, 7), (1215, 7), (1331, 7), (1162, 7), (1332, 7), (1285, 7), (1333, 7), (1334, 7), (1335, 7), (1325, 7), (1336, 7), (1326, 7), (1327, 7), (1337, 7), (1338, 7), (115, 7), (1339, 7), (1161, 7), (1340, 7), (1190, 7), (1242, 7), (1196, 7), (1341, 7), (1342, 7), (956, 7), (1226, 7), (1227, 7), (1343, 7), (1344, 7), (1298, 7), (559, 7), (1296, 7), (1345, 7), (1299, 7), (1346, 7), (1188, 7), (268, 7), (1347, 7), (1348, 7), (1349, 7), (1350, 7), (1315, 7), (1261, 7), (1219, 7), (1222, 7), (1291, 7), (1292, 7), (1351, 7), (1352, 7), (180, 7), (1329, 7), (1353, 7), (1245, 7), (1295, 7), (1301, 7), (1205, 7), (1354, 7), (1203, 7), (1355, 7), (1201, 7), (1152, 7), (1206, 7), (1154, 7), (1356, 7), (1200, 7), (1357, 7), (1229, 7), (1179, 7), (1151, 7), (1285, 7), (1336, 7), (1215, 7), (1330, 7), (1217, 7), (1153, 7), (1358, 7), (1359, 7), (1308, 7), (1360, 7), (1282, 7), (1324, 7), (1139, 7), (1138, 7), (1361, 7), (1055, 7), (1362, 7), (1363, 7), (1364, 7), (22, 7), (170, 7), (171, 7), (1365, 7), (171, 7), (1365, 7), (171, 7), (1365, 7), (171, 7), (1365, 7), (171, 7), (1365, 7), (171, 7), (1365, 7), (171, 7), (1365, 7), (171, 7), (1365, 7), (171, 7), (1365, 7), (171, 7), (1365, 7), (171, 7), (1365, 7), (171, 7), (1365, 7), (171, 7), (1365, 7), (171, 7), (170, 7), (171, 7), (65, 7), (1150, 7), (88, 7), (1366, 7), (1367, 7), (1368, 7), (1369, 7), (24, 7), (1144, 7), (1161, 7), (24, 7), (1340, 7), (126, 7), (24, 7), (1162, 7), (24, 7), (1332, 7), (24, 7), (1370, 7), (365, 7), (1163, 7), (24, 7), (24, 7), (126, 7), (1371, 7), (1372, 7), (24, 7), (1164, 7), (126, 7), (1373, 7), (1374, 7), (1375, 7), (64, 7), (180, 7), (1144, 7), (180, 7), (1329, 7), (1366, 7), (1368, 7), (1367, 7), (1369, 7), (1376, 7), (1377, 7), (1378, 7), (1379, 7), (1340, 7), (1348, 7), (1380, 7), (1347, 7), (1381, 7), (1382, 7), (1377, 7), (1383, 7), (1215, 7), (1384, 7), (1330, 7), (1332, 7), (1385, 7), (1386, 7), (1387, 7), (1388, 7), (1314, 7), (1389, 7), (1390, 7), (1391, 7), (88, 7), (1392, 7), (1372, 7), (1393, 7), (1394, 7), (1395, 7), (1396, 7), (31, 7), (1397, 7), (1398, 7), (1399, 7), (21, 7), (21, 7), (190, 7), (193, 7), (24, 7), (24, 7), (24, 7), (1400, 7), (367, 7), (1401, 7), (1401, 7), (1402, 7), (1183, 7), (1401, 7), (1401, 7), (182, 7), (24, 7), (193, 7), (189, 7), (24, 7), (1250, 7), (21, 7), (1401, 7), (131, 7), (24, 7), (1401, 7), (189, 7), (182, 7), (1403, 7), (88, 7), (1404, 7), (193, 7), (21, 7), (126, 7), (24, 7), (1401, 7), (1405, 7), (1183, 7), (499, 7), (24, 7), (131, 7), (189, 7), (24, 7), (21, 7), (1371, 7), (126, 7), (24, 7), (24, 7), (24, 7), (24, 7), (189, 7), (131, 7), (193, 7), (190, 7), (1406, 7), (21, 7), (1401, 7), (1407, 7), (1408, 7), (24, 7), (680, 7), (1400, 7), (182, 7), (189, 7), (1401, 7), (88, 7), (1404, 7), (521, 7), (126, 7), (126, 7), (24, 7), (1409, 7), (1409, 7), (88, 7), (60, 7), (131, 7), (1410, 7), (1411, 7), (193, 7), (126, 7), (193, 7), (126, 7), (21, 7), (630, 7), (131, 7), (88, 7), (190, 7), (1406, 7), (190, 7), (88, 7), (126, 7), (126, 7), (88, 7), (1412, 7), (1413, 7), (1414, 7), (189, 7), (189, 7), (182, 7), (131, 7), (126, 7), (1415, 7), (1409, 7), (1244, 7), (1416, 7), (1417, 7), (521, 7), (193, 7), (21, 7), (190, 7), (182, 7), (60, 7), (1418, 7), (88, 7), (24, 7), (24, 7), (1419, 7), (126, 7), (1420, 7), (21, 7), (1421, 7), (367, 7), (182, 7), (182, 7), (193, 7), (126, 7), (24, 7), (24, 7), (88, 7), (24, 7), (1422, 7), (367, 7), (24, 7), (76, 7), (88, 7), (193, 7), (88, 7), (21, 7), (1401, 7), (189, 7), (630, 7), (24, 7), (1423, 7), (24, 7), (21, 7), (21, 7), (76, 7), (1420, 7), (1424, 7), (182, 7), (126, 7), (1425, 7), (182, 7), (21, 7), (21, 7), (24, 7), (1426, 7), (21, 7), (21, 7), (1420, 7), (182, 7), (1427, 7), (88, 7), (125, 7), (60, 7), (362, 7), (481, 7), (1420, 7), (126, 7), (1428, 7), (126, 7), (1429, 7), (1422, 7), (76, 7), (1430, 7), (24, 7), (365, 7), (1431, 7), (1432, 7), (88, 7), (367, 7), (193, 7), (178, 7), (178, 7), (21, 7), (1406, 7), (189, 7), (21, 7), (24, 7), (60, 7), (88, 7), (1412, 7), (481, 7), (21, 7), (349, 7), (131, 7), (182, 7), (88, 7), (24, 7), (24, 7), (24, 7), (24, 7), (88, 7), (1433, 7), (1434, 7), (1435, 7), (88, 7), (193, 7), (193, 7), (193, 7), (365, 7), (1262, 7), (88, 7), (59, 7), (1426, 7), (21, 7), (478, 7), (24, 7), (126, 7), (76, 7), (1420, 7), (1420, 7), (1436, 7), (193, 7), (193, 7), (658, 7), (21, 7), (88, 7), (365, 7), (21, 7), (1262, 7), (24, 7), (88, 7), (21, 7), (630, 7), (88, 7), (1437, 7), (24, 7), (478, 7), (88, 7), (24, 7), (21, 7), (1438, 7), (478, 7), (193, 7), (118, 7), (478, 7), (1262, 7), (365, 7), (1439, 7), (1440, 7), (88, 7), (193, 7), (1441, 7), (88, 7), (174, 7), (365, 7), (1442, 7), (1443, 7), (88, 7), (126, 7), (126, 7), (126, 7), (88, 7), (126, 7), (367, 7), (1444, 7), (126, 7), (126, 7), (111, 7), (478, 7), (182, 7), (24, 7), (88, 7), (22, 7), (1445, 7)]\n",
      "X-Men (film series)\n",
      "[(435, 8), (3, 8), (19, 8), (16, 8), (1446, 8), (1447, 8), (23, 8), (53, 8), (73, 8), (1448, 8), (24, 8), (19, 8), (1449, 8), (150, 8), (67, 8), (275, 8), (68, 8), (1450, 8), (28, 8), (151, 8), (152, 8), (69, 8), (500, 8), (509, 8), (1451, 8), (1149, 8), (1452, 8), (1453, 8), (1454, 8), (1455, 8), (53, 8), (1456, 8), (1457, 8), (19, 8), (3, 8), (53, 8), (193, 8), (1458, 8), (83, 8), (1459, 8), (1449, 8), (549, 8), (1178, 8), (1460, 8), (1461, 8), (1462, 8), (432, 8), (1463, 8), (132, 8), (1464, 8), (1465, 8), (1170, 8), (1466, 8), (1467, 8), (1468, 8), (88, 8), (30, 8), (1469, 8), (1470, 8), (1471, 8), (21, 8), (1, 8), (1221, 8), (1250, 8), (275, 8), (21, 8), (132, 8), (1472, 8), (1473, 8), (1474, 8), (21, 8), (187, 8), (1475, 8), (1476, 8), (1477, 8), (1478, 8), (1479, 8), (1455, 8), (1456, 8), (53, 8), (3, 8), (67, 8), (126, 8), (68, 8), (1480, 8), (1481, 8), (1482, 8), (1483, 8), (593, 8), (1484, 8), (194, 8), (1461, 8), (88, 8), (1485, 8), (88, 8), (1486, 8), (1487, 8), (21, 8), (1488, 8), (1489, 8), (1490, 8), (1064, 8), (193, 8), (1491, 8), (6, 8), (62, 8), (77, 8), (27, 8), (78, 8), (2, 8), (189, 8), (367, 8), (1492, 8), (367, 8), (1492, 8), (1493, 8), (367, 8), (1492, 8), (4, 8), (5, 8), (21, 8), (81, 8), (189, 8), (131, 8), (0, 8), (30, 8), (1494, 8), (509, 8), (1468, 8), (1467, 8), (88, 8), (1453, 8), (1455, 8), (100, 8), (1453, 8), (1486, 8), (126, 8), (1495, 8), (187, 8), (1496, 8), (1497, 8), (365, 8), (1498, 8), (1489, 8), (1499, 8), (1500, 8), (1501, 8), (1502, 8), (21, 8), (1503, 8), (1504, 8), (1505, 8), (88, 8), (184, 8), (12, 8), (13, 8), (70, 8), (52, 8), (51, 8), (1453, 8), (187, 8), (1506, 8), (1455, 8), (1507, 8), (1508, 8), (1456, 8), (1456, 8), (1509, 8), (1510, 8), (1511, 8), (1512, 8), (1513, 8), (1514, 8), (1469, 8), (1515, 8), (1516, 8), (1517, 8), (1470, 8), (1518, 8), (1519, 8), (1520, 8), (1521, 8), (1522, 8), (1523, 8), (1524, 8), (1454, 8), (1454, 8), (1525, 8), (51, 8), (66, 8), (13, 8), (1526, 8), (1527, 8), (1528, 8), (1529, 8), (1530, 8), (1531, 8), (1532, 8), (1533, 8), (1464, 8), (1534, 8), (1535, 8), (1536, 8), (1537, 8), (1538, 8), (1539, 8), (6, 8), (2, 8), (1540, 8), (1541, 8), (1542, 8), (1449, 8), (1462, 8), (1543, 8), (3, 8), (1544, 8), (1140, 8), (73, 8), (1545, 8), (1546, 8), (1547, 8), (1548, 8), (1549, 8), (1550, 8), (1467, 8), (1468, 8), (1170, 8), (1551, 8), (275, 8), (1, 8), (1170, 8), (63, 8), (1552, 8), (1553, 8), (1554, 8), (1555, 8), (1556, 8), (1476, 8), (1474, 8), (1557, 8), (187, 8), (959, 8), (1221, 8), (1174, 8), (1480, 8), (1483, 8), (1558, 8), (1559, 8), (1560, 8), (565, 8), (1486, 8), (1487, 8), (1561, 8), (1562, 8), (1563, 8), (0, 8), (4, 8), (5, 8), (2, 8), (14, 8), (15, 8), (1495, 8), (1564, 8), (1560, 8), (184, 8), (22, 8), (24, 8), (1148, 8), (1364, 8), (170, 8), (171, 8), (172, 8), (170, 8), (1565, 8), (171, 8), (1365, 8), (1566, 8), (1084, 8), (1077, 8), (178, 8), (1567, 8), (1567, 8), (1076, 8), (328, 8), (328, 8), (1262, 8), (367, 8), (1568, 8), (1492, 8), (367, 8), (903, 8), (481, 8), (1569, 8), (1570, 8), (194, 8), (1571, 8), (1572, 8), (1573, 8), (1471, 8), (190, 8), (62, 8), (1497, 8), (24, 8), (1472, 8), (1574, 8), (1489, 8), (1574, 8), (1574, 8), (1574, 8), (1575, 8), (1576, 8), (1577, 8), (1578, 8), (1579, 8), (1580, 8), (1581, 8), (1582, 8), (1583, 8), (1584, 8), (1585, 8), (1586, 8), (1587, 8), (1588, 8), (1589, 8), (1590, 8), (1591, 8), (316, 8), (1138, 8), (1592, 8), (1593, 8), (1594, 8), (1139, 8), (1595, 8), (1596, 8), (1572, 8), (1597, 8), (1598, 8), (1599, 8), (1600, 8), (220, 8)]\n",
      "The Hateful Eight\n",
      "[(1601, 9), (1602, 9), (1603, 9), (268, 9), (1375, 9), (1604, 9), (1605, 9), (1606, 9), (1607, 9), (1608, 9), (1609, 9), (1610, 9), (1501, 9), (1611, 9), (1612, 9), (1613, 9), (1614, 9), (1615, 9), (1616, 9), (188, 9), (1617, 9), (188, 9), (88, 9), (22, 9), (1618, 9), (1619, 9), (1620, 9), (60, 9), (1621, 9), (1601, 9), (268, 9), (1375, 9), (1604, 9), (1605, 9), (1606, 9), (1607, 9), (1608, 9), (1609, 9), (1622, 9), (1623, 9), (1624, 9), (1625, 9), (95, 9), (1611, 9), (1626, 9), (1004, 9), (1614, 9), (1616, 9), (1627, 9), (342, 9), (302, 9), (301, 9), (810, 9), (252, 9), (1612, 9), (1623, 9), (1628, 9), (1629, 9), (1630, 9), (1631, 9), (1632, 9), (268, 9), (1375, 9), (1604, 9), (1605, 9), (1606, 9), (1607, 9), (1608, 9), (1609, 9), (1632, 9), (1610, 9), (1501, 9), (1633, 9), (1634, 9), (1635, 9), (1636, 9), (1601, 9), (1637, 9), (1624, 9), (122, 9), (193, 9), (241, 9), (1638, 9), (1639, 9), (1640, 9), (1641, 9), (1642, 9), (1643, 9), (1644, 9), (1645, 9), (126, 9), (1646, 9), (1647, 9), (1609, 9), (1607, 9), (1608, 9), (97, 9), (131, 9), (1646, 9), (1647, 9), (1648, 9), (268, 9), (1375, 9), (1649, 9), (1610, 9), (1605, 9), (1634, 9), (1650, 9), (1651, 9), (1652, 9), (1604, 9), (1459, 9), (1501, 9), (1614, 9), (1606, 9), (1610, 9), (1636, 9), (1635, 9), (1653, 9), (1654, 9), (1655, 9), (1656, 9), (1657, 9), (95, 9), (21, 9), (1658, 9), (1659, 9), (658, 9), (1612, 9), (1660, 9), (1661, 9), (1624, 9), (1627, 9), (1662, 9), (635, 9), (1663, 9), (1664, 9), (1665, 9), (1666, 9), (1667, 9), (1668, 9), (1669, 9), (1670, 9), (1671, 9), (1672, 9), (188, 9), (452, 9), (1611, 9), (1660, 9), (1673, 9), (1661, 9), (1624, 9), (88, 9), (21, 9), (21, 9), (657, 9), (1611, 9), (1674, 9), (1675, 9), (1676, 9), (1677, 9), (1678, 9), (1679, 9), (1680, 9), (1681, 9), (1682, 9), (1683, 9), (1684, 9), (1614, 9), (499, 9), (1627, 9), (1616, 9), (88, 9), (452, 9), (1685, 9), (1278, 9), (1686, 9), (482, 9), (1687, 9), (318, 9), (319, 9), (1688, 9), (169, 9), (1689, 9), (170, 9), (170, 9), (171, 9), (326, 9), (171, 9), (172, 9), (1076, 9), (349, 9), (690, 9), (1690, 9), (923, 9), (1691, 9), (1692, 9), (1693, 9), (732, 9), (1694, 9), (1694, 9), (1695, 9), (499, 9), (1069, 9), (1069, 9), (125, 9), (125, 9), (926, 9), (1696, 9), (692, 9), (1697, 9), (1698, 9), (1699, 9), (1660, 9), (1605, 9), (1700, 9), (1701, 9), (1702, 9), (21, 9), (373, 9), (377, 9), (203, 9), (382, 9), (205, 9), (1703, 9), (1704, 9), (215, 9), (1705, 9), (1706, 9), (1707, 9), (1708, 9), (1709, 9), (1710, 9)]\n"
     ]
    }
   ],
   "source": [
    "for movie in movies[:10]:\n",
    "    print(movie[0])\n",
    "    test_pairs=[]\n",
    "    test_pairs.extend((link_to_idx[link], movie_to_idx[movie[0]]) for link in movie[2] if link in link_to_idx)\n",
    "    print(test_pairs)\n",
    "#pairs creates a tuple of link_id and movie_id for links that exist in a movie"
   ]
  },
  {
   "cell_type": "code",
   "execution_count": 16,
   "metadata": {},
   "outputs": [
    {
     "name": "stdout",
     "output_type": "stream",
     "text": [
      "[(0, 0), (1, 0), (2, 0), (3, 0), (4, 0), (5, 0), (6, 0), (7, 0), (8, 0), (9, 0), (10, 0), (11, 0), (12, 0), (13, 0), (14, 0), (15, 0), (16, 0), (17, 0), (3, 0), (18, 0), (19, 0), (20, 0), (21, 0), (22, 0), (23, 0), (0, 0), (4, 0), (5, 0), (24, 0), (6, 0), (25, 0), (2, 0), (7, 0), (8, 0), (9, 0), (10, 0), (11, 0), (12, 0), (13, 0), (26, 0), (27, 0), (19, 0), (28, 0), (29, 0), (30, 0), (31, 0), (32, 0), (33, 0), (34, 0), (35, 0), (36, 0), (37, 0), (38, 0), (39, 0), (40, 0), (41, 0), (6, 0), (42, 0), (43, 0), (44, 0), (45, 0), (46, 0), (47, 0), (48, 0), (49, 0), (50, 0), (51, 0), (52, 0), (53, 0), (54, 0), (55, 0), (2, 0), (6, 0), (56, 0), (28, 0), (57, 0), (7, 0), (43, 0), (58, 0), (8, 0), (45, 0), (59, 0), (0, 0), (9, 0), (49, 0), (1, 0), (60, 0), (10, 0), (46, 0), (11, 0), (50, 0), (61, 0), (12, 0), (52, 0), (53, 0), (62, 0), (63, 0), (64, 0), (65, 0), (13, 0), (51, 0), (66, 0), (67, 0), (68, 0), (69, 0), (70, 0), (71, 0), (72, 0), (73, 0), (74, 0), (75, 0), (76, 0), (1, 0), (77, 0), (16, 0), (6, 0), (27, 0), (78, 0), (2, 0), (79, 0), (28, 0), (3, 0), (80, 0), (57, 0), (4, 0), (5, 0), (81, 0), (0, 0), (82, 0), (83, 0), (84, 0), (85, 0), (86, 0), (46, 0), (87, 0), (51, 0), (1, 0), (88, 0), (89, 0), (8, 0), (10, 0), (46, 0), (7, 0), (90, 0), (91, 0), (92, 0), (93, 0), (49, 0), (43, 0), (12, 0), (52, 0), (45, 0), (11, 0), (50, 0), (71, 0), (13, 0), (51, 0), (66, 0), (76, 0), (94, 0), (95, 0), (30, 0), (96, 0), (97, 0), (98, 0), (99, 0), (100, 0), (101, 0), (102, 0), (103, 0), (104, 0), (105, 0), (106, 0), (107, 0), (108, 0), (51, 0), (86, 0), (101, 0), (109, 0), (14, 0), (110, 0), (111, 0), (112, 0), (31, 0), (32, 0), (88, 0), (113, 0), (114, 0), (88, 0), (115, 0), (116, 0), (117, 0), (88, 0), (118, 0), (119, 0), (120, 0), (121, 0), (111, 0), (59, 0), (122, 0), (123, 0), (40, 0), (124, 0), (125, 0), (21, 0), (69, 0), (126, 0), (83, 0), (127, 0), (128, 0), (129, 0), (88, 0), (31, 0), (130, 0), (131, 0), (132, 0), (21, 0), (133, 0), (134, 0), (135, 0), (136, 0), (88, 0), (126, 0), (21, 0), (137, 0), (138, 0), (88, 0), (126, 0), (139, 0), (140, 0), (141, 0), (88, 0), (126, 0), (142, 0), (128, 0), (125, 0), (126, 0), (88, 0), (143, 0), (144, 0), (133, 0), (145, 0), (146, 0), (147, 0), (148, 0), (149, 0), (150, 0), (151, 0), (152, 0), (28, 0), (126, 0), (153, 0), (154, 0), (68, 0), (155, 0), (125, 0), (156, 0), (125, 0), (157, 0), (158, 0), (159, 0), (160, 0), (161, 0), (137, 0), (162, 0), (154, 0), (163, 0), (164, 0), (88, 0), (165, 0), (115, 0), (116, 0), (166, 0), (126, 0), (167, 0), (157, 0), (168, 0), (169, 0), (170, 0), (170, 0), (171, 0), (172, 0), (173, 0), (94, 0), (94, 0), (174, 0), (175, 0), (137, 0), (176, 0), (177, 0), (178, 0), (179, 0), (131, 0), (131, 0), (88, 0), (126, 0), (180, 0), (181, 0), (182, 0), (174, 0), (183, 0), (184, 0), (185, 0), (186, 0), (183, 0), (187, 0), (76, 0), (21, 0), (88, 0), (188, 0), (131, 0), (21, 0), (189, 0), (190, 0), (88, 0), (21, 0), (191, 0), (192, 0), (88, 0), (174, 0), (88, 0), (21, 0), (193, 0), (126, 0), (189, 0), (126, 0), (118, 0), (88, 0), (76, 0), (194, 0), (195, 0), (196, 0), (197, 0), (198, 0), (199, 0), (200, 0), (201, 0), (202, 0), (203, 0), (204, 0), (205, 0), (206, 0), (207, 0), (208, 0), (209, 0), (210, 0), (211, 0), (212, 0), (213, 0), (214, 0), (215, 0), (216, 0), (217, 0), (218, 0), (219, 0), (220, 0)]\n"
     ]
    }
   ],
   "source": [
    "#print()\n",
    "#p = pairs[0]\n",
    "#print(p[0])\n",
    "first_movie_pairs = []\n",
    "first_movie_pairs.extend( (p for p in pairs if p[1]==0) )\n",
    "print(first_movie_pairs)"
   ]
  },
  {
   "cell_type": "code",
   "execution_count": 17,
   "metadata": {},
   "outputs": [
    {
     "data": {
      "text/plain": [
       "(949544, 66913, 10000)"
      ]
     },
     "execution_count": 17,
     "metadata": {},
     "output_type": "execute_result"
    }
   ],
   "source": [
    "len(pairs), len(top_links), len(movie_to_idx)"
   ]
  },
  {
   "cell_type": "code",
   "execution_count": 18,
   "metadata": {},
   "outputs": [
    {
     "name": "stderr",
     "output_type": "stream",
     "text": [
      "Using TensorFlow backend.\n"
     ]
    }
   ],
   "source": [
    "from keras.models import Model\n",
    "from keras.layers import Embedding, Input, Reshape\n",
    "from keras.layers.merge import Dot"
   ]
  },
  {
   "cell_type": "code",
   "execution_count": 19,
   "metadata": {},
   "outputs": [
    {
     "name": "stdout",
     "output_type": "stream",
     "text": [
      "__________________________________________________________________________________________________\n",
      "Layer (type)                    Output Shape         Param #     Connected to                     \n",
      "==================================================================================================\n",
      "link (InputLayer)               (None, 1)            0                                            \n",
      "__________________________________________________________________________________________________\n",
      "movie (InputLayer)              (None, 1)            0                                            \n",
      "__________________________________________________________________________________________________\n",
      "link_embedding (Embedding)      (None, 1, 50)        3345650     link[0][0]                       \n",
      "__________________________________________________________________________________________________\n",
      "movie_embedding (Embedding)     (None, 1, 50)        500000      movie[0][0]                      \n",
      "__________________________________________________________________________________________________\n",
      "dot_product (Dot)               (None, 1, 1)         0           link_embedding[0][0]             \n",
      "                                                                 movie_embedding[0][0]            \n",
      "__________________________________________________________________________________________________\n",
      "reshape_1 (Reshape)             (None, 1)            0           dot_product[0][0]                \n",
      "==================================================================================================\n",
      "Total params: 3,845,650\n",
      "Trainable params: 3,845,650\n",
      "Non-trainable params: 0\n",
      "__________________________________________________________________________________________________\n"
     ]
    }
   ],
   "source": [
    "def movie_embedding_model(embedding_size=50):\n",
    "    link = Input(name='link', shape=(1,))\n",
    "    movie = Input(name='movie', shape=(1,))\n",
    "    link_embedding = Embedding(name='link_embedding', \n",
    "                               input_dim=len(top_links), \n",
    "                               output_dim=embedding_size)(link)\n",
    "    movie_embedding = Embedding(name='movie_embedding', \n",
    "                                input_dim=len(movie_to_idx), \n",
    "                                output_dim=embedding_size)(movie)\n",
    "    dot = Dot(name='dot_product', normalize=True, axes=2)([link_embedding, movie_embedding])\n",
    "    merged = Reshape((1,))(dot)\n",
    "    model = Model(inputs=[link, movie], outputs=[merged])\n",
    "    model.compile(optimizer='nadam', loss='mse')\n",
    "    return model\n",
    "\n",
    "model = movie_embedding_model()\n",
    "model.summary()"
   ]
  },
  {
   "cell_type": "code",
   "execution_count": 20,
   "metadata": {},
   "outputs": [
    {
     "data": {
      "text/plain": [
       "({'link': array([20558., 31254., 32318., 22418., 13365., 32643.,  3801., 48731.,\n",
       "          1313.]),\n",
       "  'movie': array([ 849., 5530., 7685., 1529., 6238., 7628., 5874., 1854., 7236.])},\n",
       " array([-1.,  1., -1.,  1., -1., -1., -1., -1.,  1.]))"
      ]
     },
     "execution_count": 20,
     "metadata": {},
     "output_type": "execute_result"
    }
   ],
   "source": [
    "random.seed(5)\n",
    "\n",
    "def batchifier(pairs, positive_samples=50, negative_ratio=10):\n",
    "    batch_size = positive_samples * (1 + negative_ratio)\n",
    "    batch = np.zeros((batch_size, 3))\n",
    "    while True:\n",
    "        for idx, (link_id, movie_id) in enumerate(random.sample(pairs, positive_samples)):\n",
    "            batch[idx, :] = (link_id, movie_id, 1)\n",
    "        idx = positive_samples\n",
    "        while idx < batch_size:\n",
    "            movie_id = random.randrange(len(movie_to_idx))\n",
    "            link_id = random.randrange(len(top_links))\n",
    "            if not (link_id, movie_id) in pairs_set:\n",
    "                batch[idx, :] = (link_id, movie_id, -1)\n",
    "                idx += 1\n",
    "        np.random.shuffle(batch)\n",
    "        yield {'link': batch[:, 0], 'movie': batch[:, 1]}, batch[:, 2]\n",
    "\n",
    "next(batchifier(pairs, positive_samples=3, negative_ratio=2))"
   ]
  },
  {
   "cell_type": "code",
   "execution_count": 21,
   "metadata": {},
   "outputs": [
    {
     "name": "stdout",
     "output_type": "stream",
     "text": [
      "Epoch 1/15\n",
      " - 222s - loss: 0.4157\n",
      "Epoch 2/15\n",
      " - 265s - loss: 0.2534\n",
      "Epoch 3/15\n",
      " - 326s - loss: 0.2541\n",
      "Epoch 4/15\n",
      " - 265s - loss: 0.2465\n",
      "Epoch 5/15\n",
      " - 243s - loss: 0.2459\n",
      "Epoch 6/15\n",
      " - 245s - loss: 0.2476\n",
      "Epoch 7/15\n",
      " - 251s - loss: 0.2387\n",
      "Epoch 8/15\n",
      " - 314s - loss: 0.2437\n",
      "Epoch 9/15\n",
      " - 301s - loss: 0.2446\n",
      "Epoch 10/15\n",
      " - 336s - loss: 0.2567\n",
      "Epoch 11/15\n",
      " - 332s - loss: 0.2567\n",
      "Epoch 12/15\n",
      " - 352s - loss: 0.2590\n",
      "Epoch 13/15\n",
      " - 438s - loss: 0.2620\n",
      "Epoch 14/15\n",
      " - 304s - loss: 0.2385\n",
      "Epoch 15/15\n",
      " - 285s - loss: 0.2358\n"
     ]
    },
    {
     "data": {
      "text/plain": [
       "<keras.callbacks.History at 0x188bfa46e80>"
      ]
     },
     "execution_count": 21,
     "metadata": {},
     "output_type": "execute_result"
    }
   ],
   "source": [
    "positive_samples_per_batch = 512\n",
    "\n",
    "model.fit_generator(\n",
    "    batchifier(pairs, positive_samples=positive_samples_per_batch, negative_ratio=10),\n",
    "    epochs=15,\n",
    "    steps_per_epoch=len(pairs) // positive_samples_per_batch,\n",
    "    verbose=2\n",
    ")"
   ]
  },
  {
   "cell_type": "code",
   "execution_count": 30,
   "metadata": {},
   "outputs": [],
   "source": [
    "# serialize model to JSON\n",
    "model_json = model.to_json()\n",
    "with open(\"model.json\", \"w\") as json_file:\n",
    "    json_file.write(model_json)"
   ]
  },
  {
   "cell_type": "code",
   "execution_count": 31,
   "metadata": {},
   "outputs": [
    {
     "name": "stdout",
     "output_type": "stream",
     "text": [
      "Saved model to disk\n"
     ]
    }
   ],
   "source": [
    "# serialize weights to HDF5\n",
    "model.save_weights(\"model.h5\")\n",
    "print(\"Saved model to disk\")"
   ]
  },
  {
   "cell_type": "code",
   "execution_count": null,
   "metadata": {},
   "outputs": [],
   "source": [
    "# load json and create model\n",
    "json_file = open('model.json', 'r')\n",
    "loaded_model_json = json_file.read()\n",
    "json_file.close()\n",
    "loaded_model = model_from_json(loaded_model_json)"
   ]
  },
  {
   "cell_type": "code",
   "execution_count": null,
   "metadata": {},
   "outputs": [],
   "source": [
    "# load weights into new model\n",
    "loaded_model.load_weights(\"model.h5\")\n",
    "print(\"Loaded model from disk\")"
   ]
  },
  {
   "cell_type": "code",
   "execution_count": 22,
   "metadata": {},
   "outputs": [],
   "source": [
    "# Get the embeddings layer for movies\n",
    "movie = model.get_layer('movie_embedding')\n",
    "movie_weights = movie.get_weights()[0]\n",
    "movie_lengths = np.linalg.norm(movie_weights, axis=1)\n",
    "normalized_movies = (movie_weights.T / movie_lengths).T\n",
    "\n",
    "def similar_movies(movie):\n",
    "    dists = np.dot(normalized_movies, normalized_movies[movie_to_idx[movie]])\n",
    "    closest = np.argsort(dists)[-10:]\n",
    "    for c in reversed(closest):\n",
    "        print(c, movies[c][0], dists[c])\n",
    "\n"
   ]
  },
  {
   "cell_type": "code",
   "execution_count": 23,
   "metadata": {},
   "outputs": [
    {
     "name": "stdout",
     "output_type": "stream",
     "text": [
      "29 Rogue One 0.99999994\n",
      "19 Interstellar (film) 0.9699454\n",
      "3349 Star Wars: The Force Awakens 0.96456456\n",
      "245 Gravity (film) 0.9623266\n",
      "25 Star Wars sequel trilogy 0.95689327\n",
      "101 Prometheus (2012 film) 0.9508581\n",
      "86 Tomorrowland (film) 0.94835293\n",
      "181 Pacific Rim (film) 0.9483281\n",
      "62 Fantastic Beasts and Where to Find Them (film) 0.9469297\n",
      "372 The Amazing Spider-Man (2012 film) 0.94672596\n"
     ]
    }
   ],
   "source": [
    "similar_movies('Rogue One')"
   ]
  },
  {
   "cell_type": "code",
   "execution_count": 24,
   "metadata": {},
   "outputs": [
    {
     "name": "stdout",
     "output_type": "stream",
     "text": [
      "10000\n",
      "Embedding for movie  Deadpool (film) [-0.14955294  0.00106091  0.05171971  0.3408223  -0.06126123 -0.06886251\n",
      " -0.07799357 -0.21200722  0.04472226  0.3114141   0.13159375 -0.0857121\n",
      " -0.18723357 -0.21329294  0.05470647  0.01476673 -0.22184294  0.00170165\n",
      "  0.08567134 -0.26278624  0.07065912 -0.036895    0.01056606 -0.11456358\n",
      "  0.01930739 -0.04799744 -0.29009888 -0.0249148  -0.15026273 -0.04259526\n",
      "  0.33606774 -0.0713882   0.01177547  0.2742229  -0.09725597  0.18392338\n",
      " -0.04437275 -0.08470355 -0.03168604  0.0674007  -0.10773304  0.03262369\n",
      "  0.07684439 -0.11433008  0.02915251  0.0342999  -0.02739471  0.21867752\n",
      "  0.01961173  0.02894497]\n",
      "Distance from  Deadpool (film) 1.0000001\n",
      "Embedding for movie  The Revenant (2015 film) [-0.29834604 -0.01788932  0.02469176  0.18686444  0.09642974 -0.04551457\n",
      " -0.10605694 -0.29628813 -0.03666583  0.20760658  0.13658133 -0.01875682\n",
      " -0.0941946  -0.29857802  0.01708717  0.0027443  -0.11210477  0.07666252\n",
      "  0.06685811 -0.15849805  0.00916505  0.15373427 -0.19315858 -0.1889667\n",
      "  0.00072369 -0.1528271  -0.24811953 -0.05907307 -0.01358445 -0.04949984\n",
      "  0.38848463 -0.153169   -0.00091028  0.170941   -0.07043079  0.18983504\n",
      " -0.00040928  0.01766546 -0.08797962  0.11722154  0.057724   -0.0799096\n",
      " -0.03978952 -0.09414691  0.17474099 -0.02093118  0.08497571  0.1895564\n",
      "  0.06189512  0.05130781]\n",
      "Distance from  Deadpool (film) 0.79909104\n",
      "Embedding for movie  Suicide Squad (film) [-0.22120126  0.0496343   0.03499233  0.29510838 -0.01436028 -0.03843607\n",
      " -0.08102643 -0.20947853  0.07090057  0.29198065  0.13142708 -0.02938543\n",
      " -0.18948813 -0.22369936  0.01928549 -0.0610951  -0.10447712  0.07407315\n",
      "  0.09259014 -0.27569988  0.10874323  0.00610408 -0.04510092 -0.12926383\n",
      "  0.04232127 -0.12696499 -0.3094886  -0.07091536 -0.15839733 -0.08739039\n",
      "  0.33623478 -0.11465699  0.01488343  0.22967799 -0.1268933   0.24060725\n",
      " -0.038614   -0.03801574  0.01493242  0.04782099 -0.03622426  0.00753177\n",
      "  0.04727879 -0.12681705  0.05721625  0.05534003 -0.04757223  0.17885326\n",
      "  0.0395057   0.0787723 ]\n",
      "Distance from  Deadpool (film) 0.95643216\n",
      "Embedding for movie  Spectre (2015 film) [-0.22570768 -0.02266569  0.1330442   0.15952444 -0.04719671 -0.0048757\n",
      " -0.10085363 -0.3366949   0.09536998  0.07506807  0.15285444  0.12262541\n",
      "  0.0201583  -0.3219998   0.15375747  0.09731836 -0.13861232  0.01378282\n",
      "  0.16104685 -0.17066193  0.11032314  0.16865326 -0.12668498  0.03174055\n",
      "  0.05928391 -0.08622523 -0.35239908 -0.00046996 -0.0741535   0.04867713\n",
      "  0.25646025 -0.20800474  0.01868843  0.15294328 -0.02896822  0.05376273\n",
      " -0.05358231 -0.16202356 -0.1270022   0.04259841  0.00527713 -0.05332521\n",
      "  0.08958681 -0.09770367  0.00806064 -0.09011101  0.11865624  0.27200496\n",
      "  0.05940805 -0.10165871]\n",
      "Distance from  Deadpool (film) 0.7383129\n",
      "Embedding for movie  Rebel Without a Cause [-0.36155748  0.20083486 -0.08604503  0.09276047  0.1573779  -0.13621712\n",
      "  0.01145413 -0.12042163 -0.21034168  0.06867965  0.1697258  -0.04588768\n",
      " -0.07860356 -0.13103642 -0.02204992 -0.07534409 -0.04305178  0.02934877\n",
      " -0.1464109  -0.06902457 -0.02698528  0.08446677 -0.17001055 -0.19163747\n",
      " -0.19468199  0.01881888 -0.2132041  -0.04804138  0.04152535 -0.08264463\n",
      "  0.24184406 -0.17265335  0.01244059  0.0866938   0.17846099  0.3017632\n",
      "  0.21937713  0.02853194 -0.02018251  0.16520292  0.07320039 -0.14614482\n",
      "  0.02719248 -0.14981522  0.04604202 -0.1917206   0.1893945   0.01714834\n",
      " -0.02490143  0.16593197]\n",
      "Distance from  Deadpool (film) 0.4299149\n",
      "Embedding for movie  Warcraft (film) [-0.1978938   0.01527469  0.0488073   0.31487578 -0.07882024 -0.06707652\n",
      " -0.07794496 -0.16139393 -0.01538763  0.2791133   0.03645307 -0.09432518\n",
      " -0.1646085  -0.24563096  0.12649381 -0.09049412 -0.25050175  0.07434423\n",
      "  0.08712853 -0.21942323  0.02503027  0.00492443 -0.08424851 -0.12823504\n",
      "  0.01377578 -0.15426785 -0.27773184 -0.10156374 -0.12451188 -0.03719258\n",
      "  0.35541663 -0.02822544 -0.12701148  0.24496166 -0.08707703  0.19993387\n",
      "  0.02918322 -0.02464465 -0.00364561  0.0654756  -0.05703814 -0.02733549\n",
      "  0.01141951 -0.1066847   0.0825336   0.02313124 -0.01273026  0.24462289\n",
      "  0.01371842  0.00989085]\n",
      "Distance from  Deadpool (film) 0.9380065\n",
      "Embedding for movie  The Martian (film) [-0.24007784 -0.04087049  0.06824348  0.2501396   0.05806239 -0.03514926\n",
      " -0.10741408 -0.2415896   0.07489692  0.22908792  0.1713745   0.00059694\n",
      " -0.09625951 -0.30812383 -0.00167421  0.03811268 -0.1548557   0.02820767\n",
      "  0.11261356 -0.21706408  0.03144493  0.15174346 -0.06871375 -0.11745507\n",
      "  0.06200254 -0.11820434 -0.33305708  0.00722963 -0.03142297 -0.04046386\n",
      "  0.37893745 -0.16035801  0.02719618  0.17895453 -0.12386069  0.10650765\n",
      " -0.10295492 -0.06400166 -0.10339221  0.02614065 -0.02545994  0.0168734\n",
      "  0.04264105 -0.07690141  0.08711284  0.03447796 -0.01227163  0.2570869\n",
      "  0.06411755 -0.0684168 ]\n",
      "Distance from  Deadpool (film) 0.89447904\n",
      "Embedding for movie  List of Marvel Cinematic Universe films [-0.13395987 -0.02337638  0.07215645  0.31003588 -0.02123264 -0.04915141\n",
      " -0.09424506 -0.20940258  0.1038954   0.28404638  0.17658189 -0.03275075\n",
      " -0.13353537 -0.22889757  0.06918666  0.05520241 -0.19462824  0.03918063\n",
      "  0.11026659 -0.26018032  0.10176042  0.01291409  0.02339378 -0.11747152\n",
      "  0.04862696 -0.09159265 -0.34155947 -0.01137997 -0.11535814 -0.04190584\n",
      "  0.34165347 -0.13395919  0.02825627  0.2408479  -0.12669319  0.12398432\n",
      " -0.11047688 -0.10548308 -0.04032242  0.00617442 -0.07799971 -0.00079824\n",
      "  0.09705828 -0.13327125 -0.00495193  0.04545644 -0.04279107  0.21534786\n",
      "  0.03408885 -0.03771652]\n",
      "Distance from  Deadpool (film) 0.9704598\n",
      "Embedding for movie  X-Men (film series) [-0.14031667  0.04343908  0.04007623  0.34418142 -0.08440001 -0.04941512\n",
      " -0.06896573 -0.21303752  0.03415503  0.31969872  0.14052998 -0.0187943\n",
      " -0.14391601 -0.15295751  0.11772299 -0.00870875 -0.19093186  0.04369453\n",
      "  0.08234914 -0.2678608   0.09079114 -0.02373113  0.03881053 -0.10629712\n",
      "  0.04212236 -0.09771603 -0.31811762 -0.0399165  -0.12545216 -0.07775825\n",
      "  0.3221852  -0.11189036 -0.05353916  0.24241702 -0.08141143  0.20162274\n",
      " -0.07832881 -0.10669868  0.01672992 -0.0166916  -0.10124141  0.0445402\n",
      "  0.08859903 -0.1586909  -0.03522335  0.01260364 -0.06168856  0.21859339\n",
      " -0.00259314 -0.0339484 ]\n",
      "Distance from  Deadpool (film) 0.9704432\n",
      "Embedding for movie  The Hateful Eight [-0.3261437   0.10171364 -0.06628479  0.25994858  0.0836269  -0.06520625\n",
      " -0.07385105 -0.25642338 -0.0444486   0.23186168  0.2284588   0.06547134\n",
      " -0.05451674 -0.21068576  0.00038508  0.00327703 -0.05311308 -0.00473845\n",
      "  0.0329879  -0.20623364  0.08734879  0.13679008 -0.1437661  -0.13191016\n",
      " -0.04119429 -0.02784205 -0.23534891  0.00238319 -0.0121346  -0.13735773\n",
      "  0.29029    -0.20976837 -0.00675028  0.18799976  0.06043196  0.24814491\n",
      "  0.08798717 -0.05200954 -0.01928142  0.10318977  0.02959816 -0.13413864\n",
      "  0.04568865 -0.2104462  -0.00545547 -0.07267787  0.10983299  0.17086878\n",
      "  0.0889393   0.1069675 ]\n",
      "Distance from  Deadpool (film) 0.7717581\n"
     ]
    }
   ],
   "source": [
    "print(len(normalized_movies))\n",
    "my_movie = 'Rogue One'\n",
    "my_movie = 'Deadpool (film)'\n",
    "for mov in movies[:10]:\n",
    "    print('Embedding for movie ', mov[0], normalized_movies[movie_to_idx[mov[0]]])\n",
    "    dist = np.dot(normalized_movies[movie_to_idx[mov[0]]], normalized_movies[movie_to_idx[my_movie]])\n",
    "    print('Distance from ', my_movie,dist)"
   ]
  },
  {
   "cell_type": "code",
   "execution_count": 25,
   "metadata": {},
   "outputs": [
    {
     "name": "stdout",
     "output_type": "stream",
     "text": [
      "127 George Lucas 0.9999999\n",
      "2707 Star Wars 0.9571903\n",
      "3176 Star Wars (film) 0.9199441\n",
      "976 Hugo Award for Best Dramatic Presentation 0.9106061\n",
      "4830 widescreen 0.904821\n",
      "2931 LaserDisc 0.90081215\n",
      "2984 Saturn Award for Best Science Fiction Film 0.88510555\n",
      "4051 novelization 0.88298804\n",
      "2778 Lucasfilm 0.87901235\n",
      "2860 Steven Spielberg 0.8772577\n"
     ]
    }
   ],
   "source": [
    "link = model.get_layer('link_embedding')\n",
    "link_weights = link.get_weights()[0]\n",
    "link_lengths = np.linalg.norm(link_weights, axis=1)\n",
    "normalized_links = (link_weights.T / link_lengths).T\n",
    "\n",
    "def similar_links(link):\n",
    "    dists = np.dot(normalized_links, normalized_links[link_to_idx[link]])\n",
    "    closest = np.argsort(dists)[-10:]\n",
    "    for c in reversed(closest):\n",
    "        print(c, top_links[c], dists[c])\n",
    "\n",
    "similar_links('George Lucas')"
   ]
  },
  {
   "cell_type": "code",
   "execution_count": 26,
   "metadata": {},
   "outputs": [
    {
     "data": {
      "text/plain": [
       "array([[ 6.59459710e-01, -3.05113494e-01,  1.78294554e-01,\n",
       "        -3.51522475e-01, -1.16291463e-01,  1.53800175e-02,\n",
       "        -2.14736030e-01,  5.10043323e-01,  4.92311835e-01,\n",
       "        -1.09864265e-01,  1.38826370e-01,  1.04873434e-01,\n",
       "         1.03481777e-01,  2.56983846e-01, -1.96908563e-01,\n",
       "         3.13127577e-01,  3.13498527e-02, -1.31013289e-01,\n",
       "         3.37424457e-01,  8.15265626e-02, -3.85932252e-02,\n",
       "        -2.77592570e-01,  4.72134531e-01,  3.00799578e-01,\n",
       "         2.92815000e-01,  1.48443922e-01,  1.56209677e-01,\n",
       "         3.43578130e-01,  3.46012600e-02, -5.39597757e-02,\n",
       "        -3.29789847e-01,  2.07741082e-01,  2.21270546e-01,\n",
       "        -1.98924929e-01, -3.23401868e-01, -4.87453699e-01,\n",
       "        -4.77734566e-01, -1.00976713e-01,  1.20029949e-01,\n",
       "        -4.09130991e-01, -2.69001395e-01,  2.06812263e-01,\n",
       "         3.77009362e-01,  2.15715408e-01, -4.65460002e-01,\n",
       "         4.46933568e-01, -3.52678567e-01, -1.48775205e-01,\n",
       "         2.53880709e-01, -3.83449942e-01],\n",
       "       [ 5.57506084e-01, -4.61184591e-01,  3.46031100e-01,\n",
       "        -1.63353443e-01, -1.11490980e-01, -9.47550579e-04,\n",
       "        -3.16521883e-01,  3.77128035e-01,  7.27992654e-01,\n",
       "        -9.07812174e-03,  2.11666510e-01,  1.57108128e-01,\n",
       "         1.34611517e-01,  6.88271448e-02, -1.60357878e-01,\n",
       "         3.24517280e-01, -5.45096733e-02, -8.11112300e-02,\n",
       "         4.58772957e-01, -6.19932190e-02,  1.40345963e-02,\n",
       "        -1.51795045e-01,  5.02870142e-01,  2.66730160e-01,\n",
       "         3.50575298e-01,  1.25695381e-03, -5.84197342e-02,\n",
       "         3.33277434e-01,  3.16969864e-02, -4.26212661e-02,\n",
       "        -7.60130659e-02,  1.70040458e-01,  2.15931937e-01,\n",
       "        -1.67879075e-01, -5.94331682e-01, -4.90947336e-01,\n",
       "        -7.23280609e-01, -9.36359540e-02,  1.21328086e-01,\n",
       "        -5.22963285e-01, -3.18626821e-01,  2.15282694e-01,\n",
       "         4.81876314e-01,  3.03633392e-01, -4.87424016e-01,\n",
       "         5.59632182e-01, -4.99506474e-01, -6.29702508e-02,\n",
       "         3.03153604e-01, -4.98418301e-01],\n",
       "       [ 1.99741825e-01, -1.06812827e-01, -9.58586927e-04,\n",
       "         1.81693777e-01,  8.25374722e-02,  1.08934268e-01,\n",
       "        -3.63588005e-01, -2.27598976e-02,  6.05409145e-01,\n",
       "         4.23835486e-01,  2.61027247e-01,  3.56192850e-02,\n",
       "        -2.84470767e-01, -1.71682462e-01, -1.44177690e-01,\n",
       "        -5.08094691e-02,  1.75882772e-01,  2.31521323e-01,\n",
       "         4.64732260e-01, -1.73499241e-01,  2.10457161e-01,\n",
       "        -9.69174057e-02,  2.65284359e-01, -1.97200865e-01,\n",
       "         2.58342266e-01, -2.12006643e-01, -9.11056995e-02,\n",
       "         3.11072439e-01, -2.76395559e-01, -3.00158769e-01,\n",
       "         2.58984715e-01, -3.81006002e-02, -1.16808459e-01,\n",
       "         1.07629709e-01, -7.47843206e-01, -1.79426193e-01,\n",
       "        -6.53668225e-01,  3.16690922e-01, -1.35797833e-03,\n",
       "        -2.65361011e-01, -3.78572136e-01, -1.17228068e-01,\n",
       "         2.47541413e-01,  4.22287464e-01, -2.32097462e-01,\n",
       "         8.36483002e-01, -1.01926827e+00,  2.60326385e-01,\n",
       "         9.98941902e-03, -7.03509375e-02],\n",
       "       [ 5.55850208e-01, -5.06120473e-02,  6.41828328e-02,\n",
       "        -6.86958730e-02,  5.96432248e-03,  1.09129414e-01,\n",
       "         3.11952345e-02,  3.48538965e-01,  5.65907121e-01,\n",
       "         2.08258107e-01,  3.45386177e-01,  1.42040208e-01,\n",
       "         7.82643333e-02,  3.53613645e-01, -9.54499096e-02,\n",
       "         2.47710943e-01,  2.32846960e-01,  2.85929646e-02,\n",
       "         2.19640240e-01, -1.71284512e-01,  2.63001919e-01,\n",
       "        -2.97192156e-01,  7.33359814e-01, -7.20641911e-02,\n",
       "         4.22625244e-01,  1.01221517e-01, -4.10884358e-02,\n",
       "         4.21168208e-01,  1.26560465e-01, -1.23368114e-01,\n",
       "        -1.69600338e-01,  6.24927953e-02,  2.71720380e-01,\n",
       "         9.69959274e-02, -4.85159546e-01, -3.40604722e-01,\n",
       "        -7.91607082e-01, -3.06743622e-01,  4.21460629e-01,\n",
       "        -5.40409148e-01, -9.38939452e-02,  3.83522511e-01,\n",
       "         3.15416843e-01,  1.99451596e-01, -5.79871356e-01,\n",
       "         4.76855457e-01, -7.30986834e-01, -1.50649026e-01,\n",
       "         1.59662321e-01, -3.34911913e-01],\n",
       "       [ 6.55706227e-01, -3.94019753e-01,  2.59582400e-01,\n",
       "        -2.31532112e-01, -1.55228630e-01,  4.54071388e-02,\n",
       "        -2.75630593e-01,  4.74471539e-01,  5.90261221e-01,\n",
       "        -3.13685462e-02,  1.50334284e-01,  9.22121108e-02,\n",
       "         2.61469688e-02,  2.82954603e-01, -2.26591155e-01,\n",
       "         2.70588666e-01,  2.69352999e-02, -4.31154817e-02,\n",
       "         3.85714322e-01, -2.94241291e-02, -3.94855160e-03,\n",
       "        -2.71569669e-01,  4.26696628e-01,  2.51796752e-01,\n",
       "         3.26346964e-01,  4.38083597e-02,  4.78543080e-02,\n",
       "         2.36238137e-01, -3.17885913e-02, -8.25852901e-02,\n",
       "        -2.59839386e-01,  2.11775914e-01,  1.91472113e-01,\n",
       "        -1.79538175e-01, -4.98140603e-01, -4.21847820e-01,\n",
       "        -5.51189005e-01, -5.20929694e-02,  1.14880204e-01,\n",
       "        -4.95745867e-01, -3.26798975e-01,  2.16686517e-01,\n",
       "         4.28086013e-01,  2.43368477e-01, -4.65003252e-01,\n",
       "         5.16772866e-01, -5.07243037e-01, -1.26369745e-01,\n",
       "         2.77620584e-01, -3.99714023e-01],\n",
       "       [ 6.12457693e-01, -2.76168108e-01,  2.52601177e-01,\n",
       "        -2.58213103e-01, -9.73547772e-02, -5.39166778e-02,\n",
       "        -2.36538380e-01,  4.42917228e-01,  6.14469528e-01,\n",
       "        -6.64843470e-02,  1.90340772e-01,  1.70252547e-01,\n",
       "         6.01965562e-02,  2.46346846e-01, -2.33242542e-01,\n",
       "         2.24248990e-01,  3.79363336e-02,  1.72701906e-02,\n",
       "         3.65048707e-01, -2.50089448e-02,  6.39811009e-02,\n",
       "        -2.42460221e-01,  4.74841148e-01,  1.97873056e-01,\n",
       "         3.26964200e-01,  1.14146238e-02,  4.44564037e-02,\n",
       "         3.39686185e-01,  3.22740432e-03, -6.99504912e-02,\n",
       "        -2.47884899e-01,  1.85186982e-01,  2.28938103e-01,\n",
       "        -1.66747019e-01, -5.27650952e-01, -4.30751085e-01,\n",
       "        -5.82668424e-01, -1.03524320e-01,  1.99739635e-01,\n",
       "        -4.44187343e-01, -2.84741431e-01,  1.98457092e-01,\n",
       "         4.53079969e-01,  2.21432716e-01, -5.11321306e-01,\n",
       "         5.22133231e-01, -4.90634978e-01, -1.37467280e-01,\n",
       "         2.81170845e-01, -4.48969930e-01],\n",
       "       [ 5.53134143e-01, -3.71764988e-01,  3.03918809e-01,\n",
       "        -2.82985955e-01, -1.25746489e-01, -1.65404733e-02,\n",
       "        -2.36299023e-01,  4.90381390e-01,  5.51529169e-01,\n",
       "        -1.03822812e-01,  1.26427844e-01,  2.98489965e-02,\n",
       "         3.62480916e-02,  2.05970958e-01, -1.39975354e-01,\n",
       "         3.24913621e-01, -3.41621637e-02, -6.21100739e-02,\n",
       "         3.23087096e-01,  3.51035744e-02,  1.52063575e-02,\n",
       "        -2.72364646e-01,  4.86965388e-01,  2.43635058e-01,\n",
       "         2.68408358e-01,  6.04502484e-02,  5.57957590e-02,\n",
       "         2.73371547e-01, -7.67853716e-03,  1.24585861e-02,\n",
       "        -2.10014835e-01,  2.34047994e-01,  2.85559893e-01,\n",
       "        -1.84091881e-01, -4.26236033e-01, -4.53372210e-01,\n",
       "        -5.31007946e-01, -1.11264974e-01,  1.12146236e-01,\n",
       "        -4.27610606e-01, -2.93962985e-01,  2.23851040e-01,\n",
       "         4.16252553e-01,  2.41994932e-01, -4.40947652e-01,\n",
       "         4.20110554e-01, -3.81199151e-01, -1.67492509e-01,\n",
       "         2.17728764e-01, -3.70047778e-01],\n",
       "       [ 4.95739788e-01, -2.73017943e-01,  2.52491444e-01,\n",
       "        -2.60691196e-01, -9.92185026e-02, -4.10770588e-02,\n",
       "        -2.83474088e-01,  4.54842389e-01,  6.67550743e-01,\n",
       "        -1.18175829e-02,  2.12617651e-01,  1.14535075e-02,\n",
       "        -5.07114921e-03,  1.85953230e-01, -1.20785311e-01,\n",
       "         3.47326219e-01, -6.49595773e-03, -9.78803039e-02,\n",
       "         3.97121221e-01, -6.03039702e-03,  9.52705294e-02,\n",
       "        -2.63110816e-01,  5.65386057e-01,  2.02935532e-01,\n",
       "         2.54502356e-01,  6.83406070e-02,  1.06566641e-02,\n",
       "         3.63641679e-01, -8.24593678e-02, -7.34422803e-02,\n",
       "        -1.53571218e-01,  2.35561833e-01,  2.83216506e-01,\n",
       "        -8.83096680e-02, -5.00665367e-01, -4.17857856e-01,\n",
       "        -6.44770622e-01, -8.49239454e-02,  1.58297837e-01,\n",
       "        -3.41160536e-01, -3.25468421e-01,  2.11088270e-01,\n",
       "         4.82358158e-01,  2.57514417e-01, -5.01125395e-01,\n",
       "         5.21392167e-01, -4.57197338e-01, -7.42844492e-02,\n",
       "         2.25629359e-01, -3.62880290e-01],\n",
       "       [ 7.04212904e-01, -4.94767070e-01,  3.56087953e-01,\n",
       "        -2.85132945e-01, -2.55978078e-01,  1.33214682e-01,\n",
       "        -2.47188598e-01,  3.43481392e-01,  6.45003200e-01,\n",
       "        -3.89597833e-01, -1.46031722e-01,  2.39326492e-01,\n",
       "         2.98736244e-01,  1.24238707e-01, -8.91332626e-02,\n",
       "         2.45680809e-01,  2.74776295e-02, -6.65072724e-02,\n",
       "         4.75544780e-01,  2.14168191e-01, -2.78471336e-02,\n",
       "        -1.28881708e-01,  1.93977848e-01,  4.07104671e-01,\n",
       "         3.17402542e-01, -2.82335114e-02,  3.23180318e-01,\n",
       "         5.50488830e-02, -2.85971723e-02,  1.08349152e-01,\n",
       "        -3.01350594e-01,  2.80127019e-01,  4.54123430e-02,\n",
       "        -2.91693151e-01, -3.98045480e-01, -7.43646085e-01,\n",
       "        -4.10806358e-01, -4.05471101e-02,  8.63146782e-02,\n",
       "        -4.48932201e-01, -1.71346560e-01, -1.59629229e-02,\n",
       "         2.57968903e-01,  4.76873338e-01, -2.56922752e-01,\n",
       "         4.48724747e-01, -3.74778777e-01, -1.46301761e-01,\n",
       "         1.46747366e-01, -3.22982043e-01],\n",
       "       [ 5.65424442e-01, -3.45084459e-01,  2.56517529e-01,\n",
       "        -4.10165310e-01, -3.90348770e-02, -8.19618348e-03,\n",
       "        -2.71169126e-01,  5.62968194e-01,  6.14160836e-01,\n",
       "        -8.99050906e-02,  1.40224963e-01, -2.42377762e-02,\n",
       "         3.83422375e-02,  1.15600839e-01, -1.32372990e-01,\n",
       "         2.72560269e-01, -7.98779353e-03, -6.25258535e-02,\n",
       "         3.53053957e-01,  2.12976411e-01, -4.77255642e-04,\n",
       "        -2.22130075e-01,  4.67184484e-01,  1.30789384e-01,\n",
       "         2.17506722e-01,  8.85848850e-02,  1.89004213e-01,\n",
       "         4.35619563e-01,  2.12792978e-02,  6.21409789e-02,\n",
       "        -1.91058785e-01,  3.24308276e-01,  2.37403288e-01,\n",
       "        -1.54648915e-01, -5.10062277e-01, -5.65064609e-01,\n",
       "        -6.09606862e-01,  3.10175493e-02,  2.60126442e-02,\n",
       "        -2.73483366e-01, -2.96975225e-01,  1.01814814e-01,\n",
       "         3.76798600e-01,  3.97930175e-01, -4.23139364e-01,\n",
       "         5.28457642e-01, -4.73004997e-01, -1.18524164e-01,\n",
       "         1.34253472e-01, -3.70553732e-01]], dtype=float32)"
      ]
     },
     "execution_count": 26,
     "metadata": {},
     "output_type": "execute_result"
    }
   ],
   "source": [
    "link_weights[:10]"
   ]
  },
  {
   "cell_type": "code",
   "execution_count": 66,
   "metadata": {},
   "outputs": [
    {
     "data": {
      "text/plain": [
       "array([[ 1.30051732e-01, -2.01022729e-01, -1.53982997e-01,\n",
       "         7.71845058e-02,  2.85015889e-02,  5.51747996e-03,\n",
       "        -8.74200240e-02, -2.06263140e-01, -2.33879060e-01,\n",
       "         5.69674745e-02,  2.67301559e-01,  2.07131788e-01,\n",
       "         2.96612024e-01,  2.50173155e-02,  1.73979610e-01,\n",
       "         1.91244528e-01, -5.16384207e-02, -6.93533570e-02,\n",
       "        -6.48904080e-03, -8.41802061e-02, -9.69737470e-02,\n",
       "         9.13702250e-02, -2.25792840e-01, -2.22530885e-04,\n",
       "         2.12989394e-02, -1.40223727e-01, -2.17906266e-01,\n",
       "         1.27074823e-01, -1.98474497e-01,  1.26541480e-01,\n",
       "        -7.36315874e-03,  1.39770031e-01,  1.12036087e-01,\n",
       "        -1.24705620e-01,  6.75868094e-02, -6.97758347e-02,\n",
       "        -1.61953270e-01, -2.25724742e-01,  1.41666591e-01,\n",
       "         1.23416178e-01,  1.12372167e-01,  5.18213175e-02,\n",
       "         7.50072449e-02, -1.24009244e-01, -1.49616957e-01,\n",
       "        -6.66701347e-02, -1.96737289e-01,  1.51129276e-01,\n",
       "        -1.09239751e-02, -1.31591618e-01],\n",
       "       [ 2.21909076e-01, -2.41558313e-01, -2.11238205e-01,\n",
       "         1.55004770e-01, -9.78946090e-02, -2.42272634e-02,\n",
       "        -9.89801213e-02, -1.43613324e-01, -2.12163001e-01,\n",
       "        -3.84303965e-02,  2.89374143e-01,  1.95409104e-01,\n",
       "         2.33571291e-01,  9.05036479e-02,  1.35039464e-01,\n",
       "         2.20530167e-01, -5.46302423e-02, -9.24720019e-02,\n",
       "        -5.62447384e-02, -7.73441792e-02, -5.51147126e-02,\n",
       "         4.26051058e-02, -2.04216525e-01,  1.92580540e-02,\n",
       "        -4.91093434e-02, -8.25929120e-02, -1.64525673e-01,\n",
       "         8.41848999e-02, -2.75801837e-01,  6.47059232e-02,\n",
       "        -6.36005923e-02,  9.42491144e-02,  1.79640442e-01,\n",
       "        -6.48930892e-02,  1.21156819e-01, -1.20579422e-01,\n",
       "        -1.20129816e-01, -2.50543356e-01,  8.03020597e-02,\n",
       "         1.49738088e-01,  4.25237380e-02, -3.18314992e-02,\n",
       "         1.15992568e-01, -7.01927468e-02, -1.05131283e-01,\n",
       "        -1.46149069e-01, -8.55452791e-02,  2.06504256e-01,\n",
       "        -8.24771449e-03, -7.44309947e-02],\n",
       "       [ 3.01808804e-01,  1.52289644e-02, -2.02631369e-01,\n",
       "         3.47788155e-01, -1.84764907e-01, -1.18007571e-01,\n",
       "        -9.22580436e-02, -5.50270006e-02, -5.22528263e-03,\n",
       "        -3.70313600e-02,  9.01445970e-02,  1.09693743e-01,\n",
       "         1.70201600e-01,  5.46722412e-02, -4.58929203e-02,\n",
       "         1.85412452e-01, -3.67504568e-03, -1.78797767e-01,\n",
       "        -2.02025414e-01,  1.17902011e-01, -5.64771555e-02,\n",
       "         2.29342915e-02, -4.84458171e-02,  1.15378812e-01,\n",
       "        -4.22253795e-02, -4.15727776e-03, -1.38774261e-01,\n",
       "         7.42160454e-02, -2.40634456e-01,  3.30337323e-02,\n",
       "        -7.96651170e-02, -4.98963147e-03,  2.38520846e-01,\n",
       "         6.87627122e-02,  3.02430958e-01, -1.56468883e-01,\n",
       "        -2.56829947e-01, -1.60591617e-01, -1.25078149e-02,\n",
       "         2.83090658e-02, -5.11096008e-02, -1.09192744e-01,\n",
       "         2.76540387e-02,  3.99285518e-02, -1.52293921e-01,\n",
       "        -3.38229463e-02, -3.28227244e-02,  2.83382237e-01,\n",
       "        -6.25074878e-02, -4.75002788e-02],\n",
       "       [ 1.99649945e-01, -2.67583013e-01, -1.68416411e-01,\n",
       "         1.16474949e-01, -3.65165919e-02, -6.78639114e-02,\n",
       "        -1.96094587e-01, -4.50115576e-02, -1.72680572e-01,\n",
       "        -4.43344302e-02,  2.17301726e-01,  7.07680732e-02,\n",
       "         1.51126862e-01,  6.41765371e-02, -1.20919347e-02,\n",
       "         2.67061919e-01,  4.69285296e-03, -1.11159891e-01,\n",
       "         2.09492026e-03,  1.11796577e-02, -1.57094181e-01,\n",
       "         1.51802316e-01, -4.67184447e-02, -1.84470620e-02,\n",
       "         9.64706112e-03, -2.63154469e-02, -1.23911478e-01,\n",
       "         7.24456739e-03, -3.25249761e-01,  1.18875973e-01,\n",
       "         6.80024177e-02,  1.12561047e-01,  1.45989746e-01,\n",
       "        -1.96691275e-01,  1.77838475e-01, -1.63556680e-01,\n",
       "        -3.74795496e-03, -2.42421597e-01,  1.78974494e-01,\n",
       "         1.32844254e-01,  5.37674055e-02, -2.30285106e-03,\n",
       "         1.03038445e-01, -3.28000970e-02, -1.70546174e-01,\n",
       "         2.13282835e-02, -1.89506888e-01,  3.02538931e-01,\n",
       "        -5.07478230e-02, -2.46162042e-02],\n",
       "       [ 1.82423830e-01, -1.54224113e-01, -1.69378176e-01,\n",
       "         1.39223441e-01, -5.48964404e-02, -3.59347053e-02,\n",
       "        -9.01856199e-02, -1.47941530e-01, -2.26940125e-01,\n",
       "         1.47536490e-02,  2.65373021e-01,  1.70222878e-01,\n",
       "         3.04287881e-01,  8.02847818e-02,  1.25784576e-01,\n",
       "         2.03649119e-01, -9.16772932e-02, -9.23007056e-02,\n",
       "        -2.31818594e-02, -1.48140010e-03, -1.28808051e-01,\n",
       "         8.22937861e-02, -1.88538954e-01, -6.23827055e-03,\n",
       "        -1.90833881e-02, -4.91319448e-02, -2.51413047e-01,\n",
       "         7.10369647e-02, -2.62570053e-01,  1.32018849e-01,\n",
       "        -3.18919942e-02,  1.05129287e-01,  1.63365915e-01,\n",
       "        -8.95586833e-02,  1.18132129e-01, -6.84171543e-02,\n",
       "        -1.32939756e-01, -2.58421123e-01,  1.37652963e-01,\n",
       "         9.55753699e-02,  1.10216692e-01, -3.02902665e-02,\n",
       "         1.11208446e-01, -8.62198696e-02, -2.02209026e-01,\n",
       "        -7.37716630e-02, -1.69618294e-01,  1.70976922e-01,\n",
       "         1.20545109e-03, -6.41648099e-02],\n",
       "       [ 2.05393910e-01, -1.90536812e-01, -1.58284351e-01,\n",
       "         1.33905753e-01, -4.79399450e-02, -1.11055952e-02,\n",
       "        -1.22835010e-01, -1.41664028e-01, -1.93363994e-01,\n",
       "         2.08114181e-02,  3.05616677e-01,  1.76976934e-01,\n",
       "         2.47788757e-01,  9.37032104e-02,  6.24574535e-02,\n",
       "         2.17428938e-01, -7.75578097e-02, -1.11375317e-01,\n",
       "        -4.11965288e-02,  1.99373905e-03, -1.31285533e-01,\n",
       "         8.14951882e-02, -2.03771845e-01, -1.66737270e-02,\n",
       "        -9.16706026e-03, -4.04252857e-02, -2.14108676e-01,\n",
       "         3.35904844e-02, -2.82627732e-01,  1.42517552e-01,\n",
       "        -1.30413519e-02,  9.58445668e-02,  1.32505402e-01,\n",
       "        -1.22115776e-01,  1.32880077e-01, -5.53969480e-02,\n",
       "        -8.28542709e-02, -2.82366276e-01,  1.01814270e-01,\n",
       "         1.57102823e-01,  2.57023815e-02, -6.21575154e-02,\n",
       "         1.14511013e-01, -9.75285769e-02, -1.73480749e-01,\n",
       "        -1.05680726e-01, -1.34463638e-01,  2.25797266e-01,\n",
       "         1.98323862e-03, -2.62717027e-02],\n",
       "       [ 1.28829554e-01, -2.06790552e-01, -1.52779356e-01,\n",
       "         1.39396966e-01, -7.42609892e-03, -8.27769786e-02,\n",
       "        -1.15366004e-01, -1.87620118e-01, -3.00870270e-01,\n",
       "         1.81659926e-02,  2.94970125e-01,  1.98363051e-01,\n",
       "         2.27349728e-01,  4.70444709e-02,  1.76085085e-01,\n",
       "         1.64927647e-01, -6.31627589e-02, -4.60658632e-02,\n",
       "        -2.80456375e-02, -6.03206232e-02, -4.92953584e-02,\n",
       "         9.77144018e-02, -2.21602470e-01, -2.34826468e-02,\n",
       "        -5.24640977e-02, -1.07128419e-01, -2.08205044e-01,\n",
       "         1.18731499e-01, -2.27712944e-01,  6.76487088e-02,\n",
       "        -9.62449331e-03,  1.35677606e-01,  1.20242193e-01,\n",
       "        -1.37034178e-01,  4.22094539e-02, -1.03737079e-01,\n",
       "        -1.51394978e-01, -2.77400523e-01,  1.57424346e-01,\n",
       "         1.04150496e-01,  9.89176407e-02, -3.72403115e-02,\n",
       "         1.08889952e-01, -1.02656201e-01, -1.46379113e-01,\n",
       "        -5.40812686e-02, -1.38576522e-01,  1.52071252e-01,\n",
       "         1.87496319e-02, -1.11684106e-01],\n",
       "       [ 1.68558866e-01, -2.06858784e-01, -1.50395378e-01,\n",
       "         1.50379583e-01, -1.86859556e-02, -7.55740106e-02,\n",
       "        -1.61200643e-01, -1.50471389e-01, -2.86107183e-01,\n",
       "        -2.53639510e-03,  3.17009479e-01,  1.83447048e-01,\n",
       "         2.24786103e-01,  1.93937141e-02,  1.46885544e-01,\n",
       "         1.86410338e-01, -6.42194375e-02, -7.18059689e-02,\n",
       "        -3.81807238e-02, -3.31729986e-02, -1.27952516e-01,\n",
       "         1.18172564e-01, -1.56285167e-01, -5.82561921e-03,\n",
       "        -3.17673534e-02, -8.47607777e-02, -1.54291973e-01,\n",
       "         8.52774084e-02, -2.52129912e-01,  9.16965604e-02,\n",
       "         2.18095463e-02,  1.62272185e-01,  1.37145922e-01,\n",
       "        -1.18899643e-01,  9.13817510e-02, -1.08681783e-01,\n",
       "        -1.39988154e-01, -3.01751018e-01,  1.55776069e-01,\n",
       "         9.39132944e-02,  7.21624196e-02, -4.36311029e-02,\n",
       "         1.03910424e-01, -5.10020144e-02, -1.34633079e-01,\n",
       "        -6.17574193e-02, -1.63811371e-01,  1.81783199e-01,\n",
       "        -3.05619296e-02, -2.89262794e-02],\n",
       "       [ 1.78663597e-01, -1.13457188e-01, -7.21812174e-02,\n",
       "         8.49889591e-02,  1.42637901e-02,  2.68666130e-02,\n",
       "        -1.57840140e-02, -3.30399245e-01, -2.18056455e-01,\n",
       "         2.11555343e-02,  1.51702657e-01,  1.72477961e-01,\n",
       "         1.76617071e-01,  1.27282679e-01,  2.05935210e-01,\n",
       "         1.14450715e-01,  2.17785742e-02,  1.35106631e-02,\n",
       "        -8.07319954e-02, -3.87019143e-02,  1.22700194e-02,\n",
       "        -5.05957492e-02, -3.26032370e-01, -6.63857311e-02,\n",
       "         9.65055451e-02, -1.22263422e-02, -2.07962602e-01,\n",
       "         7.73916543e-02, -1.58403769e-01,  1.40193254e-01,\n",
       "        -4.30116951e-02,  3.03567946e-02,  5.46781272e-02,\n",
       "        -1.48092389e-01, -8.81051272e-03, -1.14913292e-01,\n",
       "        -2.09708735e-01, -3.78681481e-01,  1.14081606e-01,\n",
       "         1.71109349e-01,  3.47603373e-02, -3.55621465e-02,\n",
       "         1.95470572e-01, -1.97480723e-01, -8.98333192e-02,\n",
       "        -1.15168303e-01, -7.18484521e-02,  6.66102916e-02,\n",
       "         1.03664935e-01, -1.05996631e-01],\n",
       "       [ 1.69927731e-01, -1.47395238e-01, -9.43765491e-02,\n",
       "         1.79611415e-01, -3.25738005e-02, -6.08245358e-02,\n",
       "        -9.87424031e-02, -1.50912285e-01, -2.31311649e-01,\n",
       "         1.06952444e-01,  3.18637729e-01,  2.21652389e-01,\n",
       "         1.63788855e-01, -4.33254503e-02,  6.60233945e-02,\n",
       "         1.45223677e-01,  2.06165165e-02, -3.24724577e-02,\n",
       "        -1.27780840e-01, -3.22443470e-02,  3.11752083e-03,\n",
       "         5.06074689e-02, -2.78864175e-01,  1.25169093e-02,\n",
       "        -3.20506357e-02, -1.21172212e-01, -2.35229090e-01,\n",
       "         1.45188957e-01, -2.34767169e-01,  6.22950047e-02,\n",
       "         5.44061176e-02,  1.11114927e-01,  1.23967983e-01,\n",
       "        -1.17923111e-01,  8.30248743e-02, -1.42158180e-01,\n",
       "        -1.43054470e-01, -3.57882887e-01,  2.38248959e-01,\n",
       "         1.23186916e-01,  4.14816029e-02, -3.20543647e-02,\n",
       "        -4.26929258e-03, -1.30713597e-01, -5.60388081e-02,\n",
       "        -5.64148240e-02, -8.52681026e-02,  1.25113875e-01,\n",
       "        -1.96744241e-02, -9.52885970e-02]], dtype=float32)"
      ]
     },
     "execution_count": 66,
     "metadata": {},
     "output_type": "execute_result"
    }
   ],
   "source": [
    "normalized_links[:10]"
   ]
  },
  {
   "cell_type": "code",
   "execution_count": 27,
   "metadata": {},
   "outputs": [
    {
     "data": {
      "text/plain": [
       "(16, 50)"
      ]
     },
     "execution_count": 27,
     "metadata": {},
     "output_type": "execute_result"
    }
   ],
   "source": [
    "# Recommender\n",
    "# Let's say that a user liked the movies in list best and did'nt like the movies in list worst\n",
    "best = ['Star Wars: The Force Awakens', 'The Martian (film)', 'Tangerine (film)', 'Straight Outta Compton (film)',\n",
    "        'Brooklyn (film)', 'Carol (film)', 'Spotlight (film)']\n",
    "worst = ['American Ultra', 'The Cobbler (2014 film)', 'Entourage (film)', 'Fantastic Four (2015 film)',\n",
    "         'Get Hard', 'Hot Pursuit (2015 film)', 'Mortdecai (film)', 'Serena (2014 film)', 'Vacation (2015 film)']\n",
    "y = np.asarray([1 for _ in best] + [0 for _ in worst])\n",
    "X = np.asarray([normalized_movies[movie_to_idx[movie]] for movie in best + worst])\n",
    "X.shape\n",
    "# X has rows equal to number of movies we know the rating for and the embeddings of each movie as columns (features)"
   ]
  },
  {
   "cell_type": "code",
   "execution_count": 28,
   "metadata": {},
   "outputs": [
    {
     "data": {
      "text/plain": [
       "SVC(C=1.0, cache_size=200, class_weight=None, coef0=0.0,\n",
       "  decision_function_shape='ovr', degree=3, gamma='auto_deprecated',\n",
       "  kernel='linear', max_iter=-1, probability=False, random_state=None,\n",
       "  shrinking=True, tol=0.001, verbose=False)"
      ]
     },
     "execution_count": 28,
     "metadata": {},
     "output_type": "execute_result"
    }
   ],
   "source": [
    "from sklearn import svm\n",
    "clf = svm.SVC(kernel='linear')\n",
    "clf.fit(X, y)"
   ]
  },
  {
   "cell_type": "code",
   "execution_count": 29,
   "metadata": {},
   "outputs": [
    {
     "name": "stdout",
     "output_type": "stream",
     "text": [
      "best:\n",
      "481 The Devil Wears Prada (film) 1.296585610048926\n",
      "66 Skyfall 1.2760216715397332\n",
      "307 Les Misérables (2012 film) 1.1899199735915271\n",
      "630 The Tree of Life (film) 1.1447996798863422\n",
      "149 12 Years a Slave (film) 1.118079440703199\n",
      "worst:\n",
      "1782 Scooby-Doo! WrestleMania Mystery -1.663828146515016\n",
      "7889 The Comebacks -1.6349067101466144\n",
      "5097 Ready to Rumble -1.6136054170244138\n",
      "6565 Son in Law -1.5962125556059634\n",
      "1878 The Little Rascals (film) -1.5858507341231631\n"
     ]
    }
   ],
   "source": [
    "#Find the best and worst movies for this user\n",
    "estimated_movie_ratings = clf.decision_function(normalized_movies)\n",
    "best = np.argsort(estimated_movie_ratings)\n",
    "print('best:')\n",
    "for c in reversed(best[-5:]):\n",
    "    print(c, movies[c][0], estimated_movie_ratings[c])\n",
    "\n",
    "print('worst:')\n",
    "for c in best[:5]:\n",
    "    print(c, movies[c][0], estimated_movie_ratings[c])"
   ]
  },
  {
   "cell_type": "code",
   "execution_count": 33,
   "metadata": {},
   "outputs": [
    {
     "data": {
      "text/plain": [
       "array([149, 630, 307,  66, 481], dtype=int64)"
      ]
     },
     "execution_count": 33,
     "metadata": {},
     "output_type": "execute_result"
    }
   ],
   "source": [
    "best[-5:]"
   ]
  },
  {
   "cell_type": "code",
   "execution_count": 36,
   "metadata": {},
   "outputs": [
    {
     "data": {
      "text/plain": [
       "array([149, 630, 307,  66, 481], dtype=int64)"
      ]
     },
     "execution_count": 36,
     "metadata": {},
     "output_type": "execute_result"
    }
   ],
   "source": [
    "best[9995:10000]"
   ]
  },
  {
   "cell_type": "code",
   "execution_count": 37,
   "metadata": {},
   "outputs": [
    {
     "data": {
      "text/plain": [
       "<reversed at 0x188bfe013c8>"
      ]
     },
     "execution_count": 37,
     "metadata": {},
     "output_type": "execute_result"
    }
   ],
   "source": [
    "reversed(best[-5:])"
   ]
  },
  {
   "cell_type": "code",
   "execution_count": 39,
   "metadata": {},
   "outputs": [
    {
     "data": {
      "text/plain": [
       "[481, 66, 307, 630, 149]"
      ]
     },
     "execution_count": 39,
     "metadata": {},
     "output_type": "execute_result"
    }
   ],
   "source": [
    "list(reversed(best[-5:]))"
   ]
  },
  {
   "cell_type": "code",
   "execution_count": 43,
   "metadata": {},
   "outputs": [
    {
     "data": {
      "text/plain": [
       "['Deadpool (film)',\n",
       " {'image': 'Deadpool poster.jpg',\n",
       "  'name': 'Deadpool',\n",
       "  'cinematography': 'Ken Seng',\n",
       "  'Software Used': 'Adobe Premier Pro',\n",
       "  'alt': \"Official poster shows the titular hero Deadpool standing in front of the viewers, with hugging his hands, and donning his traditional black and red suit and mask, and the film's name, credits and billing below him.\",\n",
       "  'distributor': '20th Century Fox',\n",
       "  'caption': 'Theatrical release poster',\n",
       "  'gross': '$783.1 million',\n",
       "  'country': 'United States',\n",
       "  'director': 'Tim Miller',\n",
       "  'runtime': '108 minutes',\n",
       "  'editing': 'Julian Clarke',\n",
       "  'language': 'English',\n",
       "  'music': 'Tom Holkenborg',\n",
       "  'budget': '$58 million'},\n",
       " ['Tim Miller (director)',\n",
       "  'Simon Kinberg',\n",
       "  'Ryan Reynolds',\n",
       "  'Lauren Shuler Donner',\n",
       "  'Rhett Reese',\n",
       "  'Paul Wernick',\n",
       "  'Deadpool',\n",
       "  'Fabian Nicieza',\n",
       "  'Rob Liefeld',\n",
       "  'Morena Baccarin',\n",
       "  'Ed Skrein',\n",
       "  'T.J. Miller',\n",
       "  'Gina Carano',\n",
       "  'Leslie Uggams',\n",
       "  'Brianna Hildebrand',\n",
       "  'Stefan Kapičić',\n",
       "  'Junkie XL',\n",
       "  'Julian Clarke',\n",
       "  'Marvel Entertainment',\n",
       "  'Kinberg Genre',\n",
       "  'Lauren Shuler Donner',\n",
       "  'TSG Entertainment',\n",
       "  '20th Century Fox',\n",
       "  'Le Grand Rex',\n",
       "  'Variety (magazine)',\n",
       "  'Box Office Mojo',\n",
       "  'superhero film',\n",
       "  'Tim Miller (director)',\n",
       "  'Rhett Reese',\n",
       "  'Paul Wernick',\n",
       "  'Marvel Comics',\n",
       "  'Deadpool',\n",
       "  'X-Men (film series)',\n",
       "  'Ryan Reynolds',\n",
       "  'Morena Baccarin',\n",
       "  'Ed Skrein',\n",
       "  'T.J. Miller',\n",
       "  'Gina Carano',\n",
       "  'Leslie Uggams',\n",
       "  'Brianna Hildebrand',\n",
       "  'Stefan Kapičić',\n",
       "  'antihero',\n",
       "  'New Line Cinema',\n",
       "  '20th Century Fox',\n",
       "  'X-Men Origins: Wolverine',\n",
       "  'principal photography',\n",
       "  'Vancouver',\n",
       "  'IMAX',\n",
       "  'Digital Light Processing',\n",
       "  'D-Box Technologies',\n",
       "  'List of accolades received by Deadpool (film)',\n",
       "  'Golden Globe Award',\n",
       "  'Golden Globe Award for Best Motion Picture – Musical or Comedy',\n",
       "  'Golden Globe Award for Best Actor – Motion Picture Musical or Comedy',\n",
       "  'Producers Guild of America Award',\n",
       "  \"Critics' Choice Movie Awards\",\n",
       "  \"Critics' Choice Movie Award for Best Comedy\",\n",
       "  \"Critics' Choice Movie Award for Best Actor in a Comedy\",\n",
       "  '2016 in film',\n",
       "  '#Sequels',\n",
       "  'nonlinear narrative',\n",
       "  'Deadpool',\n",
       "  'special forces',\n",
       "  'Copycat (Marvel Comics)',\n",
       "  'Liver cancer',\n",
       "  'Lung cancer',\n",
       "  'Prostate cancer',\n",
       "  'Brain tumor',\n",
       "  'Ajax (comics)#Deadpool character',\n",
       "  'Angel Dust (comics)',\n",
       "  'healing factor',\n",
       "  'rebar',\n",
       "  'Weasel (Marvel Comics)',\n",
       "  'Blind Al',\n",
       "  'Colossus (comics)',\n",
       "  'Negasonic Teenage Warhead',\n",
       "  'X-Men',\n",
       "  'helicarrier',\n",
       "  'post-credits scene',\n",
       "  'Cable (comics)',\n",
       "  'File:Cast of Deadpool.jpg',\n",
       "  'San Diego Comic-Con',\n",
       "  'Ryan Reynolds',\n",
       "  'Deadpool',\n",
       "  'cancer',\n",
       "  'X-Men Origins: Wolverine',\n",
       "  'fourth wall',\n",
       "  'Morena Baccarin',\n",
       "  'Copycat (Marvel Comics)',\n",
       "  'damsel in distress',\n",
       "  'Ed Skrein',\n",
       "  'Ajax (comics)#Deadpool character',\n",
       "  'Weapon X',\n",
       "  'YouTube',\n",
       "  'Tim Miller (director)',\n",
       "  'T.J. Miller',\n",
       "  'Weasel (Marvel Comics)',\n",
       "  'Simon Kinberg',\n",
       "  'USA Today',\n",
       "  'Gina Carano',\n",
       "  'Angel Dust (comics)',\n",
       "  'Leslie Uggams',\n",
       "  'Blind Al',\n",
       "  'Indiewire',\n",
       "  'Brianna Hildebrand',\n",
       "  'Negasonic Teenage Warhead',\n",
       "  'X-Men',\n",
       "  'Marvel Studios',\n",
       "  'Kevin Feige',\n",
       "  'Ego the Living Planet',\n",
       "  'Guardians of the Galaxy Vol. 2',\n",
       "  'Stefan Kapičić',\n",
       "  'Colossus (comics)',\n",
       "  'Daniel Cudmore',\n",
       "  'X2 (film)',\n",
       "  'X-Men: The Last Stand',\n",
       "  'X-Men: Days of Future Past',\n",
       "  'Andre Tricoteux',\n",
       "  'Karan Soni',\n",
       "  'Jed Rees',\n",
       "  'Agent Smith',\n",
       "  'Stan Lee',\n",
       "  'Rob Liefeld',\n",
       "  'Isaac C. Singleton Jr.',\n",
       "  'Bob, Agent of Hydra',\n",
       "  'Hydra (comics)',\n",
       "  'Nathan Fillion',\n",
       "  'Twitter',\n",
       "  'Simon Kinberg',\n",
       "  'Artisan Entertainment',\n",
       "  'Marvel Entertainment',\n",
       "  'Deadpool',\n",
       "  'New Line Cinema',\n",
       "  'David S. Goyer',\n",
       "  'Ryan Reynolds',\n",
       "  'Shar Pei',\n",
       "  'Cable & Deadpool',\n",
       "  'Turnaround (filmmaking)',\n",
       "  'X-Men Origins: Wolverine',\n",
       "  'Lauren Shuler Donner',\n",
       "  'Reboot (fiction)',\n",
       "  'fourth wall',\n",
       "  'Rhett Reese',\n",
       "  'Paul Wernick',\n",
       "  'Robert Rodriguez',\n",
       "  'Tim Miller (director)',\n",
       "  'Adam Berg (director)',\n",
       "  'Blur Studio',\n",
       "  'James Cameron',\n",
       "  'David Fincher',\n",
       "  'development hell',\n",
       "  'Garrison Kane',\n",
       "  'Cannonball (comics)',\n",
       "  'Computer-generated imagery',\n",
       "  'Hillbilly',\n",
       "  'Wyre (comics)',\n",
       "  'Angel Dust (comics)',\n",
       "  'Cable (comics)',\n",
       "  'List of directorial debuts',\n",
       "  'Colossus (comics)',\n",
       "  'Simon Kinberg',\n",
       "  'The Hollywood Reporter',\n",
       "  'T. J. Miller',\n",
       "  'Ed Skrein',\n",
       "  'Gina Carano',\n",
       "  'Angel Dust (comics)',\n",
       "  'Morena Baccarin',\n",
       "  'Taylor Schilling',\n",
       "  'Crystal Reed',\n",
       "  'Rebecca Rittenhouse',\n",
       "  'Sarah Greene (actress)',\n",
       "  'Jessica De Gouw',\n",
       "  'Weasel (Marvel Comics)',\n",
       "  'Copycat (Marvel Comics)',\n",
       "  'Brianna Hildebrand',\n",
       "  'Negasonic Teenage Warhead',\n",
       "  'Ajax (comics)#Deadpool character',\n",
       "  'Leslie Uggams',\n",
       "  'Blind Al',\n",
       "  'Jed Rees',\n",
       "  'Stefan Kapičić',\n",
       "  'Colossus (comics)',\n",
       "  'Daniel Cudmore',\n",
       "  'Twitter',\n",
       "  'File:Deadpool, Georgia Viaduct, Vancouver, April 6 2015 - 3.jpg',\n",
       "  'Rolling Stone',\n",
       "  'Principal photography',\n",
       "  'Vancouver',\n",
       "  'stunt coordinator',\n",
       "  'CBC News',\n",
       "  'David Cronenberg',\n",
       "  'Eastern Promises',\n",
       "  'Yahoo! Movies',\n",
       "  'Digital Domain',\n",
       "  'Weta Digital',\n",
       "  'Rodeo FX',\n",
       "  'Luma Pictures',\n",
       "  'Image Engine',\n",
       "  'Adobe Systems',\n",
       "  'matte paintings',\n",
       "  'helicarrier',\n",
       "  'Detroit',\n",
       "  'Chicago',\n",
       "  'File:Colossus - mocap.jpg',\n",
       "  'Colossus (comics)',\n",
       "  'Computer-generated imagery',\n",
       "  'Digital Domain',\n",
       "  'Cold-formed steel',\n",
       "  'Hot working',\n",
       "  'Taxicab',\n",
       "  'Junkie XL',\n",
       "  'ARP 2600',\n",
       "  'Synclavier',\n",
       "  'Oberheim Electronics#Oberheim polyphonic synthesizers',\n",
       "  'io9',\n",
       "  'YouTube personality',\n",
       "  'Deadpool (video game)',\n",
       "  'Milan Records',\n",
       "  'Grand Rex',\n",
       "  'IMAX',\n",
       "  'Digital Light Processing',\n",
       "  'D-Box Technologies',\n",
       "  'The Hollywood Reporter',\n",
       "  'Uzbekistan',\n",
       "  'Central Board of Film Certification',\n",
       "  'The Hollywood Reporter',\n",
       "  'Hong Kong',\n",
       "  'Singapore',\n",
       "  'standing ovation',\n",
       "  'The Hollywood Reporter',\n",
       "  'Meta-joke',\n",
       "  'Business Insider',\n",
       "  'viral marketing',\n",
       "  'Christmas',\n",
       "  \"Valentine's Day\",\n",
       "  'io9',\n",
       "  'emoji',\n",
       "  'YouTube',\n",
       "  'Screen Junkies',\n",
       "  'The Guardian',\n",
       "  'Blu-ray',\n",
       "  '2016 in film',\n",
       "  'The Matrix Reloaded',\n",
       "  'Forbes',\n",
       "  'Variety (magazine)',\n",
       "  'X-Men: Days of Future Past',\n",
       "  'Deadline.com',\n",
       "  'James Cameron',\n",
       "  'George Lucas',\n",
       "  'Star Wars: Episode III – Revenge of the Sith',\n",
       "  'The Dark Knight Rises',\n",
       "  'The Hollywood Reporter',\n",
       "  'IMAX',\n",
       "  '3D film',\n",
       "  'Los Angeles Times',\n",
       "  'Yahoo!',\n",
       "  'Variety (magazine)',\n",
       "  'Forbes (magazine)',\n",
       "  \"Presidents' Day (United States)\",\n",
       "  'Zoolander 2',\n",
       "  'How to Be Single',\n",
       "  'The Hollywood Reporter',\n",
       "  'Deadline.com',\n",
       "  'Variety (magazine)',\n",
       "  'Guardians of the Galaxy (film)',\n",
       "  'Captain America: The Winter Soldier',\n",
       "  'The Hollywood Reporter',\n",
       "  'Deadline.com',\n",
       "  'R-rated',\n",
       "  'The Hangover Part II',\n",
       "  'Fifty Shades of Grey (film)',\n",
       "  'The Hollywood Reporter',\n",
       "  'Deadline.com',\n",
       "  'word of mouth',\n",
       "  'Star Wars: Episode III – Revenge of the Sith',\n",
       "  'Forbes',\n",
       "  'Century Theatres',\n",
       "  'Deadline.com',\n",
       "  'The Hollywood Reporter',\n",
       "  'The Avengers (2012 film)',\n",
       "  'The Hunger Games (film)',\n",
       "  'Forbes (magazine)',\n",
       "  'Furious 7',\n",
       "  'Alice in Wonderland (2010 film)',\n",
       "  'Wanted (2008 film)',\n",
       "  'Watchmen (film)',\n",
       "  'The Vow (2012 film)',\n",
       "  'X-Men (film)',\n",
       "  'X-Men: First Class',\n",
       "  'The Wolverine (film)',\n",
       "  'X-Men Origins: Wolverine',\n",
       "  'Deadline.com',\n",
       "  'Second weekend in box office performance',\n",
       "  'Avengers: Age of Ultron',\n",
       "  'X-Men: The Last Stand',\n",
       "  '300 (film)',\n",
       "  'Forbes',\n",
       "  'The Passion of the Christ',\n",
       "  'Forbes',\n",
       "  'Zootopia',\n",
       "  'London Has Fallen',\n",
       "  'Non-Hispanic whites',\n",
       "  'Hispanic',\n",
       "  'African-American',\n",
       "  'Asian Americans',\n",
       "  'Guardians of the Galaxy (film)',\n",
       "  'Captain America: Civil War',\n",
       "  'Avengers: Age of Ultron',\n",
       "  'Batman v Superman: Dawn of Justice',\n",
       "  'Suicide Squad (film)',\n",
       "  'The Hollywood Reporter',\n",
       "  'Spectre (2015)',\n",
       "  'United Kingdom and Ireland',\n",
       "  'Chinese New Year',\n",
       "  'Hong Kong',\n",
       "  'Singapore',\n",
       "  'The Mermaid (2016 film)',\n",
       "  'Deadline.com',\n",
       "  'Ip Man 3',\n",
       "  'Zootopia',\n",
       "  'Iron Man 3',\n",
       "  'Star Wars: The Force Awakens',\n",
       "  'Rotten Tomatoes',\n",
       "  'Rotten Tomatoes',\n",
       "  'Metacritic',\n",
       "  'CinemaScore',\n",
       "  'Peter Travers',\n",
       "  'Rolling Stone',\n",
       "  'Rolling Stone',\n",
       "  'TheWrap',\n",
       "  'Alonso Duralde',\n",
       "  'Guardians of the Galaxy (film)',\n",
       "  'Christy Lemire',\n",
       "  'Richard Roeper',\n",
       "  'Chicago Sun-Times',\n",
       "  'Kenneth Turan',\n",
       "  'Los Angeles Times',\n",
       "  'Los Angeles Times',\n",
       "  'The Hollywood Reporter',\n",
       "  'Deadline.com',\n",
       "  'Spider-Man',\n",
       "  'Superhero Hype',\n",
       "  '/Film',\n",
       "  'Domino (comics)',\n",
       "  'TheWrap',\n",
       "  'Mashable',\n",
       "  'David Leitch (filmmaker)',\n",
       "  'Rupert Sanders',\n",
       "  'Drew Goddard',\n",
       "  'Mashable',\n",
       "  'X-Force',\n",
       "  'Hugh Jackman',\n",
       "  'Twitter',\n",
       "  'Variety (magazine)',\n",
       "  'The Hollywood Reporter',\n",
       "  'British Board of Film Classification',\n",
       "  'Los Angeles Times',\n",
       "  'Variety (magazine)',\n",
       "  'MTV News',\n",
       "  'Empire (film magazine)',\n",
       "  'The Hollywood Reporter',\n",
       "  'Variety (magazine)',\n",
       "  'The Daily Dot',\n",
       "  'Bleeding Cool',\n",
       "  'The Hollywood Reporter',\n",
       "  'TheWrap',\n",
       "  'The Hollywood Reporter',\n",
       "  'Variety (magazine)',\n",
       "  'Entertainment Weekly',\n",
       "  'Deadline.com',\n",
       "  'MTV News',\n",
       "  'Deadline.com',\n",
       "  'Business Insider',\n",
       "  'The Hollywood Reporter',\n",
       "  'Twitter',\n",
       "  'Empire (magazine)',\n",
       "  'fxguide',\n",
       "  'Category:20th Century Fox films',\n",
       "  'Category:2010s action films',\n",
       "  'Category:2010s comedy films',\n",
       "  'Category:2010s superhero films',\n",
       "  'Category:2016 films',\n",
       "  'Category:American action comedy films',\n",
       "  'Category:American black comedy films',\n",
       "  'Category:American films',\n",
       "  'Category:Deadpool',\n",
       "  'Category:Directorial debut films',\n",
       "  'Category:English-language films',\n",
       "  'Category:Film scores by Junkie XL',\n",
       "  'Category:Film spin-offs',\n",
       "  'Category:Films about cancer',\n",
       "  'Category:Films about revenge',\n",
       "  'Category:Films directed by Tim Miller',\n",
       "  'Category:Films set in New York',\n",
       "  'Category:Films shot in Vancouver',\n",
       "  'Category:Films with live action and animation',\n",
       "  'Category:Human experimentation in fiction',\n",
       "  'Category:IMAX films',\n",
       "  'Category:Metafictional works',\n",
       "  'Category:Nonlinear narrative films',\n",
       "  'Category:Performance capture in film',\n",
       "  'Category:Self-reflexive films',\n",
       "  'Category:Superhero comedy films',\n",
       "  'Category:Vigilante films',\n",
       "  'Category:X-Men films'],\n",
       " '84%',\n",
       " '6.9/10']"
      ]
     },
     "execution_count": 43,
     "metadata": {},
     "output_type": "execute_result"
    }
   ],
   "source": [
    "movies[0]"
   ]
  },
  {
   "cell_type": "code",
   "execution_count": 44,
   "metadata": {},
   "outputs": [
    {
     "data": {
      "text/plain": [
       "'84%'"
      ]
     },
     "execution_count": 44,
     "metadata": {},
     "output_type": "execute_result"
    }
   ],
   "source": [
    "movies[0][-2]"
   ]
  },
  {
   "cell_type": "code",
   "execution_count": 45,
   "metadata": {},
   "outputs": [
    {
     "data": {
      "text/plain": [
       "'84'"
      ]
     },
     "execution_count": 45,
     "metadata": {},
     "output_type": "execute_result"
    }
   ],
   "source": [
    "movies[0][-2][:-1]"
   ]
  },
  {
   "cell_type": "code",
   "execution_count": null,
   "metadata": {},
   "outputs": [],
   "source": [
    "# Predict rotten tomeatoes score"
   ]
  },
  {
   "cell_type": "code",
   "execution_count": 46,
   "metadata": {},
   "outputs": [],
   "source": [
    "rotten_y = np.asarray([float(movie[-2][:-1]) / 100 for movie in movies if movie[-2]])\n",
    "rotten_X = np.asarray([normalized_movies[movie_to_idx[movie[0]]] for movie in movies if movie[-2]])"
   ]
  },
  {
   "cell_type": "code",
   "execution_count": 48,
   "metadata": {},
   "outputs": [
    {
     "data": {
      "text/plain": [
       "LinearRegression(copy_X=True, fit_intercept=True, n_jobs=None,\n",
       "         normalize=False)"
      ]
     },
     "execution_count": 48,
     "metadata": {},
     "output_type": "execute_result"
    }
   ],
   "source": [
    "from sklearn.linear_model import LinearRegression\n",
    "TRAINING_CUT_OFF = int(len(rotten_X) * 0.8)\n",
    "regr = LinearRegression()\n",
    "regr.fit(rotten_X[:TRAINING_CUT_OFF], rotten_y[:TRAINING_CUT_OFF])"
   ]
  },
  {
   "cell_type": "code",
   "execution_count": 49,
   "metadata": {},
   "outputs": [
    {
     "data": {
      "text/plain": [
       "'mean square error 0.06'"
      ]
     },
     "execution_count": 49,
     "metadata": {},
     "output_type": "execute_result"
    }
   ],
   "source": [
    "error = (regr.predict(rotten_X[TRAINING_CUT_OFF:]) - rotten_y[TRAINING_CUT_OFF:])\n",
    "'mean square error %2.2f' % np.mean(error ** 2)"
   ]
  },
  {
   "cell_type": "code",
   "execution_count": 50,
   "metadata": {},
   "outputs": [
    {
     "data": {
      "text/plain": [
       "'mean square error 0.09'"
      ]
     },
     "execution_count": 50,
     "metadata": {},
     "output_type": "execute_result"
    }
   ],
   "source": [
    "# Check the MSE of just the mean\n",
    "error = (np.mean(rotten_y[:TRAINING_CUT_OFF]) - rotten_y[TRAINING_CUT_OFF:])\n",
    "'mean square error %2.2f' % np.mean(error ** 2)"
   ]
  },
  {
   "cell_type": "code",
   "execution_count": 51,
   "metadata": {},
   "outputs": [
    {
     "name": "stdout",
     "output_type": "stream",
     "text": [
      "6 The Martian (film) 10900.0\n",
      "7 List of Marvel Cinematic Universe films 4300.0\n",
      "49 Back to the Future 3900.0\n",
      "71 The Conjuring 2932.0\n",
      "162 Thor (film) 2464.0\n",
      "36 Furious 7 2340.0\n",
      "30 Finding Dory 2187.0\n",
      "1906 Jane Eyre (2011 film) 2068.0\n",
      "19 Interstellar (film) 1670.0\n",
      "2251 An American Werewolf in London 1655.0\n"
     ]
    }
   ],
   "source": [
    "# Get the gross of each movie\n",
    "def gross(movie):\n",
    "    v = movie[1].get('gross')\n",
    "    if not v or not ' ' in v:\n",
    "        return None\n",
    "    v, unit = v.split(' ', 1)\n",
    "    unit = unit.lower()\n",
    "    if not unit in ('million', 'billion'):\n",
    "        return None\n",
    "    if not v.startswith('$'):\n",
    "        return None\n",
    "    try:\n",
    "        v = float(v[1:])\n",
    "    except ValueError:\n",
    "        return None\n",
    "    if unit == 'billion':\n",
    "        v *= 1000\n",
    "    return v\n",
    "\n",
    "movie_gross = [gross(m) for m in movies]\n",
    "movie_gross = np.asarray([gr for gr in movie_gross if gr is not None])\n",
    "highest = np.argsort(movie_gross)[-10:]\n",
    "for c in reversed(highest):\n",
    "    print(c, movies[c][0], movie_gross[c])"
   ]
  },
  {
   "cell_type": "code",
   "execution_count": 52,
   "metadata": {},
   "outputs": [],
   "source": [
    "gross_y = np.asarray([gr for gr in movie_gross if gr])\n",
    "gross_X = np.asarray([normalized_movies[movie_to_idx[movie[0]]] for movie, gr in zip(movies, movie_gross) if gr])"
   ]
  },
  {
   "cell_type": "code",
   "execution_count": 53,
   "metadata": {},
   "outputs": [
    {
     "data": {
      "text/plain": [
       "LinearRegression(copy_X=True, fit_intercept=True, n_jobs=None,\n",
       "         normalize=False)"
      ]
     },
     "execution_count": 53,
     "metadata": {},
     "output_type": "execute_result"
    }
   ],
   "source": [
    "# Predict the gross\n",
    "TRAINING_CUT_OFF = int(len(gross_X) * 0.8)\n",
    "regr = LinearRegression()\n",
    "regr.fit(gross_X[:TRAINING_CUT_OFF], gross_y[:TRAINING_CUT_OFF])"
   ]
  },
  {
   "cell_type": "code",
   "execution_count": 54,
   "metadata": {},
   "outputs": [
    {
     "data": {
      "text/plain": [
       "'mean square error 8575.69'"
      ]
     },
     "execution_count": 54,
     "metadata": {},
     "output_type": "execute_result"
    }
   ],
   "source": [
    "error = (regr.predict(gross_X[TRAINING_CUT_OFF:]) - gross_y[TRAINING_CUT_OFF:])\n",
    "'mean square error %2.2f' % np.mean(error ** 2)"
   ]
  },
  {
   "cell_type": "code",
   "execution_count": 55,
   "metadata": {},
   "outputs": [
    {
     "data": {
      "text/plain": [
       "'mean square error 14115.59'"
      ]
     },
     "execution_count": 55,
     "metadata": {},
     "output_type": "execute_result"
    }
   ],
   "source": [
    "error = (np.mean(gross_y[:TRAINING_CUT_OFF]) - gross_y[TRAINING_CUT_OFF:])\n",
    "'mean square error %2.2f' % np.mean(error ** 2)"
   ]
  },
  {
   "cell_type": "code",
   "execution_count": null,
   "metadata": {},
   "outputs": [],
   "source": []
  }
 ],
 "metadata": {
  "kernelspec": {
   "display_name": "Tensorflow 3.6",
   "language": "python",
   "name": "tensorflow36"
  },
  "language_info": {
   "codemirror_mode": {
    "name": "ipython",
    "version": 3
   },
   "file_extension": ".py",
   "mimetype": "text/x-python",
   "name": "python",
   "nbconvert_exporter": "python",
   "pygments_lexer": "ipython3",
   "version": "3.6.7"
  }
 },
 "nbformat": 4,
 "nbformat_minor": 2
}
