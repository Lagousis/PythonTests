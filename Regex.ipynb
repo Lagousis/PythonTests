{
 "cells": [
  {
   "cell_type": "markdown",
   "metadata": {},
   "source": [
    "Really cool site - https://regexone.com/\n",
    "\n",
    "Reference: tutorialspoint.com/python/python_reg_expressions.htm"
   ]
  },
  {
   "cell_type": "code",
   "execution_count": 2,
   "metadata": {},
   "outputs": [],
   "source": [
    "import re"
   ]
  },
  {
   "cell_type": "code",
   "execution_count": 2,
   "metadata": {},
   "outputs": [],
   "source": [
    "line = \"Cats are smarter than dogs\""
   ]
  },
  {
   "cell_type": "code",
   "execution_count": 3,
   "metadata": {},
   "outputs": [],
   "source": [
    "matchObj = re.search( r'(.*) are (.*?) .*', line, re.M|re.I)"
   ]
  },
  {
   "cell_type": "code",
   "execution_count": 13,
   "metadata": {},
   "outputs": [
    {
     "data": {
      "text/plain": [
       "('Cats', 'smarter')"
      ]
     },
     "execution_count": 13,
     "metadata": {},
     "output_type": "execute_result"
    }
   ],
   "source": [
    "matchObj.groups()"
   ]
  },
  {
   "cell_type": "code",
   "execution_count": 21,
   "metadata": {},
   "outputs": [
    {
     "name": "stdout",
     "output_type": "stream",
     "text": [
      "('successfully',)\n",
      "('failed',)\n"
     ]
    }
   ],
   "source": [
    "lines = []\n",
    "lines.append(\"File uploaded successfully\")\n",
    "lines.append(\"File uploaded failed\")\n",
    "\n",
    "#r means the string will be treated as raw string. \n",
    "#When an 'r' or 'R' prefix is present, a character following a backslash is included in the string without change,\n",
    "#and all backslashes are left in the string\n",
    "\n",
    "regex = r'^.*uploaded\\s*(\\w+)'\n",
    "\n",
    "for line in lines:\n",
    "    matchObj = re.search(regex, line)\n",
    "    if matchObj==None:\n",
    "        print('Not found')\n",
    "    else:\n",
    "        print(matchObj.groups())"
   ]
  },
  {
   "cell_type": "code",
   "execution_count": 25,
   "metadata": {},
   "outputs": [
    {
     "name": "stdout",
     "output_type": "stream",
     "text": [
      "('successfully',)\n",
      "('failed',)\n"
     ]
    }
   ],
   "source": [
    "result_regex = re.compile(regex)\n",
    "\n",
    "for line in lines:\n",
    "    matchObj = result_regex.search(line)\n",
    "    if matchObj==None:\n",
    "        print('Not found')\n",
    "    else:\n",
    "        print(matchObj.groups())\n",
    "        "
   ]
  },
  {
   "cell_type": "code",
   "execution_count": 26,
   "metadata": {},
   "outputs": [
    {
     "name": "stdout",
     "output_type": "stream",
     "text": [
      "Document uploaded successfully\n",
      "Document uploaded failed\n"
     ]
    }
   ],
   "source": [
    "result_regex = re.compile('File')\n",
    "\n",
    "for line in lines:\n",
    "    print(result_regex.sub('Document', line))\n",
    "  "
   ]
  },
  {
   "cell_type": "code",
   "execution_count": 7,
   "metadata": {},
   "outputs": [
    {
     "data": {
      "text/plain": [
       "'13'"
      ]
     },
     "execution_count": 7,
     "metadata": {},
     "output_type": "execute_result"
    }
   ],
   "source": [
    "str = r'https://www.notos.gr/brands/gant/?sortBy=Default&pg=13'\n",
    "\n",
    "expr = r'pg=(\\d*)'\n",
    "\n",
    "re.search(r'pg=(\\d*)', str)[1]\n"
   ]
  },
  {
   "cell_type": "code",
   "execution_count": 11,
   "metadata": {},
   "outputs": [
    {
     "data": {
      "text/plain": [
       "'https://www.notos.gr/brands/gant/?sortBy=Default&pg=14'"
      ]
     },
     "execution_count": 11,
     "metadata": {},
     "output_type": "execute_result"
    }
   ],
   "source": [
    "re.sub(r'pg=(\\d*)', 'pg=14', str)"
   ]
  },
  {
   "cell_type": "code",
   "execution_count": null,
   "metadata": {},
   "outputs": [],
   "source": []
  }
 ],
 "metadata": {
  "kernelspec": {
   "display_name": "Python 3",
   "language": "python",
   "name": "python3"
  },
  "language_info": {
   "codemirror_mode": {
    "name": "ipython",
    "version": 3
   },
   "file_extension": ".py",
   "mimetype": "text/x-python",
   "name": "python",
   "nbconvert_exporter": "python",
   "pygments_lexer": "ipython3",
   "version": "3.7.3"
  }
 },
 "nbformat": 4,
 "nbformat_minor": 2
}
