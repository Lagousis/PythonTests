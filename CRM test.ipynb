{
 "cells": [
  {
   "cell_type": "code",
   "execution_count": 1,
   "metadata": {},
   "outputs": [],
   "source": [
    "from dynamics365crm.client import Client"
   ]
  },
  {
   "cell_type": "code",
   "execution_count": 11,
   "metadata": {},
   "outputs": [],
   "source": [
    "resource = 'https://sb7demo.crm4.dynamics.com'\n",
    "client_id = '9a5438e9-494b-4b33-a1e0-613ffc703346' #From Azure app registration\n",
    "client_secret = 'HixGZZm5aAXx]VpwR27EG4oy]KC]:@c?' #From Azure app registration"
   ]
  },
  {
   "cell_type": "code",
   "execution_count": 16,
   "metadata": {},
   "outputs": [],
   "source": [
    "client = Client(resource, client_id, client_secret)\n",
    "url = client.url_petition(\"https://stavros_crm_test\")"
   ]
  },
  {
   "cell_type": "code",
   "execution_count": 17,
   "metadata": {},
   "outputs": [
    {
     "data": {
      "text/plain": [
       "'https://login.microsoftonline.com/common/oauth2/authorize?client_id=9a5438e9-494b-4b33-a1e0-613ffc703346&response_type=code&redirect_uri=https://stavros_crm_test&response_mode=query&resource=https://sb7demo.crm4.dynamics.com'"
      ]
     },
     "execution_count": 17,
     "metadata": {},
     "output_type": "execute_result"
    }
   ],
   "source": [
    "url"
   ]
  },
  {
   "cell_type": "code",
   "execution_count": 24,
   "metadata": {},
   "outputs": [
    {
     "ename": "Exception",
     "evalue": "The URL https://login.microsoftonline.com/common/oauth2/token retrieved an 400 error. Please check your request body and try again.\nRaw message: {\"error\":\"invalid_grant\",\"error_description\":\"AADSTS9002313: Invalid request. Request is malformed or invalid.\\r\\nTrace ID: df6f8041-d939-4b47-8afe-e84470e5e900\\r\\nCorrelation ID: b977f782-6b65-4481-8faa-af4cd8e745f1\\r\\nTimestamp: 2019-12-09 11:07:29Z\",\"error_codes\":[9002313],\"timestamp\":\"2019-12-09 11:07:29Z\",\"trace_id\":\"df6f8041-d939-4b47-8afe-e84470e5e900\",\"correlation_id\":\"b977f782-6b65-4481-8faa-af4cd8e745f1\",\"error_uri\":\"https://login.microsoftonline.com/error?code=9002313\"}",
     "output_type": "error",
     "traceback": [
      "\u001b[1;31m---------------------------------------------------------------------------\u001b[0m",
      "\u001b[1;31mException\u001b[0m                                 Traceback (most recent call last)",
      "\u001b[1;32m<ipython-input-24-4db443356ec0>\u001b[0m in \u001b[0;36m<module>\u001b[1;34m\u001b[0m\n\u001b[1;32m----> 1\u001b[1;33m \u001b[0mtoken\u001b[0m \u001b[1;33m=\u001b[0m \u001b[0mclient\u001b[0m\u001b[1;33m.\u001b[0m\u001b[0mexchange_code\u001b[0m\u001b[1;33m(\u001b[0m\u001b[1;34m'https://stavros_crm_test'\u001b[0m\u001b[1;33m,\u001b[0m \u001b[1;34m'user_impersonation'\u001b[0m\u001b[1;33m)\u001b[0m\u001b[1;33m\u001b[0m\u001b[1;33m\u001b[0m\u001b[0m\n\u001b[0m",
      "\u001b[1;32mC:\\ProgramData\\Anaconda3\\lib\\site-packages\\dynamics365crm\\client.py\u001b[0m in \u001b[0;36mexchange_code\u001b[1;34m(self, redirect_uri, code)\u001b[0m\n\u001b[0;32m    136\u001b[0m             }\n\u001b[0;32m    137\u001b[0m             \u001b[0mresponse\u001b[0m \u001b[1;33m=\u001b[0m \u001b[0mrequests\u001b[0m\u001b[1;33m.\u001b[0m\u001b[0mpost\u001b[0m\u001b[1;33m(\u001b[0m\u001b[0murl\u001b[0m\u001b[1;33m,\u001b[0m \u001b[0mdata\u001b[0m\u001b[1;33m=\u001b[0m\u001b[0margs\u001b[0m\u001b[1;33m)\u001b[0m\u001b[1;33m\u001b[0m\u001b[1;33m\u001b[0m\u001b[0m\n\u001b[1;32m--> 138\u001b[1;33m             \u001b[1;32mreturn\u001b[0m \u001b[0mself\u001b[0m\u001b[1;33m.\u001b[0m\u001b[0mparse_response\u001b[0m\u001b[1;33m(\u001b[0m\u001b[0mresponse\u001b[0m\u001b[1;33m)\u001b[0m\u001b[1;33m\u001b[0m\u001b[1;33m\u001b[0m\u001b[0m\n\u001b[0m\u001b[0;32m    139\u001b[0m         \u001b[1;32melse\u001b[0m\u001b[1;33m:\u001b[0m\u001b[1;33m\u001b[0m\u001b[1;33m\u001b[0m\u001b[0m\n\u001b[0;32m    140\u001b[0m             \u001b[1;32mraise\u001b[0m \u001b[0mException\u001b[0m\u001b[1;33m(\u001b[0m\u001b[1;34m\"The attributes necessary to exchange the code were not obtained.\"\u001b[0m\u001b[1;33m)\u001b[0m\u001b[1;33m\u001b[0m\u001b[1;33m\u001b[0m\u001b[0m\n",
      "\u001b[1;32mC:\\ProgramData\\Anaconda3\\lib\\site-packages\\dynamics365crm\\client.py\u001b[0m in \u001b[0;36mparse_response\u001b[1;34m(self, response)\u001b[0m\n\u001b[0;32m     81\u001b[0m             raise Exception(\n\u001b[0;32m     82\u001b[0m                 \"The URL {0} retrieved an {1} error. Please check your request body and try again.\\nRaw message: {2}\".format(\n\u001b[1;32m---> 83\u001b[1;33m                     response.url, response.status_code, response.text))\n\u001b[0m\u001b[0;32m     84\u001b[0m         \u001b[1;32melif\u001b[0m \u001b[0mresponse\u001b[0m\u001b[1;33m.\u001b[0m\u001b[0mstatus_code\u001b[0m \u001b[1;33m==\u001b[0m \u001b[1;36m401\u001b[0m\u001b[1;33m:\u001b[0m\u001b[1;33m\u001b[0m\u001b[1;33m\u001b[0m\u001b[0m\n\u001b[0;32m     85\u001b[0m             raise Exception(\n",
      "\u001b[1;31mException\u001b[0m: The URL https://login.microsoftonline.com/common/oauth2/token retrieved an 400 error. Please check your request body and try again.\nRaw message: {\"error\":\"invalid_grant\",\"error_description\":\"AADSTS9002313: Invalid request. Request is malformed or invalid.\\r\\nTrace ID: df6f8041-d939-4b47-8afe-e84470e5e900\\r\\nCorrelation ID: b977f782-6b65-4481-8faa-af4cd8e745f1\\r\\nTimestamp: 2019-12-09 11:07:29Z\",\"error_codes\":[9002313],\"timestamp\":\"2019-12-09 11:07:29Z\",\"trace_id\":\"df6f8041-d939-4b47-8afe-e84470e5e900\",\"correlation_id\":\"b977f782-6b65-4481-8faa-af4cd8e745f1\",\"error_uri\":\"https://login.microsoftonline.com/error?code=9002313\"}"
     ]
    }
   ],
   "source": [
    "token = client.exchange_code('https://stavros_crm_test', 'user_impersonation')"
   ]
  },
  {
   "cell_type": "code",
   "execution_count": null,
   "metadata": {},
   "outputs": [],
   "source": []
  }
 ],
 "metadata": {
  "kernelspec": {
   "display_name": "Python 3",
   "language": "python",
   "name": "python3"
  },
  "language_info": {
   "codemirror_mode": {
    "name": "ipython",
    "version": 3
   },
   "file_extension": ".py",
   "mimetype": "text/x-python",
   "name": "python",
   "nbconvert_exporter": "python",
   "pygments_lexer": "ipython3",
   "version": "3.7.3"
  }
 },
 "nbformat": 4,
 "nbformat_minor": 2
}
