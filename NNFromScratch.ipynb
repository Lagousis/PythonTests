{
 "cells": [
  {
   "cell_type": "markdown",
   "metadata": {},
   "source": [
    "Create and train a NN without a framework\n",
    "Ideas taken from https://towardsdatascience.com/how-to-build-your-own-neural-network-from-scratch-in-python-68998a08e4f6"
   ]
  },
  {
   "cell_type": "code",
   "execution_count": 5,
   "metadata": {},
   "outputs": [],
   "source": [
    "import numpy as np"
   ]
  },
  {
   "cell_type": "code",
   "execution_count": 66,
   "metadata": {},
   "outputs": [],
   "source": [
    "def sigmoid(x):\n",
    "    return 1.0/(1+ np.exp(-x))\n",
    "\n",
    "def sigmoid_derivative(x):\n",
    "    return x * (1.0 - x)"
   ]
  },
  {
   "cell_type": "markdown",
   "metadata": {},
   "source": [
    "We create a NN with input x and output y. It has a hidden layer with 4 nodes. Weights from input layer to hidder layer as denoted as W1 (biases=b1) and from hidden layer to the output layer as W2 (biases=b2)\n",
    "Activate function will sigmoid, let's represent it with s\n",
    "\n",
    "y' = s( W2 * ( s(W1 * x + b1) ) + b2 )\n",
    "\n",
    "You might notice that in the equation above, the weights W and the biases b are the only variables that affects the output ŷ."
   ]
  },
  {
   "cell_type": "markdown",
   "metadata": {},
   "source": [
    "We will use squared error as loss function. Our goal in training is to find the best set of weights and biases that minimizes the loss function."
   ]
  },
  {
   "cell_type": "code",
   "execution_count": 173,
   "metadata": {},
   "outputs": [],
   "source": [
    "class NeuralNetwork:\n",
    "    def __init__(self, x, y, hidden_nodes):\n",
    "        self.input = x\n",
    "        self.hidden_nodes = hidden_nodes\n",
    "        self.weights1 = np.random.rand(self.input.shape[1], self.hidden_nodes) \n",
    "        self.weights2 = np.random.rand(self.hidden_nodes, 1)                 \n",
    "        self.y = y\n",
    "        self.output = np.zeros(self.y.shape)\n",
    "        self.loss = 0\n",
    "\n",
    "    def forward(self):\n",
    "        self.layer1 = sigmoid(np.dot(self.input, self.weights1))\n",
    "        self.output = sigmoid(np.dot(self.layer1, self.weights2))\n",
    "        \n",
    "        self.loss = (self.y - self.output ** 2).sum()\n",
    "\n",
    "    def backprop(self):\n",
    "        # application of the chain rule to find derivative of the loss function with respect to weights2 and weights1\n",
    "        d_weights2 = np.dot(self.layer1.T, (2*(self.y - self.output) * sigmoid_derivative(self.output)))\n",
    "        d_weights1 = np.dot(self.input.T,  \n",
    "                            (np.dot(2*(self.y - self.output) * sigmoid_derivative(self.output), \n",
    "                                    self.weights2.T) * sigmoid_derivative(self.layer1)))\n",
    "               \n",
    "        # update the weights with the derivative (slope) of the loss function\n",
    "        self.weights1 += d_weights1\n",
    "        self.weights2 += d_weights2\n",
    "        \n",
    "    def describe(self):\n",
    "        print(f'Inputs: {self.input.shape[1]}')\n",
    "        print(f'Weights: {self.weights1.shape[0]} x {self.weights1.shape[1]}')\n",
    "        print(f'Hidden layer: {self.hidden_nodes}')\n",
    "        print(f'Weights: {self.weights2.shape[0]} x {self.weights2.shape[1]}')\n",
    "        print(f'Output layer: {1}')"
   ]
  },
  {
   "cell_type": "code",
   "execution_count": 595,
   "metadata": {},
   "outputs": [],
   "source": [
    "class NeuralNetwork:\n",
    "    def __init__(self, x, y, layers, learning_rate):\n",
    "        self.input = x\n",
    "        self.weigths = []\n",
    "        self.activations = []\n",
    "        self.learning_rate = learning_rate\n",
    "        \n",
    "        previous_layer = x\n",
    "        for i in range(len(layers)):\n",
    "            current_layer = np.random.rand(previous_layer.shape[1], layers[i])\n",
    "            self.weigths.append(current_layer)\n",
    "            previous_layer = current_layer\n",
    "        \n",
    "        self.weigths.append(np.random.rand(previous_layer.shape[1], 1)) # 1 output\n",
    "                  \n",
    "        self.y = y\n",
    "        self.output = np.zeros(self.y.shape)\n",
    "        self.loss = 0\n",
    "\n",
    "    def forward(self):\n",
    "        \n",
    "        self.activations = []\n",
    "        self.activations.append(self.input)\n",
    "        \n",
    "        temp = self.input\n",
    "        for i in range(len(self.weigths)):\n",
    "            temp = sigmoid(np.dot(temp, self.weigths[i]))            \n",
    "            self.activations.append(temp)\n",
    "            \n",
    "        self.output = temp        \n",
    "        \n",
    "        self.loss = ((self.y - self.output) ** 2).sum()\n",
    "\n",
    "    def backprop(self):\n",
    "        # application of the chain rule to find derivative of the loss function with respect to weights               \n",
    "        # update the weights with the derivative (slope) of the loss function\n",
    "        \n",
    "        for i in range(len(self.weigths), 0, -1):\n",
    "                     \n",
    "            chain = 2*(self.y - self.output) * sigmoid_derivative(self.output)\n",
    "            \n",
    "            for layer in range(len(self.weigths), i, -1):\n",
    "                chain = np.dot(chain,\n",
    "                               self.weigths[layer-1].T) \\\n",
    "                * sigmoid_derivative(self.activations[layer-1])\n",
    "                      \n",
    "            d_weight =  np.dot(self.activations[i-1].T, chain)\n",
    "                       \n",
    "            self.weigths[i-1] += self.learning_rate * d_weight\n",
    "        \n",
    "    def describe(self):\n",
    "        print(f'Input: {self.input.shape[1]}')\n",
    "        \n",
    "        for i in range(len(self.weigths)):\n",
    "            print(f'Layer {i}: {self.weigths[i].shape[0]} x {self.weigths[i].shape[1]}')"
   ]
  },
  {
   "cell_type": "code",
   "execution_count": 596,
   "metadata": {},
   "outputs": [],
   "source": [
    "#layers = (4,2,5)\n",
    "#myNN = NeuralNetwork(x, y, (10,6))\n",
    "#myNN.nodes"
   ]
  },
  {
   "cell_type": "code",
   "execution_count": 597,
   "metadata": {},
   "outputs": [
    {
     "name": "stdout",
     "output_type": "stream",
     "text": [
      "Input: 3\n",
      "Layer 0: 3 x 8\n",
      "Layer 1: 8 x 4\n",
      "Layer 2: 4 x 1\n"
     ]
    }
   ],
   "source": [
    "x = np.array ([   [0, 0, 1],\n",
    "                  [0, 1, 1],\n",
    "                  [1, 0, 1],\n",
    "                  [1, 1, 1]\n",
    "    ])\n",
    "\n",
    "y = np.array ([[0], \n",
    "               [1],\n",
    "               [1],\n",
    "               [0]])\n",
    "\n",
    "myNN = NeuralNetwork(x, y, (8,4), 1e-0)\n",
    "myNN.describe()\n",
    "\n",
    "#myNN.weigths[0] = np.ones((3,3))"
   ]
  },
  {
   "cell_type": "code",
   "execution_count": 602,
   "metadata": {},
   "outputs": [
    {
     "name": "stdout",
     "output_type": "stream",
     "text": [
      "[[0.01079741]\n",
      " [0.98747879]\n",
      " [0.98813755]\n",
      " [0.01475056]]\n"
     ]
    }
   ],
   "source": [
    "#myNN.forward()\n",
    "print(myNN.output)"
   ]
  },
  {
   "cell_type": "code",
   "execution_count": 599,
   "metadata": {},
   "outputs": [],
   "source": [
    "myNN.backprop()"
   ]
  },
  {
   "cell_type": "code",
   "execution_count": 600,
   "metadata": {},
   "outputs": [
    {
     "name": "stdout",
     "output_type": "stream",
     "text": [
      "0 1.1117019133768415\n",
      "100 0.9988762003541011\n",
      "200 0.9977292277085708\n",
      "300 0.9948518993419397\n",
      "400 0.9813307246755729\n",
      "500 0.7921703610900679\n",
      "600 0.4758668068898093\n",
      "700 0.028268038830201972\n",
      "800 0.007682019518743047\n",
      "900 0.0043089419713603465\n",
      "1000 0.0029356165851813763\n",
      "1100 0.0022025956402161127\n",
      "1200 0.0017511482703233168\n",
      "1300 0.0014470640228965834\n",
      "1400 0.0012292362828486409\n",
      "1500 0.0010660208714185892\n",
      "1600 0.0009394574944123463\n",
      "1700 0.0008386254780143561\n",
      "1800 0.0007565177505387318\n",
      "1900 0.0006884399119267833\n",
      "[[0.01079741]\n",
      " [0.98747879]\n",
      " [0.98813755]\n",
      " [0.01475056]]\n"
     ]
    }
   ],
   "source": [
    "loss=[]\n",
    "\n",
    "for i in range(2000):\n",
    "    myNN.forward()\n",
    "    if i % 100 == 0:\n",
    "        print(i, myNN.loss)\n",
    "        loss.append(myNN.loss)\n",
    "    myNN.backprop()\n",
    "    \n",
    "print(myNN.output)"
   ]
  },
  {
   "cell_type": "code",
   "execution_count": 547,
   "metadata": {},
   "outputs": [
    {
     "data": {
      "text/plain": [
       "(4, 1)"
      ]
     },
     "execution_count": 547,
     "metadata": {},
     "output_type": "execute_result"
    }
   ],
   "source": [
    "y.shape"
   ]
  },
  {
   "cell_type": "code",
   "execution_count": 548,
   "metadata": {},
   "outputs": [
    {
     "data": {
      "text/plain": [
       "array([0, 0, 1])"
      ]
     },
     "execution_count": 548,
     "metadata": {},
     "output_type": "execute_result"
    }
   ],
   "source": [
    "x[0]"
   ]
  },
  {
   "cell_type": "code",
   "execution_count": 177,
   "metadata": {},
   "outputs": [
    {
     "data": {
      "text/plain": [
       "array([0.57687046, 0.30359808, 0.08599636, 0.55818046])"
      ]
     },
     "execution_count": 177,
     "metadata": {},
     "output_type": "execute_result"
    }
   ],
   "source": [
    "np.dot(x[0], myNN.weights1)"
   ]
  },
  {
   "cell_type": "code",
   "execution_count": 242,
   "metadata": {},
   "outputs": [
    {
     "data": {
      "text/plain": [
       "array([[-0.        , -0.        ,  0.        , -0.        ],\n",
       "       [-0.        , -0.        ,  0.        , -0.        ],\n",
       "       [-0.01132414, -0.14968314,  0.02096708, -0.1198421 ]])"
      ]
     },
     "execution_count": 242,
     "metadata": {},
     "output_type": "execute_result"
    }
   ],
   "source": [
    "#2*(myNN.y - myNN.output) * sigmoid(myNN.output)\n",
    "#myNN.output, y\n",
    "\n",
    "#y,sigmoid(y)\n",
    "\n",
    "#d_weights2 = np.dot(self.layer1.T, (2*(self.y - self.output) * sigmoid_derivative(self.output)))\n",
    "\n",
    "#myNN.input.shape[1]\n",
    "first_input = np.reshape(myNN.input[0], (1,3))\n",
    "\n",
    "layer1 = sigmoid(np.dot(first_input, myNN.weights1))\n",
    "np.dot(layer1.T, (2*(myNN.y[0] - myNN.output[0]) * sigmoid_derivative(myNN.output[0])))\n",
    "#layer1.T.shape[0], (2*(myNN.y[0] - myNN.output[0]) * sigmoid_derivative(myNN.output[0]))\n",
    "\n",
    "#d_weights1 = np.dot(self.input.T,  \n",
    "#                    (np.dot(2*(self.y - self.output) * sigmoid_derivative(self.output), \n",
    "#                            self.weights2.T) * sigmoid_derivative(self.layer1)))\n",
    "\n",
    "np.dot(first_input.T,\n",
    "np.dot(2*(myNN.y[0] - myNN.output[0]) * sigmoid_derivative(myNN.output[0]), \n",
    "                            myNN.weights2.T).reshape(1,4)\n",
    "      )"
   ]
  },
  {
   "cell_type": "code",
   "execution_count": 184,
   "metadata": {},
   "outputs": [
    {
     "data": {
      "text/plain": [
       "array([0.57687046, 0.30359808, 0.08599636, 0.55818046])"
      ]
     },
     "execution_count": 184,
     "metadata": {},
     "output_type": "execute_result"
    }
   ],
   "source": [
    "#sigmoid(np.dot(myNN.input, myNN.weights1)).T\n",
    "np.dot(myNN.input[0], myNN.weights1)"
   ]
  },
  {
   "cell_type": "code",
   "execution_count": 196,
   "metadata": {},
   "outputs": [
    {
     "name": "stdout",
     "output_type": "stream",
     "text": [
      "[[0.82396258]\n",
      " [0.8739199 ]\n",
      " [0.88234037]\n",
      " [0.90557205]\n",
      " [0.78291925]]\n"
     ]
    }
   ],
   "source": [
    "myNN.forward()\n",
    "print(myNN.output)\n",
    "myNN.backprop()"
   ]
  },
  {
   "cell_type": "code",
   "execution_count": 446,
   "metadata": {},
   "outputs": [],
   "source": [
    "import matplotlib.pyplot as plt"
   ]
  },
  {
   "cell_type": "code",
   "execution_count": 603,
   "metadata": {},
   "outputs": [
    {
     "data": {
      "text/plain": [
       "[1.1117019133768415,\n",
       " 0.9988762003541011,\n",
       " 0.9977292277085708,\n",
       " 0.9948518993419397,\n",
       " 0.9813307246755729,\n",
       " 0.7921703610900679,\n",
       " 0.4758668068898093,\n",
       " 0.028268038830201972,\n",
       " 0.007682019518743047,\n",
       " 0.0043089419713603465,\n",
       " 0.0029356165851813763,\n",
       " 0.0022025956402161127,\n",
       " 0.0017511482703233168,\n",
       " 0.0014470640228965834,\n",
       " 0.0012292362828486409,\n",
       " 0.0010660208714185892,\n",
       " 0.0009394574944123463,\n",
       " 0.0008386254780143561,\n",
       " 0.0007565177505387318,\n",
       " 0.0006884399119267833]"
      ]
     },
     "execution_count": 603,
     "metadata": {},
     "output_type": "execute_result"
    }
   ],
   "source": [
    "loss"
   ]
  },
  {
   "cell_type": "code",
   "execution_count": 601,
   "metadata": {},
   "outputs": [
    {
     "data": {
      "image/png": "[encoded data removed]",
      "text/plain": [
       "<Figure size 432x288 with 1 Axes>"
      ]
     },
     "metadata": {},
     "output_type": "display_data"
    }
   ],
   "source": [
    "plt.plot(loss)\n",
    "plt.show()"
   ]
  },
  {
   "cell_type": "code",
   "execution_count": null,
   "metadata": {},
   "outputs": [],
   "source": []
  }
 ],
 "metadata": {
  "kernelspec": {
   "display_name": "py36 env",
   "language": "python",
   "name": "python3"
  },
  "language_info": {
   "codemirror_mode": {
    "name": "ipython",
    "version": 3
   },
   "file_extension": ".py",
   "mimetype": "text/x-python",
   "name": "python",
   "nbconvert_exporter": "python",
   "pygments_lexer": "ipython3",
   "version": "3.6.3"
  }
 },
 "nbformat": 4,
 "nbformat_minor": 2
}
