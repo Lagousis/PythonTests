{
 "cells": [
  {
   "cell_type": "markdown",
   "metadata": {},
   "source": [
    "Translate texts using external services"
   ]
  },
  {
   "cell_type": "code",
   "execution_count": 1,
   "metadata": {},
   "outputs": [],
   "source": [
    "import pandas as pd\n",
    "#https://pypi.org/project/googletrans/\n",
    "from googletrans import Translator"
   ]
  },
  {
   "cell_type": "code",
   "execution_count": 2,
   "metadata": {},
   "outputs": [
    {
     "data": {
      "text/html": [
       "<div>\n",
       "<style scoped>\n",
       "    .dataframe tbody tr th:only-of-type {\n",
       "        vertical-align: middle;\n",
       "    }\n",
       "\n",
       "    .dataframe tbody tr th {\n",
       "        vertical-align: top;\n",
       "    }\n",
       "\n",
       "    .dataframe thead th {\n",
       "        text-align: right;\n",
       "    }\n",
       "</style>\n",
       "<table border=\"1\" class=\"dataframe\">\n",
       "  <thead>\n",
       "    <tr style=\"text-align: right;\">\n",
       "      <th></th>\n",
       "      <th>TextType</th>\n",
       "      <th>TextID1</th>\n",
       "      <th>TextID2</th>\n",
       "      <th>TextID3</th>\n",
       "      <th>TextID4</th>\n",
       "      <th>text</th>\n",
       "    </tr>\n",
       "  </thead>\n",
       "  <tbody>\n",
       "    <tr>\n",
       "      <th>0</th>\n",
       "      <td>Message</td>\n",
       "      <td>2450</td>\n",
       "      <td>NaN</td>\n",
       "      <td>NaN</td>\n",
       "      <td>NaN</td>\n",
       "      <td>You are going to assign vehicles to all %1 ord...</td>\n",
       "    </tr>\n",
       "    <tr>\n",
       "      <th>1</th>\n",
       "      <td>Message</td>\n",
       "      <td>2451</td>\n",
       "      <td>NaN</td>\n",
       "      <td>NaN</td>\n",
       "      <td>NaN</td>\n",
       "      <td>cancel save of</td>\n",
       "    </tr>\n",
       "    <tr>\n",
       "      <th>2</th>\n",
       "      <td>Message</td>\n",
       "      <td>2452</td>\n",
       "      <td>NaN</td>\n",
       "      <td>NaN</td>\n",
       "      <td>NaN</td>\n",
       "      <td>uncommit</td>\n",
       "    </tr>\n",
       "    <tr>\n",
       "      <th>3</th>\n",
       "      <td>Message</td>\n",
       "      <td>2453</td>\n",
       "      <td>NaN</td>\n",
       "      <td>NaN</td>\n",
       "      <td>NaN</td>\n",
       "      <td>Are you sure you want to %1 route for vehicle ...</td>\n",
       "    </tr>\n",
       "    <tr>\n",
       "      <th>4</th>\n",
       "      <td>Message</td>\n",
       "      <td>2454</td>\n",
       "      <td>NaN</td>\n",
       "      <td>NaN</td>\n",
       "      <td>NaN</td>\n",
       "      <td>All orders of this vehicle are now available</td>\n",
       "    </tr>\n",
       "  </tbody>\n",
       "</table>\n",
       "</div>"
      ],
      "text/plain": [
       "  TextType TextID1 TextID2 TextID3  TextID4  \\\n",
       "0  Message    2450     NaN     NaN      NaN   \n",
       "1  Message    2451     NaN     NaN      NaN   \n",
       "2  Message    2452     NaN     NaN      NaN   \n",
       "3  Message    2453     NaN     NaN      NaN   \n",
       "4  Message    2454     NaN     NaN      NaN   \n",
       "\n",
       "                                                text  \n",
       "0  You are going to assign vehicles to all %1 ord...  \n",
       "1                                     cancel save of  \n",
       "2                                           uncommit  \n",
       "3  Are you sure you want to %1 route for vehicle ...  \n",
       "4       All orders of this vehicle are now available  "
      ]
     },
     "execution_count": 2,
     "metadata": {},
     "output_type": "execute_result"
    }
   ],
   "source": [
    "data = pd.read_csv('data/TextsToTranslate.csv', sep=';', header=None)\n",
    "data.columns = ['TextType', 'TextID1', 'TextID2', 'TextID3', 'TextID4', 'text']\n",
    "#data = data.head()\n",
    "data.head()"
   ]
  },
  {
   "cell_type": "code",
   "execution_count": 3,
   "metadata": {},
   "outputs": [],
   "source": [
    "translator = Translator()"
   ]
  },
  {
   "cell_type": "code",
   "execution_count": 48,
   "metadata": {},
   "outputs": [
    {
     "name": "stdout",
     "output_type": "stream",
     "text": [
      "veritas lux mea  ->  The truth is my light\n"
     ]
    }
   ],
   "source": [
    "translation = translator.translate('veritas lux mea', src='la')\n",
    "print(translation.origin, ' -> ', translation.text)"
   ]
  },
  {
   "cell_type": "code",
   "execution_count": 4,
   "metadata": {},
   "outputs": [
    {
     "name": "stdout",
     "output_type": "stream",
     "text": [
      "Are you sure you want to {1} route for vehicle   ->  Biztos, hogy {1} útvonalat szeretne a járműre\n"
     ]
    }
   ],
   "source": [
    "#translation = translator.translate('Are you sure you want to %1 route for vehicle ', src='en', dest='ru')\n",
    "translation = translator.translate('Are you sure you want to {1} route for vehicle ', src='en', dest='hu')\n",
    "print(translation.origin, ' -> ', translation.text)"
   ]
  },
  {
   "cell_type": "code",
   "execution_count": 5,
   "metadata": {},
   "outputs": [
    {
     "name": "stdout",
     "output_type": "stream",
     "text": [
      "Translating 240 rows...\n"
     ]
    }
   ],
   "source": [
    "print(f'Translating {len(data)} rows...')\n",
    "data['auto_translation'] = ''\n",
    "data['manual_translation'] = ''\n",
    "for index, row in data.iterrows():\n",
    "    #print(row['text'])\n",
    "    text_to_translate = row['text'].replace('%1','{1}').replace('%2','{2}').replace('%3','{3}').replace('%4','{4}')\n",
    "    translation = translator.translate(text_to_translate, src='en', dest='hu')\n",
    "    data.iloc[index, 6] = translation.text.replace('{1}','%1').replace('{2}','%2').replace('{3}','%3').replace('{4}','%4')"
   ]
  },
  {
   "cell_type": "code",
   "execution_count": 6,
   "metadata": {},
   "outputs": [
    {
     "data": {
      "text/html": [
       "<div>\n",
       "<style scoped>\n",
       "    .dataframe tbody tr th:only-of-type {\n",
       "        vertical-align: middle;\n",
       "    }\n",
       "\n",
       "    .dataframe tbody tr th {\n",
       "        vertical-align: top;\n",
       "    }\n",
       "\n",
       "    .dataframe thead th {\n",
       "        text-align: right;\n",
       "    }\n",
       "</style>\n",
       "<table border=\"1\" class=\"dataframe\">\n",
       "  <thead>\n",
       "    <tr style=\"text-align: right;\">\n",
       "      <th></th>\n",
       "      <th>TextType</th>\n",
       "      <th>TextID1</th>\n",
       "      <th>TextID2</th>\n",
       "      <th>TextID3</th>\n",
       "      <th>TextID4</th>\n",
       "      <th>text</th>\n",
       "      <th>auto_translation</th>\n",
       "      <th>manual_translation</th>\n",
       "    </tr>\n",
       "  </thead>\n",
       "  <tbody>\n",
       "    <tr>\n",
       "      <th>0</th>\n",
       "      <td>Message</td>\n",
       "      <td>2450</td>\n",
       "      <td>NaN</td>\n",
       "      <td>NaN</td>\n",
       "      <td>NaN</td>\n",
       "      <td>You are going to assign vehicles to all %1 ord...</td>\n",
       "      <td>Ezzel a helykel minden %1 megrendeléshez jármű...</td>\n",
       "      <td></td>\n",
       "    </tr>\n",
       "    <tr>\n",
       "      <th>1</th>\n",
       "      <td>Message</td>\n",
       "      <td>2451</td>\n",
       "      <td>NaN</td>\n",
       "      <td>NaN</td>\n",
       "      <td>NaN</td>\n",
       "      <td>cancel save of</td>\n",
       "      <td>mentés törlése</td>\n",
       "      <td></td>\n",
       "    </tr>\n",
       "    <tr>\n",
       "      <th>2</th>\n",
       "      <td>Message</td>\n",
       "      <td>2452</td>\n",
       "      <td>NaN</td>\n",
       "      <td>NaN</td>\n",
       "      <td>NaN</td>\n",
       "      <td>uncommit</td>\n",
       "      <td>uncommit</td>\n",
       "      <td></td>\n",
       "    </tr>\n",
       "    <tr>\n",
       "      <th>3</th>\n",
       "      <td>Message</td>\n",
       "      <td>2453</td>\n",
       "      <td>NaN</td>\n",
       "      <td>NaN</td>\n",
       "      <td>NaN</td>\n",
       "      <td>Are you sure you want to %1 route for vehicle ...</td>\n",
       "      <td>Biztosan %1 útvonalat szeretne %2 és %3 időpon...</td>\n",
       "      <td></td>\n",
       "    </tr>\n",
       "    <tr>\n",
       "      <th>4</th>\n",
       "      <td>Message</td>\n",
       "      <td>2454</td>\n",
       "      <td>NaN</td>\n",
       "      <td>NaN</td>\n",
       "      <td>NaN</td>\n",
       "      <td>All orders of this vehicle are now available</td>\n",
       "      <td>A jármű minden megrendelése elérhető</td>\n",
       "      <td></td>\n",
       "    </tr>\n",
       "  </tbody>\n",
       "</table>\n",
       "</div>"
      ],
      "text/plain": [
       "  TextType TextID1 TextID2 TextID3  TextID4  \\\n",
       "0  Message    2450     NaN     NaN      NaN   \n",
       "1  Message    2451     NaN     NaN      NaN   \n",
       "2  Message    2452     NaN     NaN      NaN   \n",
       "3  Message    2453     NaN     NaN      NaN   \n",
       "4  Message    2454     NaN     NaN      NaN   \n",
       "\n",
       "                                                text  \\\n",
       "0  You are going to assign vehicles to all %1 ord...   \n",
       "1                                     cancel save of   \n",
       "2                                           uncommit   \n",
       "3  Are you sure you want to %1 route for vehicle ...   \n",
       "4       All orders of this vehicle are now available   \n",
       "\n",
       "                                    auto_translation manual_translation  \n",
       "0  Ezzel a helykel minden %1 megrendeléshez jármű...                     \n",
       "1                                     mentés törlése                     \n",
       "2                                           uncommit                     \n",
       "3  Biztosan %1 útvonalat szeretne %2 és %3 időpon...                     \n",
       "4               A jármű minden megrendelése elérhető                     "
      ]
     },
     "execution_count": 6,
     "metadata": {},
     "output_type": "execute_result"
    }
   ],
   "source": [
    "data.head()"
   ]
  },
  {
   "cell_type": "code",
   "execution_count": 7,
   "metadata": {},
   "outputs": [],
   "source": [
    "writer = pd.ExcelWriter('data/for_translation.xlsx')\n",
    "data.to_excel(writer, sheet_name= 'Hungarian', index=False)\n",
    "writer.save()"
   ]
  },
  {
   "cell_type": "code",
   "execution_count": null,
   "metadata": {},
   "outputs": [],
   "source": []
  }
 ],
 "metadata": {
  "kernelspec": {
   "display_name": "Python 3",
   "language": "python",
   "name": "python3"
  },
  "language_info": {
   "codemirror_mode": {
    "name": "ipython",
    "version": 3
   },
   "file_extension": ".py",
   "mimetype": "text/x-python",
   "name": "python",
   "nbconvert_exporter": "python",
   "pygments_lexer": "ipython3",
   "version": "3.7.3"
  }
 },
 "nbformat": 4,
 "nbformat_minor": 2
}
