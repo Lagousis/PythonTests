{
 "cells": [
  {
   "cell_type": "markdown",
   "metadata": {},
   "source": [
    "Predicting with Multiple Inputs & Outputs"
   ]
  },
  {
   "cell_type": "code",
   "execution_count": 4,
   "metadata": {},
   "outputs": [],
   "source": [
    "import numpy as np"
   ]
  },
  {
   "cell_type": "code",
   "execution_count": 1,
   "metadata": {},
   "outputs": [],
   "source": [
    "#Predict when having 3 imputs and 3 outputs\n",
    "#NN has 3 input nodes and 3 output nodes, none hidden nodes\n",
    "# output 1 weights, output 2 weights, output 3 weights\n",
    "weights = [ [0.1, 0.1, -0.3],  #input 1 will be multiplied by these weights\n",
    "            [0.1, 0.2,  0.0],  #input 2 will be multiplied by these weights\n",
    "            [0.0, 1.3,  0.1] ] #input 3 will be multiplied by these weights"
   ]
  },
  {
   "cell_type": "code",
   "execution_count": 2,
   "metadata": {},
   "outputs": [],
   "source": [
    "inputs1 =  [8.5, 9.5, 9.9, 9.0]\n",
    "inputs2 = [0.65,0.8, 0.8, 0.9]\n",
    "inputs3 = [1.2, 1.3, 0.5, 1.0]"
   ]
  },
  {
   "cell_type": "code",
   "execution_count": 20,
   "metadata": {},
   "outputs": [
    {
     "name": "stdout",
     "output_type": "stream",
     "text": [
      "Input: [8.5  0.65 1.2 ]\n"
     ]
    }
   ],
   "source": [
    "input_one_row = np.array([inputs1[0], inputs2[0], inputs3[0]])\n",
    "print('Input:', input_one_row)"
   ]
  },
  {
   "cell_type": "code",
   "execution_count": 9,
   "metadata": {},
   "outputs": [
    {
     "data": {
      "text/plain": [
       "array([ 0.915,  2.54 , -2.43 ])"
      ]
     },
     "execution_count": 9,
     "metadata": {},
     "output_type": "execute_result"
    }
   ],
   "source": [
    "prediction = np.dot(input_one_row, weights)\n",
    "prediction"
   ]
  },
  {
   "cell_type": "code",
   "execution_count": 10,
   "metadata": {},
   "outputs": [
    {
     "data": {
      "text/plain": [
       "array([ 0.915,  2.54 , -2.43 ])"
      ]
     },
     "execution_count": 10,
     "metadata": {},
     "output_type": "execute_result"
    }
   ],
   "source": [
    "prediction = input_one_row.dot(weights)\n",
    "prediction"
   ]
  },
  {
   "cell_type": "markdown",
   "metadata": {},
   "source": [
    "With one hidden layer"
   ]
  },
  {
   "cell_type": "code",
   "execution_count": 24,
   "metadata": {},
   "outputs": [],
   "source": [
    "\n",
    "weights1  = [ [0.1, 0.2, -0.1], #input 1 will be multiplied by these weights\n",
    "              [-0.1,0.1,  0.9], #input 2 will be multiplied by these weights\n",
    "              [0.1, 0.4,  0.1] ] #input 3 will be multiplied by these weights\n",
    "           \n",
    "weights2 = [ [0.3, 1.1, -0.3], \n",
    "             [0.1, 0.2,  0.0], \n",
    "             [0.0, 1.3,  0.1] ]"
   ]
  },
  {
   "cell_type": "code",
   "execution_count": 25,
   "metadata": {},
   "outputs": [],
   "source": [
    "inputs1 =  [8.5, 9.5, 9.9, 9.0]\n",
    "inputs2 = [0.65,0.8, 0.8, 0.9]\n",
    "inputs3 = [1.2, 1.3, 0.5, 1.0]"
   ]
  },
  {
   "cell_type": "code",
   "execution_count": 26,
   "metadata": {},
   "outputs": [
    {
     "name": "stdout",
     "output_type": "stream",
     "text": [
      "Input: [8.5  0.65 1.2 ]\n"
     ]
    }
   ],
   "source": [
    "input_one_row = np.array([inputs1[0], inputs2[0], inputs3[0]])\n",
    "print('Input:', input_one_row)"
   ]
  },
  {
   "cell_type": "code",
   "execution_count": 27,
   "metadata": {},
   "outputs": [
    {
     "data": {
      "text/plain": [
       "array([ 0.496,  1.256, -0.286])"
      ]
     },
     "execution_count": 27,
     "metadata": {},
     "output_type": "execute_result"
    }
   ],
   "source": [
    "layer1 = np.dot(input_one_row, weights1)\n",
    "prediction = np.dot(layer1, weights2)\n",
    "prediction"
   ]
  },
  {
   "cell_type": "code",
   "execution_count": 48,
   "metadata": {},
   "outputs": [],
   "source": [
    "# Gradient descent intuition"
   ]
  },
  {
   "cell_type": "code",
   "execution_count": 30,
   "metadata": {},
   "outputs": [],
   "source": [
    "def my_error(weight): \n",
    "    return ((0.5 * weight) -0.8) ** 2"
   ]
  },
  {
   "cell_type": "code",
   "execution_count": 41,
   "metadata": {},
   "outputs": [],
   "source": [
    "x = np.arange(-10,13,0.1)"
   ]
  },
  {
   "cell_type": "code",
   "execution_count": 47,
   "metadata": {},
   "outputs": [
    {
     "data": {
      "image/png": "[encoded data removed]",
      "text/plain": [
       "<Figure size 432x288 with 1 Axes>"
      ]
     },
     "metadata": {},
     "output_type": "display_data"
    }
   ],
   "source": [
    "import matplotlib.pyplot as plt\n",
    "plt.plot(x, my_error(x))\n",
    "plt.text(0.8, -4, '0.8')\n",
    "plt.xlabel('Weight')\n",
    "plt.ylabel('Error')\n",
    "plt.title('Error vs weight')\n",
    "plt.show()"
   ]
  },
  {
   "cell_type": "code",
   "execution_count": 50,
   "metadata": {},
   "outputs": [
    {
     "name": "stdout",
     "output_type": "stream",
     "text": [
      "Error: 0.03999999999999998 Prediction: 1.0\n",
      "Error: 0.3599999999999998 Prediction: 0.20000000000000018\n",
      "Error: 3.2399999999999984 Prediction: 2.5999999999999996\n",
      "Error: 29.159999999999986 Prediction: -4.599999999999999\n",
      "Error: 262.4399999999999 Prediction: 16.999999999999996\n",
      "Error: 2361.959999999998 Prediction: -47.79999999999998\n",
      "Error: 21257.639999999978 Prediction: 146.59999999999994\n",
      "Error: 191318.75999999983 Prediction: -436.5999999999998\n",
      "Error: 1721868.839999999 Prediction: 1312.9999999999995\n",
      "Error: 15496819.559999991 Prediction: -3935.799999999999\n",
      "Error: 139471376.03999993 Prediction: 11810.599999999997\n",
      "Error: 1255242384.3599997 Prediction: -35428.59999999999\n",
      "Error: 11297181459.239996 Prediction: 106288.99999999999\n",
      "Error: 101674633133.15994 Prediction: -318863.79999999993\n",
      "Error: 915071698198.4395 Prediction: 956594.5999999997\n",
      "Error: 8235645283785.954 Prediction: -2869780.599999999\n",
      "Error: 74120807554073.56 Prediction: 8609344.999999996\n",
      "Error: 667087267986662.1 Prediction: -25828031.799999986\n",
      "Error: 6003785411879960.0 Prediction: 77484098.59999996\n",
      "Error: 5.403406870691965e+16 Prediction: -232452292.5999999\n"
     ]
    }
   ],
   "source": [
    "# Simple gradient descent, one input, one output\n",
    "weight = 0.5\n",
    "goal_pred = 0.8\n",
    "input = 0.5\n",
    "for iteration in range(20):\n",
    "    pred = input * weight\n",
    "    error = (pred - goal_pred) ** 2\n",
    "    delta = pred - goal_pred\n",
    "    weight_delta = input * delta\n",
    "    weight -= weight_delta\n",
    "    print(f'Error: {error} Prediction: {pred}')"
   ]
  },
  {
   "cell_type": "code",
   "execution_count": 51,
   "metadata": {},
   "outputs": [],
   "source": [
    "# The same code with input = 2 explodes! That's why we need alpha or learning rate"
   ]
  },
  {
   "cell_type": "code",
   "execution_count": 57,
   "metadata": {},
   "outputs": [
    {
     "name": "stdout",
     "output_type": "stream",
     "text": [
      "Error: 0.03999999999999998 Prediction: 1.0\n",
      "Error: 0.0144 Prediction: 0.92\n",
      "Error: 0.005183999999999993 Prediction: 0.872\n",
      "Error: 0.0018662400000000014 Prediction: 0.8432000000000001\n",
      "Error: 0.0006718464000000028 Prediction: 0.8259200000000001\n",
      "Error: 0.00024186470400000033 Prediction: 0.815552\n",
      "Error: 8.70712934399997e-05 Prediction: 0.8093312\n",
      "Error: 3.134566563839939e-05 Prediction: 0.80559872\n",
      "Error: 1.1284439629823931e-05 Prediction: 0.803359232\n",
      "Error: 4.062398266736526e-06 Prediction: 0.8020155392\n",
      "Error: 1.4624633760252567e-06 Prediction: 0.8012093235200001\n",
      "Error: 5.264868153690924e-07 Prediction: 0.8007255941120001\n",
      "Error: 1.8953525353291194e-07 Prediction: 0.8004353564672001\n",
      "Error: 6.82326912718715e-08 Prediction: 0.8002612138803201\n",
      "Error: 2.456376885786678e-08 Prediction: 0.8001567283281921\n",
      "Error: 8.842956788836216e-09 Prediction: 0.8000940369969153\n",
      "Error: 3.1834644439835434e-09 Prediction: 0.8000564221981492\n",
      "Error: 1.1460471998340758e-09 Prediction: 0.8000338533188895\n",
      "Error: 4.125769919393652e-10 Prediction: 0.8000203119913337\n",
      "Error: 1.485277170987127e-10 Prediction: 0.8000121871948003\n"
     ]
    }
   ],
   "source": [
    "# Simple gradient descent\n",
    "weight = 0.5\n",
    "goal_pred = 0.8\n",
    "input = 2\n",
    "lr = 0.1\n",
    "for iteration in range(20):\n",
    "    pred = input * weight\n",
    "    error = (pred - goal_pred) ** 2\n",
    "    delta = pred - goal_pred\n",
    "    weight_delta =  input * delta\n",
    "    weight -= lr * weight_delta \n",
    "    print(f'Error: {error} Prediction: {pred}')"
   ]
  },
  {
   "cell_type": "code",
   "execution_count": 73,
   "metadata": {},
   "outputs": [
    {
     "name": "stdout",
     "output_type": "stream",
     "text": [
      "Iteration: 0 Error: 0.3199180557652025 Prediction: 0.3343870088433236\n",
      "Iteration: 1 Error: 0.0799795139413006 Prediction: 0.6171935044216619\n",
      "Iteration: 2 Error: 0.01999487848532513 Prediction: 0.758596752210831\n",
      "Iteration: 3 Error: 0.004998719621331275 Prediction: 0.8292983761054156\n",
      "Iteration: 4 Error: 0.0012496799053328149 Prediction: 0.8646491880527079\n",
      "Iteration: 5 Error: 0.00031241997633320176 Prediction: 0.882324594026354\n",
      "Iteration: 6 Error: 7.810499408330142e-05 Prediction: 0.891162297013177\n",
      "Iteration: 7 Error: 1.9526248520824866e-05 Prediction: 0.8955811485065885\n",
      "Iteration: 8 Error: 4.881562130205971e-06 Prediction: 0.8977905742532943\n",
      "Iteration: 9 Error: 1.2203905325516153e-06 Prediction: 0.8988952871266471\n",
      "Iteration: 10 Error: 3.0509763313784253e-07 Prediction: 0.8994476435633236\n",
      "Iteration: 11 Error: 7.627440828442997e-08 Prediction: 0.8997238217816619\n",
      "Iteration: 12 Error: 1.9068602071092163e-08 Prediction: 0.899861910890831\n",
      "Iteration: 13 Error: 4.767150517765375e-09 Prediction: 0.8999309554454156\n",
      "Iteration: 14 Error: 1.1917876294451765e-09 Prediction: 0.8999654777227077\n",
      "Iteration: 15 Error: 2.9794690735937776e-10 Prediction: 0.8999827388613539\n",
      "Iteration: 16 Error: 7.448672684080263e-11 Prediction: 0.8999913694306769\n",
      "Iteration: 17 Error: 1.8621681709721564e-11 Prediction: 0.8999956847153385\n",
      "Iteration: 18 Error: 4.655420427190844e-12 Prediction: 0.8999978423576693\n",
      "Iteration: 19 Error: 1.1638551069174843e-12 Prediction: 0.8999989211788346\n",
      "Weight: 1.7999989211788345\n"
     ]
    }
   ],
   "source": [
    "# Try to find a in y = a * x where y = 0.9 and x = 0.5\n",
    "pred_goal = 0.9\n",
    "weight = np.random.rand(1)[0]\n",
    "lr = 1\n",
    "input = 0.5\n",
    "\n",
    "for iteration in range(20):\n",
    "    pred = input * weight\n",
    "    error = (pred - pred_goal) ** 2\n",
    "    derivative = 2 * (pred - pred_goal)\n",
    "    weight -= lr * input * derivative\n",
    "    print(f'Iteration: {iteration} Error: {error} Prediction: {pred}')\n",
    "    \n",
    "print(f'Weight: {weight}')"
   ]
  },
  {
   "cell_type": "markdown",
   "metadata": {},
   "source": [
    "Gradient descent with multiple inputs and one output"
   ]
  },
  {
   "cell_type": "code",
   "execution_count": 187,
   "metadata": {},
   "outputs": [],
   "source": [
    "class NN():\n",
    "    def __init__(self, lr):\n",
    "        self.weights = np.random.rand(3,1) #3 rows, 1 col\n",
    "        self.output = 0\n",
    "        self.error = 0\n",
    "        self.lr = lr\n",
    "        self.input = 0\n",
    "        self.weight_delta = np.zeros((3,1))\n",
    "        \n",
    "    def forward(self, input):\n",
    "        self.input = input\n",
    "        self.output = np.dot(input, self.weights)[0]\n",
    "        return self.output\n",
    "    \n",
    "    def back_propagation(self, correct_output):\n",
    "        self.error = (self.output - correct_output) ** 2\n",
    "        derivative = 2 * (self.output - correct_output)\n",
    "        # multiply every element of input with derivative, error is common but every input is different\n",
    "        self.weight_delta = self.input * derivative\n",
    "        self.weights -= self.lr * self.weight_delta.T"
   ]
  },
  {
   "cell_type": "code",
   "execution_count": 190,
   "metadata": {},
   "outputs": [
    {
     "name": "stdout",
     "output_type": "stream",
     "text": [
      "Iteration: 0 Error: [12.83765426] Prediction: [6.41703276]\n",
      "Iteration: 1 Error: [3.08232079] Prediction: [11.75565395]\n",
      "Iteration: 2 Error: [0.74006522] Prediction: [9.13972957]\n",
      "Iteration: 3 Error: [0.17768966] Prediction: [10.42153251]\n",
      "Iteration: 4 Error: [0.04266329] Prediction: [9.79344907]\n",
      "Iteration: 5 Error: [0.01024346] Prediction: [10.10120996]\n",
      "Iteration: 6 Error: [0.00245945] Prediction: [9.95040712]\n",
      "Iteration: 7 Error: [0.00059051] Prediction: [10.02430051]\n",
      "Iteration: 8 Error: [0.00014178] Prediction: [9.98809275]\n",
      "Iteration: 9 Error: [3.40420038e-05] Prediction: [10.00583455]\n",
      "Iteration: 10 Error: [8.17348511e-06] Prediction: [9.99714107]\n",
      "Iteration: 11 Error: [1.96245377e-06] Prediction: [10.00140088]\n",
      "Iteration: 12 Error: [4.71185151e-07] Prediction: [9.99931357]\n",
      "Iteration: 13 Error: [1.13131555e-07] Prediction: [10.00033635]\n",
      "Iteration: 14 Error: [2.71628863e-08] Prediction: [9.99983519]\n",
      "Iteration: 15 Error: [6.521809e-09] Prediction: [10.00008076]\n",
      "Iteration: 16 Error: [1.56588634e-09] Prediction: [9.99996043]\n",
      "Iteration: 17 Error: [3.75969311e-10] Prediction: [10.00001939]\n",
      "Iteration: 18 Error: [9.02702315e-11] Prediction: [9.9999905]\n",
      "Iteration: 19 Error: [2.16738826e-11] Prediction: [10.00000466]\n",
      "[[1.04276149]\n",
      " [0.25725478]\n",
      " [0.75416311]]\n"
     ]
    }
   ],
   "source": [
    "nn = NN(0.01)\n",
    "errors = []\n",
    "weight1_deltas = []\n",
    "weight2_deltas = []\n",
    "weight3_deltas = []\n",
    "for iteration in range(20):\n",
    "    nn.forward([[8.5, 0.9, 1.2]]) # It's important that input is a matrix (1x3 in this case) and not a vector!\n",
    "    nn.back_propagation(10)\n",
    "    errors.append(nn.error)\n",
    "    weight1_deltas.append(nn.weight_delta.T[0,0])\n",
    "    weight2_deltas.append(nn.weight_delta.T[1,0])\n",
    "    weight3_deltas.append(nn.weight_delta.T[2,0])\n",
    "    print(f'Iteration: {iteration} Error: {nn.error} Prediction: {nn.output}')\n",
    "    \n",
    "print(nn.weights)"
   ]
  },
  {
   "cell_type": "code",
   "execution_count": 191,
   "metadata": {
    "scrolled": true
   },
   "outputs": [
    {
     "data": {
      "image/png": "[encoded data removed]",
      "text/plain": [
       "<Figure size 432x288 with 1 Axes>"
      ]
     },
     "metadata": {},
     "output_type": "display_data"
    }
   ],
   "source": [
    "import matplotlib.pyplot as plt\n",
    "x = np.arange(20)\n",
    "plt.plot(x, errors)\n",
    "plt.xlabel('Iterations')\n",
    "plt.ylabel('Error')\n",
    "plt.show()"
   ]
  },
  {
   "cell_type": "code",
   "execution_count": 192,
   "metadata": {
    "scrolled": true
   },
   "outputs": [
    {
     "data": {
      "image/png": "[encoded data removed]",
      "text/plain": [
       "<Figure size 432x288 with 1 Axes>"
      ]
     },
     "metadata": {},
     "output_type": "display_data"
    }
   ],
   "source": [
    "import matplotlib.pyplot as plt\n",
    "x = np.arange(20)\n",
    "plt.plot(x, weight1_deltas,'r')\n",
    "plt.plot(x, weight2_deltas,'g')\n",
    "plt.plot(x, weight3_deltas,'b')\n",
    "plt.xlabel('Iterations')\n",
    "plt.ylabel('Deltas of weights')\n",
    "plt.show()"
   ]
  },
  {
   "cell_type": "markdown",
   "metadata": {},
   "source": [
    "Freeze first weight"
   ]
  },
  {
   "cell_type": "code",
   "execution_count": 203,
   "metadata": {},
   "outputs": [],
   "source": [
    "# Gradient descent with multiple inputs and one output\n",
    "class NN():\n",
    "    def __init__(self, lr):\n",
    "        self.weights = np.random.rand(3,1) #3 rows, 1 col\n",
    "        self.output = 0\n",
    "        self.error = 0\n",
    "        self.lr = lr\n",
    "        self.input = 0\n",
    "        self.weight_delta = np.zeros((3,1))\n",
    "        \n",
    "    def forward(self, input):\n",
    "        self.input = input\n",
    "        self.output = np.dot(input, self.weights)[0]\n",
    "        return self.output\n",
    "    \n",
    "    def back_propagation(self, correct_output):\n",
    "        self.error = (self.output - correct_output) ** 2\n",
    "        derivative = 2 * (self.output - correct_output)\n",
    "        # multiply every element of input with derivative, error is common but every input is different\n",
    "        self.weight_delta = self.input * derivative\n",
    "        self.weight_delta[0,0] = 0.0 #Freeze first weight\n",
    "        self.weights -= self.lr * self.weight_delta.T"
   ]
  },
  {
   "cell_type": "code",
   "execution_count": 204,
   "metadata": {},
   "outputs": [
    {
     "name": "stdout",
     "output_type": "stream",
     "text": [
      "Iteration: 0 Error: [13.71583636] Prediction: [6.29651025]\n",
      "Iteration: 1 Error: [4.1490405] Prediction: [7.96308064]\n",
      "Iteration: 2 Error: [1.25508475] Prediction: [8.87969435]\n",
      "Iteration: 3 Error: [0.37966314] Prediction: [9.38383189]\n",
      "Iteration: 4 Error: [0.1148481] Prediction: [9.66110754]\n",
      "Iteration: 5 Error: [0.03474155] Prediction: [9.81360915]\n",
      "Iteration: 6 Error: [0.01050932] Prediction: [9.89748503]\n",
      "Iteration: 7 Error: [0.00317907] Prediction: [9.94361677]\n",
      "Iteration: 8 Error: [0.00096167] Prediction: [9.96898922]\n",
      "Iteration: 9 Error: [0.0002909] Prediction: [9.98294407]\n",
      "Iteration: 10 Error: [8.79986653e-05] Prediction: [9.99061924]\n",
      "Iteration: 11 Error: [2.66195962e-05] Prediction: [9.99484058]\n",
      "Iteration: 12 Error: [8.05242786e-06] Prediction: [9.99716232]\n",
      "Iteration: 13 Error: [2.43585943e-06] Prediction: [9.99843928]\n",
      "Iteration: 14 Error: [7.36847477e-07] Prediction: [9.9991416]\n",
      "Iteration: 15 Error: [2.22896362e-07] Prediction: [9.99952788]\n",
      "Iteration: 16 Error: [6.74261495e-08] Prediction: [9.99974033]\n",
      "Iteration: 17 Error: [2.03964102e-08] Prediction: [9.99985718]\n",
      "Iteration: 18 Error: [6.16991409e-09] Prediction: [9.99992145]\n",
      "Iteration: 19 Error: [1.86639901e-09] Prediction: [9.9999568]\n",
      "[[0.67014143]\n",
      " [1.53176198]\n",
      " [2.4376569 ]]\n"
     ]
    }
   ],
   "source": [
    "nn = NN(0.1)\n",
    "errors = []\n",
    "weight1_deltas = []\n",
    "weight2_deltas = []\n",
    "weight3_deltas = []\n",
    "for iteration in range(20):\n",
    "    nn.forward([[8.5, 0.9, 1.2]]) # It's important that input is a matrix (1x3 in this case) and not a vector!\n",
    "    nn.back_propagation(10)\n",
    "    errors.append(nn.error)\n",
    "    weight1_deltas.append(nn.weight_delta.T[0,0])\n",
    "    weight2_deltas.append(nn.weight_delta.T[1,0])\n",
    "    weight3_deltas.append(nn.weight_delta.T[2,0])\n",
    "    print(f'Iteration: {iteration} Error: {nn.error} Prediction: {nn.output}')\n",
    "    \n",
    "print(nn.weights)"
   ]
  },
  {
   "cell_type": "code",
   "execution_count": 195,
   "metadata": {
    "scrolled": true
   },
   "outputs": [
    {
     "data": {
      "image/png": "[encoded data removed]",
      "text/plain": [
       "<Figure size 432x288 with 1 Axes>"
      ]
     },
     "metadata": {},
     "output_type": "display_data"
    }
   ],
   "source": [
    "import matplotlib.pyplot as plt\n",
    "x = np.arange(20)\n",
    "plt.plot(x, errors)\n",
    "plt.xlabel('Iterations')\n",
    "plt.ylabel('Error')\n",
    "plt.show()"
   ]
  },
  {
   "cell_type": "code",
   "execution_count": 196,
   "metadata": {
    "scrolled": true
   },
   "outputs": [
    {
     "data": {
      "image/png": "[encoded data removed]",
      "text/plain": [
       "<Figure size 432x288 with 1 Axes>"
      ]
     },
     "metadata": {},
     "output_type": "display_data"
    }
   ],
   "source": [
    "import matplotlib.pyplot as plt\n",
    "x = np.arange(20)\n",
    "plt.plot(x, weight1_deltas,'r')\n",
    "plt.plot(x, weight2_deltas,'g')\n",
    "plt.plot(x, weight3_deltas,'b')\n",
    "plt.xlabel('Iterations')\n",
    "plt.ylabel('Deltas of weights')\n",
    "plt.show()"
   ]
  },
  {
   "cell_type": "markdown",
   "metadata": {},
   "source": [
    "Multiple inputs and outputs"
   ]
  },
  {
   "cell_type": "code",
   "execution_count": 222,
   "metadata": {},
   "outputs": [],
   "source": [
    "# Gradient descent with multiple inputs and multiple outputs\n",
    "class NN():\n",
    "    def __init__(self, lr):\n",
    "        self.weights = np.random.rand(3, 3) #3 rows (inputs), 3 cols (outputs)\n",
    "        self.output = np.zeros((1,3))\n",
    "        self.error = np.zeros((1,3))\n",
    "        self.lr = lr\n",
    "        self.input = 0\n",
    "        self.weight_delta = np.zeros((3, 3))\n",
    "        \n",
    "    def forward(self, input):\n",
    "        self.input = input\n",
    "        self.output = np.dot(input, self.weights)\n",
    "        return self.output\n",
    "    \n",
    "    def back_propagation(self, correct_output):\n",
    "        self.errors = (self.output - correct_output) ** 2\n",
    "        self.error = self.errors.mean()\n",
    "        derivative = 2 * (self.output - correct_output)\n",
    "        # Weight_delta is a 3x3 matrix. \n",
    "        self.weight_delta = self.input.T * derivative\n",
    "        self.weights -= self.lr * self.weight_delta"
   ]
  },
  {
   "cell_type": "code",
   "execution_count": 224,
   "metadata": {},
   "outputs": [
    {
     "name": "stdout",
     "output_type": "stream",
     "text": [
      "Iteration: 0 Error: 27.794281105755044 Prediction: [[1.52216639 8.38743406 5.27552935]]\n",
      "Iteration: 1 Error: 6.6734068934917845 Prediction: [[-0.59686153 -2.61984269 -2.43600938]]\n",
      "Iteration: 2 Error: 1.6022849951273763 Prediction: [[0.44146215 2.77372292 1.3426446 ]]\n",
      "Iteration: 3 Error: 0.38470862733008276 Prediction: [[-0.06731645  0.13087577 -0.50889585]]\n",
      "Iteration: 4 Error: 0.09236854142195289 Prediction: [[0.18198506 1.42587087 0.39835897]]\n",
      "Iteration: 5 Error: 0.022177686795410864 Prediction: [[ 0.05982732  0.79132327 -0.04619589]]\n",
      "Iteration: 6 Error: 0.005324862599578145 Prediction: [[0.11968461 1.1022516  0.17163599]]\n",
      "Iteration: 7 Error: 0.0012784995101587154 Prediction: [[0.09035454 0.94989672 0.06489837]]\n",
      "Iteration: 8 Error: 0.0003069677323891056 Prediction: [[0.10472628 1.02455061 0.1171998 ]]\n",
      "Iteration: 9 Error: 7.37029525466238e-05 Prediction: [[0.09768412 0.9879702  0.0915721 ]]\n",
      "Iteration: 10 Error: 1.76960789064448e-05 Prediction: [[0.10113478 1.0058946  0.10412967]]\n",
      "Iteration: 11 Error: 4.248828545437562e-06 Prediction: [[0.09944396 0.99711165 0.09797646]]\n",
      "Iteration: 12 Error: 1.020143733759536e-06 Prediction: [[0.10027246 1.00141529 0.10099153]]\n",
      "Iteration: 13 Error: 2.449365104756482e-07 Prediction: [[0.09986649 0.99930651 0.09951415]]\n",
      "Iteration: 14 Error: 5.8809256165180824e-08 Prediction: [[0.10006542 1.00033981 0.10023807]]\n",
      "Iteration: 15 Error: 1.4120102405260216e-08 Prediction: [[0.09996795 0.99983349 0.09988335]]\n",
      "Iteration: 16 Error: 3.3902365875071043e-09 Prediction: [[0.10001571 1.00008159 0.10005716]]\n",
      "Iteration: 17 Error: 8.139958046653453e-10 Prediction: [[0.0999923  0.99996002 0.09997199]]\n",
      "Iteration: 18 Error: 1.9544039269943784e-10 Prediction: [[0.10000377 1.00001959 0.10001372]]\n",
      "Iteration: 19 Error: 4.692523828685884e-11 Prediction: [[0.09999815 0.9999904  0.09999328]]\n"
     ]
    }
   ],
   "source": [
    "nn = NN(0.01)\n",
    "errors = []\n",
    "input = np.array([[8.5, 0.9, 1.2]])\n",
    "for iteration in range(20):\n",
    "    nn.forward(input) # It's important that input is a matrix (1x3 in this case) and not a vector!\n",
    "    nn.back_propagation([[0.1, 1, 0.1]])\n",
    "    print(f'Iteration: {iteration} Error: {nn.error} Prediction: {nn.output}')\n",
    "    errors.append(nn.error)"
   ]
  },
  {
   "cell_type": "code",
   "execution_count": 225,
   "metadata": {},
   "outputs": [
    {
     "data": {
      "image/png": "[encoded data removed]",
      "text/plain": [
       "<Figure size 432x288 with 1 Axes>"
      ]
     },
     "metadata": {},
     "output_type": "display_data"
    }
   ],
   "source": [
    "import matplotlib.pyplot as plt\n",
    "x = np.arange(20)\n",
    "plt.plot(x, errors)\n",
    "plt.xlabel('Iterations')\n",
    "plt.ylabel('Error')\n",
    "plt.show()"
   ]
  },
  {
   "cell_type": "markdown",
   "metadata": {},
   "source": [
    "Solving streetlight problem"
   ]
  },
  {
   "cell_type": "code",
   "execution_count": 265,
   "metadata": {},
   "outputs": [],
   "source": [
    "streetlights = np.array( [ [ 1, 0, 1 ],\n",
    "                           [ 0, 1, 1 ],\n",
    "                           [ 0, 0, 1 ],\n",
    "                           [ 1, 1, 1 ],\n",
    "                           [ 0, 1, 1 ],\n",
    "                           [ 1, 0, 1 ] ] )\n",
    "\n",
    "walk_vs_stop = np.array( [ [0], \n",
    "                           [1], \n",
    "                           [0], \n",
    "                           [1],\n",
    "                           [1], \n",
    "                           [0]\n",
    "                         ] )\n",
    "\n",
    "# Gradient descent with user defined inputs and outputs\n",
    "class NN():\n",
    "    def __init__(self, inputs, outputs, lr):\n",
    "        self.weights = np.random.rand(inputs, outputs) # rows (inputs),  cols (outputs)\n",
    "        self.output = np.zeros((1, outputs))\n",
    "        self.error = np.zeros((1, outputs))\n",
    "        self.lr = lr\n",
    "        self.input = 0\n",
    "        self.weight_delta = np.zeros((inputs, outputs))\n",
    "        \n",
    "    def forward(self, input):\n",
    "        self.input = input\n",
    "        self.output = np.dot(input, self.weights)\n",
    "        return self.output\n",
    "    \n",
    "    def back_propagation(self, correct_output):\n",
    "        self.errors = (self.output - correct_output) ** 2\n",
    "        self.error = self.errors.mean()\n",
    "        derivative = 2 * (self.output - correct_output)\n",
    "        #print(derivative)\n",
    "        # Weight_delta is a inputs x outputs matrix. \n",
    "        self.weight_delta = np.dot(self.input.T, derivative)\n",
    "        self.weights -= self.lr * self.weight_delta"
   ]
  },
  {
   "cell_type": "code",
   "execution_count": 266,
   "metadata": {},
   "outputs": [
    {
     "name": "stdout",
     "output_type": "stream",
     "text": [
      "Iteration: 0 Error: 0.2384858395030038\n",
      "Iteration: 1 Error: 0.06443528734009392\n",
      "Iteration: 2 Error: 0.021872962352272613\n",
      "Iteration: 3 Error: 0.00752219748183453\n",
      "Iteration: 4 Error: 0.002512874175242732\n",
      "Iteration: 5 Error: 0.000796603619448555\n",
      "Iteration: 6 Error: 0.00023126024752485581\n",
      "Iteration: 7 Error: 5.713998555732192e-05\n",
      "Iteration: 8 Error: 9.876249613776489e-06\n",
      "Iteration: 9 Error: 4.369459417930658e-07\n",
      "Iteration: 10 Error: 4.5072413684209794e-07\n",
      "Iteration: 11 Error: 1.7663966124025265e-06\n",
      "Iteration: 12 Error: 2.552557678442608e-06\n",
      "Iteration: 13 Error: 2.716302501833325e-06\n",
      "Iteration: 14 Error: 2.5023042330676823e-06\n",
      "Iteration: 15 Error: 2.127003465023479e-06\n",
      "Iteration: 16 Error: 1.7215235030691276e-06\n",
      "Iteration: 17 Error: 1.3501830648672751e-06\n",
      "Iteration: 18 Error: 1.0370566961273032e-06\n",
      "Iteration: 19 Error: 7.853431859154699e-07\n",
      "Iteration: 20 Error: 5.88952750796722e-07\n",
      "Iteration: 21 Error: 4.386877027658941e-07\n",
      "Iteration: 22 Error: 3.252125055044501e-07\n",
      "Iteration: 23 Error: 2.4028513790072994e-07\n",
      "Iteration: 24 Error: 1.7711732993082734e-07\n",
      "Iteration: 25 Error: 1.3033743712730437e-07\n",
      "Iteration: 26 Error: 9.579931796141892e-08\n",
      "Iteration: 27 Error: 7.035420668085082e-08\n",
      "Iteration: 28 Error: 5.163663298869492e-08\n",
      "Iteration: 29 Error: 3.7882707753581276e-08\n",
      "Iteration: 30 Error: 2.7783866282858076e-08\n",
      "Iteration: 31 Error: 2.037280444172105e-08\n",
      "Iteration: 32 Error: 1.4936277683489875e-08\n",
      "Iteration: 33 Error: 1.0949304862276912e-08\n",
      "Iteration: 34 Error: 8.025959680155306e-09\n",
      "Iteration: 35 Error: 5.8827903696409295e-09\n",
      "Iteration: 36 Error: 4.311740977362119e-09\n",
      "Iteration: 37 Error: 3.1601650851887827e-09\n",
      "Iteration: 38 Error: 2.3161047742197195e-09\n",
      "Iteration: 39 Error: 1.697463539081539e-09\n"
     ]
    }
   ],
   "source": [
    "#Learn one example at a time: Stohastic gradient descent\n",
    "epochs = 40\n",
    "nn = NN(3, 1, 0.1)\n",
    "errors = []\n",
    "for iteration in range(epochs):\n",
    "    for example in range(len(streetlights)):\n",
    "        input = np.array([streetlights[example]])\n",
    "        correct_output = np.array([walk_vs_stop[example]])\n",
    "        nn.forward(input) # It's important that input is a matrix (1x3 in this case) and not a vector!\n",
    "        nn.back_propagation(correct_output)\n",
    "    print(f'Iteration: {iteration} Error: {nn.error}')\n",
    "    errors.append(nn.error)"
   ]
  },
  {
   "cell_type": "code",
   "execution_count": 267,
   "metadata": {},
   "outputs": [
    {
     "data": {
      "image/png": "[encoded data removed]",
      "text/plain": [
       "<Figure size 432x288 with 1 Axes>"
      ]
     },
     "metadata": {},
     "output_type": "display_data"
    }
   ],
   "source": [
    "x = np.arange(epochs)\n",
    "plt.plot(x, errors)\n",
    "plt.xlabel('Iterations')\n",
    "plt.ylabel('Error')\n",
    "plt.show()"
   ]
  },
  {
   "cell_type": "code",
   "execution_count": 268,
   "metadata": {},
   "outputs": [],
   "source": [
    "#Learn the full dataset a time: Full gradient descent"
   ]
  },
  {
   "cell_type": "code",
   "execution_count": 269,
   "metadata": {},
   "outputs": [
    {
     "name": "stdout",
     "output_type": "stream",
     "text": [
      "Iteration: 0 Error: 0.5103089884066575\n",
      "Iteration: 1 Error: 0.19088449463184043\n",
      "Iteration: 2 Error: 0.07417009475959986\n",
      "Iteration: 3 Error: 0.030844508399480317\n",
      "Iteration: 4 Error: 0.014252911481191418\n",
      "Iteration: 5 Error: 0.007524203360836569\n",
      "Iteration: 6 Error: 0.004527511182882985\n",
      "Iteration: 7 Error: 0.003012190485304062\n",
      "Iteration: 8 Error: 0.0021349262839037543\n",
      "Iteration: 9 Error: 0.0015669821211930083\n",
      "Iteration: 10 Error: 0.001170904144460105\n",
      "Iteration: 11 Error: 0.0008826863334369083\n",
      "Iteration: 12 Error: 0.0006682493195250546\n",
      "Iteration: 13 Error: 0.000506936257039725\n",
      "Iteration: 14 Error: 0.0003849355940624383\n",
      "Iteration: 15 Error: 0.00029243010542386163\n",
      "Iteration: 16 Error: 0.000222203339539242\n",
      "Iteration: 17 Error: 0.00016885886343998444\n",
      "Iteration: 18 Error: 0.00012832709335484352\n",
      "Iteration: 19 Error: 9.752655952024498e-05\n",
      "Iteration: 20 Error: 7.411945392078869e-05\n",
      "Iteration: 21 Error: 5.633052170654501e-05\n",
      "Iteration: 22 Error: 4.281110171860226e-05\n",
      "Iteration: 23 Error: 3.253640318592333e-05\n",
      "Iteration: 24 Error: 2.4727654138024867e-05\n",
      "Iteration: 25 Error: 1.879301272291939e-05\n",
      "Iteration: 26 Error: 1.4282688077505836e-05\n",
      "Iteration: 27 Error: 1.0854842365815552e-05\n",
      "Iteration: 28 Error: 8.249679991708175e-06\n",
      "Iteration: 29 Error: 6.269756719426093e-06\n",
      "Iteration: 30 Error: 4.765015080026268e-06\n",
      "Iteration: 31 Error: 3.6214114511943567e-06\n",
      "Iteration: 32 Error: 2.7522726994420327e-06\n",
      "Iteration: 33 Error: 2.091727250328236e-06\n",
      "Iteration: 34 Error: 1.5897127098002558e-06\n",
      "Iteration: 35 Error: 1.2081816592865682e-06\n",
      "Iteration: 36 Error: 9.182180609997165e-07\n",
      "Iteration: 37 Error: 6.978457263387916e-07\n",
      "Iteration: 38 Error: 5.303627520097289e-07\n",
      "Iteration: 39 Error: 4.0307569152463126e-07\n"
     ]
    }
   ],
   "source": [
    "epochs = 40\n",
    "nn = NN(3, 1, 0.1)\n",
    "errors = []\n",
    "for iteration in range(epochs):\n",
    "    input = streetlights\n",
    "    correct_output = walk_vs_stop\n",
    "    nn.forward(input) # It's important that input is a matrix (#examples x 3 in this case) and not a vector!\n",
    "    nn.back_propagation(correct_output)     \n",
    "    print(f'Iteration: {iteration} Error: {nn.error}')\n",
    "    errors.append(nn.error)"
   ]
  },
  {
   "cell_type": "code",
   "execution_count": 270,
   "metadata": {},
   "outputs": [
    {
     "data": {
      "image/png": "[encoded data removed]",
      "text/plain": [
       "<Figure size 432x288 with 1 Axes>"
      ]
     },
     "metadata": {},
     "output_type": "display_data"
    }
   ],
   "source": [
    "x = np.arange(epochs)\n",
    "plt.plot(x, errors)\n",
    "plt.xlabel('Iterations')\n",
    "plt.ylabel('Error')\n",
    "plt.show()"
   ]
  },
  {
   "cell_type": "code",
   "execution_count": 272,
   "metadata": {},
   "outputs": [
    {
     "data": {
      "text/plain": [
       "array([[3.44340075e-04],\n",
       "       [1.00034434e+00],\n",
       "       [1.72201902e-04]])"
      ]
     },
     "execution_count": 272,
     "metadata": {},
     "output_type": "execute_result"
    }
   ],
   "source": [
    "nn.weights\n",
    "# It's clear that the second input is the most important"
   ]
  },
  {
   "cell_type": "markdown",
   "metadata": {},
   "source": [
    "Add a hidden layer and a RELU"
   ]
  },
  {
   "cell_type": "code",
   "execution_count": 393,
   "metadata": {},
   "outputs": [],
   "source": [
    "def relu(x):\n",
    "    return (x>0) * x #returns 1 if x>0 otherwise 0\n",
    "\n",
    "def reluderiv(output):\n",
    "    return (output>0) * 1 # returns 1 if output > 0 otherwise returns 0\n",
    "\n",
    "class NN():\n",
    "    def __init__(self, inputs, hidden_nodes, outputs, lr, verbose=False):\n",
    "        self.weights_0_1 = 2 *  np.random.rand(inputs, hidden_nodes) # rows (inputs),  cols (hidden_nodes)\n",
    "        self.weights_1_2 = 2 * np.random.rand(hidden_nodes, outputs) # rows (hidden_nodes),  cols (outputs)\n",
    "        self.output = np.zeros((1, outputs))\n",
    "        self.error = np.zeros((1, outputs))\n",
    "        self.lr = lr\n",
    "        self.weight_delta = np.zeros((inputs, outputs))\n",
    "        self.verbose = verbose\n",
    "        \n",
    "    def forward(self, input):\n",
    "        self.layer_0 = input\n",
    "        self.layer_1 = relu(np.dot(self.layer_0, self.weights_0_1))\n",
    "        self.layer_2 = np.dot(self.layer_1, self.weights_1_2)        \n",
    "        self.output = self.layer_2\n",
    "        return self.output\n",
    "    \n",
    "    def back_propagation(self, correct_output):\n",
    "        self.errors = (self.layer_2 - correct_output) ** 2\n",
    "        self.error = self.errors.sum()\n",
    "        \n",
    "        if self.verbose:\n",
    "            print('correct', correct_output)\n",
    "            print('layer_1', self.layer_1)\n",
    "            print('layer_2', self.layer_2)\n",
    "            print('reluderiv', reluderiv(self.layer_1))        \n",
    "        \n",
    "        layer_2_delta = correct_output - self.layer_2        \n",
    "        layer_1_delta = np.dot(layer_2_delta, self.weights_1_2.T) \n",
    "        # if an output of layer1 was <0 then RELU cut it, so it didn't matter for the error\n",
    "        layer_1_delta *= reluderiv(self.layer_1) \n",
    "        \n",
    "        if self.verbose:\n",
    "            print('layer_1_delta', layer_1_delta)\n",
    "            print('layer_2_delta', layer_2_delta)\n",
    "        \n",
    "        self.weights_1_2 += self.lr * np.dot(self.layer_1.T, layer_2_delta)\n",
    "        self.weights_0_1 += self.lr * np.dot(self.layer_0.T, layer_1_delta)"
   ]
  },
  {
   "cell_type": "code",
   "execution_count": 394,
   "metadata": {},
   "outputs": [
    {
     "name": "stdout",
     "output_type": "stream",
     "text": [
      "Iteration: 0 Error: 306.65081142758174\n",
      "Iteration: 1 Error: 2.3700426484774932\n",
      "Iteration: 2 Error: 1.1247181985697474\n",
      "Iteration: 3 Error: 0.8500429671719106\n",
      "Iteration: 4 Error: 0.7786984746773369\n",
      "Iteration: 5 Error: 0.7501261913370459\n",
      "Iteration: 6 Error: 0.7308225817220314\n",
      "Iteration: 7 Error: 0.7138345258512123\n",
      "Iteration: 8 Error: 0.6977108072616689\n",
      "Iteration: 9 Error: 0.6821361237132443\n",
      "Iteration: 10 Error: 0.6670301836978842\n",
      "Iteration: 11 Error: 0.6523620257629543\n",
      "Iteration: 12 Error: 0.6381116691215407\n",
      "Iteration: 13 Error: 0.62426213248216\n",
      "Iteration: 14 Error: 0.6107977292126722\n",
      "Iteration: 15 Error: 0.5977036674932167\n",
      "Iteration: 16 Error: 0.5849659261033505\n",
      "Iteration: 17 Error: 0.5725711913644523\n",
      "Iteration: 18 Error: 0.5605068099440506\n",
      "Iteration: 19 Error: 0.5487607476237719\n",
      "Iteration: 20 Error: 0.5373215516485189\n",
      "Iteration: 21 Error: 0.5261783159228515\n",
      "Iteration: 22 Error: 0.5153206487104631\n",
      "Iteration: 23 Error: 0.5047386426023266\n",
      "Iteration: 24 Error: 0.494422846561473\n",
      "Iteration: 25 Error: 0.48436423987618155\n",
      "Iteration: 26 Error: 0.4745542078705969\n",
      "Iteration: 27 Error: 0.4649845192359845\n",
      "Iteration: 28 Error: 0.45564730485811017\n",
      "Iteration: 29 Error: 0.4465350380271397\n",
      "Iteration: 30 Error: 0.4376405159262152\n",
      "Iteration: 31 Error: 0.4289568423036716\n",
      "Iteration: 32 Error: 0.42047741124182975\n",
      "Iteration: 33 Error: 0.41219589194251793\n",
      "Iteration: 34 Error: 0.4041062144560341\n",
      "Iteration: 35 Error: 0.39620255628621204\n",
      "Iteration: 36 Error: 0.3884793298096777\n",
      "Iteration: 37 Error: 0.3809311704523211\n",
      "Iteration: 38 Error: 0.3735529255705015\n",
      "Iteration: 39 Error: 0.366339643988612\n",
      "Iteration: 40 Error: 0.3592865661483827\n",
      "Iteration: 41 Error: 0.35238911482871904\n",
      "Iteration: 42 Error: 0.34564288639801444\n",
      "Iteration: 43 Error: 0.33904364256373926\n",
      "Iteration: 44 Error: 0.3325873025867435\n",
      "Iteration: 45 Error: 0.32626993593011566\n",
      "Iteration: 46 Error: 0.32008775531465405\n",
      "Iteration: 47 Error: 0.3140371101550465\n",
      "Iteration: 48 Error: 0.3081144803527075\n",
      "Iteration: 49 Error: 0.3023164704229543\n",
      "Iteration: 50 Error: 0.2966398039357741\n",
      "Iteration: 51 Error: 0.2910813182509004\n",
      "Iteration: 52 Error: 0.28563795952924925\n",
      "Iteration: 53 Error: 0.28030677800401493\n",
      "Iteration: 54 Error: 0.27508492349585917\n",
      "Iteration: 55 Error: 0.2699696411576905\n",
      "Iteration: 56 Error: 0.26495826743550477\n",
      "Iteration: 57 Error: 0.26004822623265983\n",
      "Iteration: 58 Error: 0.2552370252657908\n",
      "Iteration: 59 Error: 0.25052225260135536\n"
     ]
    }
   ],
   "source": [
    "epochs = 60\n",
    "nn = NN(inputs=3, hidden_nodes=4, outputs=1, lr=0.01)\n",
    "full_gradient_descent = True\n",
    "#full_gradient_descent must have more epochs and small lr (lr<=0.01). It converges slower.\n",
    "\n",
    "errors = []\n",
    "for iteration in range(epochs):\n",
    "    \n",
    "    if full_gradient_descent:\n",
    "        input = streetlights\n",
    "        correct_output = walk_vs_stop    \n",
    "        nn.forward(input) # It's important that input is a matrix (#examples x 3 in this case) and not a vector!\n",
    "        nn.back_propagation(correct_output)     \n",
    "    else:            \n",
    "        for example in range(len(streetlights)):\n",
    "            input = np.array([streetlights[example]])\n",
    "            correct_output = np.array([walk_vs_stop[example]])\n",
    "            nn.forward(input) # It's important that input is a matrix (#examples x 3 in this case) and not a vector!\n",
    "            nn.back_propagation(correct_output)     \n",
    "                        \n",
    "    print(f'Iteration: {iteration} Error: {nn.error}')\n",
    "    errors.append(nn.error)\n",
    "    \n",
    "#print(nn.weights_0_1)\n",
    "#print(nn.weights_1_2)"
   ]
  },
  {
   "cell_type": "code",
   "execution_count": 395,
   "metadata": {},
   "outputs": [
    {
     "data": {
      "image/png": "[encoded data removed]",
      "text/plain": [
       "<Figure size 432x288 with 1 Axes>"
      ]
     },
     "metadata": {},
     "output_type": "display_data"
    }
   ],
   "source": [
    "x = np.arange(epochs)\n",
    "#ignore first iterations to keep scale small\n",
    "x = x[5:]\n",
    "errors = errors[5:]\n",
    "plt.plot(x, errors)\n",
    "plt.xlabel('Iterations')\n",
    "plt.ylabel('Error')\n",
    "plt.show()"
   ]
  },
  {
   "cell_type": "code",
   "execution_count": 453,
   "metadata": {},
   "outputs": [],
   "source": [
    "# Multiple hidden nodes\n",
    "def relu(x):\n",
    "    return (x>0) * x #returns 1 if x>0 otherwise 0\n",
    "\n",
    "def reluderiv(output):\n",
    "    return (output>0) * 1 # returns 1 if output > 0 otherwise returns 0\n",
    "\n",
    "class NN():\n",
    "    def __init__(self, inputs, hidden_layers, outputs, lr, verbose=False):\n",
    "        self.weights = []\n",
    "        self.hidden_layers = hidden_layers\n",
    "        previous_nodes = inputs     \n",
    "        for i in range(len(self.hidden_layers)):\n",
    "            self.weights.append(np.random.rand(previous_nodes, self.hidden_layers[i]))\n",
    "            previous_nodes =  hidden_layers[i]\n",
    "        self.weights.append(np.random.rand(previous_nodes, outputs))\n",
    "        \n",
    "        self.lr = lr\n",
    "        self.verbose = verbose\n",
    "        \n",
    "    def forward(self, input):\n",
    "        self.layers = []\n",
    "        self.layers.append(input)\n",
    "        for i in range(len(self.hidden_layers)):\n",
    "            self.layers.append(relu(np.dot(self.layers[i],self.weights[i])))\n",
    "            #if i<(len(self.hidden_layers)-1): #not last layer\n",
    "        \n",
    "        #last layer\n",
    "        self.layers.append(np.dot(self.layers[len(self.layers)-1],self.weights[len(self.layers)-1]))\n",
    "        \n",
    "        self.output = self.layers[len(self.layers)-1]\n",
    "        return self.output\n",
    "    \n",
    "    def back_propagation(self, correct_output):\n",
    "        self.errors = (correct_output - self.output) ** 2\n",
    "        self.error = self.errors.sum()\n",
    "        \n",
    "        #Fix weights of last layer, no RELU in in last layer\n",
    "        delta = correct_output - self.output\n",
    "        weights_delta = self.lr * np.dot(self.layers[len(self.layers)-2].T, delta)\n",
    "        \n",
    "        self.weights[len(self.weights)-1] += weights_delta\n",
    "        \n",
    "        for i in range(len(self.weights)-2, -1, -1):\n",
    "            delta = np.dot(delta, self.weights[i+1].T)\n",
    "            delta *= reluderiv(delta)\n",
    "            weights_delta = self.lr * np.dot(self.layers[i].T, delta)\n",
    "            \n",
    "            self.weights[i] += weights_delta"
   ]
  },
  {
   "cell_type": "code",
   "execution_count": 461,
   "metadata": {},
   "outputs": [
    {
     "name": "stdout",
     "output_type": "stream",
     "text": [
      "Iteration: 0 Error: 4.94563896249077\n",
      "Iteration: 1 Error: 4.8313065068205425\n",
      "Iteration: 2 Error: 4.719987621902943\n",
      "Iteration: 3 Error: 4.611602870072554\n",
      "Iteration: 4 Error: 4.506074907639518\n",
      "Iteration: 5 Error: 4.403328429692342\n",
      "Iteration: 6 Error: 4.303290116355759\n",
      "Iteration: 7 Error: 4.205888580465196\n",
      "Iteration: 8 Error: 4.111054316620553\n",
      "Iteration: 9 Error: 4.018719651582922\n",
      "Iteration: 10 Error: 3.9288186959788494\n",
      "Iteration: 11 Error: 3.8412872972776757\n",
      "Iteration: 12 Error: 3.756062994008381\n",
      "Iteration: 13 Error: 3.673084971183287\n",
      "Iteration: 14 Error: 3.592294016896778\n",
      "Iteration: 15 Error: 3.5136324800680936\n",
      "Iteration: 16 Error: 3.4370442292980004\n",
      "Iteration: 17 Error: 3.3624746128100176\n",
      "Iteration: 18 Error: 3.2898704194475865\n",
      "Iteration: 19 Error: 3.2191798406993524\n",
      "Iteration: 20 Error: 3.150352433725457\n",
      "Iteration: 21 Error: 3.0833390853584692\n",
      "Iteration: 22 Error: 3.0180919770532313\n",
      "Iteration: 23 Error: 2.9545645507606446\n",
      "Iteration: 24 Error: 2.89271147570101\n",
      "Iteration: 25 Error: 2.8324886160132303\n",
      "Iteration: 26 Error: 2.773852999256772\n",
      "Iteration: 27 Error: 2.7167627857439243\n",
      "Iteration: 28 Error: 2.6611772386804464\n",
      "Iteration: 29 Error: 2.607056695093321\n",
      "Iteration: 30 Error: 2.554362537524838\n",
      "Iteration: 31 Error: 2.503057166472831\n",
      "Iteration: 32 Error: 2.4531039735573903\n",
      "Iteration: 33 Error: 2.40446731539489\n",
      "Iteration: 34 Error: 2.357112488160704\n",
      "Iteration: 35 Error: 2.3110057028224515\n",
      "Iteration: 36 Error: 2.2661140610260784\n",
      "Iteration: 37 Error: 2.222405531617602\n",
      "Iteration: 38 Error: 2.1798489277837243\n",
      "Iteration: 39 Error: 2.138413884795029\n",
      "Iteration: 40 Error: 2.0980708383358646\n",
      "Iteration: 41 Error: 2.058791003405444\n",
      "Iteration: 42 Error: 2.0205463537751287\n",
      "Iteration: 43 Error: 1.9833096019871994\n",
      "Iteration: 44 Error: 1.9470541798808685\n",
      "Iteration: 45 Error: 1.9117542196316268\n",
      "Iteration: 46 Error: 1.8773845352903884\n",
      "Iteration: 47 Error: 1.843920604809268\n",
      "Iteration: 48 Error: 1.8113385525411547\n",
      "Iteration: 49 Error: 1.7796151322006013\n",
      "Iteration: 50 Error: 1.7487277102738537\n",
      "Iteration: 51 Error: 1.7186542498662098\n",
      "Iteration: 52 Error: 1.6893732949751439\n",
      "Iteration: 53 Error: 1.660863955177999\n",
      "Iteration: 54 Error: 1.6331058907233147\n",
      "Iteration: 55 Error: 1.60607929801514\n",
      "Iteration: 56 Error: 1.5797648954799848\n",
      "Iteration: 57 Error: 1.5541439098063137\n",
      "Iteration: 58 Error: 1.5291980625467754\n",
      "Iteration: 59 Error: 1.5049095570735842\n",
      "Iteration: 60 Error: 1.481261065877768\n",
      "Iteration: 61 Error: 1.4582357182032035\n",
      "Iteration: 62 Error: 1.4358170880066186\n",
      "Iteration: 63 Error: 1.4139891822349684\n",
      "Iteration: 64 Error: 1.3927364294118205\n",
      "Iteration: 65 Error: 1.372043668524604\n",
      "Iteration: 66 Error: 1.351896138204785\n",
      "Iteration: 67 Error: 1.3322794661932613\n",
      "Iteration: 68 Error: 1.3131796590834401\n",
      "Iteration: 69 Error: 1.2945830923346948\n",
      "Iteration: 70 Error: 1.2764765005490626\n",
      "Iteration: 71 Error: 1.2588469680042509\n",
      "Iteration: 72 Error: 1.2416819194361919\n",
      "Iteration: 73 Error: 1.2249691110645688\n",
      "Iteration: 74 Error: 1.2086966218549124\n",
      "Iteration: 75 Error: 1.1928528450110218\n",
      "Iteration: 76 Error: 1.1774264796916531\n",
      "Iteration: 77 Error: 1.1624065229455478\n",
      "Iteration: 78 Error: 1.1477822618590607\n",
      "Iteration: 79 Error: 1.133543265910772\n",
      "Iteration: 80 Error: 1.1196793795276319\n",
      "Iteration: 81 Error: 1.1061807148373297\n",
      "Iteration: 82 Error: 1.0930376446117025\n",
      "Iteration: 83 Error: 1.0802407953961617\n",
      "Iteration: 84 Error: 1.0677810408202268\n",
      "Iteration: 85 Error: 1.0556494950843907\n",
      "Iteration: 86 Error: 1.0438375066186734\n",
      "Iteration: 87 Error: 1.032336651908336\n",
      "Iteration: 88 Error: 1.0211387294823475\n",
      "Iteration: 89 Error: 1.0102357540603164\n",
      "Iteration: 90 Error: 0.9996199508537116\n",
      "Iteration: 91 Error: 0.9892837500172962\n",
      "Iteration: 92 Error: 0.9792197812468275\n",
      "Iteration: 93 Error: 0.9694208685191612\n",
      "Iteration: 94 Error: 0.9598800249710038\n",
      "Iteration: 95 Error: 0.9505904479126606\n",
      "Iteration: 96 Error: 0.9415455139732257\n",
      "Iteration: 97 Error: 0.9327387743737383\n",
      "Iteration: 98 Error: 0.9241639503249446\n",
      "Iteration: 99 Error: 0.9158149285463705\n",
      "Iteration: 100 Error: 0.9076857569035133\n",
      "Iteration: 101 Error: 0.8998020468009503\n",
      "Iteration: 102 Error: 0.8921572693029184\n",
      "Iteration: 103 Error: 0.8847431425845952\n",
      "Iteration: 104 Error: 0.8775517145636076\n",
      "Iteration: 105 Error: 0.870575347753039\n",
      "Iteration: 106 Error: 0.8638067049126573\n",
      "Iteration: 107 Error: 0.8572387354507216\n",
      "Iteration: 108 Error: 0.8508646625318943\n",
      "Iteration: 109 Error: 0.8446779708497374\n",
      "Iteration: 110 Error: 0.8386723950249884\n",
      "Iteration: 111 Error: 0.8328419085933592\n",
      "Iteration: 112 Error: 0.8271807135489211\n",
      "Iteration: 113 Error: 0.8216832304113545\n",
      "Iteration: 114 Error: 0.8163440887873307\n",
      "Iteration: 115 Error: 0.8111581183982064\n",
      "Iteration: 116 Error: 0.8061203405479485\n",
      "Iteration: 117 Error: 0.8012259600068283\n",
      "Iteration: 118 Error: 0.7964703572879666\n",
      "Iteration: 119 Error: 0.7918490812951965\n",
      "Iteration: 120 Error: 0.7873578423220453\n",
      "Iteration: 121 Error: 0.7829925053828639\n",
      "Iteration: 122 Error: 0.7787490838582636\n",
      "Iteration: 123 Error: 0.7746237334381141\n",
      "Iteration: 124 Error: 0.7706127463463284\n",
      "Iteration: 125 Error: 0.7667125458326141\n",
      "Iteration: 126 Error: 0.7629196809172307\n",
      "Iteration: 127 Error: 0.7592308213756109\n",
      "Iteration: 128 Error: 0.755642752950473\n",
      "Iteration: 129 Error: 0.7521523727797483\n",
      "Iteration: 130 Error: 0.7487566850293412\n",
      "Iteration: 131 Error: 0.7454527967203392\n",
      "Iteration: 132 Error: 0.7422379137408985\n",
      "Iteration: 133 Error: 0.7391093370335622\n",
      "Iteration: 134 Error: 0.7360644589493057\n",
      "Iteration: 135 Error: 0.7331007597600652\n",
      "Iteration: 136 Error: 0.7302158658521618\n",
      "Iteration: 137 Error: 0.7274077044380552\n",
      "Iteration: 138 Error: 0.7246739735833754\n",
      "Iteration: 139 Error: 0.7220124485051362\n",
      "Iteration: 140 Error: 0.7194209786625931\n",
      "Iteration: 141 Error: 0.7168974849720914\n",
      "Iteration: 142 Error: 0.7144399571399543\n",
      "Iteration: 143 Error: 0.7120464511077702\n",
      "Iteration: 144 Error: 0.7097150866047467\n",
      "Iteration: 145 Error: 0.7074440448020742\n",
      "Iteration: 146 Error: 0.7052315660645195\n",
      "Iteration: 147 Error: 0.7030759477947028\n",
      "Iteration: 148 Error: 0.7009755423657714\n",
      "Iteration: 149 Error: 0.6989287551383799\n",
      "Iteration: 150 Error: 0.6969340425581181\n",
      "Iteration: 151 Error: 0.6949899103297171\n",
      "Iteration: 152 Error: 0.6930949116645433\n",
      "Iteration: 153 Error: 0.6912476455980856\n",
      "Iteration: 154 Error: 0.6894467553742851\n",
      "Iteration: 155 Error: 0.687690926893733\n",
      "Iteration: 156 Error: 0.6859788872228979\n",
      "Iteration: 157 Error: 0.6843094031616883\n",
      "Iteration: 158 Error: 0.6826812798667931\n",
      "Iteration: 159 Error: 0.681093359528363\n",
      "Iteration: 160 Error: 0.6795445200977097\n",
      "Iteration: 161 Error: 0.6780336740638284\n",
      "Iteration: 162 Error: 0.6765597672766395\n",
      "Iteration: 163 Error: 0.6751217778149468\n",
      "Iteration: 164 Error: 0.6737187148972215\n",
      "Iteration: 165 Error: 0.6723496178333878\n",
      "Iteration: 166 Error: 0.6710135550158913\n",
      "Iteration: 167 Error: 0.6697096229483985\n",
      "Iteration: 168 Error: 0.6684369453105645\n",
      "Iteration: 169 Error: 0.6671946720573656\n",
      "Iteration: 170 Error: 0.6659819785515796\n",
      "Iteration: 171 Error: 0.6647980647280392\n",
      "Iteration: 172 Error: 0.6636421542883745\n",
      "Iteration: 173 Error: 0.6625134939249939\n",
      "Iteration: 174 Error: 0.6614113525731222\n",
      "Iteration: 175 Error: 0.6603350206897697\n",
      "Iteration: 176 Error: 0.6592838095585474\n",
      "Iteration: 177 Error: 0.6582570506192981\n",
      "Iteration: 178 Error: 0.6572540948215646\n",
      "Iteration: 179 Error: 0.6562743120009368\n",
      "Iteration: 180 Error: 0.6553170902773982\n",
      "Iteration: 181 Error: 0.6543818354747911\n",
      "Iteration: 182 Error: 0.6534679705605915\n",
      "Iteration: 183 Error: 0.6525749351051949\n",
      "Iteration: 184 Error: 0.6517021847599667\n",
      "Iteration: 185 Error: 0.6508491907533295\n",
      "Iteration: 186 Error: 0.650015439404204\n",
      "Iteration: 187 Error: 0.6492004316521316\n",
      "Iteration: 188 Error: 0.6484036826034567\n",
      "Iteration: 189 Error: 0.6476247210929519\n",
      "Iteration: 190 Error: 0.6468630892603136\n",
      "Iteration: 191 Error: 0.646118342140962\n",
      "Iteration: 192 Error: 0.6453900472706215\n",
      "Iteration: 193 Error: 0.6446777843031596\n",
      "Iteration: 194 Error: 0.6439811446412029\n",
      "Iteration: 195 Error: 0.6432997310790529\n",
      "Iteration: 196 Error: 0.6426331574574509\n",
      "Iteration: 197 Error: 0.6419810483297665\n",
      "Iteration: 198 Error: 0.6413430386391821\n",
      "Iteration: 199 Error: 0.6407187734064832\n",
      "Iteration: 200 Error: 0.6401079074280711\n",
      "Iteration: 201 Error: 0.639510104983826\n",
      "Iteration: 202 Error: 0.6389250395544717\n",
      "Iteration: 203 Error: 0.638352393548101\n",
      "Iteration: 204 Error: 0.6377918580355378\n",
      "Iteration: 205 Error: 0.6372431324942215\n",
      "Iteration: 206 Error: 0.6367059245603112\n",
      "Iteration: 207 Error: 0.6361799497887283\n",
      "Iteration: 208 Error: 0.6356649314208516\n",
      "Iteration: 209 Error: 0.6351606001595996\n",
      "Iteration: 210 Error: 0.6346666939516485\n",
      "Iteration: 211 Error: 0.6341829577765339\n",
      "Iteration: 212 Error: 0.6337091434423975\n",
      "Iteration: 213 Error: 0.6332450093881568\n",
      "Iteration: 214 Error: 0.6327903204918711\n",
      "Iteration: 215 Error: 0.6323448478850967\n",
      "Iteration: 216 Error: 0.6319088664432964\n",
      "Iteration: 217 Error: 0.6314830208442668\n",
      "Iteration: 218 Error: 0.6310670299063417\n",
      "Iteration: 219 Error: 0.6306606212488562\n",
      "Iteration: 220 Error: 0.6302635309868344\n",
      "Iteration: 221 Error: 0.6298755034373005\n",
      "Iteration: 222 Error: 0.6294962908367301\n",
      "Iteration: 223 Error: 0.6291256530691844\n",
      "Iteration: 224 Error: 0.628763357404678\n",
      "Iteration: 225 Error: 0.628409178247369\n",
      "Iteration: 226 Error: 0.6280628968931624\n",
      "Iteration: 227 Error: 0.6277243012963487\n",
      "Iteration: 228 Error: 0.6273931858449033\n",
      "Iteration: 229 Error: 0.6270693511441054\n",
      "Iteration: 230 Error: 0.6267526038081307\n",
      "Iteration: 231 Error: 0.6264427562593088\n",
      "Iteration: 232 Error: 0.6261396265347269\n",
      "Iteration: 233 Error: 0.625843038099897\n",
      "Iteration: 234 Error: 0.6255528196691993\n",
      "Iteration: 235 Error: 0.6252688050328373\n",
      "Iteration: 236 Error: 0.6249908328900443\n",
      "Iteration: 237 Error: 0.6247187466882995\n",
      "Iteration: 238 Error: 0.6244523944683174\n",
      "Iteration: 239 Error: 0.6241916287145786\n",
      "Iteration: 240 Error: 0.6239363062111996\n",
      "Iteration: 241 Error: 0.6236862879029216\n",
      "Iteration: 242 Error: 0.6234414387610281\n",
      "Iteration: 243 Error: 0.6232016276539988\n",
      "Iteration: 244 Error: 0.6229667272227188\n",
      "Iteration: 245 Error: 0.6227366137600687\n",
      "Iteration: 246 Error: 0.6225111670947288\n",
      "Iteration: 247 Error: 0.6222902704790377\n",
      "Iteration: 248 Error: 0.6220738104807481\n",
      "Iteration: 249 Error: 0.6218616768785397\n",
      "Iteration: 250 Error: 0.6216537625611421\n",
      "Iteration: 251 Error: 0.6214499634299326\n",
      "Iteration: 252 Error: 0.6212501783048824\n",
      "Iteration: 253 Error: 0.6210543088337239\n",
      "Iteration: 254 Error: 0.6208622594042175\n",
      "Iteration: 255 Error: 0.6206739370594087\n",
      "Iteration: 256 Error: 0.6204892514157605\n",
      "Iteration: 257 Error: 0.6203081145840541\n",
      "Iteration: 258 Error: 0.6201304410929623\n",
      "Iteration: 259 Error: 0.619956147815191\n",
      "Iteration: 260 Error: 0.6197851538961003\n"
     ]
    },
    {
     "name": "stdout",
     "output_type": "stream",
     "text": [
      "Iteration: 261 Error: 0.6196173806847104\n",
      "Iteration: 262 Error: 0.6194527516670105\n",
      "Iteration: 263 Error: 0.6192911924014841\n",
      "Iteration: 264 Error: 0.6191326304567694\n",
      "Iteration: 265 Error: 0.6189769953513853\n",
      "Iteration: 266 Error: 0.6188242184954401\n",
      "Iteration: 267 Error: 0.6186742331342546\n",
      "Iteration: 268 Error: 0.6185269742938362\n",
      "Iteration: 269 Error: 0.618382378728133\n",
      "Iteration: 270 Error: 0.6182403848680045\n",
      "Iteration: 271 Error: 0.6181009327718527\n",
      "Iteration: 272 Error: 0.6179639640778501\n",
      "Iteration: 273 Error: 0.6178294219577112\n",
      "Iteration: 274 Error: 0.6176972510719542\n",
      "Iteration: 275 Error: 0.6175673975265953\n",
      "Iteration: 276 Error: 0.6174398088312356\n",
      "Iteration: 277 Error: 0.6173144338584813\n",
      "Iteration: 278 Error: 0.6171912228046571\n",
      "Iteration: 279 Error: 0.6170701271517685\n",
      "Iteration: 280 Error: 0.6169510996306646\n",
      "Iteration: 281 Error: 0.6168340941853686\n",
      "Iteration: 282 Error: 0.6167190659385261\n",
      "Iteration: 283 Error: 0.6166059711579417\n",
      "Iteration: 284 Error: 0.6164947672241594\n",
      "Iteration: 285 Error: 0.6163854125990563\n",
      "Iteration: 286 Error: 0.6162778667954153\n",
      "Iteration: 287 Error: 0.6161720903474398\n",
      "Iteration: 288 Error: 0.6160680447821788\n",
      "Iteration: 289 Error: 0.6159656925918384\n",
      "Iteration: 290 Error: 0.6158649972069408\n",
      "Iteration: 291 Error: 0.6157659229703092\n",
      "Iteration: 292 Error: 0.6156684351118474\n",
      "Iteration: 293 Error: 0.6155724997240881\n",
      "Iteration: 294 Error: 0.615478083738487\n",
      "Iteration: 295 Error: 0.6153851549024318\n",
      "Iteration: 296 Error: 0.615293681756951\n",
      "Iteration: 297 Error: 0.6152036336150921\n",
      "Iteration: 298 Error: 0.6151149805409503\n",
      "Iteration: 299 Error: 0.6150276933293256\n",
      "Iteration: 300 Error: 0.6149417434859896\n",
      "Iteration: 301 Error: 0.6148571032085399\n",
      "Iteration: 302 Error: 0.6147737453678203\n",
      "Iteration: 303 Error: 0.6146916434898964\n",
      "Iteration: 304 Error: 0.6146107717385626\n",
      "Iteration: 305 Error: 0.6145311048983623\n",
      "Iteration: 306 Error: 0.6144526183581083\n",
      "Iteration: 307 Error: 0.6143752880948874\n",
      "Iteration: 308 Error: 0.6142990906585302\n",
      "Iteration: 309 Error: 0.6142240031565348\n",
      "Iteration: 310 Error: 0.614150003239426\n",
      "Iteration: 311 Error: 0.6140770690865422\n",
      "Iteration: 312 Error: 0.6140051793922294\n",
      "Iteration: 313 Error: 0.6139343133524342\n",
      "Iteration: 314 Error: 0.6138644506516814\n",
      "Iteration: 315 Error: 0.6137955714504251\n",
      "Iteration: 316 Error: 0.6137276563727592\n",
      "Iteration: 317 Error: 0.6136606864944789\n",
      "Iteration: 318 Error: 0.6135946433314818\n",
      "Iteration: 319 Error: 0.613529508828494\n",
      "Iteration: 320 Error: 0.6134652653481188\n",
      "Iteration: 321 Error: 0.6134018956601894\n",
      "Iteration: 322 Error: 0.6133393829314225\n",
      "Iteration: 323 Error: 0.6132777107153609\n",
      "Iteration: 324 Error: 0.613216862942596\n",
      "Iteration: 325 Error: 0.6131568239112637\n",
      "Iteration: 326 Error: 0.6130975782778008\n",
      "Iteration: 327 Error: 0.6130391110479605\n",
      "Iteration: 328 Error: 0.612981407568074\n",
      "Iteration: 329 Error: 0.6129244535165501\n",
      "Iteration: 330 Error: 0.6128682348956136\n",
      "Iteration: 331 Error: 0.6128127380232619\n",
      "Iteration: 332 Error: 0.6127579495254477\n",
      "Iteration: 333 Error: 0.6127038563284691\n",
      "Iteration: 334 Error: 0.6126504456515701\n",
      "Iteration: 335 Error: 0.6125977049997358\n",
      "Iteration: 336 Error: 0.612545622156687\n",
      "Iteration: 337 Error: 0.61249418517806\n",
      "Iteration: 338 Error: 0.6124433823847698\n",
      "Iteration: 339 Error: 0.6123932023565501\n",
      "Iteration: 340 Error: 0.6123436339256667\n",
      "Iteration: 341 Error: 0.6122946661707946\n",
      "Iteration: 342 Error: 0.6122462884110633\n",
      "Iteration: 343 Error: 0.6121984902002519\n",
      "Iteration: 344 Error: 0.6121512613211431\n",
      "Iteration: 345 Error: 0.6121045917800213\n",
      "Iteration: 346 Error: 0.6120584718013191\n",
      "Iteration: 347 Error: 0.6120128918223983\n",
      "Iteration: 348 Error: 0.6119678424884719\n",
      "Iteration: 349 Error: 0.6119233146476535\n",
      "Iteration: 350 Error: 0.6118792993461382\n",
      "Iteration: 351 Error: 0.6118357878235074\n",
      "Iteration: 352 Error: 0.6117927715081528\n",
      "Iteration: 353 Error: 0.6117502420128191\n",
      "Iteration: 354 Error: 0.6117081911302618\n",
      "Iteration: 355 Error: 0.6116666108290134\n",
      "Iteration: 356 Error: 0.6116254932492602\n",
      "Iteration: 357 Error: 0.6115848306988224\n",
      "Iteration: 358 Error: 0.6115446156492356\n",
      "Iteration: 359 Error: 0.6115048407319332\n",
      "Iteration: 360 Error: 0.6114654987345228\n",
      "Iteration: 361 Error: 0.611426582597158\n",
      "Iteration: 362 Error: 0.6113880854089995\n",
      "Iteration: 363 Error: 0.6113500004047672\n",
      "Iteration: 364 Error: 0.6113123209613744\n",
      "Iteration: 365 Error: 0.6112750405946511\n",
      "Iteration: 366 Error: 0.6112381529561429\n",
      "Iteration: 367 Error: 0.6112016518299939\n",
      "Iteration: 368 Error: 0.6111655311299026\n",
      "Iteration: 369 Error: 0.611129784896156\n",
      "Iteration: 370 Error: 0.6110944072927358\n",
      "Iteration: 371 Error: 0.6110593926044934\n",
      "Iteration: 372 Error: 0.611024735234396\n",
      "Iteration: 373 Error: 0.6109904297008412\n",
      "Iteration: 374 Error: 0.6109564706350327\n",
      "Iteration: 375 Error: 0.6109228527784241\n",
      "Iteration: 376 Error: 0.6108895709802213\n",
      "Iteration: 377 Error: 0.6108566201949472\n",
      "Iteration: 378 Error: 0.6108239954800662\n",
      "Iteration: 379 Error: 0.6107916919936607\n",
      "Iteration: 380 Error: 0.6107597049921705\n",
      "Iteration: 381 Error: 0.6107280298281798\n",
      "Iteration: 382 Error: 0.6106966619482623\n",
      "Iteration: 383 Error: 0.610665596890873\n",
      "Iteration: 384 Error: 0.6106348302842948\n",
      "Iteration: 385 Error: 0.6106043578446295\n",
      "Iteration: 386 Error: 0.61057417537384\n",
      "Iteration: 387 Error: 0.6105442787578355\n",
      "Iteration: 388 Error: 0.6105146639646055\n",
      "Iteration: 389 Error: 0.6104853270423936\n",
      "Iteration: 390 Error: 0.610456264117918\n",
      "Iteration: 391 Error: 0.6104274713946308\n",
      "Iteration: 392 Error: 0.6103989451510207\n",
      "Iteration: 393 Error: 0.610370681738952\n",
      "Iteration: 394 Error: 0.6103426775820462\n",
      "Iteration: 395 Error: 0.6103149291740976\n",
      "Iteration: 396 Error: 0.6102874330775279\n",
      "Iteration: 397 Error: 0.610260185921877\n",
      "Iteration: 398 Error: 0.6102331844023259\n",
      "Iteration: 399 Error: 0.6102064252782574\n",
      "Iteration: 400 Error: 0.6101799053718464\n",
      "Iteration: 401 Error: 0.6101536215666858\n",
      "Iteration: 402 Error: 0.6101275708064424\n",
      "Iteration: 403 Error: 0.6101017500935424\n",
      "Iteration: 404 Error: 0.6100761564878894\n",
      "Iteration: 405 Error: 0.6100507871056116\n",
      "Iteration: 406 Error: 0.610025639117834\n",
      "Iteration: 407 Error: 0.610000709749484\n",
      "Iteration: 408 Error: 0.6099759962781192\n",
      "Iteration: 409 Error: 0.6099514960327853\n",
      "Iteration: 410 Error: 0.6099272063928987\n",
      "Iteration: 411 Error: 0.6099031247871523\n",
      "Iteration: 412 Error: 0.6098792486924516\n",
      "Iteration: 413 Error: 0.6098555756328673\n",
      "Iteration: 414 Error: 0.6098321031786189\n",
      "Iteration: 415 Error: 0.6098088289450755\n",
      "Iteration: 416 Error: 0.6097857505917814\n",
      "Iteration: 417 Error: 0.6097628658215061\n",
      "Iteration: 418 Error: 0.609740172379309\n",
      "Iteration: 419 Error: 0.609717668051633\n",
      "Iteration: 420 Error: 0.6096953506654113\n",
      "Iteration: 421 Error: 0.6096732180871998\n",
      "Iteration: 422 Error: 0.609651268222325\n",
      "Iteration: 423 Error: 0.609629499014052\n",
      "Iteration: 424 Error: 0.6096079084427726\n",
      "Iteration: 425 Error: 0.6095864945252093\n",
      "Iteration: 426 Error: 0.6095652553136379\n",
      "Iteration: 427 Error: 0.6095441888951283\n",
      "Iteration: 428 Error: 0.6095232933907988\n",
      "Iteration: 429 Error: 0.6095025669550924\n",
      "Iteration: 430 Error: 0.6094820077750633\n",
      "Iteration: 431 Error: 0.609461614069684\n",
      "Iteration: 432 Error: 0.609441384089164\n",
      "Iteration: 433 Error: 0.6094213161142857\n",
      "Iteration: 434 Error: 0.6094014084557554\n",
      "Iteration: 435 Error: 0.609381659453565\n",
      "Iteration: 436 Error: 0.6093620674763737\n",
      "Iteration: 437 Error: 0.609342630920897\n",
      "Iteration: 438 Error: 0.6093233482113137\n",
      "Iteration: 439 Error: 0.6093042177986838\n",
      "Iteration: 440 Error: 0.60928523816038\n",
      "Iteration: 441 Error: 0.6092664077995305\n",
      "Iteration: 442 Error: 0.6092477252444765\n",
      "Iteration: 443 Error: 0.6092291890482376\n",
      "Iteration: 444 Error: 0.6092107977879936\n",
      "Iteration: 445 Error: 0.6091925500645738\n",
      "Iteration: 446 Error: 0.6091744445019595\n",
      "Iteration: 447 Error: 0.609156479746797\n",
      "Iteration: 448 Error: 0.6091386544679206\n",
      "Iteration: 449 Error: 0.6091209673558873\n",
      "Iteration: 450 Error: 0.6091034171225187\n",
      "Iteration: 451 Error: 0.6090860025004592\n",
      "Iteration: 452 Error: 0.6090687222427351\n",
      "Iteration: 453 Error: 0.6090515751223309\n",
      "Iteration: 454 Error: 0.6090345599317702\n",
      "Iteration: 455 Error: 0.6090176754827084\n",
      "Iteration: 456 Error: 0.6090009206055328\n",
      "Iteration: 457 Error: 0.6089842941489719\n",
      "Iteration: 458 Error: 0.6089677949797128\n",
      "Iteration: 459 Error: 0.6089514219820275\n",
      "Iteration: 460 Error: 0.6089351740574075\n",
      "Iteration: 461 Error: 0.6089190501242044\n",
      "Iteration: 462 Error: 0.608903049117282\n",
      "Iteration: 463 Error: 0.6088871699876726\n",
      "Iteration: 464 Error: 0.6088714117022413\n",
      "Iteration: 465 Error: 0.6088557732433589\n",
      "Iteration: 466 Error: 0.6088402536085823\n",
      "Iteration: 467 Error: 0.6088248518103386\n",
      "Iteration: 468 Error: 0.60880956687562\n",
      "Iteration: 469 Error: 0.6087943978456837\n",
      "Iteration: 470 Error: 0.608779343775755\n",
      "Iteration: 471 Error: 0.608764403734745\n",
      "Iteration: 472 Error: 0.6087495768049656\n",
      "Iteration: 473 Error: 0.6087348620818562\n",
      "Iteration: 474 Error: 0.6087202586737138\n",
      "Iteration: 475 Error: 0.6087057657014306\n",
      "Iteration: 476 Error: 0.6086913822982362\n",
      "Iteration: 477 Error: 0.6086771076094453\n",
      "Iteration: 478 Error: 0.608662940792212\n",
      "Iteration: 479 Error: 0.6086488810152876\n",
      "Iteration: 480 Error: 0.6086349274587866\n",
      "Iteration: 481 Error: 0.6086210793139528\n",
      "Iteration: 482 Error: 0.6086073357829382\n",
      "Iteration: 483 Error: 0.6085936960785774\n",
      "Iteration: 484 Error: 0.608580159424174\n",
      "Iteration: 485 Error: 0.6085667250532893\n",
      "Iteration: 486 Error: 0.6085533922095354\n",
      "Iteration: 487 Error: 0.608540160146371\n",
      "Iteration: 488 Error: 0.6085270281269072\n",
      "Iteration: 489 Error: 0.6085139954237101\n",
      "Iteration: 490 Error: 0.6085010613186138\n",
      "Iteration: 491 Error: 0.6084882251025339\n",
      "Iteration: 492 Error: 0.6084754860752876\n",
      "Iteration: 493 Error: 0.6084628435454138\n",
      "Iteration: 494 Error: 0.6084502968300033\n",
      "Iteration: 495 Error: 0.6084378452545256\n",
      "Iteration: 496 Error: 0.608425488152665\n",
      "Iteration: 497 Error: 0.6084132248661569\n",
      "Iteration: 498 Error: 0.6084010547446301\n",
      "Iteration: 499 Error: 0.6083889771454507\n",
      "Iteration: 500 Error: 0.6083769914335696\n",
      "Iteration: 501 Error: 0.6083650969813754\n",
      "Iteration: 502 Error: 0.608353293168546\n",
      "Iteration: 503 Error: 0.6083415793819092\n",
      "Iteration: 504 Error: 0.6083299550153028\n",
      "Iteration: 505 Error: 0.6083184194694364\n",
      "Iteration: 506 Error: 0.6083069721517607\n",
      "Iteration: 507 Error: 0.6082956124763343\n",
      "Iteration: 508 Error: 0.6082843398637002\n",
      "Iteration: 509 Error: 0.6082731537407573\n",
      "Iteration: 510 Error: 0.6082620535406398\n",
      "Iteration: 511 Error: 0.6082510387025981\n",
      "Iteration: 512 Error: 0.608240108671882\n",
      "Iteration: 513 Error: 0.6082292628996253\n",
      "Iteration: 514 Error: 0.6082185008427362\n",
      "Iteration: 515 Error: 0.608207821963786\n",
      "Iteration: 516 Error: 0.6081972257309032\n",
      "Iteration: 517 Error: 0.6081867116176676\n",
      "Iteration: 518 Error: 0.6081762791030114\n",
      "Iteration: 519 Error: 0.6081659276711151\n",
      "Iteration: 520 Error: 0.6081556568113108\n",
      "Iteration: 521 Error: 0.6081454660179886\n",
      "Iteration: 522 Error: 0.6081353547904994\n",
      "Iteration: 523 Error: 0.6081253226330668\n",
      "Iteration: 524 Error: 0.6081153690546949\n",
      "Iteration: 525 Error: 0.6081054935690821\n",
      "Iteration: 526 Error: 0.6080956956945336\n",
      "Iteration: 527 Error: 0.6080859749538801\n",
      "Iteration: 528 Error: 0.6080763308743931\n",
      "Iteration: 529 Error: 0.608066762987707\n",
      "Iteration: 530 Error: 0.608057270829739\n",
      "Iteration: 531 Error: 0.6080478539406122\n",
      "Iteration: 532 Error: 0.6080385118645828\n",
      "Iteration: 533 Error: 0.6080292441499617\n",
      "Iteration: 534 Error: 0.6080200503490496\n",
      "Iteration: 535 Error: 0.6080109300180598\n",
      "Iteration: 536 Error: 0.6080018827170548\n",
      "Iteration: 537 Error: 0.6079929080098755\n",
      "Iteration: 538 Error: 0.6079840054640769\n",
      "Iteration: 539 Error: 0.607975174650863\n",
      "Iteration: 540 Error: 0.607966415145026\n",
      "Iteration: 541 Error: 0.6079577265248814\n",
      "Iteration: 542 Error: 0.6079491083722104\n",
      "Iteration: 543 Error: 0.6079405602721992\n",
      "Iteration: 544 Error: 0.6079320818133832\n",
      "Iteration: 545 Error: 0.6079236725875893\n",
      "Iteration: 546 Error: 0.6079153321898797\n",
      "Iteration: 547 Error: 0.6079070602185017\n",
      "Iteration: 548 Error: 0.6078988562748306\n",
      "Iteration: 549 Error: 0.6078907199633214\n",
      "Iteration: 550 Error: 0.6078826508914558\n",
      "Iteration: 551 Error: 0.6078746486696942\n",
      "Iteration: 552 Error: 0.6078667129114277\n",
      "Iteration: 553 Error: 0.6078588432329297\n",
      "Iteration: 554 Error: 0.6078510392533109\n",
      "Iteration: 555 Error: 0.6078433005944723\n",
      "Iteration: 556 Error: 0.6078356268810629\n",
      "Iteration: 557 Error: 0.6078280177404352\n",
      "Iteration: 558 Error: 0.607820472802603\n",
      "Iteration: 559 Error: 0.6078129917002011\n",
      "Iteration: 560 Error: 0.6078055740684423\n",
      "Iteration: 561 Error: 0.6077982195450811\n",
      "Iteration: 562 Error: 0.6077909277703714\n",
      "Iteration: 563 Error: 0.6077836983870316\n",
      "Iteration: 564 Error: 0.6077765310402056\n",
      "Iteration: 565 Error: 0.6077694253774266\n",
      "Iteration: 566 Error: 0.6077623810485823\n",
      "Iteration: 567 Error: 0.6077553977058797\n",
      "Iteration: 568 Error: 0.6077484750038117\n",
      "Iteration: 569 Error: 0.6077416125991227\n",
      "Iteration: 570 Error: 0.6077348101507767\n",
      "Iteration: 571 Error: 0.6077280673199249\n",
      "Iteration: 572 Error: 0.6077213837698756\n",
      "Iteration: 573 Error: 0.6077147591660632\n",
      "Iteration: 574 Error: 0.6077081931760175\n",
      "Iteration: 575 Error: 0.6077016854693352\n",
      "Iteration: 576 Error: 0.6076952357176515\n",
      "Iteration: 577 Error: 0.6076888435946111\n",
      "Iteration: 578 Error: 0.6076825087758428\n",
      "Iteration: 579 Error: 0.6076762309389309\n",
      "Iteration: 580 Error: 0.6076700097633889\n",
      "Iteration: 581 Error: 0.6076638449306351\n",
      "Iteration: 582 Error: 0.6076577361239661\n",
      "Iteration: 583 Error: 0.6076516830285338\n",
      "Iteration: 584 Error: 0.6076456853313199\n",
      "Iteration: 585 Error: 0.6076397427211123\n",
      "Iteration: 586 Error: 0.6076338548884834\n",
      "Iteration: 587 Error: 0.6076280215257668\n",
      "Iteration: 588 Error: 0.6076222423270334\n",
      "Iteration: 589 Error: 0.6076165169880733\n",
      "Iteration: 590 Error: 0.607610845206371\n",
      "Iteration: 591 Error: 0.6076052266810875\n",
      "Iteration: 592 Error: 0.6075996611130388\n",
      "Iteration: 593 Error: 0.6075941482046747\n",
      "Iteration: 594 Error: 0.6075886876600619\n",
      "Iteration: 595 Error: 0.607583279184863\n",
      "Iteration: 596 Error: 0.6075779224863184\n",
      "Iteration: 597 Error: 0.6075726172732274\n",
      "Iteration: 598 Error: 0.6075673632559324\n",
      "Iteration: 599 Error: 0.6075621601462984\n"
     ]
    }
   ],
   "source": [
    "epochs = 600\n",
    "nn = NN(inputs=3, hidden_layers=(4,2), outputs=1, lr=0.001)\n",
    "full_gradient_descent = True\n",
    "#full_gradient_descent must have more epochs and small lr (lr<=0.01). It converges slower.\n",
    "\n",
    "errors = []\n",
    "for iteration in range(epochs):\n",
    "    \n",
    "    if full_gradient_descent:\n",
    "        input = streetlights\n",
    "        correct_output = walk_vs_stop    \n",
    "        nn.forward(input) # It's important that input is a matrix (#examples x 3 in this case) and not a vector!\n",
    "        nn.back_propagation(correct_output)     \n",
    "        #print(nn.layers)\n",
    "    else:            \n",
    "        for example in range(len(streetlights)):\n",
    "            input = np.array([streetlights[example]])\n",
    "            correct_output = np.array([walk_vs_stop[example]])\n",
    "            nn.forward(input) # It's important that input is a matrix (#examples x 3 in this case) and not a vector!\n",
    "            nn.back_propagation(correct_output)     \n",
    "            #print(nn.layers)\n",
    "                        \n",
    "    print(f'Iteration: {iteration} Error: {nn.error}')\n",
    "    errors.append(nn.error)"
   ]
  },
  {
   "cell_type": "code",
   "execution_count": 462,
   "metadata": {},
   "outputs": [
    {
     "data": {
      "image/png": "[encoded data removed]",
      "text/plain": [
       "<Figure size 432x288 with 1 Axes>"
      ]
     },
     "metadata": {},
     "output_type": "display_data"
    }
   ],
   "source": [
    "x = np.arange(epochs)\n",
    "#ignore first iterations to keep scale small\n",
    "x = x[5:]\n",
    "errors = errors[5:]\n",
    "plt.plot(x, errors)\n",
    "plt.xlabel('Iterations')\n",
    "plt.ylabel('Error')\n",
    "plt.show()"
   ]
  },
  {
   "cell_type": "code",
   "execution_count": null,
   "metadata": {},
   "outputs": [],
   "source": []
  }
 ],
 "metadata": {
  "kernelspec": {
   "display_name": "py36 env",
   "language": "python",
   "name": "python3"
  },
  "language_info": {
   "codemirror_mode": {
    "name": "ipython",
    "version": 3
   },
   "file_extension": ".py",
   "mimetype": "text/x-python",
   "name": "python",
   "nbconvert_exporter": "python",
   "pygments_lexer": "ipython3",
   "version": "3.6.3"
  }
 },
 "nbformat": 4,
 "nbformat_minor": 2
}
