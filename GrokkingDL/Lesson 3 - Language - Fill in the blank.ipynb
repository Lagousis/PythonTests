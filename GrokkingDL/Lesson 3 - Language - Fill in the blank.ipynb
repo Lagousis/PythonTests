{
 "cells": [
  {
   "cell_type": "code",
   "execution_count": 2,
   "metadata": {},
   "outputs": [],
   "source": [
    "import sys,random,math\n",
    "from collections import Counter\n",
    "import numpy as np\n",
    "\n",
    "np.random.seed(1)\n",
    "random.seed(1)\n",
    "f = open('data/reviews.txt')\n",
    "raw_reviews = f.readlines()\n",
    "f.close()\n",
    "\n",
    "tokens = list(map(lambda x:(x.split(\" \")),raw_reviews))\n",
    "wordcnt = Counter()\n",
    "for sent in tokens:\n",
    "    for word in sent:\n",
    "        wordcnt[word] -= 1\n",
    "vocab = list(set(map(lambda x:x[0],wordcnt.most_common())))\n",
    "\n",
    "word2index = {}\n",
    "for i,word in enumerate(vocab):\n",
    "    word2index[word]=i\n",
    "\n",
    "concatenated = list()\n",
    "input_dataset = list()\n",
    "for sent in tokens:\n",
    "    sent_indices = list()\n",
    "    for word in sent:\n",
    "        try:\n",
    "            sent_indices.append(word2index[word])\n",
    "            concatenated.append(word2index[word])\n",
    "        except:\n",
    "            \"\"\n",
    "    input_dataset.append(sent_indices)\n",
    "concatenated = np.array(concatenated)\n",
    "random.shuffle(input_dataset)"
   ]
  },
  {
   "cell_type": "code",
   "execution_count": 20,
   "metadata": {},
   "outputs": [
    {
     "name": "stdout",
     "output_type": "stream",
     "text": [
      "7459318\n",
      "25000\n"
     ]
    }
   ],
   "source": [
    "#wordcnt.most_common()\n",
    "#'the' in vocab\n",
    "print(len(concatenated))\n",
    "print(len(input_dataset))"
   ]
  },
  {
   "cell_type": "code",
   "execution_count": null,
   "metadata": {},
   "outputs": [],
   "source": [
    "#vocab is a list with all the unique words\n",
    "print(f'Vocab lenght: {len(vocab)}')\n",
    "# word2index gets the index for a word\n",
    "print(f'Index of word the: {word2index[\"the\"]}')\n",
    "# input_dataset is the reviews but instead of words we have the word indexes    \n",
    "print(f'First review with word indexes: {input_dataset[0]}')"
   ]
  },
  {
   "cell_type": "code",
   "execution_count": 21,
   "metadata": {},
   "outputs": [
    {
     "name": "stdout",
     "output_type": "stream",
     "text": [
      "Progress:0.99998 [('terrible', -0.0), ('horrible', -2.887466226536251), ('brilliant', -2.999793458339704), ('superb', -3.6125945575213896), ('phenomenal', -3.619544252760703), ('masterful', -3.6791543901580654), ('pathetic', -3.6884210242343696), ('marvelous', -3.785183662325907), ('dreadful', -3.971738394347782), ('terrific', -4.001907892012459)]]0653)]]105)][('terrible', -0.0), ('horrible', -2.793787985794443), ('brilliant', -3.272626810081273), ('pathetic', -3.641081005223698), ('phenomenal', -3.7102952158431663), ('masterful', -3.8276731963078157), ('bad', -3.859150140548132), ('superb', -3.8707962287253297), ('marvelous', -3.9114104472263094), ('dreadful', -4.026023199643079)]\n"
     ]
    }
   ],
   "source": [
    "alpha, iterations = (0.05, 2)\n",
    "hidden_size,window,negative = (50,2,5)\n",
    "\n",
    "weights_0_1 = (np.random.rand(len(vocab),hidden_size) - 0.5) * 0.2\n",
    "weights_1_2 = np.random.rand(len(vocab),hidden_size)*0\n",
    "\n",
    "layer_2_target = np.zeros(negative+1)\n",
    "layer_2_target[0] = 1\n",
    "\n",
    "def similar(target='beautiful'):\n",
    "  target_index = word2index[target]\n",
    "\n",
    "  scores = Counter()\n",
    "  for word,index in word2index.items():\n",
    "    raw_difference = weights_0_1[index] - (weights_0_1[target_index])\n",
    "    squared_difference = raw_difference * raw_difference\n",
    "    scores[word] = -math.sqrt(sum(squared_difference))\n",
    "  return scores.most_common(10)\n",
    "\n",
    "def sigmoid(x):\n",
    "    return 1/(1 + np.exp(-x))\n",
    "\n",
    "for rev_i,review in enumerate(input_dataset * iterations):\n",
    "  for target_i in range(len(review)):\n",
    "        \n",
    "    # since it's really expensive to predict every vocabulary\n",
    "    # we're only going to predict a random subset\n",
    "    target_samples = [review[target_i]]+list(concatenated\\\n",
    "    [(np.random.rand(negative)*len(concatenated)).astype('int').tolist()])\n",
    "\n",
    "    left_context = review[max(0,target_i-window):target_i]\n",
    "    right_context = review[target_i+1:min(len(review),target_i+window)]\n",
    "\n",
    "    layer_1 = np.mean(weights_0_1[left_context+right_context],axis=0)\n",
    "    layer_2 = sigmoid(layer_1.dot(weights_1_2[target_samples].T))\n",
    "    layer_2_delta = layer_2 - layer_2_target\n",
    "    layer_1_delta = layer_2_delta.dot(weights_1_2[target_samples])\n",
    "\n",
    "    weights_0_1[left_context+right_context] -= layer_1_delta * alpha\n",
    "    weights_1_2[target_samples] -= np.outer(layer_2_delta,layer_1)*alpha\n",
    "\n",
    "  if(rev_i % 250 == 0):\n",
    "    sys.stdout.write('\\rProgress:'+str(rev_i/float(len(input_dataset)\n",
    "        *iterations)) + \"   \" + str(similar('terrible')))\n",
    "  sys.stdout.write('\\rProgress:'+str(rev_i/float(len(input_dataset)\n",
    "        *iterations)))"
   ]
  },
  {
   "cell_type": "code",
   "execution_count": 22,
   "metadata": {},
   "outputs": [
    {
     "name": "stdout",
     "output_type": "stream",
     "text": [
      "[('terrible', -0.0), ('horrible', -2.793787985794443), ('brilliant', -3.272626810081273), ('pathetic', -3.641081005223698), ('phenomenal', -3.7102952158431663), ('masterful', -3.8276731963078157), ('bad', -3.859150140548132), ('superb', -3.8707962287253297), ('marvelous', -3.9114104472263094), ('dreadful', -4.026023199643079)]\n"
     ]
    }
   ],
   "source": [
    "print(similar('terrible'))"
   ]
  },
  {
   "cell_type": "code",
   "execution_count": null,
   "metadata": {},
   "outputs": [],
   "source": []
  }
 ],
 "metadata": {
  "kernelspec": {
   "display_name": "Tensorflow 3.6",
   "language": "python",
   "name": "tensorflow36"
  },
  "language_info": {
   "codemirror_mode": {
    "name": "ipython",
    "version": 3
   },
   "file_extension": ".py",
   "mimetype": "text/x-python",
   "name": "python",
   "nbconvert_exporter": "python",
   "pygments_lexer": "ipython3",
   "version": "3.6.8"
  }
 },
 "nbformat": 4,
 "nbformat_minor": 2
}
