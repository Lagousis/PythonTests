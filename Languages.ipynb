{
 "cells": [
  {
   "cell_type": "code",
   "execution_count": null,
   "metadata": {},
   "outputs": [],
   "source": [
    "# Info here\n",
    "# https://pypi.org/project/transliterate/"
   ]
  },
  {
   "cell_type": "code",
   "execution_count": 1,
   "metadata": {},
   "outputs": [],
   "source": [
    "from transliterate import translit, get_available_language_codes"
   ]
  },
  {
   "cell_type": "code",
   "execution_count": 2,
   "metadata": {},
   "outputs": [
    {
     "name": "stdout",
     "output_type": "stream",
     "text": [
      "Lorem ipsum dolor sit amet\n"
     ]
    }
   ],
   "source": [
    "print(translit(u\"Лорем ипсум долор сит амет\", 'ru', reversed=True))"
   ]
  },
  {
   "cell_type": "code",
   "execution_count": 3,
   "metadata": {},
   "outputs": [
    {
     "name": "stdout",
     "output_type": "stream",
     "text": [
      "UL. M.JaKIMANKA; D.24; STR.1-3; KAFE,125195,G. MOSKVA;,RUSSIA\n"
     ]
    }
   ],
   "source": [
    "#ST. M. YAKIMANKA; D.24; PAGE 1-3; CAFE, 125195, G. MOSCOW;, RUSSIA\n",
    "print(translit(u\"УЛ. М.ЯКИМАНКА; Д.24; СТР.1-3; КАФЕ,125195,Г. МОСКВА;,RUSSIA\", 'ru', reversed=True))"
   ]
  },
  {
   "cell_type": "code",
   "execution_count": null,
   "metadata": {},
   "outputs": [],
   "source": []
  }
 ],
 "metadata": {
  "kernelspec": {
   "display_name": "py36 env",
   "language": "python",
   "name": "python3"
  },
  "language_info": {
   "codemirror_mode": {
    "name": "ipython",
    "version": 3
   },
   "file_extension": ".py",
   "mimetype": "text/x-python",
   "name": "python",
   "nbconvert_exporter": "python",
   "pygments_lexer": "ipython3",
   "version": "3.6.3"
  }
 },
 "nbformat": 4,
 "nbformat_minor": 2
}
