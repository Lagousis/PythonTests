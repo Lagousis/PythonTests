{
 "cells": [
  {
   "cell_type": "code",
   "execution_count": 10,
   "metadata": {},
   "outputs": [],
   "source": [
    "import requests\n",
    "import urllib.request\n",
    "import time\n",
    "from bs4 import BeautifulSoup"
   ]
  },
  {
   "cell_type": "code",
   "execution_count": 79,
   "metadata": {},
   "outputs": [],
   "source": [
    "base_url = 'https://www.kotsovolos.gr'\n",
    "#url = 'https://www.kotsovolos.gr/site/sound-vision/televisions/led-lcd?v=0' #13 products\n",
    "#url = 'https://www.kotsovolos.gr/site/sound-vision/televisions/led-lcd?v=0&flt=100' #1st tv page\n",
    "#url = 'https://www.kotsovolos.gr/site/sound-vision/televisions/led-lcd?v=0&flt=100&page=1' #2nd tv page\n",
    "#url = 'https://www.kotsovolos.gr/site/sound-vision/televisions/led-lcd?v=0&flt=100&page=2' #3rd tv page\n",
    "#url = 'https://www.kotsovolos.gr/site/household-appliances/fridges/fridge-freezers?v=0&flt=100' #Fridges\n",
    "#url = 'https://www.kotsovolos.gr/site/search.jsp?v=0&searchfor=BBBK1BYajVlbmg=&flt=1000' #Search ΨΥΓΕΙΑ\n",
    "#url = 'https://www.kotsovolos.gr/site/search.jsp?v=0&searchfor=BBBYkdGd2RHOXc=&flt=1000' #Search laptop\n",
    "#url = 'https://www.kotsovolos.gr/site/search.jsp?v=0&searchfor=BBBN09mMzRlM24=&flt=10000' #Search Μηχανή\n",
    "#url = 'https://www.kotsovolos.gr/site/search.jsp?v=0&searchfor=BBBNnVudDUvVHY=&flt=10000' #Search κινητό\n",
    "#url = 'https://www.kotsovolos.gr/site/search.jsp?v=0&searchfor=BBBNGU3bDgrLzE0ZkU9&flt=10000' # Search αξεσουάρ\n",
    "#url = 'https://www.kotsovolos.gr/site/search.jsp?v=0&searchfor=BBBOE92MTdmVGU4ZW52&flt=1000' # Search πλυντήριο\n",
    "url = 'https://www.kotsovolos.gr/site/search.jsp?v=0&searchfor=BBBNnVIczVmSGg=&flt=1000' # Search κάμερα"
   ]
  },
  {
   "cell_type": "code",
   "execution_count": 80,
   "metadata": {},
   "outputs": [
    {
     "name": "stdout",
     "output_type": "stream",
     "text": [
      "<Response [200]>\n",
      "Products: 461\n"
     ]
    }
   ],
   "source": [
    "#Scraping that does not support javascript generated content\n",
    "response = requests.get(url)\n",
    "print(response)\n",
    "# 200 means it got through\n",
    "soup = BeautifulSoup(response.text, 'html.parser')\n",
    "mydivs = soup.findAll(\"a\")\n",
    "\n",
    "# This does not work, all products have #yreviews, even of they don't have reviews\n",
    "products = list(filter(lambda x: '#yreviews' in x['href'], mydivs))\n",
    "\n",
    "print(f'Products: {len(products)}')"
   ]
  },
  {
   "cell_type": "code",
   "execution_count": 81,
   "metadata": {},
   "outputs": [],
   "source": [
    "# Print iterations progress\n",
    "def printProgressBar (iteration, total, prefix = '', suffix = '', decimals = 1, length = 100, fill = '█'):\n",
    "    \"\"\"\n",
    "    Call in a loop to create terminal progress bar\n",
    "    @params:\n",
    "        iteration   - Required  : current iteration (Int)\n",
    "        total       - Required  : total iterations (Int)\n",
    "        prefix      - Optional  : prefix string (Str)\n",
    "        suffix      - Optional  : suffix string (Str)\n",
    "        decimals    - Optional  : positive number of decimals in percent complete (Int)\n",
    "        length      - Optional  : character length of bar (Int)\n",
    "        fill        - Optional  : bar fill character (Str)\n",
    "    \"\"\"\n",
    "    percent = (\"{0:.\" + str(decimals) + \"f}\").format(100 * (iteration / float(total)))\n",
    "    filledLength = int(length * iteration // total)\n",
    "    bar = fill * filledLength + '-' * (length - filledLength)\n",
    "    print('\\r%s |%s| %s%% %s' % (prefix, bar, percent, suffix), end = '\\r')\n",
    "    # Print New Line on Complete\n",
    "    if iteration == total: \n",
    "        print()"
   ]
  },
  {
   "cell_type": "code",
   "execution_count": 66,
   "metadata": {},
   "outputs": [
    {
     "name": "stdout",
     "output_type": "stream",
     "text": [
      "\n",
      "Checking for win32 chromedriver:74.0.3729.6 in cache\n",
      "Driver found in C:\\Users\\s.lagousis.POBUCA\\.wdm\\chromedriver\\74.0.3729.6\\win32/chromedriver.exe\n"
     ]
    }
   ],
   "source": [
    "from selenium import webdriver\n",
    "import time\n",
    "from webdriver_manager.chrome import ChromeDriverManager\n",
    "driver = webdriver.Chrome(ChromeDriverManager().install())\n",
    "#In case of error upgrade your chrome browser"
   ]
  },
  {
   "cell_type": "code",
   "execution_count": 82,
   "metadata": {},
   "outputs": [],
   "source": [
    "# Use selenium to get list of products to avoid products without reviews\n",
    "driver.get(url)\n",
    "time.sleep(60)\n",
    "all_products_html = driver.page_source\n",
    "all_products_soup = BeautifulSoup(all_products_html, 'html.parser')"
   ]
  },
  {
   "cell_type": "code",
   "execution_count": 84,
   "metadata": {},
   "outputs": [
    {
     "name": "stdout",
     "output_type": "stream",
     "text": [
      "Products with reviews: 197\n"
     ]
    }
   ],
   "source": [
    "products = []\n",
    "all_products = all_products_soup.findAll(\"div\", class_=\"productdata\")\n",
    "for product in all_products:\n",
    "    if len(product.findAll('span', class_='yotpo-stars'))>0:\n",
    "        products.append(product.findAll('a')[0]['href'])\n",
    "print(f'Products with reviews: {len(products)}')"
   ]
  },
  {
   "cell_type": "code",
   "execution_count": 85,
   "metadata": {},
   "outputs": [],
   "source": [
    "def GetRewiewsOfProduct(product_soup, reviews_list):\n",
    "    reviews = product_soup.findAll(\"div\", class_=\"yotpo-review yotpo-regular-box\")\n",
    "    #print(f'Reviews: {len(reviews)}')\n",
    "\n",
    "    for review in reviews:\n",
    "        stars = len(review.findAll('span', class_='yotpo-icon yotpo-icon-star rating-star pull-left'))\n",
    "        #print(f'Stars: {stars}')\n",
    "        review_title = review.findAll('div', class_='content-title yotpo-font-bold')[0].text\n",
    "        #print(review_title)\n",
    "        review_text = review.findAll('div', class_='content-review')[0].text\n",
    "        #print(review_text)\n",
    "        #new_review = {'stars': stars, 'title': review_title, 'review': review_text}\n",
    "        new_review = {'stars': stars, 'text': review_text}\n",
    "        reviews_list.append(new_review)"
   ]
  },
  {
   "cell_type": "code",
   "execution_count": 86,
   "metadata": {},
   "outputs": [
    {
     "name": "stdout",
     "output_type": "stream",
     "text": [
      "Reviews so far:684 |████████████████████████████████████████████████████████████| 100.0% \n"
     ]
    }
   ],
   "source": [
    "from random import randint\n",
    "\n",
    "i = 0\n",
    "reviews_list = []\n",
    "\n",
    "for product in products:\n",
    "    i+=1\n",
    "    printProgressBar(i, len(products), prefix=f'Reviews so far:{len(reviews_list)}', length=60)\n",
    "        \n",
    "    product_url = base_url + product #['href']\n",
    "    \n",
    "    # This does not support content created by javascript \n",
    "    #product_response = requests.get(url)\n",
    "    #product_soup = BeautifulSoup(product_response.text, 'html.parser')\n",
    "    \n",
    "    # This supports content created by javascript \n",
    "    driver.get(product_url)\n",
    "    time.sleep(randint(3, 5))\n",
    "    product_html = driver.page_source\n",
    "    product_soup = BeautifulSoup(product_html, 'html.parser')\n",
    "    GetRewiewsOfProduct(product_soup, reviews_list)\n",
    "        \n",
    "    #break"
   ]
  },
  {
   "cell_type": "code",
   "execution_count": 87,
   "metadata": {},
   "outputs": [
    {
     "data": {
      "text/plain": [
       "(686,\n",
       " [{'stars': 5, 'text': ' extremely easy to set up and use. Great product! '},\n",
       "  {'stars': 5,\n",
       "   'text': ' Πολύ ευχαριστημένος! , Ασύρματη λειτουργία καλή εικόνα πρωί-βράδυ, zoom, δυνατότητα περιστροφής, ομιλίας μέσα από την κάμερα, παρακολούθησης live από το κινητό-tablet,pc όποτε θέλεις, Μotion detection πολύ καλό όπως και ήχου detection επίσης καλό. και Καταγράφει 24 ώρες το εικοσιτετράωρο, ενημερώνει με app κινητό-tablet, και στέλνει 3 φωτογραφίες ...Διαβάστε Περισσότεραστο mail σου.(Μέχρι 60 mail το μήνα με δυνατότητα επέκτασης του αριθμού των mail). Διαβάστε Λιγότερα'},\n",
       "  {'stars': 4,\n",
       "   'text': ' το χρησιμοποιώ 1 περίπου μήνα και προς το παρόν μόνον ασύρματα.  ΘΕΤΙΚΑ:  - Εύκολη σύνδεση - Πολύ καλό για εποπτεία του χώρου (καταγραφή δεν έχω ακόμη δοκιμάσει) - Ευαίσθητοι αισθητήρες  - Άμεση ειδοποίηση για συμβάντα (το ενεργοποίησα δοκιμαστικά για λίγο), αλλά όπως διάβασα με κάποιους περιορισμούς στο πλήθος των ειδοποιήσεων. ...Διαβάστε Περισσότερα- Έλεγχος με πολλούς τρόπους (κινητές συσκευές, Η/Υ, ακόμα και μέσω web -cloud (live view) για 10\\' συνεχόμενα, μετά ξανα για άλλα 10\\' κοκ) - Καλή λήψη & απεικόνιση ακόμη και τη νύχτα  - Αμφίδρομη ηχητική επικοινωνία με το χώρο ΑΡΝΗΤΙΚΑ: - κατά τη σύνδεση υπάρχει μία χρονοκαθυστέρηση 1-3\" (δεν είναι παράλογο, ούτε κάνει τη διαφορά) - ελέγχοντας μέσα από web σε browser (live view), όταν πας να ανοίξεις για να δεις την οποιαδήποτε κάμερα, πάνω από τις μισές φορές εμφανίζει \"No connection\". Όταν το ξαναπατήσεις θα το δείξει κανονικά. Αυτό επαναλαμβάνεται συχνά σε όλες τις κάμερες ακόμη και σ αυτή που είναι δίπλα στο router.  - η κάμερα που είναι κοντά στο router μέσα από τη live view δεν ακούει σε καμμία εντολή για να γυρίσει προς οποιαδήποτε κατεύθυνση. Αντίθετα μέσα από την εφαρμογή για HY & κινητό, λειτουργεί κανονικά.  Σε γενικές γραμμές το θεωρώ αρκετά καλό & θα το πρότεινα αφού καλύπτει βασικές τουλάχιστον απαιτήσεις για εποπτεία Διαβάστε Λιγότερα'},\n",
       "  {'stars': 5,\n",
       "   'text': ' Για την χρήση που το προορίζαμε είναι πολύ καλό για το κόστος απόκτησής του '},\n",
       "  {'stars': 4,\n",
       "   'text': ' ΑΝΤΑΠΟΚΡΙΝΕΤΑΙ ΣΤΙΣ ΠΡΟΔΙΑΓΡΑΦΕΣ. ΚΑΛΗ ΤΙΜΗ ΓΙΑ ΟΤΙ ΠΡΟΣΦΕΡΕΙ. '},\n",
       "  {'stars': 3, 'text': ' Καλο '},\n",
       "  {'stars': 5, 'text': ' Πολύ καλό προιόν. Πολύ καλή υποστήριξη '},\n",
       "  {'stars': 5, 'text': ' Άριστη σε όλα της '},\n",
       "  {'stars': 5, 'text': ' Τέλειο! '},\n",
       "  {'stars': 1,\n",
       "   'text': ' 2 ρούτερ και με κανένα δεν συνεργάζεται σωστά , ξαφνικά χάνει το WiFi και συνδέεται μόνο άμα κάνεις restart router, απαράδεκτη!! '}])"
      ]
     },
     "execution_count": 87,
     "metadata": {},
     "output_type": "execute_result"
    }
   ],
   "source": [
    "len(reviews_list), reviews_list[:10]"
   ]
  },
  {
   "cell_type": "code",
   "execution_count": 89,
   "metadata": {},
   "outputs": [],
   "source": [
    "#Save to file\n",
    "import unicodecsv as csv\n",
    "\n",
    "with open('reviews_kotsovolos.csv', 'wb') as csvfile: \n",
    "    keys = reviews_list[0].keys()\n",
    "    dict_writer = csv.DictWriter(csvfile, keys)\n",
    "    dict_writer.writeheader()\n",
    "    dict_writer.writerows(reviews_list)"
   ]
  },
  {
   "cell_type": "code",
   "execution_count": null,
   "metadata": {},
   "outputs": [],
   "source": []
  }
 ],
 "metadata": {
  "kernelspec": {
   "display_name": "Python 3",
   "language": "python",
   "name": "python3"
  },
  "language_info": {
   "codemirror_mode": {
    "name": "ipython",
    "version": 3
   },
   "file_extension": ".py",
   "mimetype": "text/x-python",
   "name": "python",
   "nbconvert_exporter": "python",
   "pygments_lexer": "ipython3",
   "version": "3.7.3"
  }
 },
 "nbformat": 4,
 "nbformat_minor": 2
}
