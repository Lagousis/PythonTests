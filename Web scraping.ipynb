{
 "cells": [
  {
   "cell_type": "code",
   "execution_count": 1,
   "metadata": {},
   "outputs": [],
   "source": [
    "import requests\n",
    "import urllib.request\n",
    "import time\n",
    "from bs4 import BeautifulSoup"
   ]
  },
  {
   "cell_type": "code",
   "execution_count": 170,
   "metadata": {},
   "outputs": [],
   "source": [
    "base_url = 'https://www.kotsovolos.gr'\n",
    "#url = 'https://www.kotsovolos.gr/site/sound-vision/televisions/led-lcd?v=0' #13 products\n",
    "#url = 'https://www.kotsovolos.gr/site/sound-vision/televisions/led-lcd?v=0&flt=100' #1st tv page\n",
    "#url = 'https://www.kotsovolos.gr/site/sound-vision/televisions/led-lcd?v=0&flt=100&page=1' #2nd tv page\n",
    "#url = 'https://www.kotsovolos.gr/site/sound-vision/televisions/led-lcd?v=0&flt=100&page=2' #3rd tv page\n",
    "#url = 'https://www.kotsovolos.gr/site/household-appliances/fridges/fridge-freezers?v=0&flt=100' #Fridges\n",
    "#url = 'https://www.kotsovolos.gr/site/search.jsp?v=0&searchfor=BBBK1BYajVlbmg=&flt=1000' #Search ΨΥΓΕΙΑ\n",
    "url = 'https://www.kotsovolos.gr/site/search.jsp?v=0&searchfor=BBBYkdGd2RHOXc=&flt=1000' #Search laptop\n",
    "response = requests.get(url)"
   ]
  },
  {
   "cell_type": "code",
   "execution_count": 171,
   "metadata": {},
   "outputs": [
    {
     "data": {
      "text/plain": [
       "<Response [200]>"
      ]
     },
     "execution_count": 171,
     "metadata": {},
     "output_type": "execute_result"
    }
   ],
   "source": [
    "response\n",
    "# 200 means it got through"
   ]
  },
  {
   "cell_type": "code",
   "execution_count": 172,
   "metadata": {},
   "outputs": [],
   "source": [
    "soup = BeautifulSoup(response.text, 'html.parser')"
   ]
  },
  {
   "cell_type": "code",
   "execution_count": 173,
   "metadata": {},
   "outputs": [],
   "source": [
    "mydivs = soup.findAll(\"a\")"
   ]
  },
  {
   "cell_type": "code",
   "execution_count": 174,
   "metadata": {},
   "outputs": [],
   "source": [
    "products = list(filter(lambda x: '#yreviews' in x['href'], mydivs))"
   ]
  },
  {
   "cell_type": "code",
   "execution_count": 175,
   "metadata": {},
   "outputs": [
    {
     "name": "stdout",
     "output_type": "stream",
     "text": [
      "Products: 415\n"
     ]
    }
   ],
   "source": [
    "print(f'Products: {len(products)}')"
   ]
  },
  {
   "cell_type": "code",
   "execution_count": 176,
   "metadata": {},
   "outputs": [],
   "source": [
    "# Print iterations progress\n",
    "def printProgressBar (iteration, total, prefix = '', suffix = '', decimals = 1, length = 100, fill = '█'):\n",
    "    \"\"\"\n",
    "    Call in a loop to create terminal progress bar\n",
    "    @params:\n",
    "        iteration   - Required  : current iteration (Int)\n",
    "        total       - Required  : total iterations (Int)\n",
    "        prefix      - Optional  : prefix string (Str)\n",
    "        suffix      - Optional  : suffix string (Str)\n",
    "        decimals    - Optional  : positive number of decimals in percent complete (Int)\n",
    "        length      - Optional  : character length of bar (Int)\n",
    "        fill        - Optional  : bar fill character (Str)\n",
    "    \"\"\"\n",
    "    percent = (\"{0:.\" + str(decimals) + \"f}\").format(100 * (iteration / float(total)))\n",
    "    filledLength = int(length * iteration // total)\n",
    "    bar = fill * filledLength + '-' * (length - filledLength)\n",
    "    print('\\r%s |%s| %s%% %s' % (prefix, bar, percent, suffix), end = '\\r')\n",
    "    # Print New Line on Complete\n",
    "    if iteration == total: \n",
    "        print()"
   ]
  },
  {
   "cell_type": "code",
   "execution_count": 177,
   "metadata": {},
   "outputs": [
    {
     "name": "stdout",
     "output_type": "stream",
     "text": [
      "\n",
      "Checking for win32 chromedriver:2.46 in cache\n",
      "Driver found in C:\\Users\\s.lagousis.POBUCA\\.wdm\\chromedriver\\2.46\\win32/chromedriver.exe\n"
     ]
    }
   ],
   "source": [
    "from selenium import webdriver\n",
    "import time\n",
    "from webdriver_manager.chrome import ChromeDriverManager\n",
    "driver = webdriver.Chrome(ChromeDriverManager().install())"
   ]
  },
  {
   "cell_type": "code",
   "execution_count": 178,
   "metadata": {},
   "outputs": [],
   "source": [
    "reviews_list = []"
   ]
  },
  {
   "cell_type": "code",
   "execution_count": 179,
   "metadata": {},
   "outputs": [],
   "source": [
    "def GetRewiewsOfProduct(product_soup, reviews_list):\n",
    "    reviews = product_soup.findAll(\"div\", class_=\"yotpo-review yotpo-regular-box\")\n",
    "    #print(f'Reviews: {len(reviews)}')\n",
    "\n",
    "    for review in reviews:\n",
    "        stars = len(review.findAll('span', class_='yotpo-icon yotpo-icon-star rating-star pull-left'))\n",
    "        #print(f'Stars: {stars}')\n",
    "        review_title = review.findAll('div', class_='content-title yotpo-font-bold')[0].text\n",
    "        #print(review_title)\n",
    "        review_text = review.findAll('div', class_='content-review')[0].text\n",
    "        #print(review_text)\n",
    "        #new_review = {'stars': stars, 'title': review_title, 'review': review_text}\n",
    "        new_review = {'stars': stars, 'text': review_text}\n",
    "        reviews_list.append(new_review)"
   ]
  },
  {
   "cell_type": "code",
   "execution_count": 180,
   "metadata": {},
   "outputs": [
    {
     "name": "stdout",
     "output_type": "stream",
     "text": [
      "Reviews so far:151 |████████████████████████████████████████████████████████████| 100.0% \n"
     ]
    }
   ],
   "source": [
    "from random import randint\n",
    "\n",
    "i = 0\n",
    "\n",
    "for product in products:\n",
    "    i+=1\n",
    "    printProgressBar(i, len(products), prefix=f'Reviews so far:{len(reviews_list)}', length=60)\n",
    "        \n",
    "    product_url = base_url + product['href']\n",
    "    \n",
    "    # This does not support content created by javascript \n",
    "    #product_response = requests.get(url)\n",
    "    #product_soup = BeautifulSoup(product_response.text, 'html.parser')\n",
    "    \n",
    "    # This supports content created by javascript \n",
    "    driver.get(product_url)\n",
    "    time.sleep(randint(3, 5))\n",
    "    product_html = driver.page_source\n",
    "    product_soup = BeautifulSoup(product_html, 'html.parser')\n",
    "    GetRewiewsOfProduct(product_soup, reviews_list)\n",
    "        \n",
    "    #break"
   ]
  },
  {
   "cell_type": "code",
   "execution_count": 181,
   "metadata": {},
   "outputs": [
    {
     "data": {
      "text/plain": [
       "(152,\n",
       " [{'stars': 2,\n",
       "   'text': ' ΘΕΤΙΚΑ: γρήγορος (1η εβδομάδα χρήσης) ΑΡΝΗΤΙΚΑ: Θόρυβος από τα ανεμιστηράκια από την πρώτη ημέρα, κολλάει στα γραφικά και η μπαταρία δεν κρατάει πάνω από 2ώρες '},\n",
       "  {'stars': 3, 'text': ' ΚΑΝΕΙ ΠΟΛΥ ΘΟΡΥΒΟ! ΚΑΛΗ ΣΧΕΣΗ ΠΟΙΟΤΗΤΑΣ - ΤΙΜΗΣ '},\n",
       "  {'stars': 4, 'text': ' Αρκετά καλα και οικονομικό '},\n",
       "  {'stars': 5, 'text': ' Αψογο! Πολυ καλη ποιοτητα κατασκευης! '},\n",
       "  {'stars': 5, 'text': ' Πολύ καλή ψύξη. '},\n",
       "  {'stars': 5, 'text': ' Τέλειο '},\n",
       "  {'stars': 5,\n",
       "   'text': ' Άριστο αθόρυβο (ίσα που το άκους ότι δουλευει) κάνει πάρα πολύ καλά τν δουλειά του και για τα λεφτά του πιστεύω ότι καλύτερο και δεν έχει να ζηλέψει από τα πιο ακριβά '},\n",
       "  {'stars': 5,\n",
       "   'text': ' Εντάξει δεν ειναι εντελώς αθόρυβο, έχει έναν ελάχιστο μηχανικό θόρυβο. Είναι όμως πολύ καλό για την τιμή του '},\n",
       "  {'stars': 4,\n",
       "   'text': ' ειναι πολυ καλο, θα ήθελα να ειναι λιγο πιο δυνατοί οι ανεμιστήρες. Κατα τα αλλα ειναι μια χαρά '},\n",
       "  {'stars': 4, 'text': ' καλο και αθορυβο '}])"
      ]
     },
     "execution_count": 181,
     "metadata": {},
     "output_type": "execute_result"
    }
   ],
   "source": [
    "len(reviews_list), reviews_list[:10]"
   ]
  },
  {
   "cell_type": "code",
   "execution_count": 182,
   "metadata": {},
   "outputs": [],
   "source": [
    "#Save to file\n",
    "import unicodecsv as csv\n",
    "\n",
    "with open('reviews_kotsovolos.csv', 'wb') as csvfile: \n",
    "    keys = reviews_list[0].keys()\n",
    "    dict_writer = csv.DictWriter(csvfile, keys)\n",
    "    dict_writer.writeheader()\n",
    "    dict_writer.writerows(reviews_list)"
   ]
  },
  {
   "cell_type": "code",
   "execution_count": null,
   "metadata": {},
   "outputs": [],
   "source": []
  }
 ],
 "metadata": {
  "kernelspec": {
   "display_name": "Python 3",
   "language": "python",
   "name": "python3"
  },
  "language_info": {
   "codemirror_mode": {
    "name": "ipython",
    "version": 3
   },
   "file_extension": ".py",
   "mimetype": "text/x-python",
   "name": "python",
   "nbconvert_exporter": "python",
   "pygments_lexer": "ipython3",
   "version": "3.7.3"
  }
 },
 "nbformat": 4,
 "nbformat_minor": 2
}
