{
 "cells": [
  {
   "cell_type": "code",
   "execution_count": 4,
   "metadata": {},
   "outputs": [
    {
     "data": {
      "text/plain": [
       "<torch._C.Generator at 0x2325d083090>"
      ]
     },
     "execution_count": 4,
     "metadata": {},
     "output_type": "execute_result"
    }
   ],
   "source": [
    "# Author: Robert Guthrie\n",
    "\n",
    "import torch\n",
    "import torch.nn as nn\n",
    "import torch.nn.functional as F\n",
    "import torch.optim as optim\n",
    "\n",
    "torch.manual_seed(1)"
   ]
  },
  {
   "cell_type": "code",
   "execution_count": 5,
   "metadata": {},
   "outputs": [
    {
     "name": "stdout",
     "output_type": "stream",
     "text": [
      "[(['We', 'are', 'to', 'study'], 'about'), (['are', 'about', 'study', 'the'], 'to'), (['about', 'to', 'the', 'idea'], 'study'), (['to', 'study', 'idea', 'of'], 'the'), (['study', 'the', 'of', 'a'], 'idea')]\n"
     ]
    }
   ],
   "source": [
    "CONTEXT_SIZE = 2  # 2 words to the left, 2 to the right\n",
    "EMBEDDING_DIM = 10\n",
    "raw_text = \"\"\"We are about to study the idea of a computational process.\n",
    "Computational processes are abstract beings that inhabit computers.\n",
    "As they evolve, processes manipulate other abstract things called data.\n",
    "The evolution of a process is directed by a pattern of rules\n",
    "called a program. People create programs to direct processes. In effect,\n",
    "we conjure the spirits of the computer with our spells.\"\"\".split()\n",
    "\n",
    "# By deriving a set from `raw_text`, we deduplicate the array\n",
    "vocab = set(raw_text)\n",
    "vocab_size = len(vocab)\n",
    "\n",
    "word_to_ix = {word: i for i, word in enumerate(vocab)}\n",
    "data = []\n",
    "for i in range(2, len(raw_text) - 2):\n",
    "    context = [raw_text[i - 2], raw_text[i - 1],\n",
    "               raw_text[i + 1], raw_text[i + 2]]\n",
    "    target = raw_text[i]\n",
    "    data.append((context, target))\n",
    "print(data[:5])"
   ]
  },
  {
   "cell_type": "code",
   "execution_count": 14,
   "metadata": {},
   "outputs": [],
   "source": [
    "class CBOW(nn.Module):\n",
    "\n",
    "    def __init__(self, vocab_size, embedding_dim, context_size):\n",
    "        super(CBOW, self).__init__()\n",
    "        self.embeddings = nn.Embedding(vocab_size, embedding_dim)\n",
    "        self.linear1 = nn.Linear(context_size * 2 * embedding_dim, 128)\n",
    "        self.linear2 = nn.Linear(128, vocab_size)\n",
    "\n",
    "    def forward(self, inputs):\n",
    "        embeds = self.embeddings(inputs).view((1, -1))\n",
    "        out = F.relu(self.linear1(embeds))\n",
    "        out = self.linear2(out)\n",
    "        log_probs = F.log_softmax(out, dim=1)\n",
    "        return log_probs\n"
   ]
  },
  {
   "cell_type": "code",
   "execution_count": 16,
   "metadata": {},
   "outputs": [
    {
     "name": "stdout",
     "output_type": "stream",
     "text": [
      "[226.57362151145935, 225.12537932395935, 223.6888325214386, 222.26223063468933, 220.84522438049316, 219.43796229362488, 218.03797721862793, 216.646582365036, 215.2625868320465, 213.88538694381714, 212.5141794681549, 211.14938139915466, 209.79069328308105, 208.43782377243042, 207.09045839309692, 205.74745559692383, 204.408625125885, 203.07407546043396, 201.74193453788757, 200.41228246688843]\n"
     ]
    }
   ],
   "source": [
    "# Train\n",
    "\n",
    "losses = []\n",
    "loss_function = nn.NLLLoss()\n",
    "model = CBOW(len(vocab), EMBEDDING_DIM, CONTEXT_SIZE)\n",
    "optimizer = optim.SGD(model.parameters(), lr=0.001)\n",
    "\n",
    "for epoch in range(20):\n",
    "    total_loss = 0\n",
    "    for context, target in data:\n",
    "\n",
    "        # Step 1. Prepare the inputs to be passed to the model (i.e, turn the words\n",
    "        # into integer indices and wrap them in tensors)\n",
    "        \n",
    "        context_idxs = torch.tensor([word_to_ix[w] for w in context], dtype=torch.long)\n",
    "\n",
    "        # Step 2. Recall that torch *accumulates* gradients. Before passing in a\n",
    "        # new instance, you need to zero out the gradients from the old\n",
    "        # instance\n",
    "        model.zero_grad()\n",
    "\n",
    "        # Step 3. Run the forward pass, getting log probabilities over next\n",
    "        # words\n",
    "        log_probs = model(context_idxs)\n",
    "\n",
    "        # Step 4. Compute your loss function. (Again, Torch wants the target\n",
    "        # word wrapped in a tensor)\n",
    "        loss = loss_function(log_probs, torch.tensor([word_to_ix[target]], dtype=torch.long))\n",
    "\n",
    "        # Step 5. Do the backward pass and update the gradient\n",
    "        loss.backward()\n",
    "        optimizer.step()\n",
    "\n",
    "        # Get the Python number from a 1-element Tensor by calling tensor.item()\n",
    "        total_loss += loss.item()\n",
    "    losses.append(total_loss)\n",
    "print(losses)  # The loss decreased every iteration over the training data!"
   ]
  },
  {
   "cell_type": "code",
   "execution_count": 17,
   "metadata": {},
   "outputs": [
    {
     "data": {
      "text/plain": [
       "(49, Embedding(49, 10))"
      ]
     },
     "execution_count": 17,
     "metadata": {},
     "output_type": "execute_result"
    }
   ],
   "source": [
    "len(vocab), model.embeddings"
   ]
  },
  {
   "cell_type": "code",
   "execution_count": 18,
   "metadata": {},
   "outputs": [
    {
     "data": {
      "text/plain": [
       "tensor([-0.6758, -0.9890,  0.3086, -0.2247,  0.5867,  1.4400, -0.7063, -0.6341,\n",
       "        -0.6062,  1.6218], grad_fn=<EmbeddingBackward>)"
      ]
     },
     "execution_count": 18,
     "metadata": {},
     "output_type": "execute_result"
    }
   ],
   "source": [
    "model.embeddings(torch.tensor(0))"
   ]
  },
  {
   "cell_type": "code",
   "execution_count": 19,
   "metadata": {},
   "outputs": [
    {
     "name": "stdout",
     "output_type": "stream",
     "text": [
      "pattern: tensor([-0.6758, -0.9890,  0.3086, -0.2247,  0.5867,  1.4400, -0.7063, -0.6341,\n",
      "        -0.6062,  1.6218], grad_fn=<EmbeddingBackward>)\n",
      "our: tensor([-0.8493, -0.1350,  0.0906, -0.8855, -2.0384,  0.1276,  0.4230, -0.1195,\n",
      "         1.3539,  1.1452], grad_fn=<EmbeddingBackward>)\n",
      "data.: tensor([ 0.7426,  0.1515,  0.8686,  0.7733,  2.5940,  1.1159,  0.5394, -1.0189,\n",
      "         0.2691, -0.6671], grad_fn=<EmbeddingBackward>)\n",
      "The: tensor([ 2.2242, -1.7128, -1.2612, -0.2710,  1.3530, -0.8377, -1.1382,  0.3425,\n",
      "        -0.2956, -0.0945], grad_fn=<EmbeddingBackward>)\n",
      "evolve,: tensor([ 1.8297,  1.4034, -0.8595,  0.9149, -0.1918,  0.2714,  1.1883,  0.3882,\n",
      "         1.5580, -2.7732], grad_fn=<EmbeddingBackward>)\n"
     ]
    }
   ],
   "source": [
    "for word in list(vocab)[:5]:\n",
    "    print(f'{word}: {model.embeddings(torch.tensor(word_to_ix[word]))}')"
   ]
  },
  {
   "cell_type": "code",
   "execution_count": 20,
   "metadata": {},
   "outputs": [
    {
     "data": {
      "text/plain": [
       "array([[-0.6757755 , -0.98896396,  0.308631  , -0.22467665,  0.5867099 ,\n",
       "         1.4400084 , -0.7063139 , -0.6341386 , -0.606229  ,  1.6217638 ],\n",
       "       [-0.84926486, -0.13502355,  0.09058   , -0.8854594 , -2.038402  ,\n",
       "         0.12756713,  0.42304376, -0.11946079,  1.3539026 ,  1.1452372 ],\n",
       "       [ 0.7426228 ,  0.15148646,  0.8685565 ,  0.7733073 ,  2.5939853 ,\n",
       "         1.1159067 ,  0.53937125, -1.0188885 ,  0.26908147, -0.6671125 ],\n",
       "       [ 2.2242174 , -1.712762  , -1.2611614 , -0.2710391 ,  1.3530234 ,\n",
       "        -0.8377273 , -1.1381783 ,  0.3425029 , -0.29562208, -0.09452835],\n",
       "       [ 1.8296745 ,  1.4034259 , -0.8595351 ,  0.9148794 , -0.19184558,\n",
       "         0.2713971 ,  1.1882803 ,  0.38818598,  1.5579695 , -2.7732284 ]],\n",
       "      dtype=float32)"
      ]
     },
     "execution_count": 20,
     "metadata": {},
     "output_type": "execute_result"
    }
   ],
   "source": [
    "embeddings = model.embeddings.weight.data.numpy()\n",
    "embeddings[:5]"
   ]
  },
  {
   "cell_type": "code",
   "execution_count": 21,
   "metadata": {},
   "outputs": [
    {
     "data": {
      "text/html": [
       "<div>\n",
       "<style scoped>\n",
       "    .dataframe tbody tr th:only-of-type {\n",
       "        vertical-align: middle;\n",
       "    }\n",
       "\n",
       "    .dataframe tbody tr th {\n",
       "        vertical-align: top;\n",
       "    }\n",
       "\n",
       "    .dataframe thead th {\n",
       "        text-align: right;\n",
       "    }\n",
       "</style>\n",
       "<table border=\"1\" class=\"dataframe\">\n",
       "  <thead>\n",
       "    <tr style=\"text-align: right;\">\n",
       "      <th></th>\n",
       "      <th>0</th>\n",
       "      <th>1</th>\n",
       "      <th>2</th>\n",
       "      <th>3</th>\n",
       "      <th>4</th>\n",
       "      <th>5</th>\n",
       "      <th>6</th>\n",
       "      <th>7</th>\n",
       "      <th>8</th>\n",
       "      <th>9</th>\n",
       "    </tr>\n",
       "  </thead>\n",
       "  <tbody>\n",
       "    <tr>\n",
       "      <th>0</th>\n",
       "      <td>-0.675776</td>\n",
       "      <td>-0.988964</td>\n",
       "      <td>0.308631</td>\n",
       "      <td>-0.224677</td>\n",
       "      <td>0.586710</td>\n",
       "      <td>1.440008</td>\n",
       "      <td>-0.706314</td>\n",
       "      <td>-0.634139</td>\n",
       "      <td>-0.606229</td>\n",
       "      <td>1.621764</td>\n",
       "    </tr>\n",
       "    <tr>\n",
       "      <th>1</th>\n",
       "      <td>-0.849265</td>\n",
       "      <td>-0.135024</td>\n",
       "      <td>0.090580</td>\n",
       "      <td>-0.885459</td>\n",
       "      <td>-2.038402</td>\n",
       "      <td>0.127567</td>\n",
       "      <td>0.423044</td>\n",
       "      <td>-0.119461</td>\n",
       "      <td>1.353903</td>\n",
       "      <td>1.145237</td>\n",
       "    </tr>\n",
       "    <tr>\n",
       "      <th>2</th>\n",
       "      <td>0.742623</td>\n",
       "      <td>0.151486</td>\n",
       "      <td>0.868556</td>\n",
       "      <td>0.773307</td>\n",
       "      <td>2.593985</td>\n",
       "      <td>1.115907</td>\n",
       "      <td>0.539371</td>\n",
       "      <td>-1.018888</td>\n",
       "      <td>0.269081</td>\n",
       "      <td>-0.667113</td>\n",
       "    </tr>\n",
       "    <tr>\n",
       "      <th>3</th>\n",
       "      <td>2.224217</td>\n",
       "      <td>-1.712762</td>\n",
       "      <td>-1.261161</td>\n",
       "      <td>-0.271039</td>\n",
       "      <td>1.353023</td>\n",
       "      <td>-0.837727</td>\n",
       "      <td>-1.138178</td>\n",
       "      <td>0.342503</td>\n",
       "      <td>-0.295622</td>\n",
       "      <td>-0.094528</td>\n",
       "    </tr>\n",
       "    <tr>\n",
       "      <th>4</th>\n",
       "      <td>1.829674</td>\n",
       "      <td>1.403426</td>\n",
       "      <td>-0.859535</td>\n",
       "      <td>0.914879</td>\n",
       "      <td>-0.191846</td>\n",
       "      <td>0.271397</td>\n",
       "      <td>1.188280</td>\n",
       "      <td>0.388186</td>\n",
       "      <td>1.557969</td>\n",
       "      <td>-2.773228</td>\n",
       "    </tr>\n",
       "  </tbody>\n",
       "</table>\n",
       "</div>"
      ],
      "text/plain": [
       "          0         1         2         3         4         5         6  \\\n",
       "0 -0.675776 -0.988964  0.308631 -0.224677  0.586710  1.440008 -0.706314   \n",
       "1 -0.849265 -0.135024  0.090580 -0.885459 -2.038402  0.127567  0.423044   \n",
       "2  0.742623  0.151486  0.868556  0.773307  2.593985  1.115907  0.539371   \n",
       "3  2.224217 -1.712762 -1.261161 -0.271039  1.353023 -0.837727 -1.138178   \n",
       "4  1.829674  1.403426 -0.859535  0.914879 -0.191846  0.271397  1.188280   \n",
       "\n",
       "          7         8         9  \n",
       "0 -0.634139 -0.606229  1.621764  \n",
       "1 -0.119461  1.353903  1.145237  \n",
       "2 -1.018888  0.269081 -0.667113  \n",
       "3  0.342503 -0.295622 -0.094528  \n",
       "4  0.388186  1.557969 -2.773228  "
      ]
     },
     "execution_count": 21,
     "metadata": {},
     "output_type": "execute_result"
    }
   ],
   "source": [
    "import pandas as pd\n",
    "df = pd.DataFrame(data=embeddings)\n",
    "#df['word'] = vocab\n",
    "df.head()"
   ]
  },
  {
   "cell_type": "code",
   "execution_count": 22,
   "metadata": {},
   "outputs": [
    {
     "name": "stdout",
     "output_type": "stream",
     "text": [
      "[t-SNE] Computing 48 nearest neighbors...\n",
      "[t-SNE] Indexed 49 samples in 0.000s...\n",
      "[t-SNE] Computed neighbors for 49 samples in 0.011s...\n",
      "[t-SNE] Computed conditional probabilities for sample 49 / 49\n",
      "[t-SNE] Mean sigma: 3.176896\n",
      "[t-SNE] KL divergence after 250 iterations with early exaggeration: 50.152164\n",
      "[t-SNE] KL divergence after 300 iterations: 0.788778\n",
      "t-SNE done! Time elapsed: 0.10120773315429688 seconds\n"
     ]
    }
   ],
   "source": [
    "#t-SNE\n",
    "#https://www.datacamp.com/community/tutorials/introduction-t-sne\n",
    "#https://towardsdatascience.com/visualising-high-dimensional-datasets-using-pca-and-t-sne-in-python-8ef87e7915b\n",
    "\n",
    "from sklearn.manifold import TSNE\n",
    "import time\n",
    "time_start = time.time()\n",
    "\n",
    "sne = TSNE(n_components=2, verbose=1, perplexity=40, n_iter=300)\n",
    "tsne_results = sne.fit_transform(df)\n",
    "\n",
    "print('t-SNE done! Time elapsed: {} seconds'.format(time.time()-time_start))"
   ]
  },
  {
   "cell_type": "code",
   "execution_count": 24,
   "metadata": {},
   "outputs": [
    {
     "data": {
      "text/plain": [
       "<matplotlib.axes._subplots.AxesSubplot at 0x23268a32ac8>"
      ]
     },
     "execution_count": 24,
     "metadata": {},
     "output_type": "execute_result"
    },
    {
     "data": {
      "image/png": "[encoded data removed]",
      "text/plain": [
       "<Figure size 1152x720 with 1 Axes>"
      ]
     },
     "metadata": {
      "needs_background": "light"
     },
     "output_type": "display_data"
    }
   ],
   "source": [
    "import matplotlib.pyplot as plt\n",
    "import seaborn as sns\n",
    "df['tsne-2d-one'] = tsne_results[:,0]\n",
    "df['tsne-2d-two'] = tsne_results[:,1]\n",
    "df['word'] = vocab\n",
    "\n",
    "plt.figure(figsize=(16,10))\n",
    "sns.scatterplot(\n",
    "    x=\"tsne-2d-one\", y=\"tsne-2d-two\",\n",
    "    hue=\"word\",\n",
    "    palette=sns.color_palette(\"hls\", 10),\n",
    "    data=df.head(10),\n",
    "    legend=\"full\",\n",
    "    alpha=0.3\n",
    ")"
   ]
  },
  {
   "cell_type": "code",
   "execution_count": null,
   "metadata": {},
   "outputs": [],
   "source": []
  }
 ],
 "metadata": {
  "kernelspec": {
   "display_name": "Pytorch",
   "language": "python",
   "name": "pytorch"
  },
  "language_info": {
   "codemirror_mode": {
    "name": "ipython",
    "version": 3
   },
   "file_extension": ".py",
   "mimetype": "text/x-python",
   "name": "python",
   "nbconvert_exporter": "python",
   "pygments_lexer": "ipython3",
   "version": "3.7.3"
  }
 },
 "nbformat": 4,
 "nbformat_minor": 2
}
