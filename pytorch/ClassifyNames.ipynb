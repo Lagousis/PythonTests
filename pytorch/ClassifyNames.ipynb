{
 "cells": [
  {
   "cell_type": "markdown",
   "metadata": {},
   "source": [
    "Code from here\n",
    "https://pytorch.org/tutorials/intermediate/char_rnn_classification_tutorial.html"
   ]
  },
  {
   "cell_type": "code",
   "execution_count": 1,
   "metadata": {
    "collapsed": false
   },
   "outputs": [
    {
     "name": "stdout",
     "output_type": "stream",
     "text": [
      "['data/names\\\\Arabic.txt', 'data/names\\\\Chinese.txt', 'data/names\\\\Czech.txt', 'data/names\\\\Dutch.txt', 'data/names\\\\English.txt', 'data/names\\\\French.txt', 'data/names\\\\German.txt', 'data/names\\\\Greek.txt', 'data/names\\\\Irish.txt', 'data/names\\\\Italian.txt', 'data/names\\\\Japanese.txt', 'data/names\\\\Korean.txt', 'data/names\\\\Polish.txt', 'data/names\\\\Portuguese.txt', 'data/names\\\\Russian.txt', 'data/names\\\\Scottish.txt', 'data/names\\\\Spanish.txt', 'data/names\\\\Vietnamese.txt']\n",
      "Slusarski\n"
     ]
    }
   ],
   "source": [
    "from __future__ import unicode_literals, print_function, division\n",
    "from io import open\n",
    "import glob\n",
    "import os\n",
    "\n",
    "def findFiles(path): return glob.glob(path)\n",
    "\n",
    "print(findFiles('data/names/*.txt'))\n",
    "\n",
    "import unicodedata\n",
    "import string\n",
    "\n",
    "all_letters = string.ascii_letters + \" .,;'\"\n",
    "n_letters = len(all_letters)\n",
    "\n",
    "# Turn a Unicode string to plain ASCII, thanks to https://stackoverflow.com/a/518232/2809427\n",
    "def unicodeToAscii(s):\n",
    "    return ''.join(\n",
    "        c for c in unicodedata.normalize('NFD', s)\n",
    "        if unicodedata.category(c) != 'Mn'\n",
    "        and c in all_letters\n",
    "    )\n",
    "\n",
    "print(unicodeToAscii('Ślusàrski'))\n",
    "\n",
    "# Build the category_lines dictionary, a list of names per language\n",
    "category_lines = {}\n",
    "all_categories = []\n",
    "\n",
    "# Read a file and split into lines\n",
    "def readLines(filename):\n",
    "    lines = open(filename, encoding='utf-8').read().strip().split('\\n')\n",
    "    return [unicodeToAscii(line) for line in lines]\n",
    "\n",
    "for filename in findFiles('data/names/*.txt'):\n",
    "    category = os.path.splitext(os.path.basename(filename))[0]\n",
    "    all_categories.append(category)\n",
    "    lines = readLines(filename)\n",
    "    category_lines[category] = lines\n",
    "\n",
    "n_categories = len(all_categories)"
   ]
  },
  {
   "cell_type": "code",
   "execution_count": 2,
   "metadata": {
    "collapsed": false
   },
   "outputs": [
    {
     "name": "stdout",
     "output_type": "stream",
     "text": [
      "Categories: 18\n"
     ]
    }
   ],
   "source": [
    "print(f'Categories: {n_categories}')"
   ]
  },
  {
   "cell_type": "code",
   "execution_count": 3,
   "metadata": {
    "collapsed": false
   },
   "outputs": [
    {
     "name": "stdout",
     "output_type": "stream",
     "text": [
      "Categories: ['Arabic', 'Chinese', 'Czech', 'Dutch', 'English', 'French', 'German', 'Greek', 'Irish', 'Italian', 'Japanese', 'Korean', 'Polish', 'Portuguese', 'Russian', 'Scottish', 'Spanish', 'Vietnamese']\n"
     ]
    }
   ],
   "source": [
    "print(f'Categories: {all_categories}')"
   ]
  },
  {
   "cell_type": "code",
   "execution_count": 4,
   "metadata": {
    "collapsed": false
   },
   "outputs": [
    {
     "name": "stdout",
     "output_type": "stream",
     "text": [
      "['Adamidis', 'Adamou', 'Agelakos', 'Akrivopoulos', 'Alexandropoulos', 'Anetakis', 'Angelopoulos', 'Antimisiaris', 'Antipas', 'Antonakos', 'Antoniadis', 'Antonopoulos', 'Antonopoulos', 'Antonopoulos', 'Arvanitoyannis', 'Avgerinos', 'Banos', 'Batsakis', 'Bekyros', 'Belesis', 'Bertsimas', 'Bilias', 'Blades', 'Bouloukos', 'Brisimitzakis', 'Bursinos', 'Calogerakis', 'Calpis', 'Chellos', 'Christakos', 'Christodoulou', 'Christou', 'Chrysanthopoulos', 'Chrysanthopoulos', 'Comino', 'Close', 'Close', 'Close', 'Close', 'Close', 'Close', 'Close', 'Close', 'Dalianis', 'Danas', 'Dasios', 'Demakis', 'Demarchis', 'Demas', 'Demetrious', 'Dertilis', 'Diakogeorgiou', 'Dioletis', 'Dounias', 'Dritsas', 'Drivakis', 'Eatros', 'Egonidis', 'Eliopoulos', 'Forakis', 'Fotopoulos', 'Fourakis', 'Frangopoulos', 'Galanopoulos', 'Garofalis', 'Gavril', 'Gavrilopoulos', 'Georgeakopoulos', 'Geracimos', 'Gianakopulos', 'Giannakopoulos', 'Giannakos', 'Glynatsis', 'Gomatos', 'Grammatakakis', 'Gravari', 'Hadjiyianakies', 'Hagias', 'Haritopoulos', 'Honjas', 'Horiatis', 'Houlis', 'Jamussa', 'Kaglantge', 'Kalakos', 'Kalogeria', 'Kaloxylos', 'Kanavos', 'Kapsimalles', 'Karahalios', 'Karameros', 'Karkampasis', 'Karnoupakis', 'Katsourinis', 'Kefalas', 'Kokkali', 'Kokoris', 'Kolovos', 'Konstantatos', 'Kosmas', 'Kotsilimbas', 'Kotsiopoulos', 'Kouches', 'Koulaxizis', 'Koumanidis', 'Kourempes', 'Kouretas', 'Kouropoulos', 'Kouros', 'Koustoubos', 'Koutsoubos', 'Kreskas', 'Kringos', 'Kyritsis', 'Laganas', 'Leontarakis', 'Letsos', 'Liatos', 'Lillis', 'Lolos', 'Louverdis', 'Makricosta', 'Malihoudis', 'Maneates', 'Manos', 'Manoukarakis', 'Matsoukis', 'Mentis', 'Mersinias', 'Metrofanis', 'Michalaras', 'Milionis', 'Missiakos', 'Moraitopoulos', 'Nikolaou', 'Nomikos', 'Paitakes', 'Paloumbas', 'Panayiotopoulos', 'Panoulias', 'Pantelakos', 'Pantelas', 'Papadelias', 'Papadopulos', 'Papageorge', 'Papoutsis', 'Pappayiorgas', 'Paraskevopoulos', 'Paraskos', 'Paschalis', 'Patrianakos', 'Patselas', 'Pefanis', 'Petimezas', 'Petrakis', 'Pezos', 'Phocas', 'Pispinis', 'Polites', 'Polymenakou', 'Poniros', 'Protopsaltis', 'Rallis', 'Rigatos', 'Rorris', 'Rousses', 'Ruvelas', 'Sakelaris', 'Sakellariou', 'Samios', 'Sardelis', 'Sfakianos', 'Sklavenitis', 'Sortras', 'Sotiris', 'Spyridis', 'Stamatas', 'Stamatelos', 'Stavropoulos', 'Strilakos', 'Stroggylis', 'Tableriou', 'Taflambas', 'Tassioglou', 'Telis', 'Tsoumada', 'Theofilopoulos', 'Theohari', 'Totolos', 'Tourna', 'Tsahalis', 'Tsangaris', 'Tselios', 'Tsogas', 'Vamvakidis', 'Varvitsiotes', 'Vassilikos', 'Vassilopulos', 'Vlahos', 'Vourlis', 'Xydis', 'Zaloumi', 'Zouvelekis']\n"
     ]
    }
   ],
   "source": [
    "print(category_lines[all_categories[7]])"
   ]
  },
  {
   "cell_type": "code",
   "execution_count": 5,
   "metadata": {
    "collapsed": false
   },
   "outputs": [
    {
     "name": "stdout",
     "output_type": "stream",
     "text": [
      "['Abandonato', 'Abatangelo', 'Abatantuono', 'Abate', 'Abategiovanni']\n"
     ]
    }
   ],
   "source": [
    "print(category_lines['Italian'][:5])"
   ]
  },
  {
   "cell_type": "code",
   "execution_count": 6,
   "metadata": {
    "collapsed": false
   },
   "outputs": [
    {
     "name": "stdout",
     "output_type": "stream",
     "text": [
      "tensor([[0., 0., 0., 0., 0., 0., 0., 0., 0., 0., 0., 0., 0., 0., 0., 0., 0., 0.,\n",
      "         0., 0., 0., 0., 0., 0., 0., 0., 0., 0., 0., 0., 0., 0., 0., 0., 0., 1.,\n",
      "         0., 0., 0., 0., 0., 0., 0., 0., 0., 0., 0., 0., 0., 0., 0., 0., 0., 0.,\n",
      "         0., 0., 0.]])\n",
      "torch.Size([5, 1, 57])\n"
     ]
    }
   ],
   "source": [
    "import torch\n",
    "\n",
    "# Find letter index from all_letters, e.g. \"a\" = 0\n",
    "def letterToIndex(letter):\n",
    "    return all_letters.find(letter)\n",
    "\n",
    "# Just for demonstration, turn a letter into a <1 x n_letters> Tensor\n",
    "def letterToTensor(letter):\n",
    "    tensor = torch.zeros(1, n_letters)\n",
    "    tensor[0][letterToIndex(letter)] = 1\n",
    "    return tensor\n",
    "\n",
    "# Turn a line into a <line_length x 1 x n_letters>,\n",
    "# or an array of one-hot letter vectors\n",
    "def lineToTensor(line):\n",
    "    tensor = torch.zeros(len(line), 1, n_letters)\n",
    "    for li, letter in enumerate(line):\n",
    "        tensor[li][0][letterToIndex(letter)] = 1\n",
    "    return tensor\n",
    "\n",
    "print(letterToTensor('J'))\n",
    "\n",
    "print(lineToTensor('Jones').size())"
   ]
  },
  {
   "cell_type": "code",
   "execution_count": null,
   "metadata": {
    "collapsed": false
   },
   "outputs": [],
   "source": [
    "all_letters, len(all_letters)"
   ]
  },
  {
   "cell_type": "code",
   "execution_count": null,
   "metadata": {
    "collapsed": false
   },
   "outputs": [],
   "source": [
    "letter_to_index = {letterToIndex(l):l for l in all_letters}\n",
    "letter_to_index"
   ]
  },
  {
   "cell_type": "code",
   "execution_count": null,
   "metadata": {
    "collapsed": false
   },
   "outputs": [],
   "source": [
    "index_to_letter = [all_letters[i] for i in range(len(all_letters))]\n",
    "index_to_letter"
   ]
  },
  {
   "cell_type": "code",
   "execution_count": 8,
   "metadata": {
    "collapsed": true
   },
   "outputs": [],
   "source": [
    "import torch.nn as nn\n",
    "#import torch.nn.functional as F"
   ]
  },
  {
   "cell_type": "code",
   "execution_count": 154,
   "metadata": {
    "collapsed": true
   },
   "outputs": [],
   "source": [
    "class RNN(nn.Module):\n",
    "    def __init__(self, input_size, hidden_size, output_size):\n",
    "        super(RNN, self).__init__()\n",
    "\n",
    "        self.hidden_size = hidden_size\n",
    "\n",
    "        self.i2h = nn.Linear(input_size + hidden_size, hidden_size)\n",
    "        self.i2o = nn.Linear(input_size + hidden_size, output_size)\n",
    "        self.softmax = nn.LogSoftmax(dim=1)\n",
    "\n",
    "    def forward(self, input, hidden):\n",
    "        combined = torch.cat((input, hidden), 1)\n",
    "        hidden = self.i2h(combined)\n",
    "        output = self.i2o(combined)\n",
    "        output = self.softmax(output)\n",
    "        return output, hidden\n",
    "\n",
    "    def initHidden(self):\n",
    "        return torch.zeros(1, self.hidden_size)\n",
    "\n",
    "n_hidden = 128\n",
    "rnn = RNN(n_letters, n_hidden, n_categories)"
   ]
  },
  {
   "cell_type": "code",
   "execution_count": 24,
   "metadata": {
    "collapsed": false
   },
   "outputs": [],
   "source": [
    "#https://pytorch.org/docs/master/nn.html#torch.nn.GRU\n",
    "\n",
    "#GRU based\n",
    "class LanguageClassifier(nn.Module):\n",
    "    def __init__(self, input_size, hidden_size, output_size):\n",
    "        super(LanguageClassifier, self).__init__()\n",
    "        \n",
    "        self.hidden_size = hidden_size\n",
    "        \n",
    "        self.gru = nn.GRU(input_size = input_size, hidden_size = hidden_size, num_layers = 1)\n",
    "        \n",
    "        # Kaiming initialization, no difference! \n",
    "        #nn.init.kaiming_normal_(self.gru.weight_ih_l0, mode='fan_out', nonlinearity='relu')\n",
    "        #nn.init.kaiming_normal_(self.gru.weight_hh_l0, mode='fan_out', nonlinearity='relu')\n",
    "        \n",
    "        self.dense1 = nn.Linear(hidden_size, output_size)\n",
    "        \n",
    "        self.softmax = nn.LogSoftmax(dim=1)\n",
    "        \n",
    "    def forward(self, input, hidden):\n",
    "        #combined = torch.cat((input, hidden), 1) \n",
    "        \n",
    "        output, hidden = self.gru(input, hidden)\n",
    "        #Get only last output\n",
    "        output = self.dense1(output[-1, :, :])\n",
    "        output = self.softmax(output)\n",
    "        \n",
    "        return output, hidden\n",
    "    \n",
    "    def initHidden(self):\n",
    "        return torch.zeros(1, 1, self.hidden_size)\n",
    "        \n",
    "n_hidden = 128\n",
    "languageClassifier = LanguageClassifier(n_letters, n_hidden, n_categories)"
   ]
  },
  {
   "cell_type": "code",
   "execution_count": null,
   "metadata": {
    "collapsed": false
   },
   "outputs": [],
   "source": [
    "input = letterToTensor('A')\n",
    "hidden = torch.zeros(1, n_hidden)\n",
    "\n",
    "output, next_hidden = rnn(input, hidden)\n",
    "output, next_hidden"
   ]
  },
  {
   "cell_type": "code",
   "execution_count": null,
   "metadata": {
    "collapsed": false
   },
   "outputs": [],
   "source": [
    "input = lineToTensor('Albert')\n",
    "hidden = torch.zeros(1, n_hidden)\n",
    "\n",
    "output, next_hidden = rnn(input[0], hidden)\n",
    "print(output)"
   ]
  },
  {
   "cell_type": "code",
   "execution_count": null,
   "metadata": {
    "collapsed": false
   },
   "outputs": [],
   "source": [
    "#input.shape[0]\n",
    "#hidden.repeat(input.shape[0],1).shape\n",
    "input[0].unsqueeze_(0).shape"
   ]
  },
  {
   "cell_type": "markdown",
   "metadata": {},
   "source": [
    "GRU"
   ]
  },
  {
   "cell_type": "code",
   "execution_count": 12,
   "metadata": {
    "collapsed": false
   },
   "outputs": [
    {
     "name": "stdout",
     "output_type": "stream",
     "text": [
      "Input: torch.Size([6, 1, 57])\n",
      "Hidden: torch.Size([1, 1, 128])\n",
      "Output: torch.Size([1, 18])\n",
      "Next hidden: torch.Size([1, 1, 128])\n"
     ]
    }
   ],
   "source": [
    "input = lineToTensor('Albert')\n",
    "print(f'Input: {input.shape}')\n",
    "#input.unsqueeze_(1)\n",
    "#print(input.shape)\n",
    "hidden = torch.zeros(1, 1, n_hidden)\n",
    "print(f'Hidden: {hidden.shape}')\n",
    "\n",
    "output, next_hidden = languageClassifier(input, hidden)\n",
    "print(f'Output: {output.shape}')\n",
    "print(f'Next hidden: {next_hidden.shape}')\n",
    "#print(output)"
   ]
  },
  {
   "cell_type": "code",
   "execution_count": 13,
   "metadata": {
    "collapsed": false
   },
   "outputs": [
    {
     "name": "stdout",
     "output_type": "stream",
     "text": [
      "tensor([[-2.8524, -2.8775, -2.9286, -2.8969, -2.8124, -2.8994, -2.7892, -2.8225,\n",
      "         -2.9458, -2.9423, -2.8419, -2.9477, -2.9655, -2.8750, -2.9441, -3.0038,\n",
      "         -2.8373, -2.8745]], grad_fn=<LogSoftmaxBackward>) ('German', 6)\n"
     ]
    }
   ],
   "source": [
    "def categoryFromOutput(output):\n",
    "    top_n, top_i = output.topk(1)\n",
    "    #print(top_n, top_i.data)\n",
    "    category_i = top_i[0].item()\n",
    "    return all_categories[category_i], category_i\n",
    "\n",
    "print(output, categoryFromOutput(output))"
   ]
  },
  {
   "cell_type": "code",
   "execution_count": 14,
   "metadata": {
    "collapsed": false
   },
   "outputs": [
    {
     "name": "stdout",
     "output_type": "stream",
     "text": [
      "category = Greek / line = Paitakes\n",
      "category = Vietnamese / line = Phung\n",
      "category = Greek / line = Danas\n",
      "category = Czech / line = Kulhanek\n",
      "category = Vietnamese / line = Dam\n",
      "category = Dutch / line = Laar\n",
      "category = German / line = Brose\n",
      "category = Arabic / line = Maroun\n",
      "category = Japanese / line = Gakusha\n",
      "category = Irish / line = Clark\n"
     ]
    }
   ],
   "source": [
    "import random\n",
    "\n",
    "def randomChoice(l):\n",
    "    return l[random.randint(0, len(l) - 1)]\n",
    "\n",
    "def randomTrainingExample():\n",
    "    category = randomChoice(all_categories)\n",
    "    line = randomChoice(category_lines[category])\n",
    "    category_tensor = torch.tensor([all_categories.index(category)], dtype=torch.long)\n",
    "    line_tensor = lineToTensor(line)\n",
    "    return category, line, category_tensor, line_tensor\n",
    "\n",
    "for i in range(10):\n",
    "    category, line, category_tensor, line_tensor = randomTrainingExample()\n",
    "    print('category =', category, '/ line =', line)"
   ]
  },
  {
   "cell_type": "code",
   "execution_count": 15,
   "metadata": {
    "collapsed": true
   },
   "outputs": [],
   "source": [
    "# For the loss function nn.NLLLoss is appropriate, since the last layer of the RNN is nn.LogSoftmax.\n",
    "criterion = nn.NLLLoss()"
   ]
  },
  {
   "cell_type": "markdown",
   "metadata": {},
   "source": [
    "RNN training (from the tutorial)"
   ]
  },
  {
   "cell_type": "code",
   "execution_count": 152,
   "metadata": {
    "collapsed": true
   },
   "outputs": [],
   "source": [
    "learning_rate = 0.005 # If you set this too high, it might explode. If too low, it might not learn\n",
    "\n",
    "def train(category_tensor, line_tensor):\n",
    "    hidden = rnn.initHidden()\n",
    "\n",
    "    rnn.zero_grad()\n",
    "\n",
    "    for i in range(line_tensor.size()[0]):\n",
    "        output, hidden = rnn(line_tensor[i], hidden)\n",
    "\n",
    "    loss = criterion(output, category_tensor)\n",
    "    loss.backward()\n",
    "\n",
    "    # Add parameters' gradients to their values, multiplied by learning rate\n",
    "    for p in rnn.parameters():\n",
    "        p.data.add_(-learning_rate, p.grad.data)\n",
    "\n",
    "    return output, loss.item()"
   ]
  },
  {
   "cell_type": "markdown",
   "metadata": {},
   "source": [
    "GRU training"
   ]
  },
  {
   "cell_type": "code",
   "execution_count": 16,
   "metadata": {
    "collapsed": true
   },
   "outputs": [],
   "source": [
    "learning_rate = 0.005 # If you set this too high, it might explode. If too low, it might not learn\n",
    "\n",
    "def trainGRU(category_tensor, line_tensor):\n",
    "    hidden = languageClassifier.initHidden()\n",
    "\n",
    "    languageClassifier.zero_grad()\n",
    "\n",
    "    #for i in range(line_tensor.size()[0]):\n",
    "    #    output, hidden = rnn(line_tensor[i], hidden)\n",
    "\n",
    "    output, _ = languageClassifier(line_tensor, hidden)\n",
    "    \n",
    "    loss = criterion(output, category_tensor)\n",
    "    loss.backward()\n",
    "\n",
    "    # Add parameters' gradients to their values, multiplied by learning rate\n",
    "    for p in languageClassifier.parameters():\n",
    "        p.data.add_(-learning_rate, p.grad.data)\n",
    "\n",
    "    return output, loss.item()"
   ]
  },
  {
   "cell_type": "code",
   "execution_count": 25,
   "metadata": {
    "collapsed": false
   },
   "outputs": [
    {
     "name": "stdout",
     "output_type": "stream",
     "text": [
      "5000 5% (0m 29s) 2.7705 Albert / German ✗ (Russian)\n",
      "10000 10% (1m 2s) 2.5328 Vanitchev / Russian ✓\n",
      "15000 15% (1m 35s) 2.6623 Borde / English ✗ (French)\n",
      "20000 20% (2m 8s) 2.9039 O'Keefe / Dutch ✗ (Irish)\n",
      "25000 25% (2m 40s) 2.0678 Moralez / Spanish ✓\n",
      "30000 30% (3m 13s) 1.4266 Garcia / Spanish ✓\n",
      "35000 35% (3m 45s) 2.2959 Wallace / French ✗ (Scottish)\n",
      "40000 40% (4m 18s) 0.7271 Bakhtizin / Russian ✓\n",
      "45000 45% (4m 50s) 2.6766 Michaud / Arabic ✗ (French)\n",
      "50000 50% (5m 24s) 0.8914 Han / Chinese ✓\n",
      "55000 55% (5m 56s) 2.9630 Hunter / German ✗ (Scottish)\n",
      "60000 60% (6m 29s) 0.1371 Romagnoli / Italian ✓\n",
      "65000 65% (7m 2s) 1.7320 Espinoza / Polish ✗ (Spanish)\n",
      "70000 70% (7m 35s) 2.1750 Peatain / French ✗ (Irish)\n",
      "75000 75% (8m 7s) 0.6757 Travert / French ✓\n",
      "80000 80% (8m 44s) 1.8360 Traverse / Italian ✗ (French)\n",
      "85000 85% (9m 15s) 0.0536 Yoshikawa / Japanese ✓\n",
      "90000 90% (9m 53s) 1.3087 Espinoza / Polish ✗ (Spanish)\n",
      "95000 95% (10m 28s) 2.6008 Mcbain / French ✗ (English)\n",
      "100000 100% (11m 4s) 1.9642 Garcon / English ✗ (French)\n"
     ]
    }
   ],
   "source": [
    "import time\n",
    "import math\n",
    "\n",
    "n_iters = 100000\n",
    "print_every = 5000\n",
    "plot_every = 1000\n",
    "\n",
    "# Keep track of losses for plotting\n",
    "current_loss = 0\n",
    "all_losses = []\n",
    "\n",
    "def timeSince(since):\n",
    "    now = time.time()\n",
    "    s = now - since\n",
    "    m = math.floor(s / 60)\n",
    "    s -= m * 60\n",
    "    return '%dm %ds' % (m, s)\n",
    "\n",
    "start = time.time()\n",
    "\n",
    "for iter in range(1, n_iters + 1):\n",
    "    category, line, category_tensor, line_tensor = randomTrainingExample()\n",
    "    \n",
    "    #RNN\n",
    "    #output, loss = train(category_tensor, line_tensor)\n",
    "    \n",
    "    #GRU\n",
    "    output, loss = trainGRU(category_tensor, line_tensor)\n",
    "    \n",
    "    current_loss += loss\n",
    "\n",
    "    # Print iter number, loss, name and guess\n",
    "    if iter % print_every == 0:\n",
    "        guess, guess_i = categoryFromOutput(output)\n",
    "        correct = '✓' if guess == category else '✗ (%s)' % category\n",
    "        print('%d %d%% (%s) %.4f %s / %s %s' % (iter, iter / n_iters * 100, timeSince(start), loss, line, guess, correct))\n",
    "\n",
    "    # Add current loss avg to list of losses\n",
    "    if iter % plot_every == 0:\n",
    "        all_losses.append(current_loss / plot_every)\n",
    "        current_loss = 0"
   ]
  },
  {
   "cell_type": "code",
   "execution_count": 27,
   "metadata": {
    "collapsed": false
   },
   "outputs": [
    {
     "data": {
      "text/plain": [
       "[<matplotlib.lines.Line2D at 0x21d297f8080>]"
      ]
     },
     "execution_count": 27,
     "metadata": {},
     "output_type": "execute_result"
    },
    {
     "data": {
      "image/png": "[encoded data removed]",
      "text/plain": [
       "<Figure size 432x288 with 1 Axes>"
      ]
     },
     "metadata": {
      "needs_background": "light"
     },
     "output_type": "display_data"
    }
   ],
   "source": [
    "#Plotting the Results\n",
    "import matplotlib.pyplot as plt\n",
    "import matplotlib.ticker as ticker\n",
    "\n",
    "plt.figure()\n",
    "plt.plot(all_losses)"
   ]
  },
  {
   "cell_type": "code",
   "execution_count": 149,
   "metadata": {
    "collapsed": false
   },
   "outputs": [
    {
     "data": {
      "image/png": "[encoded data removed]",
      "text/plain": [
       "<Figure size 432x288 with 2 Axes>"
      ]
     },
     "metadata": {
      "needs_background": "light"
     },
     "output_type": "display_data"
    }
   ],
   "source": [
    "#Evaluating the Results RNN\n",
    "# Keep track of correct guesses in a confusion matrix\n",
    "confusion = torch.zeros(n_categories, n_categories)\n",
    "n_confusion = 10000\n",
    "\n",
    "# Just return an output given a line\n",
    "def evaluate(line_tensor):\n",
    "    hidden = rnn.initHidden()\n",
    "\n",
    "    for i in range(line_tensor.size()[0]):\n",
    "        output, hidden = rnn(line_tensor[i], hidden)\n",
    "\n",
    "    return output\n",
    "\n",
    "# Go through a bunch of examples and record which are correctly guessed\n",
    "for i in range(n_confusion):\n",
    "    category, line, category_tensor, line_tensor = randomTrainingExample()\n",
    "    output = evaluate(line_tensor)\n",
    "    guess, guess_i = categoryFromOutput(output)\n",
    "    category_i = all_categories.index(category)\n",
    "    confusion[category_i][guess_i] += 1\n",
    "\n",
    "# Normalize by dividing every row by its sum\n",
    "for i in range(n_categories):\n",
    "    confusion[i] = confusion[i] / confusion[i].sum()\n",
    "\n",
    "# Set up plot\n",
    "fig = plt.figure()\n",
    "ax = fig.add_subplot(111)\n",
    "cax = ax.matshow(confusion.numpy())\n",
    "fig.colorbar(cax)\n",
    "\n",
    "# Set up axes\n",
    "ax.set_xticklabels([''] + all_categories, rotation=90)\n",
    "ax.set_yticklabels([''] + all_categories)\n",
    "\n",
    "# Force label at every tick\n",
    "ax.xaxis.set_major_locator(ticker.MultipleLocator(1))\n",
    "ax.yaxis.set_major_locator(ticker.MultipleLocator(1))\n",
    "\n",
    "# sphinx_gallery_thumbnail_number = 2\n",
    "plt.show()"
   ]
  },
  {
   "cell_type": "code",
   "execution_count": 145,
   "metadata": {
    "collapsed": false
   },
   "outputs": [
    {
     "data": {
      "image/png": "[encoded data removed]",
      "text/plain": [
       "<Figure size 432x288 with 2 Axes>"
      ]
     },
     "metadata": {
      "needs_background": "light"
     },
     "output_type": "display_data"
    }
   ],
   "source": [
    "#Evaluating the Results GRU\n",
    "# Keep track of correct guesses in a confusion matrix\n",
    "confusion = torch.zeros(n_categories, n_categories)\n",
    "n_confusion = 10000\n",
    "\n",
    "# Just return an output given a line\n",
    "def evaluateGRU(line_tensor):\n",
    "    hidden = languageClassifier.initHidden()\n",
    "\n",
    "    output, hidden = languageClassifier(line_tensor, hidden)\n",
    "\n",
    "    return output\n",
    "\n",
    "# Go through a bunch of examples and record which are correctly guessed\n",
    "for i in range(n_confusion):\n",
    "    category, line, category_tensor, line_tensor = randomTrainingExample()\n",
    "    output = evaluate(line_tensor)\n",
    "    guess, guess_i = categoryFromOutput(output)\n",
    "    category_i = all_categories.index(category)\n",
    "    confusion[category_i][guess_i] += 1\n",
    "\n",
    "# Normalize by dividing every row by its sum\n",
    "for i in range(n_categories):\n",
    "    confusion[i] = confusion[i] / confusion[i].sum()\n",
    "\n",
    "# Set up plot\n",
    "fig = plt.figure()\n",
    "ax = fig.add_subplot(111)\n",
    "cax = ax.matshow(confusion.numpy())\n",
    "fig.colorbar(cax)\n",
    "\n",
    "# Set up axes\n",
    "ax.set_xticklabels([''] + all_categories, rotation=90)\n",
    "ax.set_yticklabels([''] + all_categories)\n",
    "\n",
    "# Force label at every tick\n",
    "ax.xaxis.set_major_locator(ticker.MultipleLocator(1))\n",
    "ax.yaxis.set_major_locator(ticker.MultipleLocator(1))\n",
    "\n",
    "# sphinx_gallery_thumbnail_number = 2\n",
    "plt.show()"
   ]
  },
  {
   "cell_type": "code",
   "execution_count": 157,
   "metadata": {
    "collapsed": false
   },
   "outputs": [
    {
     "name": "stdout",
     "output_type": "stream",
     "text": [
      "\n",
      "> Dovesky\n",
      "RNN\n",
      "(-0.64) Russian\n",
      "(-1.18) Czech\n",
      "(-2.46) Polish\n",
      "GRU\n",
      "(-0.59) Russian\n",
      "(-1.71) Czech\n",
      "(-2.19) English\n",
      "\n",
      "> Jackson\n",
      "RNN\n",
      "(-0.16) Scottish\n",
      "(-2.58) English\n",
      "(-3.75) Dutch\n",
      "GRU\n",
      "(-0.43) Scottish\n",
      "(-1.71) English\n",
      "(-2.88) Polish\n",
      "\n",
      "> Satoshi\n",
      "RNN\n",
      "(-0.87) Japanese\n",
      "(-1.34) Italian\n",
      "(-2.51) Polish\n",
      "GRU\n",
      "(-0.74) Arabic\n",
      "(-0.76) Japanese\n",
      "(-3.81) Polish\n"
     ]
    }
   ],
   "source": [
    "# Running on User Input\n",
    "def predict(input_line, n_predictions=3):\n",
    "    print('\\n> %s' % input_line)\n",
    "    print('RNN')\n",
    "    with torch.no_grad():\n",
    "        output = evaluate(lineToTensor(input_line))\n",
    "\n",
    "        # Get top N categories\n",
    "        topv, topi = output.topk(n_predictions, 1, True)\n",
    "        predictions = []\n",
    "\n",
    "        for i in range(n_predictions):\n",
    "            value = topv[0][i].item()\n",
    "            category_index = topi[0][i].item()\n",
    "            print('(%.2f) %s' % (value, all_categories[category_index]))\n",
    "            predictions.append([value, all_categories[category_index]])\n",
    "            \n",
    "    print('GRU')\n",
    "    with torch.no_grad():\n",
    "        output = evaluateGRU(lineToTensor(input_line))\n",
    "\n",
    "        # Get top N categories\n",
    "        topv, topi = output.topk(n_predictions, 1, True)\n",
    "        predictions = []\n",
    "\n",
    "        for i in range(n_predictions):\n",
    "            value = topv[0][i].item()\n",
    "            category_index = topi[0][i].item()\n",
    "            print('(%.2f) %s' % (value, all_categories[category_index]))\n",
    "            predictions.append([value, all_categories[category_index]])\n",
    "\n",
    "predict('Dovesky')\n",
    "predict('Jackson')\n",
    "predict('Satoshi')"
   ]
  },
  {
   "cell_type": "code",
   "execution_count": 160,
   "metadata": {
    "collapsed": false
   },
   "outputs": [
    {
     "name": "stdout",
     "output_type": "stream",
     "text": [
      "\n",
      "> Elena\n",
      "RNN\n",
      "(-0.96) Spanish\n",
      "(-1.54) Italian\n",
      "(-2.50) Czech\n",
      "GRU\n",
      "(-0.90) Spanish\n",
      "(-1.50) Italian\n",
      "(-2.11) Czech\n"
     ]
    }
   ],
   "source": [
    "predict('Elena')"
   ]
  },
  {
   "cell_type": "code",
   "execution_count": null,
   "metadata": {
    "collapsed": true
   },
   "outputs": [],
   "source": []
  }
 ],
 "metadata": {
  "anaconda-cloud": {},
  "kernelspec": {
   "display_name": "FastAI",
   "language": "python",
   "name": "fastai-cpu"
  },
  "language_info": {
   "codemirror_mode": {
    "name": "ipython",
    "version": 3
   },
   "file_extension": ".py",
   "mimetype": "text/x-python",
   "name": "python",
   "nbconvert_exporter": "python",
   "pygments_lexer": "ipython3",
   "version": "3.6.6"
  }
 },
 "nbformat": 4,
 "nbformat_minor": 1
}
