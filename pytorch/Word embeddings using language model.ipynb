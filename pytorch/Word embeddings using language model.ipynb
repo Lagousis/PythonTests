{
 "cells": [
  {
   "cell_type": "markdown",
   "metadata": {},
   "source": [
    "Use language model to create word embeddings\n",
    "\n",
    "https://pytorch.org/tutorials/beginner/nlp/word_embeddings_tutorial.html"
   ]
  },
  {
   "cell_type": "code",
   "execution_count": 4,
   "metadata": {},
   "outputs": [
    {
     "data": {
      "text/plain": [
       "<torch._C.Generator at 0x121db6cb8f0>"
      ]
     },
     "execution_count": 4,
     "metadata": {},
     "output_type": "execute_result"
    }
   ],
   "source": [
    "# Author: Robert Guthrie\n",
    "\n",
    "import torch\n",
    "import torch.nn as nn\n",
    "import torch.nn.functional as F\n",
    "import torch.optim as optim\n",
    "\n",
    "torch.manual_seed(1)"
   ]
  },
  {
   "cell_type": "code",
   "execution_count": 5,
   "metadata": {},
   "outputs": [
    {
     "name": "stdout",
     "output_type": "stream",
     "text": [
      "[(['When', 'forty'], 'winters'), (['forty', 'winters'], 'shall'), (['winters', 'shall'], 'besiege')]\n"
     ]
    }
   ],
   "source": [
    "CONTEXT_SIZE = 2\n",
    "EMBEDDING_DIM = 10\n",
    "# We will use Shakespeare Sonnet 2\n",
    "test_sentence = \"\"\"When forty winters shall besiege thy brow,\n",
    "And dig deep trenches in thy beauty's field,\n",
    "Thy youth's proud livery so gazed on now,\n",
    "Will be a totter'd weed of small worth held:\n",
    "Then being asked, where all thy beauty lies,\n",
    "Where all the treasure of thy lusty days;\n",
    "To say, within thine own deep sunken eyes,\n",
    "Were an all-eating shame, and thriftless praise.\n",
    "How much more praise deserv'd thy beauty's use,\n",
    "If thou couldst answer 'This fair child of mine\n",
    "Shall sum my count, and make my old excuse,'\n",
    "Proving his beauty by succession thine!\n",
    "This were to be new made when thou art old,\n",
    "And see thy blood warm when thou feel'st it cold.\"\"\".split()\n",
    "# we should tokenize the input, but we will ignore that for now\n",
    "# build a list of tuples.  Each tuple is ([ word_i-2, word_i-1 ], target word)\n",
    "trigrams = [([test_sentence[i], test_sentence[i + 1]], test_sentence[i + 2])\n",
    "            for i in range(len(test_sentence) - 2)]\n",
    "# print the first 3, just so you can see what they look like\n",
    "print(trigrams[:3])\n"
   ]
  },
  {
   "cell_type": "code",
   "execution_count": 58,
   "metadata": {},
   "outputs": [
    {
     "name": "stdout",
     "output_type": "stream",
     "text": [
      "[517.6855874061584, 515.2583112716675, 512.8455443382263, 510.44680070877075, 508.06000661849976, 505.6846959590912, 503.31996417045593, 500.9646716117859, 498.6180672645569, 496.2809739112854, 493.9519073963165, 491.62920689582825, 489.3136067390442, 487.0050518512726, 484.7002913951874, 482.40004682540894, 480.10377383232117, 477.8111732006073, 475.52171659469604, 473.234503030777]\n"
     ]
    }
   ],
   "source": [
    "\n",
    "vocab = set(test_sentence)\n",
    "word_to_ix = {word: i for i, word in enumerate(vocab)}\n",
    "\n",
    "\n",
    "class NGramLanguageModeler(nn.Module):\n",
    "\n",
    "    def __init__(self, vocab_size, embedding_dim, context_size):\n",
    "        super(NGramLanguageModeler, self).__init__()\n",
    "        self.embeddings = nn.Embedding(vocab_size, embedding_dim)\n",
    "        self.linear1 = nn.Linear(context_size * embedding_dim, 128)\n",
    "        self.linear2 = nn.Linear(128, vocab_size)\n",
    "\n",
    "    def forward(self, inputs):\n",
    "        embeds = self.embeddings(inputs).view((1, -1))\n",
    "        out = F.relu(self.linear1(embeds))\n",
    "        out = self.linear2(out)\n",
    "        log_probs = F.log_softmax(out, dim=1)\n",
    "        return log_probs\n",
    "\n",
    "\n",
    "losses = []\n",
    "loss_function = nn.NLLLoss()\n",
    "model = NGramLanguageModeler(len(vocab), EMBEDDING_DIM, CONTEXT_SIZE)\n",
    "optimizer = optim.SGD(model.parameters(), lr=0.001)\n",
    "\n",
    "for epoch in range(20):\n",
    "    total_loss = 0\n",
    "    for context, target in trigrams:\n",
    "\n",
    "        # Step 1. Prepare the inputs to be passed to the model (i.e, turn the words\n",
    "        # into integer indices and wrap them in tensors)\n",
    "        context_idxs = torch.tensor([word_to_ix[w] for w in context], dtype=torch.long)\n",
    "\n",
    "        # Step 2. Recall that torch *accumulates* gradients. Before passing in a\n",
    "        # new instance, you need to zero out the gradients from the old\n",
    "        # instance\n",
    "        model.zero_grad()\n",
    "\n",
    "        # Step 3. Run the forward pass, getting log probabilities over next\n",
    "        # words\n",
    "        log_probs = model(context_idxs)\n",
    "\n",
    "        # Step 4. Compute your loss function. (Again, Torch wants the target\n",
    "        # word wrapped in a tensor)\n",
    "        loss = loss_function(log_probs, torch.tensor([word_to_ix[target]], dtype=torch.long))\n",
    "\n",
    "        # Step 5. Do the backward pass and update the gradient\n",
    "        loss.backward()\n",
    "        optimizer.step()\n",
    "\n",
    "        # Get the Python number from a 1-element Tensor by calling tensor.item()\n",
    "        total_loss += loss.item()\n",
    "    losses.append(total_loss)\n",
    "print(losses)  # The loss decreased every iteration over the training data!"
   ]
  },
  {
   "cell_type": "code",
   "execution_count": 16,
   "metadata": {},
   "outputs": [
    {
     "data": {
      "text/plain": [
       "(97, Embedding(97, 10))"
      ]
     },
     "execution_count": 16,
     "metadata": {},
     "output_type": "execute_result"
    }
   ],
   "source": [
    "len(vocab), model.embeddings"
   ]
  },
  {
   "cell_type": "code",
   "execution_count": 17,
   "metadata": {},
   "outputs": [
    {
     "data": {
      "text/plain": [
       "tensor([-1.5251, -0.7513, -0.6535, -1.6088, -0.1007, -0.6106, -0.9808, -1.6081,\n",
       "        -0.7138,  0.3052], grad_fn=<EmbeddingBackward>)"
      ]
     },
     "execution_count": 17,
     "metadata": {},
     "output_type": "execute_result"
    }
   ],
   "source": [
    "model.embeddings(torch.tensor(0))"
   ]
  },
  {
   "cell_type": "code",
   "execution_count": 18,
   "metadata": {},
   "outputs": [
    {
     "name": "stdout",
     "output_type": "stream",
     "text": [
      "where: tensor([-1.5251, -0.7513, -0.6535, -1.6088, -0.1007, -0.6106, -0.9808, -1.6081,\n",
      "        -0.7138,  0.3052], grad_fn=<EmbeddingBackward>)\n",
      "shall: tensor([-0.7771, -0.2513, -0.2223,  1.6869,  0.2297,  0.4671, -0.6973, -1.1613,\n",
      "         0.6983,  0.1990], grad_fn=<EmbeddingBackward>)\n",
      "thine: tensor([ 0.8661,  0.2439, -0.6639,  0.8082,  1.1022, -0.1753, -2.2464, -1.4475,\n",
      "         0.0609, -0.6183], grad_fn=<EmbeddingBackward>)\n",
      "be: tensor([-0.7991, -0.1321,  1.8789, -0.0717,  0.1577, -0.7723,  0.1979,  0.0457,\n",
      "         0.1515, -0.4758], grad_fn=<EmbeddingBackward>)\n",
      "weed: tensor([-0.1109,  0.2936, -0.1575, -0.0292,  2.3578, -1.0366,  1.5747, -0.6295,\n",
      "        -0.9278,  0.5448], grad_fn=<EmbeddingBackward>)\n"
     ]
    }
   ],
   "source": [
    "for word in list(vocab)[:5]:\n",
    "    print(f'{word}: {model.embeddings(torch.tensor(word_to_ix[word]))}')"
   ]
  },
  {
   "cell_type": "code",
   "execution_count": 34,
   "metadata": {},
   "outputs": [
    {
     "data": {
      "text/plain": [
       "array([[-1.5251077 , -0.75129277, -0.6535014 , -1.6087608 , -0.10070229,\n",
       "        -0.6105607 , -0.9807688 , -1.6080558 , -0.7138467 ,  0.305238  ],\n",
       "       [-0.7771171 , -0.2513143 , -0.22233295,  1.6868888 ,  0.22971532,\n",
       "         0.46711418, -0.697322  , -1.1612613 ,  0.6982683 ,  0.19900483],\n",
       "       [ 0.8660686 ,  0.2439151 , -0.66387254,  0.8082408 ,  1.1022061 ,\n",
       "        -0.1753335 , -2.2464385 , -1.4474938 ,  0.06092361, -0.6183387 ],\n",
       "       [-0.79913396, -0.13213763,  1.8789219 , -0.07171019,  0.15773693,\n",
       "        -0.77234983,  0.19793487,  0.04567229,  0.15146196, -0.47579876],\n",
       "       [-0.11085682,  0.29363558, -0.15749288, -0.02920792,  2.3577716 ,\n",
       "        -1.0365736 ,  1.5746506 , -0.62954897, -0.92780024,  0.54475147]],\n",
       "      dtype=float32)"
      ]
     },
     "execution_count": 34,
     "metadata": {},
     "output_type": "execute_result"
    }
   ],
   "source": [
    "embeddings = model.embeddings.weight.data.numpy()\n",
    "embeddings[:5]"
   ]
  },
  {
   "cell_type": "code",
   "execution_count": 43,
   "metadata": {},
   "outputs": [
    {
     "data": {
      "text/html": [
       "<div>\n",
       "<style scoped>\n",
       "    .dataframe tbody tr th:only-of-type {\n",
       "        vertical-align: middle;\n",
       "    }\n",
       "\n",
       "    .dataframe tbody tr th {\n",
       "        vertical-align: top;\n",
       "    }\n",
       "\n",
       "    .dataframe thead th {\n",
       "        text-align: right;\n",
       "    }\n",
       "</style>\n",
       "<table border=\"1\" class=\"dataframe\">\n",
       "  <thead>\n",
       "    <tr style=\"text-align: right;\">\n",
       "      <th></th>\n",
       "      <th>0</th>\n",
       "      <th>1</th>\n",
       "      <th>2</th>\n",
       "      <th>3</th>\n",
       "      <th>4</th>\n",
       "      <th>5</th>\n",
       "      <th>6</th>\n",
       "      <th>7</th>\n",
       "      <th>8</th>\n",
       "      <th>9</th>\n",
       "    </tr>\n",
       "  </thead>\n",
       "  <tbody>\n",
       "    <tr>\n",
       "      <th>0</th>\n",
       "      <td>-1.525108</td>\n",
       "      <td>-0.751293</td>\n",
       "      <td>-0.653501</td>\n",
       "      <td>-1.608761</td>\n",
       "      <td>-0.100702</td>\n",
       "      <td>-0.610561</td>\n",
       "      <td>-0.980769</td>\n",
       "      <td>-1.608056</td>\n",
       "      <td>-0.713847</td>\n",
       "      <td>0.305238</td>\n",
       "    </tr>\n",
       "    <tr>\n",
       "      <th>1</th>\n",
       "      <td>-0.777117</td>\n",
       "      <td>-0.251314</td>\n",
       "      <td>-0.222333</td>\n",
       "      <td>1.686889</td>\n",
       "      <td>0.229715</td>\n",
       "      <td>0.467114</td>\n",
       "      <td>-0.697322</td>\n",
       "      <td>-1.161261</td>\n",
       "      <td>0.698268</td>\n",
       "      <td>0.199005</td>\n",
       "    </tr>\n",
       "    <tr>\n",
       "      <th>2</th>\n",
       "      <td>0.866069</td>\n",
       "      <td>0.243915</td>\n",
       "      <td>-0.663873</td>\n",
       "      <td>0.808241</td>\n",
       "      <td>1.102206</td>\n",
       "      <td>-0.175333</td>\n",
       "      <td>-2.246439</td>\n",
       "      <td>-1.447494</td>\n",
       "      <td>0.060924</td>\n",
       "      <td>-0.618339</td>\n",
       "    </tr>\n",
       "    <tr>\n",
       "      <th>3</th>\n",
       "      <td>-0.799134</td>\n",
       "      <td>-0.132138</td>\n",
       "      <td>1.878922</td>\n",
       "      <td>-0.071710</td>\n",
       "      <td>0.157737</td>\n",
       "      <td>-0.772350</td>\n",
       "      <td>0.197935</td>\n",
       "      <td>0.045672</td>\n",
       "      <td>0.151462</td>\n",
       "      <td>-0.475799</td>\n",
       "    </tr>\n",
       "    <tr>\n",
       "      <th>4</th>\n",
       "      <td>-0.110857</td>\n",
       "      <td>0.293636</td>\n",
       "      <td>-0.157493</td>\n",
       "      <td>-0.029208</td>\n",
       "      <td>2.357772</td>\n",
       "      <td>-1.036574</td>\n",
       "      <td>1.574651</td>\n",
       "      <td>-0.629549</td>\n",
       "      <td>-0.927800</td>\n",
       "      <td>0.544751</td>\n",
       "    </tr>\n",
       "  </tbody>\n",
       "</table>\n",
       "</div>"
      ],
      "text/plain": [
       "          0         1         2         3         4         5         6  \\\n",
       "0 -1.525108 -0.751293 -0.653501 -1.608761 -0.100702 -0.610561 -0.980769   \n",
       "1 -0.777117 -0.251314 -0.222333  1.686889  0.229715  0.467114 -0.697322   \n",
       "2  0.866069  0.243915 -0.663873  0.808241  1.102206 -0.175333 -2.246439   \n",
       "3 -0.799134 -0.132138  1.878922 -0.071710  0.157737 -0.772350  0.197935   \n",
       "4 -0.110857  0.293636 -0.157493 -0.029208  2.357772 -1.036574  1.574651   \n",
       "\n",
       "          7         8         9  \n",
       "0 -1.608056 -0.713847  0.305238  \n",
       "1 -1.161261  0.698268  0.199005  \n",
       "2 -1.447494  0.060924 -0.618339  \n",
       "3  0.045672  0.151462 -0.475799  \n",
       "4 -0.629549 -0.927800  0.544751  "
      ]
     },
     "execution_count": 43,
     "metadata": {},
     "output_type": "execute_result"
    }
   ],
   "source": [
    "import pandas as pd\n",
    "df = pd.DataFrame(data=embeddings)\n",
    "#df['word'] = vocab\n",
    "df.head()"
   ]
  },
  {
   "cell_type": "code",
   "execution_count": 44,
   "metadata": {},
   "outputs": [
    {
     "name": "stdout",
     "output_type": "stream",
     "text": [
      "[t-SNE] Computing 96 nearest neighbors...\n",
      "[t-SNE] Indexed 97 samples in 0.000s...\n",
      "[t-SNE] Computed neighbors for 97 samples in 0.035s...\n",
      "[t-SNE] Computed conditional probabilities for sample 97 / 97\n",
      "[t-SNE] Mean sigma: 1.996420\n",
      "[t-SNE] KL divergence after 250 iterations with early exaggeration: 56.114323\n",
      "[t-SNE] KL divergence after 300 iterations: 1.075104\n",
      "t-SNE done! Time elapsed: 0.361741304397583 seconds\n"
     ]
    }
   ],
   "source": [
    "#t-SNE\n",
    "#https://www.datacamp.com/community/tutorials/introduction-t-sne\n",
    "#https://towardsdatascience.com/visualising-high-dimensional-datasets-using-pca-and-t-sne-in-python-8ef87e7915b\n",
    "\n",
    "from sklearn.manifold import TSNE\n",
    "import time\n",
    "time_start = time.time()\n",
    "\n",
    "sne = TSNE(n_components=2, verbose=1, perplexity=40, n_iter=300)\n",
    "tsne_results = sne.fit_transform(df)\n",
    "\n",
    "print('t-SNE done! Time elapsed: {} seconds'.format(time.time()-time_start))"
   ]
  },
  {
   "cell_type": "code",
   "execution_count": 57,
   "metadata": {},
   "outputs": [
    {
     "data": {
      "text/plain": [
       "<matplotlib.axes._subplots.AxesSubplot at 0x121e8ce1940>"
      ]
     },
     "execution_count": 57,
     "metadata": {},
     "output_type": "execute_result"
    },
    {
     "data": {
      "image/png": "[encoded data removed]",
      "text/plain": [
       "<Figure size 1152x720 with 1 Axes>"
      ]
     },
     "metadata": {
      "needs_background": "light"
     },
     "output_type": "display_data"
    }
   ],
   "source": [
    "import matplotlib.pyplot as plt\n",
    "import seaborn as sns\n",
    "df['tsne-2d-one'] = tsne_results[:,0]\n",
    "df['tsne-2d-two'] = tsne_results[:,1]\n",
    "df['word'] = vocab\n",
    "\n",
    "plt.figure(figsize=(16,10))\n",
    "sns.scatterplot(\n",
    "    x=\"tsne-2d-one\", y=\"tsne-2d-two\",\n",
    "    hue=\"word\",\n",
    "    palette=sns.color_palette(\"hls\", 10),\n",
    "    data=df.head(10),\n",
    "    legend=\"full\",\n",
    "    alpha=0.3\n",
    ")"
   ]
  },
  {
   "cell_type": "code",
   "execution_count": null,
   "metadata": {},
   "outputs": [],
   "source": []
  }
 ],
 "metadata": {
  "kernelspec": {
   "display_name": "Pytorch",
   "language": "python",
   "name": "pytorch"
  },
  "language_info": {
   "codemirror_mode": {
    "name": "ipython",
    "version": 3
   },
   "file_extension": ".py",
   "mimetype": "text/x-python",
   "name": "python",
   "nbconvert_exporter": "python",
   "pygments_lexer": "ipython3",
   "version": "3.7.3"
  }
 },
 "nbformat": 4,
 "nbformat_minor": 2
}
