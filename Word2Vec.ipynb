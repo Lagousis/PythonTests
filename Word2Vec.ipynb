{
 "cells": [
  {
   "cell_type": "code",
   "execution_count": 4,
   "metadata": {},
   "outputs": [],
   "source": [
    "#Code from https://github.com/DOsinga/deep_learning_cookbook/blob/master/03.1%20Using%20pre%20trained%20word%20embeddings.ipynb"
   ]
  },
  {
   "cell_type": "code",
   "execution_count": 5,
   "metadata": {},
   "outputs": [],
   "source": [
    "%matplotlib inline"
   ]
  },
  {
   "cell_type": "code",
   "execution_count": 6,
   "metadata": {},
   "outputs": [],
   "source": [
    "import os\n",
    "#from keras.utils import get_file\n",
    "import gensim\n",
    "import numpy as np\n",
    "import matplotlib.pyplot as plt\n",
    "from IPython.core.pylabtools import figsize\n",
    "figsize(10, 10)\n",
    "\n",
    "from sklearn.manifold import TSNE"
   ]
  },
  {
   "cell_type": "code",
   "execution_count": 7,
   "metadata": {},
   "outputs": [],
   "source": [
    "#MODEL = 'GoogleNews-vectors-negative300.bin'\n",
    "#path = get_file(MODEL + '.gz', 'https://s3.amazonaws.com/dl4j-distribution/%s.gz' % MODEL)\n",
    "#print(path)\n",
    "# https://s3.amazonaws.com/dl4j-distribution/GoogleNews-vectors-negative300.bin.gz"
   ]
  },
  {
   "cell_type": "code",
   "execution_count": 8,
   "metadata": {},
   "outputs": [],
   "source": [
    "# Without the limit it never ends\n",
    "model_path = 'D:\\ML\\Files\\GoogleNews-vectors-negative300.bin'\n",
    "model = gensim.models.KeyedVectors.load_word2vec_format(model_path, binary=True, limit=500000)"
   ]
  },
  {
   "cell_type": "code",
   "execution_count": 9,
   "metadata": {},
   "outputs": [
    {
     "data": {
      "text/plain": [
       "[('cappuccino', 0.6888186931610107),\n",
       " ('mocha', 0.6686208248138428),\n",
       " ('coffee', 0.6616826057434082),\n",
       " ('latte', 0.6536753177642822),\n",
       " ('espressos', 0.6438628435134888),\n",
       " ('macchiato', 0.6428250074386597),\n",
       " ('brewed_coffee', 0.6234087347984314),\n",
       " ('iced_coffee', 0.6213865280151367),\n",
       " ('expresso', 0.6108267307281494),\n",
       " ('coffees', 0.6038862466812134)]"
      ]
     },
     "execution_count": 9,
     "metadata": {},
     "output_type": "execute_result"
    }
   ],
   "source": [
    "model.most_similar(positive=['espresso'])"
   ]
  },
  {
   "cell_type": "code",
   "execution_count": 10,
   "metadata": {},
   "outputs": [
    {
     "data": {
      "text/plain": [
       "['queen', 'monarch', 'princess']"
      ]
     },
     "execution_count": 10,
     "metadata": {},
     "output_type": "execute_result"
    }
   ],
   "source": [
    "def A_is_to_B_as_C_is_to(a, b, c, topn=1):\n",
    "    a, b, c = map(lambda x:x if type(x) == list else [x], (a, b, c))\n",
    "    res = model.most_similar(positive=b + c, negative=a, topn=topn)\n",
    "    if len(res):\n",
    "        if topn == 1:\n",
    "            return res[0][0]\n",
    "        return [x[0] for x in res]\n",
    "    return None\n",
    "\n",
    "A_is_to_B_as_C_is_to('man', 'woman', 'king', 3)"
   ]
  },
  {
   "cell_type": "code",
   "execution_count": 11,
   "metadata": {},
   "outputs": [
    {
     "name": "stdout",
     "output_type": "stream",
     "text": [
      "Rome is the capital of Italy\n",
      "Paris is the capital of France\n",
      "Delhi is the capital of India\n",
      "Beijing is the capital of China\n",
      "Athens is the capital of Greece\n"
     ]
    }
   ],
   "source": [
    "for country in 'Italy', 'France', 'India', 'China', 'Greece':\n",
    "    print('%s is the capital of %s' % \n",
    "          (A_is_to_B_as_C_is_to('Germany', 'Berlin', country), country))"
   ]
  },
  {
   "cell_type": "code",
   "execution_count": 12,
   "metadata": {},
   "outputs": [
    {
     "name": "stdout",
     "output_type": "stream",
     "text": [
      "Google -> app, Gmail, Android\n",
      "IBM -> DB2, WebSphere_Portal, Websphere\n",
      "Boeing -> Dreamliner, airframe, aircraft\n",
      "Microsoft -> Windows_Mobile, Windows, software\n",
      "Samsung -> handset, Nokia_N##, Omnia_II\n",
      "Loreal -> Body_Lotion, lotion, Bvlgari\n"
     ]
    }
   ],
   "source": [
    "for company in 'Google', 'IBM', 'Boeing', 'Microsoft', 'Samsung', 'Loreal':\n",
    "    products = A_is_to_B_as_C_is_to(\n",
    "        ['Starbucks', 'Apple'], \n",
    "        ['Starbucks_coffee', 'iPhone'], \n",
    "        company, topn=3)\n",
    "    print('%s -> %s' % \n",
    "          (company, ', '.join(products)))"
   ]
  },
  {
   "cell_type": "code",
   "execution_count": 13,
   "metadata": {},
   "outputs": [
    {
     "data": {
      "text/plain": [
       "18"
      ]
     },
     "execution_count": 13,
     "metadata": {},
     "output_type": "execute_result"
    }
   ],
   "source": [
    "beverages = ['espresso', 'beer', 'vodka', 'wine', 'cola', 'tea']\n",
    "countries = ['Italy', 'Germany', 'Russia', 'France', 'USA', 'India']\n",
    "sports = ['soccer', 'handball', 'hockey', 'cycling', 'basketball', 'cricket']\n",
    "\n",
    "items = beverages + countries + sports\n",
    "len(items)"
   ]
  },
  {
   "cell_type": "code",
   "execution_count": 14,
   "metadata": {},
   "outputs": [
    {
     "data": {
      "text/plain": [
       "18"
      ]
     },
     "execution_count": 14,
     "metadata": {},
     "output_type": "execute_result"
    }
   ],
   "source": [
    "item_vectors = [(item, model[item]) \n",
    "                    for item in items\n",
    "                    if item in model]\n",
    "len(item_vectors)"
   ]
  },
  {
   "cell_type": "code",
   "execution_count": 15,
   "metadata": {},
   "outputs": [
    {
     "name": "stdout",
     "output_type": "stream",
     "text": [
      "[t-SNE] Computing 17 nearest neighbors...\n",
      "[t-SNE] Indexed 18 samples in 0.016s...\n",
      "[t-SNE] Computed neighbors for 18 samples in 0.004s...\n",
      "[t-SNE] Computed conditional probabilities for sample 18 / 18\n",
      "[t-SNE] Mean sigma: 0.581543\n",
      "[t-SNE] Computed conditional probabilities in 0.008s\n",
      "[t-SNE] Iteration 50: error = 55.4019508, gradient norm = 0.1374518 (50 iterations in 0.016s)\n",
      "[t-SNE] Iteration 100: error = 54.7561035, gradient norm = 0.0965874 (50 iterations in 0.024s)\n",
      "[t-SNE] Iteration 150: error = 54.2330437, gradient norm = 0.2310513 (50 iterations in 0.016s)\n",
      "[t-SNE] Iteration 200: error = 62.8452072, gradient norm = 0.2600568 (50 iterations in 0.008s)\n",
      "[t-SNE] Iteration 250: error = 66.7165146, gradient norm = 0.4614967 (50 iterations in 0.016s)\n",
      "[t-SNE] KL divergence after 250 iterations with early exaggeration: 66.716515\n",
      "[t-SNE] Iteration 300: error = 0.6853933, gradient norm = 0.0008701 (50 iterations in 0.024s)\n",
      "[t-SNE] Iteration 350: error = 0.4455656, gradient norm = 0.0007768 (50 iterations in 0.012s)\n",
      "[t-SNE] Iteration 400: error = 0.3563008, gradient norm = 0.0003133 (50 iterations in 0.012s)\n",
      "[t-SNE] Iteration 450: error = 0.3123368, gradient norm = 0.0003570 (50 iterations in 0.012s)\n",
      "[t-SNE] Iteration 500: error = 0.1848669, gradient norm = 0.0003577 (50 iterations in 0.012s)\n",
      "[t-SNE] Iteration 550: error = 0.1680193, gradient norm = 0.0000628 (50 iterations in 0.012s)\n",
      "[t-SNE] Iteration 600: error = 0.1678218, gradient norm = 0.0000652 (50 iterations in 0.012s)\n",
      "[t-SNE] Iteration 650: error = 0.1558748, gradient norm = 0.0001388 (50 iterations in 0.016s)\n",
      "[t-SNE] Iteration 700: error = 0.1267678, gradient norm = 0.0001110 (50 iterations in 0.016s)\n",
      "[t-SNE] Iteration 750: error = 0.1131801, gradient norm = 0.0000681 (50 iterations in 0.016s)\n",
      "[t-SNE] Iteration 800: error = 0.1091182, gradient norm = 0.0000386 (50 iterations in 0.012s)\n",
      "[t-SNE] Iteration 850: error = 0.1082405, gradient norm = 0.0000150 (50 iterations in 0.016s)\n",
      "[t-SNE] Iteration 900: error = 0.1084289, gradient norm = 0.0000113 (50 iterations in 0.012s)\n",
      "[t-SNE] Iteration 950: error = 0.1075912, gradient norm = 0.0000122 (50 iterations in 0.012s)\n",
      "[t-SNE] Iteration 1000: error = 0.1083932, gradient norm = 0.0000102 (50 iterations in 0.016s)\n",
      "[t-SNE] Error after 1000 iterations: 0.108393\n"
     ]
    }
   ],
   "source": [
    "vectors = np.asarray([x[1] for x in item_vectors])\n",
    "lengths = np.linalg.norm(vectors, axis=1)\n",
    "norm_vectors = (vectors.T / lengths).T\n",
    "\n",
    "tsne = TSNE(n_components=2, perplexity=10, verbose=2).fit_transform(norm_vectors)"
   ]
  },
  {
   "cell_type": "code",
   "execution_count": 16,
   "metadata": {},
   "outputs": [
    {
     "data": {
      "image/png": "[encoded data removed]",
      "text/plain": [
       "<matplotlib.figure.Figure at 0x291d93abcc0>"
      ]
     },
     "metadata": {
      "needs_background": "light"
     },
     "output_type": "display_data"
    }
   ],
   "source": [
    "x=tsne[:,0]\n",
    "y=tsne[:,1]\n",
    "\n",
    "fig, ax = plt.subplots()\n",
    "ax.scatter(x, y)\n",
    "\n",
    "for item, x1, y1 in zip(item_vectors, x, y):\n",
    "    ax.annotate(item[0], (x1, y1), size=14)\n",
    "\n",
    "plt.show()"
   ]
  },
  {
   "cell_type": "code",
   "execution_count": 17,
   "metadata": {},
   "outputs": [],
   "source": [
    "# Find Entity Classes in Embeddings"
   ]
  },
  {
   "cell_type": "code",
   "execution_count": 18,
   "metadata": {},
   "outputs": [
    {
     "data": {
      "text/plain": [
       "[('Austria', 0.7461062669754028),\n",
       " ('German', 0.7178750038146973),\n",
       " ('Germans', 0.6628648042678833),\n",
       " ('Switzerland', 0.6506868004798889),\n",
       " ('Hungary', 0.6504982709884644),\n",
       " ('Netherlands', 0.6437495946884155),\n",
       " ('Cologne', 0.6430779695510864),\n",
       " ('Poland', 0.6326087713241577),\n",
       " ('Berlin', 0.6313546895980835),\n",
       " ('Europe', 0.6301708221435547)]"
      ]
     },
     "execution_count": 18,
     "metadata": {},
     "output_type": "execute_result"
    }
   ],
   "source": [
    "model.most_similar(positive=['Germany'])"
   ]
  },
  {
   "cell_type": "code",
   "execution_count": 19,
   "metadata": {},
   "outputs": [],
   "source": [
    "# How are we going to find only countries? \n",
    "#The concept of country in the embedding space is a shape, not a point so we need a classifier "
   ]
  },
  {
   "cell_type": "code",
   "execution_count": 20,
   "metadata": {},
   "outputs": [],
   "source": [
    "import csv\n",
    "import random\n",
    "from sklearn import svm"
   ]
  },
  {
   "cell_type": "code",
   "execution_count": 21,
   "metadata": {},
   "outputs": [
    {
     "data": {
      "text/plain": [
       "[{'cc': 'ca', 'cc3': 'can', 'name': 'Canada'},\n",
       " {'cc': 'tm', 'cc3': 'tkm', 'name': 'Turkmenistan'},\n",
       " {'cc': 'et', 'cc3': 'eth', 'name': 'Ethiopia'},\n",
       " {'cc': 'sz', 'cc3': 'swz', 'name': 'Swaziland'},\n",
       " {'cc': 'cz', 'cc3': 'cze', 'name': 'Czech_Republic'},\n",
       " {'cc': 'cm', 'cc3': 'cmr', 'name': 'Cameroon'},\n",
       " {'cc': 'ae', 'cc3': 'are', 'name': 'UAE'},\n",
       " {'cc': 'lr', 'cc3': 'lbr', 'name': 'Liberia'},\n",
       " {'cc': 'nl', 'cc3': 'nld', 'name': 'Netherlands'},\n",
       " {'cc': 'tl', 'cc3': 'tls', 'name': 'East_Timor'}]"
      ]
     },
     "execution_count": 21,
     "metadata": {},
     "output_type": "execute_result"
    }
   ],
   "source": [
    "countries = list(csv.DictReader(open('data/countries.csv')))\n",
    "countries[:10]"
   ]
  },
  {
   "cell_type": "code",
   "execution_count": 22,
   "metadata": {},
   "outputs": [
    {
     "data": {
      "text/plain": [
       "['wishy_washy', 'Swipe', 'Chagrin_River', 'Telecommunications_Carriers']"
      ]
     },
     "execution_count": 22,
     "metadata": {},
     "output_type": "execute_result"
    }
   ],
   "source": [
    "positive = [x['name'] for x in random.sample(countries, 40)]\n",
    "negative = random.sample(model.vocab.keys(), 5000)\n",
    "negative[:4]"
   ]
  },
  {
   "cell_type": "code",
   "execution_count": 23,
   "metadata": {},
   "outputs": [
    {
     "data": {
      "text/plain": [
       "((5040, 300), (5040,))"
      ]
     },
     "execution_count": 23,
     "metadata": {},
     "output_type": "execute_result"
    }
   ],
   "source": [
    "labelled = [(p, 1) for p in positive] + [(n, 0) for n in negative]\n",
    "random.shuffle(labelled)\n",
    "X = np.asarray([model[w] for w, l in labelled])\n",
    "y = np.asarray([l for w, l in labelled])\n",
    "X.shape, y.shape"
   ]
  },
  {
   "cell_type": "code",
   "execution_count": 24,
   "metadata": {},
   "outputs": [
    {
     "data": {
      "text/plain": [
       "SVC(C=1.0, cache_size=200, class_weight=None, coef0=0.0,\n",
       "  decision_function_shape='ovr', degree=3, gamma='auto', kernel='linear',\n",
       "  max_iter=-1, probability=False, random_state=None, shrinking=True,\n",
       "  tol=0.001, verbose=False)"
      ]
     },
     "execution_count": 24,
     "metadata": {},
     "output_type": "execute_result"
    }
   ],
   "source": [
    "TRAINING_FRACTION = 0.3\n",
    "cut_off = int(TRAINING_FRACTION * len(labelled))\n",
    "clf = svm.SVC(kernel='linear')\n",
    "clf.fit(X[:cut_off], y[:cut_off])"
   ]
  },
  {
   "cell_type": "code",
   "execution_count": 25,
   "metadata": {},
   "outputs": [
    {
     "data": {
      "text/plain": [
       "(99.65986394557824,\n",
       " [('Djibouti', 1),\n",
       "  ('Chad', 1),\n",
       "  ('Western_Sahara', 1),\n",
       "  ('Guinea', 1),\n",
       "  ('Papua', 1),\n",
       "  ('Myanmar_Burma', 0),\n",
       "  ('New_Zeland', 0),\n",
       "  ('Sweden', 0),\n",
       "  ('Mali', 1),\n",
       "  ('Mauritius', 1),\n",
       "  ('Luxembourg', 1),\n",
       "  ('Timor_Leste', 0)])"
      ]
     },
     "execution_count": 25,
     "metadata": {},
     "output_type": "execute_result"
    }
   ],
   "source": [
    "res = clf.predict(X[cut_off:])\n",
    "\n",
    "missed = [country for (pred, truth, country) in \n",
    " zip(res, y[cut_off:], labelled[cut_off:]) if pred != truth]\n",
    "\n",
    "100 - 100 * float(len(missed)) / len(res), missed"
   ]
  },
  {
   "cell_type": "code",
   "execution_count": 26,
   "metadata": {},
   "outputs": [
    {
     "name": "stderr",
     "output_type": "stream",
     "text": [
      "C:\\Program Files\\Anaconda3\\envs\\tensorflow\\lib\\site-packages\\ipykernel_launcher.py:1: DeprecationWarning: Call to deprecated `syn0` (Attribute will be removed in 4.0.0, use self.wv.vectors instead).\n",
      "  \"\"\"Entry point for launching an IPython kernel.\n"
     ]
    }
   ],
   "source": [
    "all_predictions = clf.predict(model.syn0)"
   ]
  },
  {
   "cell_type": "code",
   "execution_count": 27,
   "metadata": {},
   "outputs": [
    {
     "data": {
      "text/plain": [
       "['Sudan',\n",
       " 'Sweden',\n",
       " 'Germany',\n",
       " 'Portugal',\n",
       " 'Mozambique',\n",
       " 'Venezuela',\n",
       " 'Peru',\n",
       " 'Libya',\n",
       " 'Zambia',\n",
       " 'Kuwait']"
      ]
     },
     "execution_count": 27,
     "metadata": {},
     "output_type": "execute_result"
    }
   ],
   "source": [
    "res = []\n",
    "for word, pred in zip(model.index2word, all_predictions):\n",
    "    if pred:\n",
    "        res.append(word)\n",
    "        if len(res) == 150:\n",
    "            break\n",
    "random.sample(res, 10)"
   ]
  },
  {
   "cell_type": "code",
   "execution_count": 28,
   "metadata": {},
   "outputs": [
    {
     "data": {
      "text/plain": [
       "(184, 300)"
      ]
     },
     "execution_count": 28,
     "metadata": {},
     "output_type": "execute_result"
    }
   ],
   "source": [
    "country_to_idx = {country['name']: idx for idx, country in enumerate(countries)}\n",
    "country_vecs = np.asarray([model[c['name']] for c in countries])\n",
    "country_vecs.shape"
   ]
  },
  {
   "cell_type": "code",
   "execution_count": 29,
   "metadata": {},
   "outputs": [
    {
     "name": "stdout",
     "output_type": "stream",
     "text": [
      "Canada 7.544024\n",
      "New_Zealand 3.9619699\n",
      "Finland 3.9392407\n",
      "Puerto_Rico 3.838145\n",
      "Jamaica 3.8102932\n",
      "Sweden 3.8042789\n",
      "Slovakia 3.703874\n",
      "Australia 3.671101\n",
      "Bahamas 3.6240416\n",
      "United_States 3.5374339\n"
     ]
    }
   ],
   "source": [
    "dists = np.dot(country_vecs, country_vecs[country_to_idx['Canada']])\n",
    "for idx in reversed(np.argsort(dists)[-10:]):\n",
    "    print(countries[idx]['name'], dists[idx])"
   ]
  },
  {
   "cell_type": "code",
   "execution_count": 30,
   "metadata": {},
   "outputs": [],
   "source": [
    "def rank_countries(term, topn=10, field='name'):\n",
    "    if not term in model:\n",
    "        return []\n",
    "    vec = model[term]\n",
    "    dists = np.dot(country_vecs, vec)\n",
    "    return [(countries[idx][field], float(dists[idx])) \n",
    "            for idx in reversed(np.argsort(dists)[-topn:])]"
   ]
  },
  {
   "cell_type": "code",
   "execution_count": 31,
   "metadata": {},
   "outputs": [
    {
     "data": {
      "text/plain": [
       "[('Sri_Lanka', 5.92276668548584),\n",
       " ('Zimbabwe', 5.336524963378906),\n",
       " ('Bangladesh', 5.192489147186279),\n",
       " ('Pakistan', 4.948408126831055),\n",
       " ('Guyana', 3.9162838459014893),\n",
       " ('Barbados', 3.757995128631592),\n",
       " ('India', 3.7504398822784424),\n",
       " ('South_Africa', 3.6561501026153564),\n",
       " ('New_Zealand', 3.642028570175171),\n",
       " ('Fiji', 3.608567714691162)]"
      ]
     },
     "execution_count": 31,
     "metadata": {},
     "output_type": "execute_result"
    }
   ],
   "source": [
    "rank_countries('cricket')"
   ]
  },
  {
   "cell_type": "code",
   "execution_count": 32,
   "metadata": {},
   "outputs": [],
   "source": [
    "import geopandas as gpd"
   ]
  },
  {
   "cell_type": "code",
   "execution_count": 33,
   "metadata": {},
   "outputs": [
    {
     "data": {
      "text/html": [
       "<div>\n",
       "<style scoped>\n",
       "    .dataframe tbody tr th:only-of-type {\n",
       "        vertical-align: middle;\n",
       "    }\n",
       "\n",
       "    .dataframe tbody tr th {\n",
       "        vertical-align: top;\n",
       "    }\n",
       "\n",
       "    .dataframe thead th {\n",
       "        text-align: right;\n",
       "    }\n",
       "</style>\n",
       "<table border=\"1\" class=\"dataframe\">\n",
       "  <thead>\n",
       "    <tr style=\"text-align: right;\">\n",
       "      <th></th>\n",
       "      <th>pop_est</th>\n",
       "      <th>continent</th>\n",
       "      <th>name</th>\n",
       "      <th>iso_a3</th>\n",
       "      <th>gdp_md_est</th>\n",
       "      <th>geometry</th>\n",
       "    </tr>\n",
       "  </thead>\n",
       "  <tbody>\n",
       "    <tr>\n",
       "      <th>0</th>\n",
       "      <td>28400000.0</td>\n",
       "      <td>Asia</td>\n",
       "      <td>Afghanistan</td>\n",
       "      <td>AFG</td>\n",
       "      <td>22270.0</td>\n",
       "      <td>POLYGON ((61.21081709172574 35.65007233330923,...</td>\n",
       "    </tr>\n",
       "    <tr>\n",
       "      <th>1</th>\n",
       "      <td>12799293.0</td>\n",
       "      <td>Africa</td>\n",
       "      <td>Angola</td>\n",
       "      <td>AGO</td>\n",
       "      <td>110300.0</td>\n",
       "      <td>(POLYGON ((16.32652835456705 -5.87747039146621...</td>\n",
       "    </tr>\n",
       "    <tr>\n",
       "      <th>2</th>\n",
       "      <td>3639453.0</td>\n",
       "      <td>Europe</td>\n",
       "      <td>Albania</td>\n",
       "      <td>ALB</td>\n",
       "      <td>21810.0</td>\n",
       "      <td>POLYGON ((20.59024743010491 41.85540416113361,...</td>\n",
       "    </tr>\n",
       "    <tr>\n",
       "      <th>3</th>\n",
       "      <td>4798491.0</td>\n",
       "      <td>Asia</td>\n",
       "      <td>United Arab Emirates</td>\n",
       "      <td>ARE</td>\n",
       "      <td>184300.0</td>\n",
       "      <td>POLYGON ((51.57951867046327 24.24549713795111,...</td>\n",
       "    </tr>\n",
       "    <tr>\n",
       "      <th>4</th>\n",
       "      <td>40913584.0</td>\n",
       "      <td>South America</td>\n",
       "      <td>Argentina</td>\n",
       "      <td>ARG</td>\n",
       "      <td>573900.0</td>\n",
       "      <td>(POLYGON ((-65.50000000000003 -55.199999999999...</td>\n",
       "    </tr>\n",
       "  </tbody>\n",
       "</table>\n",
       "</div>"
      ],
      "text/plain": [
       "      pop_est      continent                  name iso_a3  gdp_md_est  \\\n",
       "0  28400000.0           Asia           Afghanistan    AFG     22270.0   \n",
       "1  12799293.0         Africa                Angola    AGO    110300.0   \n",
       "2   3639453.0         Europe               Albania    ALB     21810.0   \n",
       "3   4798491.0           Asia  United Arab Emirates    ARE    184300.0   \n",
       "4  40913584.0  South America             Argentina    ARG    573900.0   \n",
       "\n",
       "                                            geometry  \n",
       "0  POLYGON ((61.21081709172574 35.65007233330923,...  \n",
       "1  (POLYGON ((16.32652835456705 -5.87747039146621...  \n",
       "2  POLYGON ((20.59024743010491 41.85540416113361,...  \n",
       "3  POLYGON ((51.57951867046327 24.24549713795111,...  \n",
       "4  (POLYGON ((-65.50000000000003 -55.199999999999...  "
      ]
     },
     "execution_count": 33,
     "metadata": {},
     "output_type": "execute_result"
    }
   ],
   "source": [
    "world = gpd.read_file(gpd.datasets.get_path('naturalearth_lowres'))\n",
    "world.head()"
   ]
  },
  {
   "cell_type": "code",
   "execution_count": 35,
   "metadata": {},
   "outputs": [
    {
     "data": {
      "image/png": "[encoded data removed]",
      "text/plain": [
       "<matplotlib.figure.Figure at 0x291dbf93c50>"
      ]
     },
     "metadata": {
      "needs_background": "light"
     },
     "output_type": "display_data"
    }
   ],
   "source": [
    "def map_term(term):\n",
    "    d = {k.upper(): v for k, v in rank_countries(term, topn=0, field='cc3')}\n",
    "    world[term] = world['iso_a3'].map(d)\n",
    "    world[term] /= world[term].max()\n",
    "    world.dropna().plot(term, cmap='OrRd')\n",
    "\n",
    "map_term('coffee')"
   ]
  },
  {
   "cell_type": "code",
   "execution_count": null,
   "metadata": {},
   "outputs": [],
   "source": []
  }
 ],
 "metadata": {
  "kernelspec": {
   "display_name": "Tensorflow",
   "language": "python",
   "name": "tensorflow"
  },
  "language_info": {
   "codemirror_mode": {
    "name": "ipython",
    "version": 3
   },
   "file_extension": ".py",
   "mimetype": "text/x-python",
   "name": "python",
   "nbconvert_exporter": "python",
   "pygments_lexer": "ipython3",
   "version": "3.5.4"
  }
 },
 "nbformat": 4,
 "nbformat_minor": 2
}
